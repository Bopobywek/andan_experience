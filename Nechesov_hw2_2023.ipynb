{
  "cells": [
    {
      "cell_type": "markdown",
      "metadata": {
        "id": "tBrDXMdDy-Qn"
      },
      "source": [
        "# HSE 2023: Введение в машинное обучение БИ 23/24\n",
        "\n",
        "## ДЗ 2"
      ]
    },
    {
      "cell_type": "markdown",
      "metadata": {
        "id": "RXXi5K1mf41d"
      },
      "source": [
        "# Внимание!\n",
        "Если в задании просят объяснить что-либо, то это значит, что требуется письменный ответ, который является частью задания и оценивается\n",
        "\n",
        "Мы только принимаем ipynb ноутбуки. Если вы используете Google Colab, то вам необходимо скачать ноутбук перед сдачей ДЗ\n"
      ]
    },
    {
      "cell_type": "code",
      "execution_count": 1,
      "metadata": {
        "ExecuteTime": {
          "end_time": "2020-09-26T16:48:20.566549Z",
          "start_time": "2020-09-26T16:48:19.893995Z"
        },
        "id": "mSR-a9vVy-Qp"
      },
      "outputs": [],
      "source": [
        "import pandas as pd\n",
        "import numpy as np\n",
        "import matplotlib.pyplot as plt\n",
        "import seaborn as sns\n",
        "import sklearn\n",
        "from sklearn import datasets\n",
        "# from sklearn.datasets import load_boston\n",
        "from sklearn.model_selection import GridSearchCV\n",
        "from sklearn.model_selection import train_test_split\n",
        "from sklearn.linear_model import Ridge\n",
        "from sklearn.preprocessing import StandardScaler, LabelEncoder\n",
        "from sklearn.linear_model import LinearRegression, Ridge, Lasso, ElasticNet\n",
        "from sklearn.metrics import mean_squared_error, r2_score\n",
        "import statsmodels.api as sm\n",
        "from statsmodels.regression.linear_model import OLSResults\n",
        "from math import sqrt\n",
        "import random\n",
        "import sys\n",
        "\n",
        "import warnings\n",
        "warnings.filterwarnings(\"ignore\")\n",
        "\n",
        "%matplotlib inline\n",
        "\n",
        "sns.set(style=\"darkgrid\")"
      ]
    },
    {
      "cell_type": "markdown",
      "metadata": {
        "id": "HUjuv9Qty-Qq"
      },
      "source": [
        "### Данные\n",
        "\n",
        "Для этого ДЗ мы будем использовать датасет треков со стримингового сервиса Spotify"
      ]
    },
    {
      "cell_type": "markdown",
      "metadata": {
        "id": "p5Q0PCrh7dAq"
      },
      "source": [
        "**Описание данных**\n",
        "\n",
        "- **track_id:** The Spotify ID for the track\n",
        "- **artists:** The artists' names who performed the track. If there is more than one artist, they are separated by a ;\n",
        "- **album_name:** The album name in which the track appears\n",
        "- **track_name:** Name of the track\n",
        "- **popularity:** The popularity of a track is a value between 0 and 100, with 100 being the most popular. The popularity is calculated by algorithm and is based, in the most part, on the total number of plays the track has had and how recent those plays are. Generally speaking, songs that are being played a lot now will have a higher popularity than songs that were played a lot in the past. Duplicate tracks (e.g. the same track from a single and an album) are rated independently. Artist and album popularity is derived mathematically from track popularity.\n",
        "- **duration_ms:** The track length in milliseconds\n",
        "- **explicit:** Whether or not the track has explicit lyrics (true = yes it does; false = no it does not OR unknown)\n",
        "- **danceability:** Danceability describes how suitable a track is for dancing based on a combination of musical elements including tempo, rhythm stability, beat strength, and overall regularity. A value of 0.0 is least danceable and 1.0 is most danceable\n",
        "- **key:** The key the track is in. Integers map to pitches using standard Pitch Class notation. E.g. 0 = C, 1 = C♯/D♭, 2 = D, and so on. If no key was detected, the value is -1\n",
        "- **loudness:** The overall loudness of a track in decibels (dB)\n",
        "- **mode:** Mode indicates the modality (major or minor) of a track, the type of scale from which its melodic content is derived. Major is represented by 1 and minor is 0\n",
        "- **speechiness:** Speechiness detects the presence of spoken words in a track. The more exclusively speech-like the recording (e.g. talk show, audio book, poetry), the closer to 1.0 the attribute value. Values above 0.66 describe tracks that are probably made entirely of spoken words. Values between 0.33 and 0.66 describe tracks that may contain both music and speech, either in sections or layered, including such cases as rap music. Values below 0.33 most likely represent music and other non-speech-like tracks\n",
        "- **acousticness:** A confidence measure from 0.0 to 1.0 of whether the track is acoustic. 1.0 represents high confidence the track is acoustic\n",
        "- **instrumentalness:** Predicts whether a track contains no vocals. \"Ooh\" and \"aah\" sounds are treated as instrumental in this context. Rap or spoken word tracks are clearly \"vocal\". The closer the instrumentalness value is to 1.0, the greater likelihood the track contains no vocal content\n",
        "- **liveness:** Detects the presence of an audience in the recording. Higher liveness values represent an increased probability that the track was performed live. A value above 0.8 provides strong likelihood that the track is live\n",
        "- **valence:** A measure from 0.0 to 1.0 describing the musical positiveness conveyed by a track. Tracks with high valence sound more positive (e.g. happy, cheerful, euphoric), while tracks with low valence sound more negative (e.g. sad, depressed, angry)\n",
        "- **tempo:** The overall estimated tempo of a track in beats per minute (BPM). In musical terminology, tempo is the speed or pace of a given piece and derives directly from the average beat duration\n",
        "- **time_signature:** An estimated time signature. The time signature (meter) is a notational convention to specify how many beats are in each bar (or measure). The time signature ranges from 3 to 7 indicating time signatures of 3/4, to 7/4.\n",
        "- **track_genre:** The genre in which the track belongs\n",
        "\n",
        "**Целевая переменная**\n",
        "- **energy:** Energy is a measure from 0.0 to 1.0 and represents a perceptual measure of intensity and activity. Typically, energetic tracks feel fast, loud, and noisy. For example, death metal has high energy, while a Bach prelude scores low on the scale"
      ]
    },
    {
      "cell_type": "code",
      "execution_count": 2,
      "metadata": {
        "id": "tHWSWTXDy-Qq"
      },
      "outputs": [],
      "source": [
        "data = pd.read_csv('dataset.csv')\n",
        "\n",
        "y = data['energy']\n",
        "X = data.drop(['energy'], axis=1)\n",
        "columns = X.columns"
      ]
    },
    {
      "cell_type": "code",
      "source": [
        "data"
      ],
      "metadata": {
        "id": "hNjCDYIX8lsd",
        "outputId": "02d3ea1e-5fdd-43af-f7ab-cd4fc741c5b3",
        "colab": {
          "base_uri": "https://localhost:8080/",
          "height": 711
        }
      },
      "execution_count": 3,
      "outputs": [
        {
          "output_type": "execute_result",
          "data": {
            "text/plain": [
              "                       artists  \\\n",
              "0                  Gen Hoshino   \n",
              "1                 Ben Woodward   \n",
              "2       Ingrid Michaelson;ZAYN   \n",
              "3                 Kina Grannis   \n",
              "4             Chord Overstreet   \n",
              "...                        ...   \n",
              "113995           Rainy Lullaby   \n",
              "113996           Rainy Lullaby   \n",
              "113997           Cesária Evora   \n",
              "113998        Michael W. Smith   \n",
              "113999           Cesária Evora   \n",
              "\n",
              "                                               album_name  \\\n",
              "0                                                  Comedy   \n",
              "1                                        Ghost (Acoustic)   \n",
              "2                                          To Begin Again   \n",
              "3       Crazy Rich Asians (Original Motion Picture Sou...   \n",
              "4                                                 Hold On   \n",
              "...                                                   ...   \n",
              "113995  #mindfulness - Soft Rain for Mindful Meditatio...   \n",
              "113996  #mindfulness - Soft Rain for Mindful Meditatio...   \n",
              "113997                                            Best Of   \n",
              "113998                                  Change Your World   \n",
              "113999                                     Miss Perfumado   \n",
              "\n",
              "                        track_name  popularity  duration_ms  explicit  \\\n",
              "0                           Comedy          73       230666     False   \n",
              "1                 Ghost - Acoustic          55       149610     False   \n",
              "2                   To Begin Again          57       210826     False   \n",
              "3       Can't Help Falling In Love          71       201933     False   \n",
              "4                          Hold On          82       198853     False   \n",
              "...                            ...         ...          ...       ...   \n",
              "113995         Sleep My Little Boy          21       384999     False   \n",
              "113996            Water Into Light          22       385000     False   \n",
              "113997              Miss Perfumado          22       271466     False   \n",
              "113998                     Friends          41       283893     False   \n",
              "113999                   Barbincor          22       241826     False   \n",
              "\n",
              "        danceability  energy  key  loudness  mode  speechiness  acousticness  \\\n",
              "0              0.676  0.4610    1    -6.746     0       0.1430        0.0322   \n",
              "1              0.420  0.1660    1   -17.235     1       0.0763        0.9240   \n",
              "2              0.438  0.3590    0    -9.734     1       0.0557        0.2100   \n",
              "3              0.266  0.0596    0   -18.515     1       0.0363        0.9050   \n",
              "4              0.618  0.4430    2    -9.681     1       0.0526        0.4690   \n",
              "...              ...     ...  ...       ...   ...          ...           ...   \n",
              "113995         0.172  0.2350    5   -16.393     1       0.0422        0.6400   \n",
              "113996         0.174  0.1170    0   -18.318     0       0.0401        0.9940   \n",
              "113997         0.629  0.3290    0   -10.895     0       0.0420        0.8670   \n",
              "113998         0.587  0.5060    7   -10.889     1       0.0297        0.3810   \n",
              "113999         0.526  0.4870    1   -10.204     0       0.0725        0.6810   \n",
              "\n",
              "        instrumentalness  liveness  valence    tempo  time_signature  \\\n",
              "0               0.000001    0.3580   0.7150   87.917               4   \n",
              "1               0.000006    0.1010   0.2670   77.489               4   \n",
              "2               0.000000    0.1170   0.1200   76.332               4   \n",
              "3               0.000071    0.1320   0.1430  181.740               3   \n",
              "4               0.000000    0.0829   0.1670  119.949               4   \n",
              "...                  ...       ...      ...      ...             ...   \n",
              "113995          0.928000    0.0863   0.0339  125.995               5   \n",
              "113996          0.976000    0.1050   0.0350   85.239               4   \n",
              "113997          0.000000    0.0839   0.7430  132.378               4   \n",
              "113998          0.000000    0.2700   0.4130  135.960               4   \n",
              "113999          0.000000    0.0893   0.7080   79.198               4   \n",
              "\n",
              "        track_genre  \n",
              "0          acoustic  \n",
              "1          acoustic  \n",
              "2          acoustic  \n",
              "3          acoustic  \n",
              "4          acoustic  \n",
              "...             ...  \n",
              "113995  world-music  \n",
              "113996  world-music  \n",
              "113997  world-music  \n",
              "113998  world-music  \n",
              "113999  world-music  \n",
              "\n",
              "[114000 rows x 19 columns]"
            ],
            "text/html": [
              "\n",
              "  <div id=\"df-11b08409-c49f-41e0-8440-7017aaf0c0e6\" class=\"colab-df-container\">\n",
              "    <div>\n",
              "<style scoped>\n",
              "    .dataframe tbody tr th:only-of-type {\n",
              "        vertical-align: middle;\n",
              "    }\n",
              "\n",
              "    .dataframe tbody tr th {\n",
              "        vertical-align: top;\n",
              "    }\n",
              "\n",
              "    .dataframe thead th {\n",
              "        text-align: right;\n",
              "    }\n",
              "</style>\n",
              "<table border=\"1\" class=\"dataframe\">\n",
              "  <thead>\n",
              "    <tr style=\"text-align: right;\">\n",
              "      <th></th>\n",
              "      <th>artists</th>\n",
              "      <th>album_name</th>\n",
              "      <th>track_name</th>\n",
              "      <th>popularity</th>\n",
              "      <th>duration_ms</th>\n",
              "      <th>explicit</th>\n",
              "      <th>danceability</th>\n",
              "      <th>energy</th>\n",
              "      <th>key</th>\n",
              "      <th>loudness</th>\n",
              "      <th>mode</th>\n",
              "      <th>speechiness</th>\n",
              "      <th>acousticness</th>\n",
              "      <th>instrumentalness</th>\n",
              "      <th>liveness</th>\n",
              "      <th>valence</th>\n",
              "      <th>tempo</th>\n",
              "      <th>time_signature</th>\n",
              "      <th>track_genre</th>\n",
              "    </tr>\n",
              "  </thead>\n",
              "  <tbody>\n",
              "    <tr>\n",
              "      <th>0</th>\n",
              "      <td>Gen Hoshino</td>\n",
              "      <td>Comedy</td>\n",
              "      <td>Comedy</td>\n",
              "      <td>73</td>\n",
              "      <td>230666</td>\n",
              "      <td>False</td>\n",
              "      <td>0.676</td>\n",
              "      <td>0.4610</td>\n",
              "      <td>1</td>\n",
              "      <td>-6.746</td>\n",
              "      <td>0</td>\n",
              "      <td>0.1430</td>\n",
              "      <td>0.0322</td>\n",
              "      <td>0.000001</td>\n",
              "      <td>0.3580</td>\n",
              "      <td>0.7150</td>\n",
              "      <td>87.917</td>\n",
              "      <td>4</td>\n",
              "      <td>acoustic</td>\n",
              "    </tr>\n",
              "    <tr>\n",
              "      <th>1</th>\n",
              "      <td>Ben Woodward</td>\n",
              "      <td>Ghost (Acoustic)</td>\n",
              "      <td>Ghost - Acoustic</td>\n",
              "      <td>55</td>\n",
              "      <td>149610</td>\n",
              "      <td>False</td>\n",
              "      <td>0.420</td>\n",
              "      <td>0.1660</td>\n",
              "      <td>1</td>\n",
              "      <td>-17.235</td>\n",
              "      <td>1</td>\n",
              "      <td>0.0763</td>\n",
              "      <td>0.9240</td>\n",
              "      <td>0.000006</td>\n",
              "      <td>0.1010</td>\n",
              "      <td>0.2670</td>\n",
              "      <td>77.489</td>\n",
              "      <td>4</td>\n",
              "      <td>acoustic</td>\n",
              "    </tr>\n",
              "    <tr>\n",
              "      <th>2</th>\n",
              "      <td>Ingrid Michaelson;ZAYN</td>\n",
              "      <td>To Begin Again</td>\n",
              "      <td>To Begin Again</td>\n",
              "      <td>57</td>\n",
              "      <td>210826</td>\n",
              "      <td>False</td>\n",
              "      <td>0.438</td>\n",
              "      <td>0.3590</td>\n",
              "      <td>0</td>\n",
              "      <td>-9.734</td>\n",
              "      <td>1</td>\n",
              "      <td>0.0557</td>\n",
              "      <td>0.2100</td>\n",
              "      <td>0.000000</td>\n",
              "      <td>0.1170</td>\n",
              "      <td>0.1200</td>\n",
              "      <td>76.332</td>\n",
              "      <td>4</td>\n",
              "      <td>acoustic</td>\n",
              "    </tr>\n",
              "    <tr>\n",
              "      <th>3</th>\n",
              "      <td>Kina Grannis</td>\n",
              "      <td>Crazy Rich Asians (Original Motion Picture Sou...</td>\n",
              "      <td>Can't Help Falling In Love</td>\n",
              "      <td>71</td>\n",
              "      <td>201933</td>\n",
              "      <td>False</td>\n",
              "      <td>0.266</td>\n",
              "      <td>0.0596</td>\n",
              "      <td>0</td>\n",
              "      <td>-18.515</td>\n",
              "      <td>1</td>\n",
              "      <td>0.0363</td>\n",
              "      <td>0.9050</td>\n",
              "      <td>0.000071</td>\n",
              "      <td>0.1320</td>\n",
              "      <td>0.1430</td>\n",
              "      <td>181.740</td>\n",
              "      <td>3</td>\n",
              "      <td>acoustic</td>\n",
              "    </tr>\n",
              "    <tr>\n",
              "      <th>4</th>\n",
              "      <td>Chord Overstreet</td>\n",
              "      <td>Hold On</td>\n",
              "      <td>Hold On</td>\n",
              "      <td>82</td>\n",
              "      <td>198853</td>\n",
              "      <td>False</td>\n",
              "      <td>0.618</td>\n",
              "      <td>0.4430</td>\n",
              "      <td>2</td>\n",
              "      <td>-9.681</td>\n",
              "      <td>1</td>\n",
              "      <td>0.0526</td>\n",
              "      <td>0.4690</td>\n",
              "      <td>0.000000</td>\n",
              "      <td>0.0829</td>\n",
              "      <td>0.1670</td>\n",
              "      <td>119.949</td>\n",
              "      <td>4</td>\n",
              "      <td>acoustic</td>\n",
              "    </tr>\n",
              "    <tr>\n",
              "      <th>...</th>\n",
              "      <td>...</td>\n",
              "      <td>...</td>\n",
              "      <td>...</td>\n",
              "      <td>...</td>\n",
              "      <td>...</td>\n",
              "      <td>...</td>\n",
              "      <td>...</td>\n",
              "      <td>...</td>\n",
              "      <td>...</td>\n",
              "      <td>...</td>\n",
              "      <td>...</td>\n",
              "      <td>...</td>\n",
              "      <td>...</td>\n",
              "      <td>...</td>\n",
              "      <td>...</td>\n",
              "      <td>...</td>\n",
              "      <td>...</td>\n",
              "      <td>...</td>\n",
              "      <td>...</td>\n",
              "    </tr>\n",
              "    <tr>\n",
              "      <th>113995</th>\n",
              "      <td>Rainy Lullaby</td>\n",
              "      <td>#mindfulness - Soft Rain for Mindful Meditatio...</td>\n",
              "      <td>Sleep My Little Boy</td>\n",
              "      <td>21</td>\n",
              "      <td>384999</td>\n",
              "      <td>False</td>\n",
              "      <td>0.172</td>\n",
              "      <td>0.2350</td>\n",
              "      <td>5</td>\n",
              "      <td>-16.393</td>\n",
              "      <td>1</td>\n",
              "      <td>0.0422</td>\n",
              "      <td>0.6400</td>\n",
              "      <td>0.928000</td>\n",
              "      <td>0.0863</td>\n",
              "      <td>0.0339</td>\n",
              "      <td>125.995</td>\n",
              "      <td>5</td>\n",
              "      <td>world-music</td>\n",
              "    </tr>\n",
              "    <tr>\n",
              "      <th>113996</th>\n",
              "      <td>Rainy Lullaby</td>\n",
              "      <td>#mindfulness - Soft Rain for Mindful Meditatio...</td>\n",
              "      <td>Water Into Light</td>\n",
              "      <td>22</td>\n",
              "      <td>385000</td>\n",
              "      <td>False</td>\n",
              "      <td>0.174</td>\n",
              "      <td>0.1170</td>\n",
              "      <td>0</td>\n",
              "      <td>-18.318</td>\n",
              "      <td>0</td>\n",
              "      <td>0.0401</td>\n",
              "      <td>0.9940</td>\n",
              "      <td>0.976000</td>\n",
              "      <td>0.1050</td>\n",
              "      <td>0.0350</td>\n",
              "      <td>85.239</td>\n",
              "      <td>4</td>\n",
              "      <td>world-music</td>\n",
              "    </tr>\n",
              "    <tr>\n",
              "      <th>113997</th>\n",
              "      <td>Cesária Evora</td>\n",
              "      <td>Best Of</td>\n",
              "      <td>Miss Perfumado</td>\n",
              "      <td>22</td>\n",
              "      <td>271466</td>\n",
              "      <td>False</td>\n",
              "      <td>0.629</td>\n",
              "      <td>0.3290</td>\n",
              "      <td>0</td>\n",
              "      <td>-10.895</td>\n",
              "      <td>0</td>\n",
              "      <td>0.0420</td>\n",
              "      <td>0.8670</td>\n",
              "      <td>0.000000</td>\n",
              "      <td>0.0839</td>\n",
              "      <td>0.7430</td>\n",
              "      <td>132.378</td>\n",
              "      <td>4</td>\n",
              "      <td>world-music</td>\n",
              "    </tr>\n",
              "    <tr>\n",
              "      <th>113998</th>\n",
              "      <td>Michael W. Smith</td>\n",
              "      <td>Change Your World</td>\n",
              "      <td>Friends</td>\n",
              "      <td>41</td>\n",
              "      <td>283893</td>\n",
              "      <td>False</td>\n",
              "      <td>0.587</td>\n",
              "      <td>0.5060</td>\n",
              "      <td>7</td>\n",
              "      <td>-10.889</td>\n",
              "      <td>1</td>\n",
              "      <td>0.0297</td>\n",
              "      <td>0.3810</td>\n",
              "      <td>0.000000</td>\n",
              "      <td>0.2700</td>\n",
              "      <td>0.4130</td>\n",
              "      <td>135.960</td>\n",
              "      <td>4</td>\n",
              "      <td>world-music</td>\n",
              "    </tr>\n",
              "    <tr>\n",
              "      <th>113999</th>\n",
              "      <td>Cesária Evora</td>\n",
              "      <td>Miss Perfumado</td>\n",
              "      <td>Barbincor</td>\n",
              "      <td>22</td>\n",
              "      <td>241826</td>\n",
              "      <td>False</td>\n",
              "      <td>0.526</td>\n",
              "      <td>0.4870</td>\n",
              "      <td>1</td>\n",
              "      <td>-10.204</td>\n",
              "      <td>0</td>\n",
              "      <td>0.0725</td>\n",
              "      <td>0.6810</td>\n",
              "      <td>0.000000</td>\n",
              "      <td>0.0893</td>\n",
              "      <td>0.7080</td>\n",
              "      <td>79.198</td>\n",
              "      <td>4</td>\n",
              "      <td>world-music</td>\n",
              "    </tr>\n",
              "  </tbody>\n",
              "</table>\n",
              "<p>114000 rows × 19 columns</p>\n",
              "</div>\n",
              "    <div class=\"colab-df-buttons\">\n",
              "\n",
              "  <div class=\"colab-df-container\">\n",
              "    <button class=\"colab-df-convert\" onclick=\"convertToInteractive('df-11b08409-c49f-41e0-8440-7017aaf0c0e6')\"\n",
              "            title=\"Convert this dataframe to an interactive table.\"\n",
              "            style=\"display:none;\">\n",
              "\n",
              "  <svg xmlns=\"http://www.w3.org/2000/svg\" height=\"24px\" viewBox=\"0 -960 960 960\">\n",
              "    <path d=\"M120-120v-720h720v720H120Zm60-500h600v-160H180v160Zm220 220h160v-160H400v160Zm0 220h160v-160H400v160ZM180-400h160v-160H180v160Zm440 0h160v-160H620v160ZM180-180h160v-160H180v160Zm440 0h160v-160H620v160Z\"/>\n",
              "  </svg>\n",
              "    </button>\n",
              "\n",
              "  <style>\n",
              "    .colab-df-container {\n",
              "      display:flex;\n",
              "      gap: 12px;\n",
              "    }\n",
              "\n",
              "    .colab-df-convert {\n",
              "      background-color: #E8F0FE;\n",
              "      border: none;\n",
              "      border-radius: 50%;\n",
              "      cursor: pointer;\n",
              "      display: none;\n",
              "      fill: #1967D2;\n",
              "      height: 32px;\n",
              "      padding: 0 0 0 0;\n",
              "      width: 32px;\n",
              "    }\n",
              "\n",
              "    .colab-df-convert:hover {\n",
              "      background-color: #E2EBFA;\n",
              "      box-shadow: 0px 1px 2px rgba(60, 64, 67, 0.3), 0px 1px 3px 1px rgba(60, 64, 67, 0.15);\n",
              "      fill: #174EA6;\n",
              "    }\n",
              "\n",
              "    .colab-df-buttons div {\n",
              "      margin-bottom: 4px;\n",
              "    }\n",
              "\n",
              "    [theme=dark] .colab-df-convert {\n",
              "      background-color: #3B4455;\n",
              "      fill: #D2E3FC;\n",
              "    }\n",
              "\n",
              "    [theme=dark] .colab-df-convert:hover {\n",
              "      background-color: #434B5C;\n",
              "      box-shadow: 0px 1px 3px 1px rgba(0, 0, 0, 0.15);\n",
              "      filter: drop-shadow(0px 1px 2px rgba(0, 0, 0, 0.3));\n",
              "      fill: #FFFFFF;\n",
              "    }\n",
              "  </style>\n",
              "\n",
              "    <script>\n",
              "      const buttonEl =\n",
              "        document.querySelector('#df-11b08409-c49f-41e0-8440-7017aaf0c0e6 button.colab-df-convert');\n",
              "      buttonEl.style.display =\n",
              "        google.colab.kernel.accessAllowed ? 'block' : 'none';\n",
              "\n",
              "      async function convertToInteractive(key) {\n",
              "        const element = document.querySelector('#df-11b08409-c49f-41e0-8440-7017aaf0c0e6');\n",
              "        const dataTable =\n",
              "          await google.colab.kernel.invokeFunction('convertToInteractive',\n",
              "                                                    [key], {});\n",
              "        if (!dataTable) return;\n",
              "\n",
              "        const docLinkHtml = 'Like what you see? Visit the ' +\n",
              "          '<a target=\"_blank\" href=https://colab.research.google.com/notebooks/data_table.ipynb>data table notebook</a>'\n",
              "          + ' to learn more about interactive tables.';\n",
              "        element.innerHTML = '';\n",
              "        dataTable['output_type'] = 'display_data';\n",
              "        await google.colab.output.renderOutput(dataTable, element);\n",
              "        const docLink = document.createElement('div');\n",
              "        docLink.innerHTML = docLinkHtml;\n",
              "        element.appendChild(docLink);\n",
              "      }\n",
              "    </script>\n",
              "  </div>\n",
              "\n",
              "\n",
              "<div id=\"df-d37afd52-fc61-4a39-b51c-1e3cafb60e50\">\n",
              "  <button class=\"colab-df-quickchart\" onclick=\"quickchart('df-d37afd52-fc61-4a39-b51c-1e3cafb60e50')\"\n",
              "            title=\"Suggest charts.\"\n",
              "            style=\"display:none;\">\n",
              "\n",
              "<svg xmlns=\"http://www.w3.org/2000/svg\" height=\"24px\"viewBox=\"0 0 24 24\"\n",
              "     width=\"24px\">\n",
              "    <g>\n",
              "        <path d=\"M19 3H5c-1.1 0-2 .9-2 2v14c0 1.1.9 2 2 2h14c1.1 0 2-.9 2-2V5c0-1.1-.9-2-2-2zM9 17H7v-7h2v7zm4 0h-2V7h2v10zm4 0h-2v-4h2v4z\"/>\n",
              "    </g>\n",
              "</svg>\n",
              "  </button>\n",
              "\n",
              "<style>\n",
              "  .colab-df-quickchart {\n",
              "      --bg-color: #E8F0FE;\n",
              "      --fill-color: #1967D2;\n",
              "      --hover-bg-color: #E2EBFA;\n",
              "      --hover-fill-color: #174EA6;\n",
              "      --disabled-fill-color: #AAA;\n",
              "      --disabled-bg-color: #DDD;\n",
              "  }\n",
              "\n",
              "  [theme=dark] .colab-df-quickchart {\n",
              "      --bg-color: #3B4455;\n",
              "      --fill-color: #D2E3FC;\n",
              "      --hover-bg-color: #434B5C;\n",
              "      --hover-fill-color: #FFFFFF;\n",
              "      --disabled-bg-color: #3B4455;\n",
              "      --disabled-fill-color: #666;\n",
              "  }\n",
              "\n",
              "  .colab-df-quickchart {\n",
              "    background-color: var(--bg-color);\n",
              "    border: none;\n",
              "    border-radius: 50%;\n",
              "    cursor: pointer;\n",
              "    display: none;\n",
              "    fill: var(--fill-color);\n",
              "    height: 32px;\n",
              "    padding: 0;\n",
              "    width: 32px;\n",
              "  }\n",
              "\n",
              "  .colab-df-quickchart:hover {\n",
              "    background-color: var(--hover-bg-color);\n",
              "    box-shadow: 0 1px 2px rgba(60, 64, 67, 0.3), 0 1px 3px 1px rgba(60, 64, 67, 0.15);\n",
              "    fill: var(--button-hover-fill-color);\n",
              "  }\n",
              "\n",
              "  .colab-df-quickchart-complete:disabled,\n",
              "  .colab-df-quickchart-complete:disabled:hover {\n",
              "    background-color: var(--disabled-bg-color);\n",
              "    fill: var(--disabled-fill-color);\n",
              "    box-shadow: none;\n",
              "  }\n",
              "\n",
              "  .colab-df-spinner {\n",
              "    border: 2px solid var(--fill-color);\n",
              "    border-color: transparent;\n",
              "    border-bottom-color: var(--fill-color);\n",
              "    animation:\n",
              "      spin 1s steps(1) infinite;\n",
              "  }\n",
              "\n",
              "  @keyframes spin {\n",
              "    0% {\n",
              "      border-color: transparent;\n",
              "      border-bottom-color: var(--fill-color);\n",
              "      border-left-color: var(--fill-color);\n",
              "    }\n",
              "    20% {\n",
              "      border-color: transparent;\n",
              "      border-left-color: var(--fill-color);\n",
              "      border-top-color: var(--fill-color);\n",
              "    }\n",
              "    30% {\n",
              "      border-color: transparent;\n",
              "      border-left-color: var(--fill-color);\n",
              "      border-top-color: var(--fill-color);\n",
              "      border-right-color: var(--fill-color);\n",
              "    }\n",
              "    40% {\n",
              "      border-color: transparent;\n",
              "      border-right-color: var(--fill-color);\n",
              "      border-top-color: var(--fill-color);\n",
              "    }\n",
              "    60% {\n",
              "      border-color: transparent;\n",
              "      border-right-color: var(--fill-color);\n",
              "    }\n",
              "    80% {\n",
              "      border-color: transparent;\n",
              "      border-right-color: var(--fill-color);\n",
              "      border-bottom-color: var(--fill-color);\n",
              "    }\n",
              "    90% {\n",
              "      border-color: transparent;\n",
              "      border-bottom-color: var(--fill-color);\n",
              "    }\n",
              "  }\n",
              "</style>\n",
              "\n",
              "  <script>\n",
              "    async function quickchart(key) {\n",
              "      const quickchartButtonEl =\n",
              "        document.querySelector('#' + key + ' button');\n",
              "      quickchartButtonEl.disabled = true;  // To prevent multiple clicks.\n",
              "      quickchartButtonEl.classList.add('colab-df-spinner');\n",
              "      try {\n",
              "        const charts = await google.colab.kernel.invokeFunction(\n",
              "            'suggestCharts', [key], {});\n",
              "      } catch (error) {\n",
              "        console.error('Error during call to suggestCharts:', error);\n",
              "      }\n",
              "      quickchartButtonEl.classList.remove('colab-df-spinner');\n",
              "      quickchartButtonEl.classList.add('colab-df-quickchart-complete');\n",
              "    }\n",
              "    (() => {\n",
              "      let quickchartButtonEl =\n",
              "        document.querySelector('#df-d37afd52-fc61-4a39-b51c-1e3cafb60e50 button');\n",
              "      quickchartButtonEl.style.display =\n",
              "        google.colab.kernel.accessAllowed ? 'block' : 'none';\n",
              "    })();\n",
              "  </script>\n",
              "</div>\n",
              "    </div>\n",
              "  </div>\n"
            ]
          },
          "metadata": {},
          "execution_count": 3
        }
      ]
    },
    {
      "cell_type": "markdown",
      "metadata": {
        "id": "K81w8s35y-Qq"
      },
      "source": [
        "## Линейная регрессия"
      ]
    },
    {
      "cell_type": "markdown",
      "metadata": {
        "id": "cYgEN-FMy-Qr"
      },
      "source": [
        "#### 0. [0.25 балла] Закодируйте категориальные признаки. Объясните выбранный вами метод."
      ]
    },
    {
      "cell_type": "code",
      "execution_count": 4,
      "metadata": {
        "id": "-IrSlQaWy-Qr"
      },
      "outputs": [],
      "source": [
        "category_method = {\"explicit\": \"one-hot\", \"key\": \"one-hot\", \"time_signature\": \"one-hot\", \"track_genre\": \"one-hot\", \"mode\": \"one-hot\"}\n",
        "drop_columns = [\"artists\", \"album_name\", \"track_name\"]"
      ]
    },
    {
      "cell_type": "code",
      "source": [
        "for category in category_method.keys():\n",
        "    print(f\"category: {category} | nunique: {data[category].nunique()}\")"
      ],
      "metadata": {
        "colab": {
          "base_uri": "https://localhost:8080/"
        },
        "id": "O8fxq6QQto9H",
        "outputId": "795e146c-ab4e-4dbe-92f1-8557b93874b5"
      },
      "execution_count": 5,
      "outputs": [
        {
          "output_type": "stream",
          "name": "stdout",
          "text": [
            "category: explicit | nunique: 2\n",
            "category: key | nunique: 12\n",
            "category: time_signature | nunique: 5\n",
            "category: track_genre | nunique: 114\n",
            "category: mode | nunique: 2\n"
          ]
        }
      ]
    },
    {
      "cell_type": "code",
      "source": [
        "data_dropped = data.drop(drop_columns, axis=1)\n",
        "data_without_categorical = data_dropped.drop(list(category_method), axis=1)\n",
        "data_encoded = pd.get_dummies(data_dropped, columns=list(category_method), drop_first=True)"
      ],
      "metadata": {
        "id": "sh0IBNYLtn0S"
      },
      "execution_count": 6,
      "outputs": []
    },
    {
      "cell_type": "code",
      "source": [
        "data_without_categorical.columns"
      ],
      "metadata": {
        "colab": {
          "base_uri": "https://localhost:8080/"
        },
        "id": "s0CIdu3kJdBp",
        "outputId": "2d183cf4-4eec-44f3-ce2c-2b182b3c5b40"
      },
      "execution_count": 7,
      "outputs": [
        {
          "output_type": "execute_result",
          "data": {
            "text/plain": [
              "Index(['popularity', 'duration_ms', 'danceability', 'energy', 'loudness',\n",
              "       'speechiness', 'acousticness', 'instrumentalness', 'liveness',\n",
              "       'valence', 'tempo'],\n",
              "      dtype='object')"
            ]
          },
          "metadata": {},
          "execution_count": 7
        }
      ]
    },
    {
      "cell_type": "markdown",
      "source": [
        "One-hot кодирование было выбрано потому, что среди категориальных переменных не много уникальных значений. Дроп колонок с именами сделан потому, что они в большинстве своем уникальны и не помогают при прогнозе"
      ],
      "metadata": {
        "id": "ymrCezjDun-5"
      }
    },
    {
      "cell_type": "markdown",
      "metadata": {
        "id": "7dVwP45Gy-Qr"
      },
      "source": [
        "#### 1. [0.25 балла] Разбейте данные на train и test с пропорцией 75:25 и random_state=7."
      ]
    },
    {
      "cell_type": "code",
      "execution_count": 8,
      "metadata": {
        "id": "U7z8TIh5y-Qs"
      },
      "outputs": [],
      "source": [
        "from sklearn.model_selection import train_test_split\n",
        "\n",
        "y = data_without_categorical[\"energy\"]\n",
        "X = data_without_categorical.drop(\"energy\", axis=1)\n",
        "X_train, X_test, y_train, y_test = train_test_split(X, y, test_size=0.25, random_state=7)"
      ]
    },
    {
      "cell_type": "markdown",
      "metadata": {
        "id": "7daIQRfKy-Qs",
        "tags": []
      },
      "source": [
        "#### 2. [0.75 балла] Обучите модели на train'е, исключив категориальные признаки, используя библиотеку StatsModels и примените ее к test'у; используйте $RMSE$ и $R ^ 2$ в качестве метрики качества. Попробуйте также применить реализации линейной регрессии из sklearn:\n",
        "\n",
        "* [`LinearRegression`](http://scikit-learn.org/stable/modules/generated/sklearn.linear_model.LinearRegression.html);\n",
        "* [`Ridge`](http://scikit-learn.org/stable/modules/generated/sklearn.linear_model.Ridge.html) with $\\alpha = 0.03$;\n",
        "* [`Lasso`](http://scikit-learn.org/stable/modules/generated/sklearn.linear_model.Lasso.html) with $\\alpha = 0.05$\n",
        "* [`ElasticNet`](https://scikit-learn.org/stable/modules/generated/sklearn.linear_model.ElasticNet.html) with $\\alpha = 0.01$, $l_{1}$_$ratio = 0.4$\n",
        "\n",
        "Не забывайте скейлить данные с помощью StandardScaler перед обучением моделей!"
      ]
    },
    {
      "cell_type": "code",
      "source": [
        "scaler = StandardScaler()\n",
        "X_train_scaled = pd.DataFrame(scaler.fit_transform(X_train), index=X_train.index, columns=X_train.columns)\n",
        "X_test_scaled = pd.DataFrame(scaler.transform(X_test), index=X_test.index, columns=X_test.columns)"
      ],
      "metadata": {
        "id": "sOKW-VhNBG68"
      },
      "execution_count": 9,
      "outputs": []
    },
    {
      "cell_type": "code",
      "source": [
        "X_train_const = sm.add_constant(X_train_scaled)\n",
        "\n",
        "stats_models = {\n",
        "    \"LinearReggression\": sm.OLS(y_train, X_train_const),\n",
        "    \"Ridge\": sm.OLS(y_train, X_train_const),\n",
        "    \"Lasso\": sm.OLS(y_train, X_train_const),\n",
        "    \"ElasticNet\": sm.OLS(y_train, X_train_const)\n",
        "}\n",
        "\n",
        "stats_models[\"LinearReggression\"] = stats_models[\"LinearReggression\"].fit()\n",
        "stats_models[\"Ridge\"] = stats_models[\"Ridge\"].fit_regularized(alpha=0.03, L1_wt=0)\n",
        "stats_models[\"Lasso\"] = stats_models[\"Lasso\"].fit_regularized(alpha=0.05, L1_wt=1)\n",
        "stats_models[\"ElasticNet\"] = stats_models[\"ElasticNet\"].fit_regularized(alpha=0.01, L1_wt=0.4)"
      ],
      "metadata": {
        "id": "18GOMgVB_7x5"
      },
      "execution_count": 10,
      "outputs": []
    },
    {
      "cell_type": "code",
      "source": [
        "X_train_const"
      ],
      "metadata": {
        "colab": {
          "base_uri": "https://localhost:8080/",
          "height": 419
        },
        "id": "ElEBSzZmUfQj",
        "outputId": "a1bebb40-247a-4163-9e1e-dee727d1e0e4"
      },
      "execution_count": 11,
      "outputs": [
        {
          "output_type": "execute_result",
          "data": {
            "text/plain": [
              "        const  popularity  duration_ms  danceability  loudness  speechiness  \\\n",
              "7124      1.0   -0.146253    -0.131016     -0.560354  0.303882    -0.471616   \n",
              "101347    1.0    0.301625    -1.300885     -2.780935 -2.306411     0.675453   \n",
              "70140     1.0    0.973440     0.055443      0.930393 -0.094352    -0.508526   \n",
              "73606     1.0    0.435988     2.314320      0.746208 -0.758010    -0.419562   \n",
              "38529     1.0   -0.235828    -0.759591     -0.341634  0.928968    -0.375080   \n",
              "...       ...         ...          ...           ...       ...          ...   \n",
              "104003    1.0   -1.489884    -0.431347     -0.497041  0.842482    -0.411044   \n",
              "10742     1.0   -0.997219     1.712364     -1.924475  0.701718    -0.169706   \n",
              "49689     1.0   -0.549342     0.481916     -1.015061  0.451604    -0.331545   \n",
              "58564     1.0   -0.459767    -0.065798      0.205165  0.878667    -0.176331   \n",
              "61615     1.0   -0.549342     0.135942     -0.312856  1.087625     0.202240   \n",
              "\n",
              "        acousticness  instrumentalness  liveness   valence     tempo  \n",
              "7124       -0.049361         -0.503763  0.273146  1.359439  2.160351  \n",
              "101347     -0.945174          2.017181  0.708404 -1.829734 -1.443998  \n",
              "70140      -0.900692         -0.499874  1.421599 -0.428197  0.059538  \n",
              "73606      -0.473222          2.363055 -0.445292 -1.691125 -0.137525  \n",
              "38529      -0.750687         -0.504128  0.451445  0.498439  0.061733  \n",
              "...              ...               ...       ...       ...       ...  \n",
              "104003     -0.437149         -0.504141 -0.748924 -0.084569 -1.073618  \n",
              "10742      -0.943550         -0.368701 -0.606286  0.614269  1.388694  \n",
              "49689      -0.925823         -0.435290  1.495016 -1.655990  0.795475  \n",
              "58564      -0.945092          2.550538 -0.640897  0.374888  0.759421  \n",
              "61615      -0.837864         -0.504141  1.101710 -0.586497 -0.519845  \n",
              "\n",
              "[85500 rows x 11 columns]"
            ],
            "text/html": [
              "\n",
              "  <div id=\"df-521723cf-84a2-4d15-9ffe-c624700a68a8\" class=\"colab-df-container\">\n",
              "    <div>\n",
              "<style scoped>\n",
              "    .dataframe tbody tr th:only-of-type {\n",
              "        vertical-align: middle;\n",
              "    }\n",
              "\n",
              "    .dataframe tbody tr th {\n",
              "        vertical-align: top;\n",
              "    }\n",
              "\n",
              "    .dataframe thead th {\n",
              "        text-align: right;\n",
              "    }\n",
              "</style>\n",
              "<table border=\"1\" class=\"dataframe\">\n",
              "  <thead>\n",
              "    <tr style=\"text-align: right;\">\n",
              "      <th></th>\n",
              "      <th>const</th>\n",
              "      <th>popularity</th>\n",
              "      <th>duration_ms</th>\n",
              "      <th>danceability</th>\n",
              "      <th>loudness</th>\n",
              "      <th>speechiness</th>\n",
              "      <th>acousticness</th>\n",
              "      <th>instrumentalness</th>\n",
              "      <th>liveness</th>\n",
              "      <th>valence</th>\n",
              "      <th>tempo</th>\n",
              "    </tr>\n",
              "  </thead>\n",
              "  <tbody>\n",
              "    <tr>\n",
              "      <th>7124</th>\n",
              "      <td>1.0</td>\n",
              "      <td>-0.146253</td>\n",
              "      <td>-0.131016</td>\n",
              "      <td>-0.560354</td>\n",
              "      <td>0.303882</td>\n",
              "      <td>-0.471616</td>\n",
              "      <td>-0.049361</td>\n",
              "      <td>-0.503763</td>\n",
              "      <td>0.273146</td>\n",
              "      <td>1.359439</td>\n",
              "      <td>2.160351</td>\n",
              "    </tr>\n",
              "    <tr>\n",
              "      <th>101347</th>\n",
              "      <td>1.0</td>\n",
              "      <td>0.301625</td>\n",
              "      <td>-1.300885</td>\n",
              "      <td>-2.780935</td>\n",
              "      <td>-2.306411</td>\n",
              "      <td>0.675453</td>\n",
              "      <td>-0.945174</td>\n",
              "      <td>2.017181</td>\n",
              "      <td>0.708404</td>\n",
              "      <td>-1.829734</td>\n",
              "      <td>-1.443998</td>\n",
              "    </tr>\n",
              "    <tr>\n",
              "      <th>70140</th>\n",
              "      <td>1.0</td>\n",
              "      <td>0.973440</td>\n",
              "      <td>0.055443</td>\n",
              "      <td>0.930393</td>\n",
              "      <td>-0.094352</td>\n",
              "      <td>-0.508526</td>\n",
              "      <td>-0.900692</td>\n",
              "      <td>-0.499874</td>\n",
              "      <td>1.421599</td>\n",
              "      <td>-0.428197</td>\n",
              "      <td>0.059538</td>\n",
              "    </tr>\n",
              "    <tr>\n",
              "      <th>73606</th>\n",
              "      <td>1.0</td>\n",
              "      <td>0.435988</td>\n",
              "      <td>2.314320</td>\n",
              "      <td>0.746208</td>\n",
              "      <td>-0.758010</td>\n",
              "      <td>-0.419562</td>\n",
              "      <td>-0.473222</td>\n",
              "      <td>2.363055</td>\n",
              "      <td>-0.445292</td>\n",
              "      <td>-1.691125</td>\n",
              "      <td>-0.137525</td>\n",
              "    </tr>\n",
              "    <tr>\n",
              "      <th>38529</th>\n",
              "      <td>1.0</td>\n",
              "      <td>-0.235828</td>\n",
              "      <td>-0.759591</td>\n",
              "      <td>-0.341634</td>\n",
              "      <td>0.928968</td>\n",
              "      <td>-0.375080</td>\n",
              "      <td>-0.750687</td>\n",
              "      <td>-0.504128</td>\n",
              "      <td>0.451445</td>\n",
              "      <td>0.498439</td>\n",
              "      <td>0.061733</td>\n",
              "    </tr>\n",
              "    <tr>\n",
              "      <th>...</th>\n",
              "      <td>...</td>\n",
              "      <td>...</td>\n",
              "      <td>...</td>\n",
              "      <td>...</td>\n",
              "      <td>...</td>\n",
              "      <td>...</td>\n",
              "      <td>...</td>\n",
              "      <td>...</td>\n",
              "      <td>...</td>\n",
              "      <td>...</td>\n",
              "      <td>...</td>\n",
              "    </tr>\n",
              "    <tr>\n",
              "      <th>104003</th>\n",
              "      <td>1.0</td>\n",
              "      <td>-1.489884</td>\n",
              "      <td>-0.431347</td>\n",
              "      <td>-0.497041</td>\n",
              "      <td>0.842482</td>\n",
              "      <td>-0.411044</td>\n",
              "      <td>-0.437149</td>\n",
              "      <td>-0.504141</td>\n",
              "      <td>-0.748924</td>\n",
              "      <td>-0.084569</td>\n",
              "      <td>-1.073618</td>\n",
              "    </tr>\n",
              "    <tr>\n",
              "      <th>10742</th>\n",
              "      <td>1.0</td>\n",
              "      <td>-0.997219</td>\n",
              "      <td>1.712364</td>\n",
              "      <td>-1.924475</td>\n",
              "      <td>0.701718</td>\n",
              "      <td>-0.169706</td>\n",
              "      <td>-0.943550</td>\n",
              "      <td>-0.368701</td>\n",
              "      <td>-0.606286</td>\n",
              "      <td>0.614269</td>\n",
              "      <td>1.388694</td>\n",
              "    </tr>\n",
              "    <tr>\n",
              "      <th>49689</th>\n",
              "      <td>1.0</td>\n",
              "      <td>-0.549342</td>\n",
              "      <td>0.481916</td>\n",
              "      <td>-1.015061</td>\n",
              "      <td>0.451604</td>\n",
              "      <td>-0.331545</td>\n",
              "      <td>-0.925823</td>\n",
              "      <td>-0.435290</td>\n",
              "      <td>1.495016</td>\n",
              "      <td>-1.655990</td>\n",
              "      <td>0.795475</td>\n",
              "    </tr>\n",
              "    <tr>\n",
              "      <th>58564</th>\n",
              "      <td>1.0</td>\n",
              "      <td>-0.459767</td>\n",
              "      <td>-0.065798</td>\n",
              "      <td>0.205165</td>\n",
              "      <td>0.878667</td>\n",
              "      <td>-0.176331</td>\n",
              "      <td>-0.945092</td>\n",
              "      <td>2.550538</td>\n",
              "      <td>-0.640897</td>\n",
              "      <td>0.374888</td>\n",
              "      <td>0.759421</td>\n",
              "    </tr>\n",
              "    <tr>\n",
              "      <th>61615</th>\n",
              "      <td>1.0</td>\n",
              "      <td>-0.549342</td>\n",
              "      <td>0.135942</td>\n",
              "      <td>-0.312856</td>\n",
              "      <td>1.087625</td>\n",
              "      <td>0.202240</td>\n",
              "      <td>-0.837864</td>\n",
              "      <td>-0.504141</td>\n",
              "      <td>1.101710</td>\n",
              "      <td>-0.586497</td>\n",
              "      <td>-0.519845</td>\n",
              "    </tr>\n",
              "  </tbody>\n",
              "</table>\n",
              "<p>85500 rows × 11 columns</p>\n",
              "</div>\n",
              "    <div class=\"colab-df-buttons\">\n",
              "\n",
              "  <div class=\"colab-df-container\">\n",
              "    <button class=\"colab-df-convert\" onclick=\"convertToInteractive('df-521723cf-84a2-4d15-9ffe-c624700a68a8')\"\n",
              "            title=\"Convert this dataframe to an interactive table.\"\n",
              "            style=\"display:none;\">\n",
              "\n",
              "  <svg xmlns=\"http://www.w3.org/2000/svg\" height=\"24px\" viewBox=\"0 -960 960 960\">\n",
              "    <path d=\"M120-120v-720h720v720H120Zm60-500h600v-160H180v160Zm220 220h160v-160H400v160Zm0 220h160v-160H400v160ZM180-400h160v-160H180v160Zm440 0h160v-160H620v160ZM180-180h160v-160H180v160Zm440 0h160v-160H620v160Z\"/>\n",
              "  </svg>\n",
              "    </button>\n",
              "\n",
              "  <style>\n",
              "    .colab-df-container {\n",
              "      display:flex;\n",
              "      gap: 12px;\n",
              "    }\n",
              "\n",
              "    .colab-df-convert {\n",
              "      background-color: #E8F0FE;\n",
              "      border: none;\n",
              "      border-radius: 50%;\n",
              "      cursor: pointer;\n",
              "      display: none;\n",
              "      fill: #1967D2;\n",
              "      height: 32px;\n",
              "      padding: 0 0 0 0;\n",
              "      width: 32px;\n",
              "    }\n",
              "\n",
              "    .colab-df-convert:hover {\n",
              "      background-color: #E2EBFA;\n",
              "      box-shadow: 0px 1px 2px rgba(60, 64, 67, 0.3), 0px 1px 3px 1px rgba(60, 64, 67, 0.15);\n",
              "      fill: #174EA6;\n",
              "    }\n",
              "\n",
              "    .colab-df-buttons div {\n",
              "      margin-bottom: 4px;\n",
              "    }\n",
              "\n",
              "    [theme=dark] .colab-df-convert {\n",
              "      background-color: #3B4455;\n",
              "      fill: #D2E3FC;\n",
              "    }\n",
              "\n",
              "    [theme=dark] .colab-df-convert:hover {\n",
              "      background-color: #434B5C;\n",
              "      box-shadow: 0px 1px 3px 1px rgba(0, 0, 0, 0.15);\n",
              "      filter: drop-shadow(0px 1px 2px rgba(0, 0, 0, 0.3));\n",
              "      fill: #FFFFFF;\n",
              "    }\n",
              "  </style>\n",
              "\n",
              "    <script>\n",
              "      const buttonEl =\n",
              "        document.querySelector('#df-521723cf-84a2-4d15-9ffe-c624700a68a8 button.colab-df-convert');\n",
              "      buttonEl.style.display =\n",
              "        google.colab.kernel.accessAllowed ? 'block' : 'none';\n",
              "\n",
              "      async function convertToInteractive(key) {\n",
              "        const element = document.querySelector('#df-521723cf-84a2-4d15-9ffe-c624700a68a8');\n",
              "        const dataTable =\n",
              "          await google.colab.kernel.invokeFunction('convertToInteractive',\n",
              "                                                    [key], {});\n",
              "        if (!dataTable) return;\n",
              "\n",
              "        const docLinkHtml = 'Like what you see? Visit the ' +\n",
              "          '<a target=\"_blank\" href=https://colab.research.google.com/notebooks/data_table.ipynb>data table notebook</a>'\n",
              "          + ' to learn more about interactive tables.';\n",
              "        element.innerHTML = '';\n",
              "        dataTable['output_type'] = 'display_data';\n",
              "        await google.colab.output.renderOutput(dataTable, element);\n",
              "        const docLink = document.createElement('div');\n",
              "        docLink.innerHTML = docLinkHtml;\n",
              "        element.appendChild(docLink);\n",
              "      }\n",
              "    </script>\n",
              "  </div>\n",
              "\n",
              "\n",
              "<div id=\"df-6be94dd6-954b-42d5-a689-de9b2a8fa732\">\n",
              "  <button class=\"colab-df-quickchart\" onclick=\"quickchart('df-6be94dd6-954b-42d5-a689-de9b2a8fa732')\"\n",
              "            title=\"Suggest charts.\"\n",
              "            style=\"display:none;\">\n",
              "\n",
              "<svg xmlns=\"http://www.w3.org/2000/svg\" height=\"24px\"viewBox=\"0 0 24 24\"\n",
              "     width=\"24px\">\n",
              "    <g>\n",
              "        <path d=\"M19 3H5c-1.1 0-2 .9-2 2v14c0 1.1.9 2 2 2h14c1.1 0 2-.9 2-2V5c0-1.1-.9-2-2-2zM9 17H7v-7h2v7zm4 0h-2V7h2v10zm4 0h-2v-4h2v4z\"/>\n",
              "    </g>\n",
              "</svg>\n",
              "  </button>\n",
              "\n",
              "<style>\n",
              "  .colab-df-quickchart {\n",
              "      --bg-color: #E8F0FE;\n",
              "      --fill-color: #1967D2;\n",
              "      --hover-bg-color: #E2EBFA;\n",
              "      --hover-fill-color: #174EA6;\n",
              "      --disabled-fill-color: #AAA;\n",
              "      --disabled-bg-color: #DDD;\n",
              "  }\n",
              "\n",
              "  [theme=dark] .colab-df-quickchart {\n",
              "      --bg-color: #3B4455;\n",
              "      --fill-color: #D2E3FC;\n",
              "      --hover-bg-color: #434B5C;\n",
              "      --hover-fill-color: #FFFFFF;\n",
              "      --disabled-bg-color: #3B4455;\n",
              "      --disabled-fill-color: #666;\n",
              "  }\n",
              "\n",
              "  .colab-df-quickchart {\n",
              "    background-color: var(--bg-color);\n",
              "    border: none;\n",
              "    border-radius: 50%;\n",
              "    cursor: pointer;\n",
              "    display: none;\n",
              "    fill: var(--fill-color);\n",
              "    height: 32px;\n",
              "    padding: 0;\n",
              "    width: 32px;\n",
              "  }\n",
              "\n",
              "  .colab-df-quickchart:hover {\n",
              "    background-color: var(--hover-bg-color);\n",
              "    box-shadow: 0 1px 2px rgba(60, 64, 67, 0.3), 0 1px 3px 1px rgba(60, 64, 67, 0.15);\n",
              "    fill: var(--button-hover-fill-color);\n",
              "  }\n",
              "\n",
              "  .colab-df-quickchart-complete:disabled,\n",
              "  .colab-df-quickchart-complete:disabled:hover {\n",
              "    background-color: var(--disabled-bg-color);\n",
              "    fill: var(--disabled-fill-color);\n",
              "    box-shadow: none;\n",
              "  }\n",
              "\n",
              "  .colab-df-spinner {\n",
              "    border: 2px solid var(--fill-color);\n",
              "    border-color: transparent;\n",
              "    border-bottom-color: var(--fill-color);\n",
              "    animation:\n",
              "      spin 1s steps(1) infinite;\n",
              "  }\n",
              "\n",
              "  @keyframes spin {\n",
              "    0% {\n",
              "      border-color: transparent;\n",
              "      border-bottom-color: var(--fill-color);\n",
              "      border-left-color: var(--fill-color);\n",
              "    }\n",
              "    20% {\n",
              "      border-color: transparent;\n",
              "      border-left-color: var(--fill-color);\n",
              "      border-top-color: var(--fill-color);\n",
              "    }\n",
              "    30% {\n",
              "      border-color: transparent;\n",
              "      border-left-color: var(--fill-color);\n",
              "      border-top-color: var(--fill-color);\n",
              "      border-right-color: var(--fill-color);\n",
              "    }\n",
              "    40% {\n",
              "      border-color: transparent;\n",
              "      border-right-color: var(--fill-color);\n",
              "      border-top-color: var(--fill-color);\n",
              "    }\n",
              "    60% {\n",
              "      border-color: transparent;\n",
              "      border-right-color: var(--fill-color);\n",
              "    }\n",
              "    80% {\n",
              "      border-color: transparent;\n",
              "      border-right-color: var(--fill-color);\n",
              "      border-bottom-color: var(--fill-color);\n",
              "    }\n",
              "    90% {\n",
              "      border-color: transparent;\n",
              "      border-bottom-color: var(--fill-color);\n",
              "    }\n",
              "  }\n",
              "</style>\n",
              "\n",
              "  <script>\n",
              "    async function quickchart(key) {\n",
              "      const quickchartButtonEl =\n",
              "        document.querySelector('#' + key + ' button');\n",
              "      quickchartButtonEl.disabled = true;  // To prevent multiple clicks.\n",
              "      quickchartButtonEl.classList.add('colab-df-spinner');\n",
              "      try {\n",
              "        const charts = await google.colab.kernel.invokeFunction(\n",
              "            'suggestCharts', [key], {});\n",
              "      } catch (error) {\n",
              "        console.error('Error during call to suggestCharts:', error);\n",
              "      }\n",
              "      quickchartButtonEl.classList.remove('colab-df-spinner');\n",
              "      quickchartButtonEl.classList.add('colab-df-quickchart-complete');\n",
              "    }\n",
              "    (() => {\n",
              "      let quickchartButtonEl =\n",
              "        document.querySelector('#df-6be94dd6-954b-42d5-a689-de9b2a8fa732 button');\n",
              "      quickchartButtonEl.style.display =\n",
              "        google.colab.kernel.accessAllowed ? 'block' : 'none';\n",
              "    })();\n",
              "  </script>\n",
              "</div>\n",
              "    </div>\n",
              "  </div>\n"
            ]
          },
          "metadata": {},
          "execution_count": 11
        }
      ]
    },
    {
      "cell_type": "code",
      "source": [
        "X_test_const = sm.add_constant(X_test_scaled)\n",
        "\n",
        "for model_name, model in stats_models.items():\n",
        "    y_pred = model.predict(X_test_const)\n",
        "    rmse = np.sqrt(mean_squared_error(y_test, y_pred))\n",
        "    r2 = r2_score(y_test, y_pred)\n",
        "    print(f\"{model_name} | RMSE: {rmse} | R^2: {r2}\")"
      ],
      "metadata": {
        "colab": {
          "base_uri": "https://localhost:8080/"
        },
        "id": "xfbly9XuBRvt",
        "outputId": "fa9b66c7-fcdb-4e41-e449-a82679dae32e"
      },
      "execution_count": 12,
      "outputs": [
        {
          "output_type": "stream",
          "name": "stdout",
          "text": [
            "LinearReggression | RMSE: 0.12187052768508619 | R^2: 0.7636016854471843\n",
            "Ridge | RMSE: 0.12329725300411724 | R^2: 0.7580343068334253\n",
            "Lasso | RMSE: 0.154930535710214 | R^2: 0.6179492665266193\n",
            "ElasticNet | RMSE: 0.12280468241939398 | R^2: 0.7599637433553765\n"
          ]
        }
      ]
    },
    {
      "cell_type": "code",
      "source": [
        "sklearn_models = {\n",
        "    \"LinearReggression\": LinearRegression(),\n",
        "    \"Ridge\": Ridge(0.03),\n",
        "    \"Lasso\": Lasso(0.05),\n",
        "    \"ElasticNet\": ElasticNet(0.01, l1_ratio=0.4)\n",
        "}\n",
        "\n",
        "for model in sklearn_models.values():\n",
        "    model.fit(X_train_scaled, y_train)"
      ],
      "metadata": {
        "id": "HQg2LxJrBJY2"
      },
      "execution_count": 13,
      "outputs": []
    },
    {
      "cell_type": "code",
      "execution_count": 14,
      "metadata": {
        "id": "Bkbr5iFCy-Qs",
        "colab": {
          "base_uri": "https://localhost:8080/"
        },
        "outputId": "8af9ca2f-78a0-494e-b302-7682dfec8e56"
      },
      "outputs": [
        {
          "output_type": "stream",
          "name": "stdout",
          "text": [
            "LinearReggression | RMSE: 0.12187052768508617 | R^2: 0.7636016854471843\n",
            "Ridge | RMSE: 0.12187052713188165 | R^2: 0.7636016875933409\n",
            "Lasso | RMSE: 0.1471071204791906 | R^2: 0.6555593645544675\n",
            "ElasticNet | RMSE: 0.12259881682500326 | R^2: 0.7607678460441432\n"
          ]
        }
      ],
      "source": [
        "for model_name, model in sklearn_models.items():\n",
        "    y_pred = model.predict(X_test_scaled)\n",
        "    rmse = np.sqrt(mean_squared_error(y_test, y_pred))\n",
        "    r2 = r2_score(y_test, y_pred)\n",
        "    print(f\"{model_name} | RMSE: {rmse} | R^2: {r2}\")"
      ]
    },
    {
      "cell_type": "markdown",
      "metadata": {
        "id": "2bST-r3e7dA0"
      },
      "source": [
        "#### 3. [0.25 балла] Повторите шаги из предыдущего пункта, добавив категориальные признаки. Прокомментируйте изменения значений метрик качества"
      ]
    },
    {
      "cell_type": "code",
      "execution_count": 15,
      "metadata": {
        "id": "UJZvT4Mn7dA0"
      },
      "outputs": [],
      "source": [
        "y = data_encoded[\"energy\"]\n",
        "X = data_encoded.drop(\"energy\", axis=1)\n",
        "X_train, X_test, y_train, y_test = train_test_split(X, y, test_size=0.25, random_state=7)"
      ]
    },
    {
      "cell_type": "code",
      "source": [
        "scaler = StandardScaler()\n",
        "X_train_scaled = pd.DataFrame(scaler.fit_transform(X_train), index=X_train.index, columns=X_train.columns)\n",
        "X_test_scaled = pd.DataFrame(scaler.transform(X_test), index=X_test.index, columns=X_test.columns)"
      ],
      "metadata": {
        "id": "GSBdMVS8XHRQ"
      },
      "execution_count": 16,
      "outputs": []
    },
    {
      "cell_type": "code",
      "source": [
        "X_train_const = sm.add_constant(X_train_scaled)\n",
        "\n",
        "stats_models_cat = {\n",
        "    \"LinearReggression\": sm.OLS(y_train, X_train_const),\n",
        "    \"Ridge\": sm.OLS(y_train, X_train_const),\n",
        "    \"Lasso\": sm.OLS(y_train, X_train_const),\n",
        "    \"ElasticNet\": sm.OLS(y_train, X_train_const)\n",
        "}\n",
        "\n",
        "stats_models_cat[\"LinearReggression\"] = stats_models_cat[\"LinearReggression\"].fit()\n",
        "stats_models_cat[\"Ridge\"] = stats_models_cat[\"Ridge\"].fit_regularized(alpha=0.03, L1_wt=0)\n",
        "stats_models_cat[\"Lasso\"] = stats_models_cat[\"Lasso\"].fit_regularized(alpha=0.05, L1_wt=1)\n",
        "stats_models_cat[\"ElasticNet\"] = stats_models_cat[\"ElasticNet\"].fit_regularized(alpha=0.01, L1_wt=0.4)"
      ],
      "metadata": {
        "id": "HU8HNCk9XNc1"
      },
      "execution_count": 17,
      "outputs": []
    },
    {
      "cell_type": "code",
      "source": [
        "X_test_const = sm.add_constant(X_test_scaled)\n",
        "\n",
        "for model_name, model in stats_models_cat.items():\n",
        "    y_pred = model.predict(X_test_const)\n",
        "    rmse = np.sqrt(mean_squared_error(y_test, y_pred))\n",
        "    r2 = r2_score(y_test, y_pred)\n",
        "    print(f\"{model_name} | RMSE: {rmse} | R^2: {r2}\")"
      ],
      "metadata": {
        "colab": {
          "base_uri": "https://localhost:8080/"
        },
        "id": "uHXNd_fCXQZK",
        "outputId": "4cee8045-3dce-401c-b793-21b57340a4ed"
      },
      "execution_count": 18,
      "outputs": [
        {
          "output_type": "stream",
          "name": "stdout",
          "text": [
            "LinearReggression | RMSE: 0.11186322274286671 | R^2: 0.8008310440515642\n",
            "Ridge | RMSE: 0.11401910506129356 | R^2: 0.7930801054266848\n",
            "Lasso | RMSE: 0.154930535710214 | R^2: 0.6179492665266193\n",
            "ElasticNet | RMSE: 0.11849719098409722 | R^2: 0.7765074228941483\n"
          ]
        }
      ]
    },
    {
      "cell_type": "code",
      "source": [
        "sklearn_models_cat = {\n",
        "    \"LinearReggression\": LinearRegression(),\n",
        "    \"Ridge\": Ridge(0.03),\n",
        "    \"Lasso\": Lasso(0.05),\n",
        "    \"ElasticNet\": ElasticNet(0.01, l1_ratio=0.4)\n",
        "}\n",
        "\n",
        "for model in sklearn_models_cat.values():\n",
        "    model.fit(X_train_scaled, y_train)"
      ],
      "metadata": {
        "id": "cUfyLwamXX1b"
      },
      "execution_count": 19,
      "outputs": []
    },
    {
      "cell_type": "code",
      "source": [
        "for model_name, model in sklearn_models_cat.items():\n",
        "    y_pred = model.predict(X_test_scaled)\n",
        "    rmse = np.sqrt(mean_squared_error(y_test, y_pred))\n",
        "    r2 = r2_score(y_test, y_pred)\n",
        "    print(f\"{model_name} | RMSE: {rmse} | R^2: {r2}\")"
      ],
      "metadata": {
        "colab": {
          "base_uri": "https://localhost:8080/"
        },
        "id": "tFxYDpRnXaR8",
        "outputId": "205e51c6-352d-4108-bf25-4be1c275a667"
      },
      "execution_count": 20,
      "outputs": [
        {
          "output_type": "stream",
          "name": "stdout",
          "text": [
            "LinearReggression | RMSE: 0.11186322274286671 | R^2: 0.8008310440515642\n",
            "Ridge | RMSE: 0.1118632295711286 | R^2: 0.8008310197365517\n",
            "Lasso | RMSE: 0.1471071204791906 | R^2: 0.6555593645544675\n",
            "ElasticNet | RMSE: 0.11731377177911514 | R^2: 0.7809491267271149\n"
          ]
        }
      ]
    },
    {
      "cell_type": "markdown",
      "source": [
        "Stats без категориальных\n",
        "```\n",
        "LinearReggression | RMSE: 0.12187052768508619 | R^2: 0.7636016854471843\n",
        "Ridge | RMSE: 0.12329725300411724 | R^2: 0.7580343068334253\n",
        "Lasso | RMSE: 0.154930535710214 | R^2: 0.6179492665266193\n",
        "ElasticNet | RMSE: 0.12280468241939398 | R^2: 0.7599637433553765\n",
        "```\n",
        "\n",
        "Sklearn без категориальных:\n",
        "```\n",
        "LinearReggression | RMSE: 0.12187052768508617 | R^2: 0.7636016854471843\n",
        "Ridge | RMSE: 0.12187052713188165 | R^2: 0.7636016875933409\n",
        "Lasso | RMSE: 0.1471071204791906 | R^2: 0.6555593645544675\n",
        "ElasticNet | RMSE: 0.12259881682500326 | R^2: 0.7607678460441432\n",
        "```\n",
        "\n",
        "Stats с категориальными\n",
        "```\n",
        "LinearReggression | RMSE: 0.11186322274286671 | R^2: 0.8008310440515642\n",
        "Ridge | RMSE: 0.11401910506129356 | R^2: 0.7930801054266848\n",
        "Lasso | RMSE: 0.154930535710214 | R^2: 0.6179492665266193\n",
        "ElasticNet | RMSE: 0.11849719098409722 | R^2: 0.7765074228941483\n",
        "```\n",
        "\n",
        "Sklearn с категориальными:\n",
        "```\n",
        "LinearReggression | RMSE: 0.11186322274286671 | R^2: 0.8008310440515642\n",
        "Ridge | RMSE: 0.1118632295711286 | R^2: 0.8008310197365517\n",
        "Lasso | RMSE: 0.1471071204791906 | R^2: 0.6555593645544675\n",
        "ElasticNet | RMSE: 0.11731377177911514 | R^2: 0.7809491267271149\n",
        "```"
      ],
      "metadata": {
        "id": "1tSsq-QuvRQ8"
      }
    },
    {
      "cell_type": "markdown",
      "source": [
        "Можно сделать следующий вывод:\n",
        "Во всех моделях кроме Lasso результат с добавлением закодированных категориальных переменных улучшился. Более того, модели sklearn в целом справляются с прогнозом чуть лучше statsmodels."
      ],
      "metadata": {
        "id": "yxM1CtWownh4"
      }
    },
    {
      "cell_type": "markdown",
      "metadata": {
        "id": "69JOftKRy-Qt"
      },
      "source": [
        "#### 4. [1 балл] Исследуйте значения параметров полученных моделей и проверьте какие веса получились нулевыми. Прокомментируйте значимость коэффициентов, обшую значимость модели и остальные факторы из результирующей таблицы"
      ]
    },
    {
      "cell_type": "code",
      "source": [
        "stats_models[\"LinearReggression\"].summary()"
      ],
      "metadata": {
        "colab": {
          "base_uri": "https://localhost:8080/",
          "height": 633
        },
        "id": "ofHCojMPXZ7w",
        "outputId": "1c9edf7b-f2e1-43c4-ddbb-a3dd304d18c7"
      },
      "execution_count": 21,
      "outputs": [
        {
          "output_type": "execute_result",
          "data": {
            "text/plain": [
              "<class 'statsmodels.iolib.summary.Summary'>\n",
              "\"\"\"\n",
              "                            OLS Regression Results                            \n",
              "==============================================================================\n",
              "Dep. Variable:                 energy   R-squared:                       0.765\n",
              "Model:                            OLS   Adj. R-squared:                  0.765\n",
              "Method:                 Least Squares   F-statistic:                 2.785e+04\n",
              "Date:                Mon, 23 Oct 2023   Prob (F-statistic):               0.00\n",
              "Time:                        19:30:47   Log-Likelihood:                 58524.\n",
              "No. Observations:               85500   AIC:                        -1.170e+05\n",
              "Df Residuals:                   85489   BIC:                        -1.169e+05\n",
              "Df Model:                          10                                         \n",
              "Covariance Type:            nonrobust                                         \n",
              "====================================================================================\n",
              "                       coef    std err          t      P>|t|      [0.025      0.975]\n",
              "------------------------------------------------------------------------------------\n",
              "const                0.6420      0.000   1538.157      0.000       0.641       0.643\n",
              "popularity          -0.0020      0.000     -4.787      0.000      -0.003      -0.001\n",
              "duration_ms          0.0052      0.000     12.119      0.000       0.004       0.006\n",
              "danceability        -0.0315      0.001    -62.887      0.000      -0.032      -0.030\n",
              "loudness             0.1357      0.001    227.454      0.000       0.135       0.137\n",
              "speechiness          0.0274      0.000     63.259      0.000       0.027       0.028\n",
              "acousticness        -0.1069      0.001   -199.787      0.000      -0.108      -0.106\n",
              "instrumentalness     0.0354      0.000     72.079      0.000       0.034       0.036\n",
              "liveness             0.0258      0.000     59.100      0.000       0.025       0.027\n",
              "valence              0.0413      0.001     81.585      0.000       0.040       0.042\n",
              "tempo                0.0075      0.000     17.262      0.000       0.007       0.008\n",
              "==============================================================================\n",
              "Omnibus:                     4801.534   Durbin-Watson:                   1.990\n",
              "Prob(Omnibus):                  0.000   Jarque-Bera (JB):            19948.192\n",
              "Skew:                           0.068   Prob(JB):                         0.00\n",
              "Kurtosis:                       5.362   Cond. No.                         2.69\n",
              "==============================================================================\n",
              "\n",
              "Notes:\n",
              "[1] Standard Errors assume that the covariance matrix of the errors is correctly specified.\n",
              "\"\"\""
            ],
            "text/html": [
              "<table class=\"simpletable\">\n",
              "<caption>OLS Regression Results</caption>\n",
              "<tr>\n",
              "  <th>Dep. Variable:</th>         <td>energy</td>      <th>  R-squared:         </th>  <td>   0.765</td> \n",
              "</tr>\n",
              "<tr>\n",
              "  <th>Model:</th>                   <td>OLS</td>       <th>  Adj. R-squared:    </th>  <td>   0.765</td> \n",
              "</tr>\n",
              "<tr>\n",
              "  <th>Method:</th>             <td>Least Squares</td>  <th>  F-statistic:       </th>  <td>2.785e+04</td>\n",
              "</tr>\n",
              "<tr>\n",
              "  <th>Date:</th>             <td>Mon, 23 Oct 2023</td> <th>  Prob (F-statistic):</th>   <td>  0.00</td>  \n",
              "</tr>\n",
              "<tr>\n",
              "  <th>Time:</th>                 <td>19:30:47</td>     <th>  Log-Likelihood:    </th>  <td>  58524.</td> \n",
              "</tr>\n",
              "<tr>\n",
              "  <th>No. Observations:</th>      <td> 85500</td>      <th>  AIC:               </th> <td>-1.170e+05</td>\n",
              "</tr>\n",
              "<tr>\n",
              "  <th>Df Residuals:</th>          <td> 85489</td>      <th>  BIC:               </th> <td>-1.169e+05</td>\n",
              "</tr>\n",
              "<tr>\n",
              "  <th>Df Model:</th>              <td>    10</td>      <th>                     </th>      <td> </td>    \n",
              "</tr>\n",
              "<tr>\n",
              "  <th>Covariance Type:</th>      <td>nonrobust</td>    <th>                     </th>      <td> </td>    \n",
              "</tr>\n",
              "</table>\n",
              "<table class=\"simpletable\">\n",
              "<tr>\n",
              "          <td></td>            <th>coef</th>     <th>std err</th>      <th>t</th>      <th>P>|t|</th>  <th>[0.025</th>    <th>0.975]</th>  \n",
              "</tr>\n",
              "<tr>\n",
              "  <th>const</th>            <td>    0.6420</td> <td>    0.000</td> <td> 1538.157</td> <td> 0.000</td> <td>    0.641</td> <td>    0.643</td>\n",
              "</tr>\n",
              "<tr>\n",
              "  <th>popularity</th>       <td>   -0.0020</td> <td>    0.000</td> <td>   -4.787</td> <td> 0.000</td> <td>   -0.003</td> <td>   -0.001</td>\n",
              "</tr>\n",
              "<tr>\n",
              "  <th>duration_ms</th>      <td>    0.0052</td> <td>    0.000</td> <td>   12.119</td> <td> 0.000</td> <td>    0.004</td> <td>    0.006</td>\n",
              "</tr>\n",
              "<tr>\n",
              "  <th>danceability</th>     <td>   -0.0315</td> <td>    0.001</td> <td>  -62.887</td> <td> 0.000</td> <td>   -0.032</td> <td>   -0.030</td>\n",
              "</tr>\n",
              "<tr>\n",
              "  <th>loudness</th>         <td>    0.1357</td> <td>    0.001</td> <td>  227.454</td> <td> 0.000</td> <td>    0.135</td> <td>    0.137</td>\n",
              "</tr>\n",
              "<tr>\n",
              "  <th>speechiness</th>      <td>    0.0274</td> <td>    0.000</td> <td>   63.259</td> <td> 0.000</td> <td>    0.027</td> <td>    0.028</td>\n",
              "</tr>\n",
              "<tr>\n",
              "  <th>acousticness</th>     <td>   -0.1069</td> <td>    0.001</td> <td> -199.787</td> <td> 0.000</td> <td>   -0.108</td> <td>   -0.106</td>\n",
              "</tr>\n",
              "<tr>\n",
              "  <th>instrumentalness</th> <td>    0.0354</td> <td>    0.000</td> <td>   72.079</td> <td> 0.000</td> <td>    0.034</td> <td>    0.036</td>\n",
              "</tr>\n",
              "<tr>\n",
              "  <th>liveness</th>         <td>    0.0258</td> <td>    0.000</td> <td>   59.100</td> <td> 0.000</td> <td>    0.025</td> <td>    0.027</td>\n",
              "</tr>\n",
              "<tr>\n",
              "  <th>valence</th>          <td>    0.0413</td> <td>    0.001</td> <td>   81.585</td> <td> 0.000</td> <td>    0.040</td> <td>    0.042</td>\n",
              "</tr>\n",
              "<tr>\n",
              "  <th>tempo</th>            <td>    0.0075</td> <td>    0.000</td> <td>   17.262</td> <td> 0.000</td> <td>    0.007</td> <td>    0.008</td>\n",
              "</tr>\n",
              "</table>\n",
              "<table class=\"simpletable\">\n",
              "<tr>\n",
              "  <th>Omnibus:</th>       <td>4801.534</td> <th>  Durbin-Watson:     </th> <td>   1.990</td> \n",
              "</tr>\n",
              "<tr>\n",
              "  <th>Prob(Omnibus):</th>  <td> 0.000</td>  <th>  Jarque-Bera (JB):  </th> <td>19948.192</td>\n",
              "</tr>\n",
              "<tr>\n",
              "  <th>Skew:</th>           <td> 0.068</td>  <th>  Prob(JB):          </th> <td>    0.00</td> \n",
              "</tr>\n",
              "<tr>\n",
              "  <th>Kurtosis:</th>       <td> 5.362</td>  <th>  Cond. No.          </th> <td>    2.69</td> \n",
              "</tr>\n",
              "</table><br/><br/>Notes:<br/>[1] Standard Errors assume that the covariance matrix of the errors is correctly specified."
            ],
            "text/latex": "\\begin{center}\n\\begin{tabular}{lclc}\n\\toprule\n\\textbf{Dep. Variable:}    &      energy      & \\textbf{  R-squared:         } &     0.765   \\\\\n\\textbf{Model:}            &       OLS        & \\textbf{  Adj. R-squared:    } &     0.765   \\\\\n\\textbf{Method:}           &  Least Squares   & \\textbf{  F-statistic:       } & 2.785e+04   \\\\\n\\textbf{Date:}             & Mon, 23 Oct 2023 & \\textbf{  Prob (F-statistic):} &     0.00    \\\\\n\\textbf{Time:}             &     19:30:47     & \\textbf{  Log-Likelihood:    } &    58524.   \\\\\n\\textbf{No. Observations:} &       85500      & \\textbf{  AIC:               } & -1.170e+05  \\\\\n\\textbf{Df Residuals:}     &       85489      & \\textbf{  BIC:               } & -1.169e+05  \\\\\n\\textbf{Df Model:}         &          10      & \\textbf{                     } &             \\\\\n\\textbf{Covariance Type:}  &    nonrobust     & \\textbf{                     } &             \\\\\n\\bottomrule\n\\end{tabular}\n\\begin{tabular}{lcccccc}\n                          & \\textbf{coef} & \\textbf{std err} & \\textbf{t} & \\textbf{P$> |$t$|$} & \\textbf{[0.025} & \\textbf{0.975]}  \\\\\n\\midrule\n\\textbf{const}            &       0.6420  &        0.000     &  1538.157  &         0.000        &        0.641    &        0.643     \\\\\n\\textbf{popularity}       &      -0.0020  &        0.000     &    -4.787  &         0.000        &       -0.003    &       -0.001     \\\\\n\\textbf{duration\\_ms}     &       0.0052  &        0.000     &    12.119  &         0.000        &        0.004    &        0.006     \\\\\n\\textbf{danceability}     &      -0.0315  &        0.001     &   -62.887  &         0.000        &       -0.032    &       -0.030     \\\\\n\\textbf{loudness}         &       0.1357  &        0.001     &   227.454  &         0.000        &        0.135    &        0.137     \\\\\n\\textbf{speechiness}      &       0.0274  &        0.000     &    63.259  &         0.000        &        0.027    &        0.028     \\\\\n\\textbf{acousticness}     &      -0.1069  &        0.001     &  -199.787  &         0.000        &       -0.108    &       -0.106     \\\\\n\\textbf{instrumentalness} &       0.0354  &        0.000     &    72.079  &         0.000        &        0.034    &        0.036     \\\\\n\\textbf{liveness}         &       0.0258  &        0.000     &    59.100  &         0.000        &        0.025    &        0.027     \\\\\n\\textbf{valence}          &       0.0413  &        0.001     &    81.585  &         0.000        &        0.040    &        0.042     \\\\\n\\textbf{tempo}            &       0.0075  &        0.000     &    17.262  &         0.000        &        0.007    &        0.008     \\\\\n\\bottomrule\n\\end{tabular}\n\\begin{tabular}{lclc}\n\\textbf{Omnibus:}       & 4801.534 & \\textbf{  Durbin-Watson:     } &     1.990  \\\\\n\\textbf{Prob(Omnibus):} &   0.000  & \\textbf{  Jarque-Bera (JB):  } & 19948.192  \\\\\n\\textbf{Skew:}          &   0.068  & \\textbf{  Prob(JB):          } &      0.00  \\\\\n\\textbf{Kurtosis:}      &   5.362  & \\textbf{  Cond. No.          } &      2.69  \\\\\n\\bottomrule\n\\end{tabular}\n%\\caption{OLS Regression Results}\n\\end{center}\n\nNotes: \\newline\n [1] Standard Errors assume that the covariance matrix of the errors is correctly specified."
          },
          "metadata": {},
          "execution_count": 21
        }
      ]
    },
    {
      "cell_type": "markdown",
      "source": [
        "В данном случае все значения коэффициентов оказались ненулевыми. Более того при уровне значимости $\\alpha = 0.05$ все коэффициенты являются значимыми. Так же согласно полю Prob (F-statistic) = 0.00 можно сделать вывод, что сама модель регрессии значима при уровне $\\alpha = 0.05$. $R^2$ ближе к 1, чем к 0 -- это хорошо"
      ],
      "metadata": {
        "id": "OHe3aUd0hYZ8"
      }
    },
    {
      "cell_type": "code",
      "source": [
        "stats_models_cat[\"LinearReggression\"].summary()"
      ],
      "metadata": {
        "colab": {
          "base_uri": "https://localhost:8080/",
          "height": 1000
        },
        "id": "ZPOkostdxrol",
        "outputId": "e99fd228-81be-4481-8635-d851d93b557a"
      },
      "execution_count": 22,
      "outputs": [
        {
          "output_type": "execute_result",
          "data": {
            "text/plain": [
              "<class 'statsmodels.iolib.summary.Summary'>\n",
              "\"\"\"\n",
              "                            OLS Regression Results                            \n",
              "==============================================================================\n",
              "Dep. Variable:                 energy   R-squared:                       0.804\n",
              "Model:                            OLS   Adj. R-squared:                  0.803\n",
              "Method:                 Least Squares   F-statistic:                     2496.\n",
              "Date:                Mon, 23 Oct 2023   Prob (F-statistic):               0.00\n",
              "Time:                        19:30:47   Log-Likelihood:                 66185.\n",
              "No. Observations:               85500   AIC:                        -1.321e+05\n",
              "Df Residuals:                   85359   BIC:                        -1.308e+05\n",
              "Df Model:                         140                                         \n",
              "Covariance Type:            nonrobust                                         \n",
              "=================================================================================================\n",
              "                                    coef    std err          t      P>|t|      [0.025      0.975]\n",
              "-------------------------------------------------------------------------------------------------\n",
              "const                             0.6420      0.000   1681.062      0.000       0.641       0.643\n",
              "popularity                       -0.0032      0.000     -7.182      0.000      -0.004      -0.002\n",
              "duration_ms                       0.0010      0.000      2.430      0.015       0.000       0.002\n",
              "danceability                     -0.0219      0.001    -38.212      0.000      -0.023      -0.021\n",
              "loudness                          0.1353      0.001    222.671      0.000       0.134       0.136\n",
              "speechiness                       0.0224      0.001     42.230      0.000       0.021       0.023\n",
              "acousticness                     -0.0825      0.001   -136.857      0.000      -0.084      -0.081\n",
              "instrumentalness                  0.0240      0.001     43.681      0.000       0.023       0.025\n",
              "liveness                          0.0203      0.000     47.873      0.000       0.019       0.021\n",
              "valence                           0.0410      0.001     79.093      0.000       0.040       0.042\n",
              "tempo                             0.0060      0.000     14.368      0.000       0.005       0.007\n",
              "explicit_True                    -0.0025      0.000     -5.891      0.000      -0.003      -0.002\n",
              "key_1                             0.0033      0.000      6.639      0.000       0.002       0.004\n",
              "key_2                             0.0009      0.001      1.821      0.069   -6.93e-05       0.002\n",
              "key_3                         -4.252e-05      0.000     -0.100      0.921      -0.001       0.001\n",
              "key_4                             0.0007      0.000      1.441      0.150      -0.000       0.002\n",
              "key_5                            -0.0010      0.000     -1.972      0.049      -0.002   -5.79e-06\n",
              "key_6                             0.0012      0.000      2.534      0.011       0.000       0.002\n",
              "key_7                             0.0009      0.001      1.755      0.079      -0.000       0.002\n",
              "key_8                             0.0012      0.000      2.587      0.010       0.000       0.002\n",
              "key_9                             0.0013      0.001      2.641      0.008       0.000       0.002\n",
              "key_10                            0.0025      0.000      5.329      0.000       0.002       0.003\n",
              "key_11                            0.0023      0.000      4.779      0.000       0.001       0.003\n",
              "time_signature_1                  0.0261      0.001     25.481      0.000       0.024       0.028\n",
              "time_signature_3                  0.0738      0.003     25.720      0.000       0.068       0.079\n",
              "time_signature_4                  0.0934      0.003     28.833      0.000       0.087       0.100\n",
              "time_signature_5                  0.0333      0.001     24.688      0.000       0.031       0.036\n",
              "track_genre_afrobeat              0.0083      0.001     15.064      0.000       0.007       0.009\n",
              "track_genre_alt-rock              0.0088      0.001     16.113      0.000       0.008       0.010\n",
              "track_genre_alternative           0.0059      0.001     10.844      0.000       0.005       0.007\n",
              "track_genre_ambient               0.0073      0.001     13.203      0.000       0.006       0.008\n",
              "track_genre_anime                 0.0078      0.001     14.447      0.000       0.007       0.009\n",
              "track_genre_black-metal           0.0170      0.001     30.311      0.000       0.016       0.018\n",
              "track_genre_bluegrass             0.0049      0.001      9.076      0.000       0.004       0.006\n",
              "track_genre_blues                 0.0047      0.001      8.719      0.000       0.004       0.006\n",
              "track_genre_brazil                0.0043      0.001      7.983      0.000       0.003       0.005\n",
              "track_genre_breakbeat             0.0137      0.001     24.662      0.000       0.013       0.015\n",
              "track_genre_british               0.0041      0.001      7.619      0.000       0.003       0.005\n",
              "track_genre_cantopop              0.0022      0.001      4.188      0.000       0.001       0.003\n",
              "track_genre_chicago-house         0.0100      0.001     18.008      0.000       0.009       0.011\n",
              "track_genre_children              0.0003      0.001      0.609      0.543      -0.001       0.001\n",
              "track_genre_chill                 0.0002      0.001      0.304      0.761      -0.001       0.001\n",
              "track_genre_classical             0.0064      0.001     11.500      0.000       0.005       0.007\n",
              "track_genre_club                  0.0084      0.001     15.333      0.000       0.007       0.009\n",
              "track_genre_comedy                0.0138      0.001     21.674      0.000       0.013       0.015\n",
              "track_genre_country               0.0021      0.001      3.929      0.000       0.001       0.003\n",
              "track_genre_dance                 0.0035      0.001      6.542      0.000       0.002       0.005\n",
              "track_genre_dancehall             0.0035      0.001      6.383      0.000       0.002       0.005\n",
              "track_genre_death-metal           0.0192      0.001     34.787      0.000       0.018       0.020\n",
              "track_genre_deep-house            0.0104      0.001     19.162      0.000       0.009       0.011\n",
              "track_genre_detroit-techno        0.0130      0.001     23.124      0.000       0.012       0.014\n",
              "track_genre_disco                 0.0104      0.001     19.018      0.000       0.009       0.011\n",
              "track_genre_disney                0.0027      0.001      4.977      0.000       0.002       0.004\n",
              "track_genre_drum-and-bass         0.0114      0.001     20.565      0.000       0.010       0.012\n",
              "track_genre_dub                   0.0062      0.001     11.337      0.000       0.005       0.007\n",
              "track_genre_dubstep               0.0080      0.001     14.839      0.000       0.007       0.009\n",
              "track_genre_edm                   0.0081      0.001     15.001      0.000       0.007       0.009\n",
              "track_genre_electro               0.0043      0.001      7.935      0.000       0.003       0.005\n",
              "track_genre_electronic            0.0081      0.001     14.807      0.000       0.007       0.009\n",
              "track_genre_emo                   0.0055      0.001     10.238      0.000       0.004       0.007\n",
              "track_genre_folk                  0.0059      0.001     11.007      0.000       0.005       0.007\n",
              "track_genre_forro                 0.0123      0.001     22.894      0.000       0.011       0.013\n",
              "track_genre_french                0.0068      0.001     12.485      0.000       0.006       0.008\n",
              "track_genre_funk                  0.0016      0.001      2.979      0.003       0.001       0.003\n",
              "track_genre_garage                0.0079      0.001     14.583      0.000       0.007       0.009\n",
              "track_genre_german                0.0064      0.001     11.901      0.000       0.005       0.007\n",
              "track_genre_gospel                0.0022      0.001      4.037      0.000       0.001       0.003\n",
              "track_genre_goth                  0.0098      0.001     18.152      0.000       0.009       0.011\n",
              "track_genre_grindcore             0.0172      0.001     30.587      0.000       0.016       0.018\n",
              "track_genre_groove                0.0108      0.001     19.824      0.000       0.010       0.012\n",
              "track_genre_grunge                0.0110      0.001     20.210      0.000       0.010       0.012\n",
              "track_genre_guitar                0.0025      0.001      4.512      0.000       0.001       0.004\n",
              "track_genre_happy                 0.0180      0.001     32.777      0.000       0.017       0.019\n",
              "track_genre_hard-rock             0.0123      0.001     22.513      0.000       0.011       0.013\n",
              "track_genre_hardcore              0.0124      0.001     22.847      0.000       0.011       0.013\n",
              "track_genre_hardstyle             0.0162      0.001     29.347      0.000       0.015       0.017\n",
              "track_genre_heavy-metal           0.0153      0.001     27.965      0.000       0.014       0.016\n",
              "track_genre_hip-hop               0.0038      0.001      6.914      0.000       0.003       0.005\n",
              "track_genre_honky-tonk           -0.0003      0.001     -0.585      0.558      -0.001       0.001\n",
              "track_genre_house                 0.0076      0.001     14.015      0.000       0.007       0.009\n",
              "track_genre_idm                   0.0099      0.001     18.039      0.000       0.009       0.011\n",
              "track_genre_indian                0.0082      0.001     15.189      0.000       0.007       0.009\n",
              "track_genre_indie                 0.0035      0.001      6.457      0.000       0.002       0.005\n",
              "track_genre_indie-pop             0.0032      0.001      5.870      0.000       0.002       0.004\n",
              "track_genre_industrial            0.0155      0.001     28.336      0.000       0.014       0.017\n",
              "track_genre_iranian               0.0115      0.001     20.803      0.000       0.010       0.013\n",
              "track_genre_j-dance               0.0051      0.001      9.250      0.000       0.004       0.006\n",
              "track_genre_j-idol                0.0121      0.001     22.148      0.000       0.011       0.013\n",
              "track_genre_j-pop                 0.0056      0.001     10.367      0.000       0.005       0.007\n",
              "track_genre_j-rock                0.0084      0.001     15.544      0.000       0.007       0.009\n",
              "track_genre_jazz                 -0.0012      0.001     -2.212      0.027      -0.002      -0.000\n",
              "track_genre_k-pop                 0.0065      0.001     12.082      0.000       0.005       0.008\n",
              "track_genre_kids                  0.0020      0.001      3.575      0.000       0.001       0.003\n",
              "track_genre_latin                 0.0051      0.001      9.365      0.000       0.004       0.006\n",
              "track_genre_latino                0.0056      0.001     10.245      0.000       0.005       0.007\n",
              "track_genre_malay                 0.0057      0.001     10.547      0.000       0.005       0.007\n",
              "track_genre_mandopop              0.0018      0.001      3.404      0.001       0.001       0.003\n",
              "track_genre_metal                 0.0134      0.001     24.434      0.000       0.012       0.014\n",
              "track_genre_metalcore             0.0168      0.001     30.563      0.000       0.016       0.018\n",
              "track_genre_minimal-techno        0.0106      0.001     18.899      0.000       0.010       0.012\n",
              "track_genre_mpb                   0.0053      0.001      9.975      0.000       0.004       0.006\n",
              "track_genre_new-age               0.0046      0.001      8.366      0.000       0.004       0.006\n",
              "track_genre_opera                 0.0038      0.001      6.939      0.000       0.003       0.005\n",
              "track_genre_pagode                0.0120      0.001     22.102      0.000       0.011       0.013\n",
              "track_genre_party                 0.0120      0.001     21.877      0.000       0.011       0.013\n",
              "track_genre_piano                 0.0089      0.001     16.508      0.000       0.008       0.010\n",
              "track_genre_pop                   0.0035      0.001      6.419      0.000       0.002       0.005\n",
              "track_genre_pop-film              0.0079      0.001     14.543      0.000       0.007       0.009\n",
              "track_genre_power-pop             0.0107      0.001     19.626      0.000       0.010       0.012\n",
              "track_genre_progressive-house     0.0125      0.001     22.976      0.000       0.011       0.014\n",
              "track_genre_psych-rock            0.0036      0.001      6.742      0.000       0.003       0.005\n",
              "track_genre_punk                  0.0109      0.001     19.973      0.000       0.010       0.012\n",
              "track_genre_punk-rock             0.0106      0.001     19.510      0.000       0.010       0.012\n",
              "track_genre_r-n-b                 0.0059      0.001     10.937      0.000       0.005       0.007\n",
              "track_genre_reggae                0.0040      0.001      7.448      0.000       0.003       0.005\n",
              "track_genre_reggaeton             0.0049      0.001      9.055      0.000       0.004       0.006\n",
              "track_genre_rock                  0.0047      0.001      8.789      0.000       0.004       0.006\n",
              "track_genre_rock-n-roll           0.0037      0.001      6.955      0.000       0.003       0.005\n",
              "track_genre_rockabilly            0.0095      0.001     17.591      0.000       0.008       0.011\n",
              "track_genre_romance               0.0016      0.001      2.862      0.004       0.000       0.003\n",
              "track_genre_sad                   0.0016      0.001      2.898      0.004       0.001       0.003\n",
              "track_genre_salsa                 0.0132      0.001     24.157      0.000       0.012       0.014\n",
              "track_genre_samba                 0.0103      0.001     19.210      0.000       0.009       0.011\n",
              "track_genre_sertanejo             0.0068      0.001     12.534      0.000       0.006       0.008\n",
              "track_genre_show-tunes           -0.0006      0.001     -1.053      0.292      -0.002       0.000\n",
              "track_genre_singer-songwriter     0.0011      0.001      1.985      0.047    1.36e-05       0.002\n",
              "track_genre_ska                   0.0098      0.001     17.908      0.000       0.009       0.011\n",
              "track_genre_sleep                 0.0291      0.001     48.966      0.000       0.028       0.030\n",
              "track_genre_songwriter            0.0007      0.001      1.246      0.213      -0.000       0.002\n",
              "track_genre_soul                  0.0010      0.001      1.894      0.058   -3.56e-05       0.002\n",
              "track_genre_spanish               0.0082      0.001     15.195      0.000       0.007       0.009\n",
              "track_genre_study                -0.0047      0.001     -8.461      0.000      -0.006      -0.004\n",
              "track_genre_swedish               0.0056      0.001     10.425      0.000       0.005       0.007\n",
              "track_genre_synth-pop             0.0103      0.001     19.094      0.000       0.009       0.011\n",
              "track_genre_tango                -0.0025      0.001     -4.681      0.000      -0.004      -0.001\n",
              "track_genre_techno                0.0130      0.001     23.414      0.000       0.012       0.014\n",
              "track_genre_trance                0.0155      0.001     28.209      0.000       0.014       0.017\n",
              "track_genre_trip-hop              0.0050      0.001      9.115      0.000       0.004       0.006\n",
              "track_genre_turkish               0.0057      0.001     10.466      0.000       0.005       0.007\n",
              "track_genre_world-music           0.0024      0.001      4.368      0.000       0.001       0.003\n",
              "mode_1                           -0.0029      0.000     -6.994      0.000      -0.004      -0.002\n",
              "==============================================================================\n",
              "Omnibus:                     4359.340   Durbin-Watson:                   1.995\n",
              "Prob(Omnibus):                  0.000   Jarque-Bera (JB):            16849.487\n",
              "Skew:                          -0.045   Prob(JB):                         0.00\n",
              "Kurtosis:                       5.173   Cond. No.                         22.1\n",
              "==============================================================================\n",
              "\n",
              "Notes:\n",
              "[1] Standard Errors assume that the covariance matrix of the errors is correctly specified.\n",
              "\"\"\""
            ],
            "text/html": [
              "<table class=\"simpletable\">\n",
              "<caption>OLS Regression Results</caption>\n",
              "<tr>\n",
              "  <th>Dep. Variable:</th>         <td>energy</td>      <th>  R-squared:         </th>  <td>   0.804</td> \n",
              "</tr>\n",
              "<tr>\n",
              "  <th>Model:</th>                   <td>OLS</td>       <th>  Adj. R-squared:    </th>  <td>   0.803</td> \n",
              "</tr>\n",
              "<tr>\n",
              "  <th>Method:</th>             <td>Least Squares</td>  <th>  F-statistic:       </th>  <td>   2496.</td> \n",
              "</tr>\n",
              "<tr>\n",
              "  <th>Date:</th>             <td>Mon, 23 Oct 2023</td> <th>  Prob (F-statistic):</th>   <td>  0.00</td>  \n",
              "</tr>\n",
              "<tr>\n",
              "  <th>Time:</th>                 <td>19:30:47</td>     <th>  Log-Likelihood:    </th>  <td>  66185.</td> \n",
              "</tr>\n",
              "<tr>\n",
              "  <th>No. Observations:</th>      <td> 85500</td>      <th>  AIC:               </th> <td>-1.321e+05</td>\n",
              "</tr>\n",
              "<tr>\n",
              "  <th>Df Residuals:</th>          <td> 85359</td>      <th>  BIC:               </th> <td>-1.308e+05</td>\n",
              "</tr>\n",
              "<tr>\n",
              "  <th>Df Model:</th>              <td>   140</td>      <th>                     </th>      <td> </td>    \n",
              "</tr>\n",
              "<tr>\n",
              "  <th>Covariance Type:</th>      <td>nonrobust</td>    <th>                     </th>      <td> </td>    \n",
              "</tr>\n",
              "</table>\n",
              "<table class=\"simpletable\">\n",
              "<tr>\n",
              "                <td></td>                   <th>coef</th>     <th>std err</th>      <th>t</th>      <th>P>|t|</th>  <th>[0.025</th>    <th>0.975]</th>  \n",
              "</tr>\n",
              "<tr>\n",
              "  <th>const</th>                         <td>    0.6420</td> <td>    0.000</td> <td> 1681.062</td> <td> 0.000</td> <td>    0.641</td> <td>    0.643</td>\n",
              "</tr>\n",
              "<tr>\n",
              "  <th>popularity</th>                    <td>   -0.0032</td> <td>    0.000</td> <td>   -7.182</td> <td> 0.000</td> <td>   -0.004</td> <td>   -0.002</td>\n",
              "</tr>\n",
              "<tr>\n",
              "  <th>duration_ms</th>                   <td>    0.0010</td> <td>    0.000</td> <td>    2.430</td> <td> 0.015</td> <td>    0.000</td> <td>    0.002</td>\n",
              "</tr>\n",
              "<tr>\n",
              "  <th>danceability</th>                  <td>   -0.0219</td> <td>    0.001</td> <td>  -38.212</td> <td> 0.000</td> <td>   -0.023</td> <td>   -0.021</td>\n",
              "</tr>\n",
              "<tr>\n",
              "  <th>loudness</th>                      <td>    0.1353</td> <td>    0.001</td> <td>  222.671</td> <td> 0.000</td> <td>    0.134</td> <td>    0.136</td>\n",
              "</tr>\n",
              "<tr>\n",
              "  <th>speechiness</th>                   <td>    0.0224</td> <td>    0.001</td> <td>   42.230</td> <td> 0.000</td> <td>    0.021</td> <td>    0.023</td>\n",
              "</tr>\n",
              "<tr>\n",
              "  <th>acousticness</th>                  <td>   -0.0825</td> <td>    0.001</td> <td> -136.857</td> <td> 0.000</td> <td>   -0.084</td> <td>   -0.081</td>\n",
              "</tr>\n",
              "<tr>\n",
              "  <th>instrumentalness</th>              <td>    0.0240</td> <td>    0.001</td> <td>   43.681</td> <td> 0.000</td> <td>    0.023</td> <td>    0.025</td>\n",
              "</tr>\n",
              "<tr>\n",
              "  <th>liveness</th>                      <td>    0.0203</td> <td>    0.000</td> <td>   47.873</td> <td> 0.000</td> <td>    0.019</td> <td>    0.021</td>\n",
              "</tr>\n",
              "<tr>\n",
              "  <th>valence</th>                       <td>    0.0410</td> <td>    0.001</td> <td>   79.093</td> <td> 0.000</td> <td>    0.040</td> <td>    0.042</td>\n",
              "</tr>\n",
              "<tr>\n",
              "  <th>tempo</th>                         <td>    0.0060</td> <td>    0.000</td> <td>   14.368</td> <td> 0.000</td> <td>    0.005</td> <td>    0.007</td>\n",
              "</tr>\n",
              "<tr>\n",
              "  <th>explicit_True</th>                 <td>   -0.0025</td> <td>    0.000</td> <td>   -5.891</td> <td> 0.000</td> <td>   -0.003</td> <td>   -0.002</td>\n",
              "</tr>\n",
              "<tr>\n",
              "  <th>key_1</th>                         <td>    0.0033</td> <td>    0.000</td> <td>    6.639</td> <td> 0.000</td> <td>    0.002</td> <td>    0.004</td>\n",
              "</tr>\n",
              "<tr>\n",
              "  <th>key_2</th>                         <td>    0.0009</td> <td>    0.001</td> <td>    1.821</td> <td> 0.069</td> <td>-6.93e-05</td> <td>    0.002</td>\n",
              "</tr>\n",
              "<tr>\n",
              "  <th>key_3</th>                         <td>-4.252e-05</td> <td>    0.000</td> <td>   -0.100</td> <td> 0.921</td> <td>   -0.001</td> <td>    0.001</td>\n",
              "</tr>\n",
              "<tr>\n",
              "  <th>key_4</th>                         <td>    0.0007</td> <td>    0.000</td> <td>    1.441</td> <td> 0.150</td> <td>   -0.000</td> <td>    0.002</td>\n",
              "</tr>\n",
              "<tr>\n",
              "  <th>key_5</th>                         <td>   -0.0010</td> <td>    0.000</td> <td>   -1.972</td> <td> 0.049</td> <td>   -0.002</td> <td>-5.79e-06</td>\n",
              "</tr>\n",
              "<tr>\n",
              "  <th>key_6</th>                         <td>    0.0012</td> <td>    0.000</td> <td>    2.534</td> <td> 0.011</td> <td>    0.000</td> <td>    0.002</td>\n",
              "</tr>\n",
              "<tr>\n",
              "  <th>key_7</th>                         <td>    0.0009</td> <td>    0.001</td> <td>    1.755</td> <td> 0.079</td> <td>   -0.000</td> <td>    0.002</td>\n",
              "</tr>\n",
              "<tr>\n",
              "  <th>key_8</th>                         <td>    0.0012</td> <td>    0.000</td> <td>    2.587</td> <td> 0.010</td> <td>    0.000</td> <td>    0.002</td>\n",
              "</tr>\n",
              "<tr>\n",
              "  <th>key_9</th>                         <td>    0.0013</td> <td>    0.001</td> <td>    2.641</td> <td> 0.008</td> <td>    0.000</td> <td>    0.002</td>\n",
              "</tr>\n",
              "<tr>\n",
              "  <th>key_10</th>                        <td>    0.0025</td> <td>    0.000</td> <td>    5.329</td> <td> 0.000</td> <td>    0.002</td> <td>    0.003</td>\n",
              "</tr>\n",
              "<tr>\n",
              "  <th>key_11</th>                        <td>    0.0023</td> <td>    0.000</td> <td>    4.779</td> <td> 0.000</td> <td>    0.001</td> <td>    0.003</td>\n",
              "</tr>\n",
              "<tr>\n",
              "  <th>time_signature_1</th>              <td>    0.0261</td> <td>    0.001</td> <td>   25.481</td> <td> 0.000</td> <td>    0.024</td> <td>    0.028</td>\n",
              "</tr>\n",
              "<tr>\n",
              "  <th>time_signature_3</th>              <td>    0.0738</td> <td>    0.003</td> <td>   25.720</td> <td> 0.000</td> <td>    0.068</td> <td>    0.079</td>\n",
              "</tr>\n",
              "<tr>\n",
              "  <th>time_signature_4</th>              <td>    0.0934</td> <td>    0.003</td> <td>   28.833</td> <td> 0.000</td> <td>    0.087</td> <td>    0.100</td>\n",
              "</tr>\n",
              "<tr>\n",
              "  <th>time_signature_5</th>              <td>    0.0333</td> <td>    0.001</td> <td>   24.688</td> <td> 0.000</td> <td>    0.031</td> <td>    0.036</td>\n",
              "</tr>\n",
              "<tr>\n",
              "  <th>track_genre_afrobeat</th>          <td>    0.0083</td> <td>    0.001</td> <td>   15.064</td> <td> 0.000</td> <td>    0.007</td> <td>    0.009</td>\n",
              "</tr>\n",
              "<tr>\n",
              "  <th>track_genre_alt-rock</th>          <td>    0.0088</td> <td>    0.001</td> <td>   16.113</td> <td> 0.000</td> <td>    0.008</td> <td>    0.010</td>\n",
              "</tr>\n",
              "<tr>\n",
              "  <th>track_genre_alternative</th>       <td>    0.0059</td> <td>    0.001</td> <td>   10.844</td> <td> 0.000</td> <td>    0.005</td> <td>    0.007</td>\n",
              "</tr>\n",
              "<tr>\n",
              "  <th>track_genre_ambient</th>           <td>    0.0073</td> <td>    0.001</td> <td>   13.203</td> <td> 0.000</td> <td>    0.006</td> <td>    0.008</td>\n",
              "</tr>\n",
              "<tr>\n",
              "  <th>track_genre_anime</th>             <td>    0.0078</td> <td>    0.001</td> <td>   14.447</td> <td> 0.000</td> <td>    0.007</td> <td>    0.009</td>\n",
              "</tr>\n",
              "<tr>\n",
              "  <th>track_genre_black-metal</th>       <td>    0.0170</td> <td>    0.001</td> <td>   30.311</td> <td> 0.000</td> <td>    0.016</td> <td>    0.018</td>\n",
              "</tr>\n",
              "<tr>\n",
              "  <th>track_genre_bluegrass</th>         <td>    0.0049</td> <td>    0.001</td> <td>    9.076</td> <td> 0.000</td> <td>    0.004</td> <td>    0.006</td>\n",
              "</tr>\n",
              "<tr>\n",
              "  <th>track_genre_blues</th>             <td>    0.0047</td> <td>    0.001</td> <td>    8.719</td> <td> 0.000</td> <td>    0.004</td> <td>    0.006</td>\n",
              "</tr>\n",
              "<tr>\n",
              "  <th>track_genre_brazil</th>            <td>    0.0043</td> <td>    0.001</td> <td>    7.983</td> <td> 0.000</td> <td>    0.003</td> <td>    0.005</td>\n",
              "</tr>\n",
              "<tr>\n",
              "  <th>track_genre_breakbeat</th>         <td>    0.0137</td> <td>    0.001</td> <td>   24.662</td> <td> 0.000</td> <td>    0.013</td> <td>    0.015</td>\n",
              "</tr>\n",
              "<tr>\n",
              "  <th>track_genre_british</th>           <td>    0.0041</td> <td>    0.001</td> <td>    7.619</td> <td> 0.000</td> <td>    0.003</td> <td>    0.005</td>\n",
              "</tr>\n",
              "<tr>\n",
              "  <th>track_genre_cantopop</th>          <td>    0.0022</td> <td>    0.001</td> <td>    4.188</td> <td> 0.000</td> <td>    0.001</td> <td>    0.003</td>\n",
              "</tr>\n",
              "<tr>\n",
              "  <th>track_genre_chicago-house</th>     <td>    0.0100</td> <td>    0.001</td> <td>   18.008</td> <td> 0.000</td> <td>    0.009</td> <td>    0.011</td>\n",
              "</tr>\n",
              "<tr>\n",
              "  <th>track_genre_children</th>          <td>    0.0003</td> <td>    0.001</td> <td>    0.609</td> <td> 0.543</td> <td>   -0.001</td> <td>    0.001</td>\n",
              "</tr>\n",
              "<tr>\n",
              "  <th>track_genre_chill</th>             <td>    0.0002</td> <td>    0.001</td> <td>    0.304</td> <td> 0.761</td> <td>   -0.001</td> <td>    0.001</td>\n",
              "</tr>\n",
              "<tr>\n",
              "  <th>track_genre_classical</th>         <td>    0.0064</td> <td>    0.001</td> <td>   11.500</td> <td> 0.000</td> <td>    0.005</td> <td>    0.007</td>\n",
              "</tr>\n",
              "<tr>\n",
              "  <th>track_genre_club</th>              <td>    0.0084</td> <td>    0.001</td> <td>   15.333</td> <td> 0.000</td> <td>    0.007</td> <td>    0.009</td>\n",
              "</tr>\n",
              "<tr>\n",
              "  <th>track_genre_comedy</th>            <td>    0.0138</td> <td>    0.001</td> <td>   21.674</td> <td> 0.000</td> <td>    0.013</td> <td>    0.015</td>\n",
              "</tr>\n",
              "<tr>\n",
              "  <th>track_genre_country</th>           <td>    0.0021</td> <td>    0.001</td> <td>    3.929</td> <td> 0.000</td> <td>    0.001</td> <td>    0.003</td>\n",
              "</tr>\n",
              "<tr>\n",
              "  <th>track_genre_dance</th>             <td>    0.0035</td> <td>    0.001</td> <td>    6.542</td> <td> 0.000</td> <td>    0.002</td> <td>    0.005</td>\n",
              "</tr>\n",
              "<tr>\n",
              "  <th>track_genre_dancehall</th>         <td>    0.0035</td> <td>    0.001</td> <td>    6.383</td> <td> 0.000</td> <td>    0.002</td> <td>    0.005</td>\n",
              "</tr>\n",
              "<tr>\n",
              "  <th>track_genre_death-metal</th>       <td>    0.0192</td> <td>    0.001</td> <td>   34.787</td> <td> 0.000</td> <td>    0.018</td> <td>    0.020</td>\n",
              "</tr>\n",
              "<tr>\n",
              "  <th>track_genre_deep-house</th>        <td>    0.0104</td> <td>    0.001</td> <td>   19.162</td> <td> 0.000</td> <td>    0.009</td> <td>    0.011</td>\n",
              "</tr>\n",
              "<tr>\n",
              "  <th>track_genre_detroit-techno</th>    <td>    0.0130</td> <td>    0.001</td> <td>   23.124</td> <td> 0.000</td> <td>    0.012</td> <td>    0.014</td>\n",
              "</tr>\n",
              "<tr>\n",
              "  <th>track_genre_disco</th>             <td>    0.0104</td> <td>    0.001</td> <td>   19.018</td> <td> 0.000</td> <td>    0.009</td> <td>    0.011</td>\n",
              "</tr>\n",
              "<tr>\n",
              "  <th>track_genre_disney</th>            <td>    0.0027</td> <td>    0.001</td> <td>    4.977</td> <td> 0.000</td> <td>    0.002</td> <td>    0.004</td>\n",
              "</tr>\n",
              "<tr>\n",
              "  <th>track_genre_drum-and-bass</th>     <td>    0.0114</td> <td>    0.001</td> <td>   20.565</td> <td> 0.000</td> <td>    0.010</td> <td>    0.012</td>\n",
              "</tr>\n",
              "<tr>\n",
              "  <th>track_genre_dub</th>               <td>    0.0062</td> <td>    0.001</td> <td>   11.337</td> <td> 0.000</td> <td>    0.005</td> <td>    0.007</td>\n",
              "</tr>\n",
              "<tr>\n",
              "  <th>track_genre_dubstep</th>           <td>    0.0080</td> <td>    0.001</td> <td>   14.839</td> <td> 0.000</td> <td>    0.007</td> <td>    0.009</td>\n",
              "</tr>\n",
              "<tr>\n",
              "  <th>track_genre_edm</th>               <td>    0.0081</td> <td>    0.001</td> <td>   15.001</td> <td> 0.000</td> <td>    0.007</td> <td>    0.009</td>\n",
              "</tr>\n",
              "<tr>\n",
              "  <th>track_genre_electro</th>           <td>    0.0043</td> <td>    0.001</td> <td>    7.935</td> <td> 0.000</td> <td>    0.003</td> <td>    0.005</td>\n",
              "</tr>\n",
              "<tr>\n",
              "  <th>track_genre_electronic</th>        <td>    0.0081</td> <td>    0.001</td> <td>   14.807</td> <td> 0.000</td> <td>    0.007</td> <td>    0.009</td>\n",
              "</tr>\n",
              "<tr>\n",
              "  <th>track_genre_emo</th>               <td>    0.0055</td> <td>    0.001</td> <td>   10.238</td> <td> 0.000</td> <td>    0.004</td> <td>    0.007</td>\n",
              "</tr>\n",
              "<tr>\n",
              "  <th>track_genre_folk</th>              <td>    0.0059</td> <td>    0.001</td> <td>   11.007</td> <td> 0.000</td> <td>    0.005</td> <td>    0.007</td>\n",
              "</tr>\n",
              "<tr>\n",
              "  <th>track_genre_forro</th>             <td>    0.0123</td> <td>    0.001</td> <td>   22.894</td> <td> 0.000</td> <td>    0.011</td> <td>    0.013</td>\n",
              "</tr>\n",
              "<tr>\n",
              "  <th>track_genre_french</th>            <td>    0.0068</td> <td>    0.001</td> <td>   12.485</td> <td> 0.000</td> <td>    0.006</td> <td>    0.008</td>\n",
              "</tr>\n",
              "<tr>\n",
              "  <th>track_genre_funk</th>              <td>    0.0016</td> <td>    0.001</td> <td>    2.979</td> <td> 0.003</td> <td>    0.001</td> <td>    0.003</td>\n",
              "</tr>\n",
              "<tr>\n",
              "  <th>track_genre_garage</th>            <td>    0.0079</td> <td>    0.001</td> <td>   14.583</td> <td> 0.000</td> <td>    0.007</td> <td>    0.009</td>\n",
              "</tr>\n",
              "<tr>\n",
              "  <th>track_genre_german</th>            <td>    0.0064</td> <td>    0.001</td> <td>   11.901</td> <td> 0.000</td> <td>    0.005</td> <td>    0.007</td>\n",
              "</tr>\n",
              "<tr>\n",
              "  <th>track_genre_gospel</th>            <td>    0.0022</td> <td>    0.001</td> <td>    4.037</td> <td> 0.000</td> <td>    0.001</td> <td>    0.003</td>\n",
              "</tr>\n",
              "<tr>\n",
              "  <th>track_genre_goth</th>              <td>    0.0098</td> <td>    0.001</td> <td>   18.152</td> <td> 0.000</td> <td>    0.009</td> <td>    0.011</td>\n",
              "</tr>\n",
              "<tr>\n",
              "  <th>track_genre_grindcore</th>         <td>    0.0172</td> <td>    0.001</td> <td>   30.587</td> <td> 0.000</td> <td>    0.016</td> <td>    0.018</td>\n",
              "</tr>\n",
              "<tr>\n",
              "  <th>track_genre_groove</th>            <td>    0.0108</td> <td>    0.001</td> <td>   19.824</td> <td> 0.000</td> <td>    0.010</td> <td>    0.012</td>\n",
              "</tr>\n",
              "<tr>\n",
              "  <th>track_genre_grunge</th>            <td>    0.0110</td> <td>    0.001</td> <td>   20.210</td> <td> 0.000</td> <td>    0.010</td> <td>    0.012</td>\n",
              "</tr>\n",
              "<tr>\n",
              "  <th>track_genre_guitar</th>            <td>    0.0025</td> <td>    0.001</td> <td>    4.512</td> <td> 0.000</td> <td>    0.001</td> <td>    0.004</td>\n",
              "</tr>\n",
              "<tr>\n",
              "  <th>track_genre_happy</th>             <td>    0.0180</td> <td>    0.001</td> <td>   32.777</td> <td> 0.000</td> <td>    0.017</td> <td>    0.019</td>\n",
              "</tr>\n",
              "<tr>\n",
              "  <th>track_genre_hard-rock</th>         <td>    0.0123</td> <td>    0.001</td> <td>   22.513</td> <td> 0.000</td> <td>    0.011</td> <td>    0.013</td>\n",
              "</tr>\n",
              "<tr>\n",
              "  <th>track_genre_hardcore</th>          <td>    0.0124</td> <td>    0.001</td> <td>   22.847</td> <td> 0.000</td> <td>    0.011</td> <td>    0.013</td>\n",
              "</tr>\n",
              "<tr>\n",
              "  <th>track_genre_hardstyle</th>         <td>    0.0162</td> <td>    0.001</td> <td>   29.347</td> <td> 0.000</td> <td>    0.015</td> <td>    0.017</td>\n",
              "</tr>\n",
              "<tr>\n",
              "  <th>track_genre_heavy-metal</th>       <td>    0.0153</td> <td>    0.001</td> <td>   27.965</td> <td> 0.000</td> <td>    0.014</td> <td>    0.016</td>\n",
              "</tr>\n",
              "<tr>\n",
              "  <th>track_genre_hip-hop</th>           <td>    0.0038</td> <td>    0.001</td> <td>    6.914</td> <td> 0.000</td> <td>    0.003</td> <td>    0.005</td>\n",
              "</tr>\n",
              "<tr>\n",
              "  <th>track_genre_honky-tonk</th>        <td>   -0.0003</td> <td>    0.001</td> <td>   -0.585</td> <td> 0.558</td> <td>   -0.001</td> <td>    0.001</td>\n",
              "</tr>\n",
              "<tr>\n",
              "  <th>track_genre_house</th>             <td>    0.0076</td> <td>    0.001</td> <td>   14.015</td> <td> 0.000</td> <td>    0.007</td> <td>    0.009</td>\n",
              "</tr>\n",
              "<tr>\n",
              "  <th>track_genre_idm</th>               <td>    0.0099</td> <td>    0.001</td> <td>   18.039</td> <td> 0.000</td> <td>    0.009</td> <td>    0.011</td>\n",
              "</tr>\n",
              "<tr>\n",
              "  <th>track_genre_indian</th>            <td>    0.0082</td> <td>    0.001</td> <td>   15.189</td> <td> 0.000</td> <td>    0.007</td> <td>    0.009</td>\n",
              "</tr>\n",
              "<tr>\n",
              "  <th>track_genre_indie</th>             <td>    0.0035</td> <td>    0.001</td> <td>    6.457</td> <td> 0.000</td> <td>    0.002</td> <td>    0.005</td>\n",
              "</tr>\n",
              "<tr>\n",
              "  <th>track_genre_indie-pop</th>         <td>    0.0032</td> <td>    0.001</td> <td>    5.870</td> <td> 0.000</td> <td>    0.002</td> <td>    0.004</td>\n",
              "</tr>\n",
              "<tr>\n",
              "  <th>track_genre_industrial</th>        <td>    0.0155</td> <td>    0.001</td> <td>   28.336</td> <td> 0.000</td> <td>    0.014</td> <td>    0.017</td>\n",
              "</tr>\n",
              "<tr>\n",
              "  <th>track_genre_iranian</th>           <td>    0.0115</td> <td>    0.001</td> <td>   20.803</td> <td> 0.000</td> <td>    0.010</td> <td>    0.013</td>\n",
              "</tr>\n",
              "<tr>\n",
              "  <th>track_genre_j-dance</th>           <td>    0.0051</td> <td>    0.001</td> <td>    9.250</td> <td> 0.000</td> <td>    0.004</td> <td>    0.006</td>\n",
              "</tr>\n",
              "<tr>\n",
              "  <th>track_genre_j-idol</th>            <td>    0.0121</td> <td>    0.001</td> <td>   22.148</td> <td> 0.000</td> <td>    0.011</td> <td>    0.013</td>\n",
              "</tr>\n",
              "<tr>\n",
              "  <th>track_genre_j-pop</th>             <td>    0.0056</td> <td>    0.001</td> <td>   10.367</td> <td> 0.000</td> <td>    0.005</td> <td>    0.007</td>\n",
              "</tr>\n",
              "<tr>\n",
              "  <th>track_genre_j-rock</th>            <td>    0.0084</td> <td>    0.001</td> <td>   15.544</td> <td> 0.000</td> <td>    0.007</td> <td>    0.009</td>\n",
              "</tr>\n",
              "<tr>\n",
              "  <th>track_genre_jazz</th>              <td>   -0.0012</td> <td>    0.001</td> <td>   -2.212</td> <td> 0.027</td> <td>   -0.002</td> <td>   -0.000</td>\n",
              "</tr>\n",
              "<tr>\n",
              "  <th>track_genre_k-pop</th>             <td>    0.0065</td> <td>    0.001</td> <td>   12.082</td> <td> 0.000</td> <td>    0.005</td> <td>    0.008</td>\n",
              "</tr>\n",
              "<tr>\n",
              "  <th>track_genre_kids</th>              <td>    0.0020</td> <td>    0.001</td> <td>    3.575</td> <td> 0.000</td> <td>    0.001</td> <td>    0.003</td>\n",
              "</tr>\n",
              "<tr>\n",
              "  <th>track_genre_latin</th>             <td>    0.0051</td> <td>    0.001</td> <td>    9.365</td> <td> 0.000</td> <td>    0.004</td> <td>    0.006</td>\n",
              "</tr>\n",
              "<tr>\n",
              "  <th>track_genre_latino</th>            <td>    0.0056</td> <td>    0.001</td> <td>   10.245</td> <td> 0.000</td> <td>    0.005</td> <td>    0.007</td>\n",
              "</tr>\n",
              "<tr>\n",
              "  <th>track_genre_malay</th>             <td>    0.0057</td> <td>    0.001</td> <td>   10.547</td> <td> 0.000</td> <td>    0.005</td> <td>    0.007</td>\n",
              "</tr>\n",
              "<tr>\n",
              "  <th>track_genre_mandopop</th>          <td>    0.0018</td> <td>    0.001</td> <td>    3.404</td> <td> 0.001</td> <td>    0.001</td> <td>    0.003</td>\n",
              "</tr>\n",
              "<tr>\n",
              "  <th>track_genre_metal</th>             <td>    0.0134</td> <td>    0.001</td> <td>   24.434</td> <td> 0.000</td> <td>    0.012</td> <td>    0.014</td>\n",
              "</tr>\n",
              "<tr>\n",
              "  <th>track_genre_metalcore</th>         <td>    0.0168</td> <td>    0.001</td> <td>   30.563</td> <td> 0.000</td> <td>    0.016</td> <td>    0.018</td>\n",
              "</tr>\n",
              "<tr>\n",
              "  <th>track_genre_minimal-techno</th>    <td>    0.0106</td> <td>    0.001</td> <td>   18.899</td> <td> 0.000</td> <td>    0.010</td> <td>    0.012</td>\n",
              "</tr>\n",
              "<tr>\n",
              "  <th>track_genre_mpb</th>               <td>    0.0053</td> <td>    0.001</td> <td>    9.975</td> <td> 0.000</td> <td>    0.004</td> <td>    0.006</td>\n",
              "</tr>\n",
              "<tr>\n",
              "  <th>track_genre_new-age</th>           <td>    0.0046</td> <td>    0.001</td> <td>    8.366</td> <td> 0.000</td> <td>    0.004</td> <td>    0.006</td>\n",
              "</tr>\n",
              "<tr>\n",
              "  <th>track_genre_opera</th>             <td>    0.0038</td> <td>    0.001</td> <td>    6.939</td> <td> 0.000</td> <td>    0.003</td> <td>    0.005</td>\n",
              "</tr>\n",
              "<tr>\n",
              "  <th>track_genre_pagode</th>            <td>    0.0120</td> <td>    0.001</td> <td>   22.102</td> <td> 0.000</td> <td>    0.011</td> <td>    0.013</td>\n",
              "</tr>\n",
              "<tr>\n",
              "  <th>track_genre_party</th>             <td>    0.0120</td> <td>    0.001</td> <td>   21.877</td> <td> 0.000</td> <td>    0.011</td> <td>    0.013</td>\n",
              "</tr>\n",
              "<tr>\n",
              "  <th>track_genre_piano</th>             <td>    0.0089</td> <td>    0.001</td> <td>   16.508</td> <td> 0.000</td> <td>    0.008</td> <td>    0.010</td>\n",
              "</tr>\n",
              "<tr>\n",
              "  <th>track_genre_pop</th>               <td>    0.0035</td> <td>    0.001</td> <td>    6.419</td> <td> 0.000</td> <td>    0.002</td> <td>    0.005</td>\n",
              "</tr>\n",
              "<tr>\n",
              "  <th>track_genre_pop-film</th>          <td>    0.0079</td> <td>    0.001</td> <td>   14.543</td> <td> 0.000</td> <td>    0.007</td> <td>    0.009</td>\n",
              "</tr>\n",
              "<tr>\n",
              "  <th>track_genre_power-pop</th>         <td>    0.0107</td> <td>    0.001</td> <td>   19.626</td> <td> 0.000</td> <td>    0.010</td> <td>    0.012</td>\n",
              "</tr>\n",
              "<tr>\n",
              "  <th>track_genre_progressive-house</th> <td>    0.0125</td> <td>    0.001</td> <td>   22.976</td> <td> 0.000</td> <td>    0.011</td> <td>    0.014</td>\n",
              "</tr>\n",
              "<tr>\n",
              "  <th>track_genre_psych-rock</th>        <td>    0.0036</td> <td>    0.001</td> <td>    6.742</td> <td> 0.000</td> <td>    0.003</td> <td>    0.005</td>\n",
              "</tr>\n",
              "<tr>\n",
              "  <th>track_genre_punk</th>              <td>    0.0109</td> <td>    0.001</td> <td>   19.973</td> <td> 0.000</td> <td>    0.010</td> <td>    0.012</td>\n",
              "</tr>\n",
              "<tr>\n",
              "  <th>track_genre_punk-rock</th>         <td>    0.0106</td> <td>    0.001</td> <td>   19.510</td> <td> 0.000</td> <td>    0.010</td> <td>    0.012</td>\n",
              "</tr>\n",
              "<tr>\n",
              "  <th>track_genre_r-n-b</th>             <td>    0.0059</td> <td>    0.001</td> <td>   10.937</td> <td> 0.000</td> <td>    0.005</td> <td>    0.007</td>\n",
              "</tr>\n",
              "<tr>\n",
              "  <th>track_genre_reggae</th>            <td>    0.0040</td> <td>    0.001</td> <td>    7.448</td> <td> 0.000</td> <td>    0.003</td> <td>    0.005</td>\n",
              "</tr>\n",
              "<tr>\n",
              "  <th>track_genre_reggaeton</th>         <td>    0.0049</td> <td>    0.001</td> <td>    9.055</td> <td> 0.000</td> <td>    0.004</td> <td>    0.006</td>\n",
              "</tr>\n",
              "<tr>\n",
              "  <th>track_genre_rock</th>              <td>    0.0047</td> <td>    0.001</td> <td>    8.789</td> <td> 0.000</td> <td>    0.004</td> <td>    0.006</td>\n",
              "</tr>\n",
              "<tr>\n",
              "  <th>track_genre_rock-n-roll</th>       <td>    0.0037</td> <td>    0.001</td> <td>    6.955</td> <td> 0.000</td> <td>    0.003</td> <td>    0.005</td>\n",
              "</tr>\n",
              "<tr>\n",
              "  <th>track_genre_rockabilly</th>        <td>    0.0095</td> <td>    0.001</td> <td>   17.591</td> <td> 0.000</td> <td>    0.008</td> <td>    0.011</td>\n",
              "</tr>\n",
              "<tr>\n",
              "  <th>track_genre_romance</th>           <td>    0.0016</td> <td>    0.001</td> <td>    2.862</td> <td> 0.004</td> <td>    0.000</td> <td>    0.003</td>\n",
              "</tr>\n",
              "<tr>\n",
              "  <th>track_genre_sad</th>               <td>    0.0016</td> <td>    0.001</td> <td>    2.898</td> <td> 0.004</td> <td>    0.001</td> <td>    0.003</td>\n",
              "</tr>\n",
              "<tr>\n",
              "  <th>track_genre_salsa</th>             <td>    0.0132</td> <td>    0.001</td> <td>   24.157</td> <td> 0.000</td> <td>    0.012</td> <td>    0.014</td>\n",
              "</tr>\n",
              "<tr>\n",
              "  <th>track_genre_samba</th>             <td>    0.0103</td> <td>    0.001</td> <td>   19.210</td> <td> 0.000</td> <td>    0.009</td> <td>    0.011</td>\n",
              "</tr>\n",
              "<tr>\n",
              "  <th>track_genre_sertanejo</th>         <td>    0.0068</td> <td>    0.001</td> <td>   12.534</td> <td> 0.000</td> <td>    0.006</td> <td>    0.008</td>\n",
              "</tr>\n",
              "<tr>\n",
              "  <th>track_genre_show-tunes</th>        <td>   -0.0006</td> <td>    0.001</td> <td>   -1.053</td> <td> 0.292</td> <td>   -0.002</td> <td>    0.000</td>\n",
              "</tr>\n",
              "<tr>\n",
              "  <th>track_genre_singer-songwriter</th> <td>    0.0011</td> <td>    0.001</td> <td>    1.985</td> <td> 0.047</td> <td> 1.36e-05</td> <td>    0.002</td>\n",
              "</tr>\n",
              "<tr>\n",
              "  <th>track_genre_ska</th>               <td>    0.0098</td> <td>    0.001</td> <td>   17.908</td> <td> 0.000</td> <td>    0.009</td> <td>    0.011</td>\n",
              "</tr>\n",
              "<tr>\n",
              "  <th>track_genre_sleep</th>             <td>    0.0291</td> <td>    0.001</td> <td>   48.966</td> <td> 0.000</td> <td>    0.028</td> <td>    0.030</td>\n",
              "</tr>\n",
              "<tr>\n",
              "  <th>track_genre_songwriter</th>        <td>    0.0007</td> <td>    0.001</td> <td>    1.246</td> <td> 0.213</td> <td>   -0.000</td> <td>    0.002</td>\n",
              "</tr>\n",
              "<tr>\n",
              "  <th>track_genre_soul</th>              <td>    0.0010</td> <td>    0.001</td> <td>    1.894</td> <td> 0.058</td> <td>-3.56e-05</td> <td>    0.002</td>\n",
              "</tr>\n",
              "<tr>\n",
              "  <th>track_genre_spanish</th>           <td>    0.0082</td> <td>    0.001</td> <td>   15.195</td> <td> 0.000</td> <td>    0.007</td> <td>    0.009</td>\n",
              "</tr>\n",
              "<tr>\n",
              "  <th>track_genre_study</th>             <td>   -0.0047</td> <td>    0.001</td> <td>   -8.461</td> <td> 0.000</td> <td>   -0.006</td> <td>   -0.004</td>\n",
              "</tr>\n",
              "<tr>\n",
              "  <th>track_genre_swedish</th>           <td>    0.0056</td> <td>    0.001</td> <td>   10.425</td> <td> 0.000</td> <td>    0.005</td> <td>    0.007</td>\n",
              "</tr>\n",
              "<tr>\n",
              "  <th>track_genre_synth-pop</th>         <td>    0.0103</td> <td>    0.001</td> <td>   19.094</td> <td> 0.000</td> <td>    0.009</td> <td>    0.011</td>\n",
              "</tr>\n",
              "<tr>\n",
              "  <th>track_genre_tango</th>             <td>   -0.0025</td> <td>    0.001</td> <td>   -4.681</td> <td> 0.000</td> <td>   -0.004</td> <td>   -0.001</td>\n",
              "</tr>\n",
              "<tr>\n",
              "  <th>track_genre_techno</th>            <td>    0.0130</td> <td>    0.001</td> <td>   23.414</td> <td> 0.000</td> <td>    0.012</td> <td>    0.014</td>\n",
              "</tr>\n",
              "<tr>\n",
              "  <th>track_genre_trance</th>            <td>    0.0155</td> <td>    0.001</td> <td>   28.209</td> <td> 0.000</td> <td>    0.014</td> <td>    0.017</td>\n",
              "</tr>\n",
              "<tr>\n",
              "  <th>track_genre_trip-hop</th>          <td>    0.0050</td> <td>    0.001</td> <td>    9.115</td> <td> 0.000</td> <td>    0.004</td> <td>    0.006</td>\n",
              "</tr>\n",
              "<tr>\n",
              "  <th>track_genre_turkish</th>           <td>    0.0057</td> <td>    0.001</td> <td>   10.466</td> <td> 0.000</td> <td>    0.005</td> <td>    0.007</td>\n",
              "</tr>\n",
              "<tr>\n",
              "  <th>track_genre_world-music</th>       <td>    0.0024</td> <td>    0.001</td> <td>    4.368</td> <td> 0.000</td> <td>    0.001</td> <td>    0.003</td>\n",
              "</tr>\n",
              "<tr>\n",
              "  <th>mode_1</th>                        <td>   -0.0029</td> <td>    0.000</td> <td>   -6.994</td> <td> 0.000</td> <td>   -0.004</td> <td>   -0.002</td>\n",
              "</tr>\n",
              "</table>\n",
              "<table class=\"simpletable\">\n",
              "<tr>\n",
              "  <th>Omnibus:</th>       <td>4359.340</td> <th>  Durbin-Watson:     </th> <td>   1.995</td> \n",
              "</tr>\n",
              "<tr>\n",
              "  <th>Prob(Omnibus):</th>  <td> 0.000</td>  <th>  Jarque-Bera (JB):  </th> <td>16849.487</td>\n",
              "</tr>\n",
              "<tr>\n",
              "  <th>Skew:</th>           <td>-0.045</td>  <th>  Prob(JB):          </th> <td>    0.00</td> \n",
              "</tr>\n",
              "<tr>\n",
              "  <th>Kurtosis:</th>       <td> 5.173</td>  <th>  Cond. No.          </th> <td>    22.1</td> \n",
              "</tr>\n",
              "</table><br/><br/>Notes:<br/>[1] Standard Errors assume that the covariance matrix of the errors is correctly specified."
            ],
            "text/latex": "\\begin{center}\n\\begin{tabular}{lclc}\n\\toprule\n\\textbf{Dep. Variable:}                  &      energy      & \\textbf{  R-squared:         } &     0.804   \\\\\n\\textbf{Model:}                          &       OLS        & \\textbf{  Adj. R-squared:    } &     0.803   \\\\\n\\textbf{Method:}                         &  Least Squares   & \\textbf{  F-statistic:       } &     2496.   \\\\\n\\textbf{Date:}                           & Mon, 23 Oct 2023 & \\textbf{  Prob (F-statistic):} &     0.00    \\\\\n\\textbf{Time:}                           &     19:30:47     & \\textbf{  Log-Likelihood:    } &    66185.   \\\\\n\\textbf{No. Observations:}               &       85500      & \\textbf{  AIC:               } & -1.321e+05  \\\\\n\\textbf{Df Residuals:}                   &       85359      & \\textbf{  BIC:               } & -1.308e+05  \\\\\n\\textbf{Df Model:}                       &         140      & \\textbf{                     } &             \\\\\n\\textbf{Covariance Type:}                &    nonrobust     & \\textbf{                     } &             \\\\\n\\bottomrule\n\\end{tabular}\n\\begin{tabular}{lcccccc}\n                                         & \\textbf{coef} & \\textbf{std err} & \\textbf{t} & \\textbf{P$> |$t$|$} & \\textbf{[0.025} & \\textbf{0.975]}  \\\\\n\\midrule\n\\textbf{const}                           &       0.6420  &        0.000     &  1681.062  &         0.000        &        0.641    &        0.643     \\\\\n\\textbf{popularity}                      &      -0.0032  &        0.000     &    -7.182  &         0.000        &       -0.004    &       -0.002     \\\\\n\\textbf{duration\\_ms}                    &       0.0010  &        0.000     &     2.430  &         0.015        &        0.000    &        0.002     \\\\\n\\textbf{danceability}                    &      -0.0219  &        0.001     &   -38.212  &         0.000        &       -0.023    &       -0.021     \\\\\n\\textbf{loudness}                        &       0.1353  &        0.001     &   222.671  &         0.000        &        0.134    &        0.136     \\\\\n\\textbf{speechiness}                     &       0.0224  &        0.001     &    42.230  &         0.000        &        0.021    &        0.023     \\\\\n\\textbf{acousticness}                    &      -0.0825  &        0.001     &  -136.857  &         0.000        &       -0.084    &       -0.081     \\\\\n\\textbf{instrumentalness}                &       0.0240  &        0.001     &    43.681  &         0.000        &        0.023    &        0.025     \\\\\n\\textbf{liveness}                        &       0.0203  &        0.000     &    47.873  &         0.000        &        0.019    &        0.021     \\\\\n\\textbf{valence}                         &       0.0410  &        0.001     &    79.093  &         0.000        &        0.040    &        0.042     \\\\\n\\textbf{tempo}                           &       0.0060  &        0.000     &    14.368  &         0.000        &        0.005    &        0.007     \\\\\n\\textbf{explicit\\_True}                  &      -0.0025  &        0.000     &    -5.891  &         0.000        &       -0.003    &       -0.002     \\\\\n\\textbf{key\\_1}                          &       0.0033  &        0.000     &     6.639  &         0.000        &        0.002    &        0.004     \\\\\n\\textbf{key\\_2}                          &       0.0009  &        0.001     &     1.821  &         0.069        &    -6.93e-05    &        0.002     \\\\\n\\textbf{key\\_3}                          &   -4.252e-05  &        0.000     &    -0.100  &         0.921        &       -0.001    &        0.001     \\\\\n\\textbf{key\\_4}                          &       0.0007  &        0.000     &     1.441  &         0.150        &       -0.000    &        0.002     \\\\\n\\textbf{key\\_5}                          &      -0.0010  &        0.000     &    -1.972  &         0.049        &       -0.002    &    -5.79e-06     \\\\\n\\textbf{key\\_6}                          &       0.0012  &        0.000     &     2.534  &         0.011        &        0.000    &        0.002     \\\\\n\\textbf{key\\_7}                          &       0.0009  &        0.001     &     1.755  &         0.079        &       -0.000    &        0.002     \\\\\n\\textbf{key\\_8}                          &       0.0012  &        0.000     &     2.587  &         0.010        &        0.000    &        0.002     \\\\\n\\textbf{key\\_9}                          &       0.0013  &        0.001     &     2.641  &         0.008        &        0.000    &        0.002     \\\\\n\\textbf{key\\_10}                         &       0.0025  &        0.000     &     5.329  &         0.000        &        0.002    &        0.003     \\\\\n\\textbf{key\\_11}                         &       0.0023  &        0.000     &     4.779  &         0.000        &        0.001    &        0.003     \\\\\n\\textbf{time\\_signature\\_1}              &       0.0261  &        0.001     &    25.481  &         0.000        &        0.024    &        0.028     \\\\\n\\textbf{time\\_signature\\_3}              &       0.0738  &        0.003     &    25.720  &         0.000        &        0.068    &        0.079     \\\\\n\\textbf{time\\_signature\\_4}              &       0.0934  &        0.003     &    28.833  &         0.000        &        0.087    &        0.100     \\\\\n\\textbf{time\\_signature\\_5}              &       0.0333  &        0.001     &    24.688  &         0.000        &        0.031    &        0.036     \\\\\n\\textbf{track\\_genre\\_afrobeat}          &       0.0083  &        0.001     &    15.064  &         0.000        &        0.007    &        0.009     \\\\\n\\textbf{track\\_genre\\_alt-rock}          &       0.0088  &        0.001     &    16.113  &         0.000        &        0.008    &        0.010     \\\\\n\\textbf{track\\_genre\\_alternative}       &       0.0059  &        0.001     &    10.844  &         0.000        &        0.005    &        0.007     \\\\\n\\textbf{track\\_genre\\_ambient}           &       0.0073  &        0.001     &    13.203  &         0.000        &        0.006    &        0.008     \\\\\n\\textbf{track\\_genre\\_anime}             &       0.0078  &        0.001     &    14.447  &         0.000        &        0.007    &        0.009     \\\\\n\\textbf{track\\_genre\\_black-metal}       &       0.0170  &        0.001     &    30.311  &         0.000        &        0.016    &        0.018     \\\\\n\\textbf{track\\_genre\\_bluegrass}         &       0.0049  &        0.001     &     9.076  &         0.000        &        0.004    &        0.006     \\\\\n\\textbf{track\\_genre\\_blues}             &       0.0047  &        0.001     &     8.719  &         0.000        &        0.004    &        0.006     \\\\\n\\textbf{track\\_genre\\_brazil}            &       0.0043  &        0.001     &     7.983  &         0.000        &        0.003    &        0.005     \\\\\n\\textbf{track\\_genre\\_breakbeat}         &       0.0137  &        0.001     &    24.662  &         0.000        &        0.013    &        0.015     \\\\\n\\textbf{track\\_genre\\_british}           &       0.0041  &        0.001     &     7.619  &         0.000        &        0.003    &        0.005     \\\\\n\\textbf{track\\_genre\\_cantopop}          &       0.0022  &        0.001     &     4.188  &         0.000        &        0.001    &        0.003     \\\\\n\\textbf{track\\_genre\\_chicago-house}     &       0.0100  &        0.001     &    18.008  &         0.000        &        0.009    &        0.011     \\\\\n\\textbf{track\\_genre\\_children}          &       0.0003  &        0.001     &     0.609  &         0.543        &       -0.001    &        0.001     \\\\\n\\textbf{track\\_genre\\_chill}             &       0.0002  &        0.001     &     0.304  &         0.761        &       -0.001    &        0.001     \\\\\n\\textbf{track\\_genre\\_classical}         &       0.0064  &        0.001     &    11.500  &         0.000        &        0.005    &        0.007     \\\\\n\\textbf{track\\_genre\\_club}              &       0.0084  &        0.001     &    15.333  &         0.000        &        0.007    &        0.009     \\\\\n\\textbf{track\\_genre\\_comedy}            &       0.0138  &        0.001     &    21.674  &         0.000        &        0.013    &        0.015     \\\\\n\\textbf{track\\_genre\\_country}           &       0.0021  &        0.001     &     3.929  &         0.000        &        0.001    &        0.003     \\\\\n\\textbf{track\\_genre\\_dance}             &       0.0035  &        0.001     &     6.542  &         0.000        &        0.002    &        0.005     \\\\\n\\textbf{track\\_genre\\_dancehall}         &       0.0035  &        0.001     &     6.383  &         0.000        &        0.002    &        0.005     \\\\\n\\textbf{track\\_genre\\_death-metal}       &       0.0192  &        0.001     &    34.787  &         0.000        &        0.018    &        0.020     \\\\\n\\textbf{track\\_genre\\_deep-house}        &       0.0104  &        0.001     &    19.162  &         0.000        &        0.009    &        0.011     \\\\\n\\textbf{track\\_genre\\_detroit-techno}    &       0.0130  &        0.001     &    23.124  &         0.000        &        0.012    &        0.014     \\\\\n\\textbf{track\\_genre\\_disco}             &       0.0104  &        0.001     &    19.018  &         0.000        &        0.009    &        0.011     \\\\\n\\textbf{track\\_genre\\_disney}            &       0.0027  &        0.001     &     4.977  &         0.000        &        0.002    &        0.004     \\\\\n\\textbf{track\\_genre\\_drum-and-bass}     &       0.0114  &        0.001     &    20.565  &         0.000        &        0.010    &        0.012     \\\\\n\\textbf{track\\_genre\\_dub}               &       0.0062  &        0.001     &    11.337  &         0.000        &        0.005    &        0.007     \\\\\n\\textbf{track\\_genre\\_dubstep}           &       0.0080  &        0.001     &    14.839  &         0.000        &        0.007    &        0.009     \\\\\n\\textbf{track\\_genre\\_edm}               &       0.0081  &        0.001     &    15.001  &         0.000        &        0.007    &        0.009     \\\\\n\\textbf{track\\_genre\\_electro}           &       0.0043  &        0.001     &     7.935  &         0.000        &        0.003    &        0.005     \\\\\n\\textbf{track\\_genre\\_electronic}        &       0.0081  &        0.001     &    14.807  &         0.000        &        0.007    &        0.009     \\\\\n\\textbf{track\\_genre\\_emo}               &       0.0055  &        0.001     &    10.238  &         0.000        &        0.004    &        0.007     \\\\\n\\textbf{track\\_genre\\_folk}              &       0.0059  &        0.001     &    11.007  &         0.000        &        0.005    &        0.007     \\\\\n\\textbf{track\\_genre\\_forro}             &       0.0123  &        0.001     &    22.894  &         0.000        &        0.011    &        0.013     \\\\\n\\textbf{track\\_genre\\_french}            &       0.0068  &        0.001     &    12.485  &         0.000        &        0.006    &        0.008     \\\\\n\\textbf{track\\_genre\\_funk}              &       0.0016  &        0.001     &     2.979  &         0.003        &        0.001    &        0.003     \\\\\n\\textbf{track\\_genre\\_garage}            &       0.0079  &        0.001     &    14.583  &         0.000        &        0.007    &        0.009     \\\\\n\\textbf{track\\_genre\\_german}            &       0.0064  &        0.001     &    11.901  &         0.000        &        0.005    &        0.007     \\\\\n\\textbf{track\\_genre\\_gospel}            &       0.0022  &        0.001     &     4.037  &         0.000        &        0.001    &        0.003     \\\\\n\\textbf{track\\_genre\\_goth}              &       0.0098  &        0.001     &    18.152  &         0.000        &        0.009    &        0.011     \\\\\n\\textbf{track\\_genre\\_grindcore}         &       0.0172  &        0.001     &    30.587  &         0.000        &        0.016    &        0.018     \\\\\n\\textbf{track\\_genre\\_groove}            &       0.0108  &        0.001     &    19.824  &         0.000        &        0.010    &        0.012     \\\\\n\\textbf{track\\_genre\\_grunge}            &       0.0110  &        0.001     &    20.210  &         0.000        &        0.010    &        0.012     \\\\\n\\textbf{track\\_genre\\_guitar}            &       0.0025  &        0.001     &     4.512  &         0.000        &        0.001    &        0.004     \\\\\n\\textbf{track\\_genre\\_happy}             &       0.0180  &        0.001     &    32.777  &         0.000        &        0.017    &        0.019     \\\\\n\\textbf{track\\_genre\\_hard-rock}         &       0.0123  &        0.001     &    22.513  &         0.000        &        0.011    &        0.013     \\\\\n\\textbf{track\\_genre\\_hardcore}          &       0.0124  &        0.001     &    22.847  &         0.000        &        0.011    &        0.013     \\\\\n\\textbf{track\\_genre\\_hardstyle}         &       0.0162  &        0.001     &    29.347  &         0.000        &        0.015    &        0.017     \\\\\n\\textbf{track\\_genre\\_heavy-metal}       &       0.0153  &        0.001     &    27.965  &         0.000        &        0.014    &        0.016     \\\\\n\\textbf{track\\_genre\\_hip-hop}           &       0.0038  &        0.001     &     6.914  &         0.000        &        0.003    &        0.005     \\\\\n\\textbf{track\\_genre\\_honky-tonk}        &      -0.0003  &        0.001     &    -0.585  &         0.558        &       -0.001    &        0.001     \\\\\n\\textbf{track\\_genre\\_house}             &       0.0076  &        0.001     &    14.015  &         0.000        &        0.007    &        0.009     \\\\\n\\textbf{track\\_genre\\_idm}               &       0.0099  &        0.001     &    18.039  &         0.000        &        0.009    &        0.011     \\\\\n\\textbf{track\\_genre\\_indian}            &       0.0082  &        0.001     &    15.189  &         0.000        &        0.007    &        0.009     \\\\\n\\textbf{track\\_genre\\_indie}             &       0.0035  &        0.001     &     6.457  &         0.000        &        0.002    &        0.005     \\\\\n\\textbf{track\\_genre\\_indie-pop}         &       0.0032  &        0.001     &     5.870  &         0.000        &        0.002    &        0.004     \\\\\n\\textbf{track\\_genre\\_industrial}        &       0.0155  &        0.001     &    28.336  &         0.000        &        0.014    &        0.017     \\\\\n\\textbf{track\\_genre\\_iranian}           &       0.0115  &        0.001     &    20.803  &         0.000        &        0.010    &        0.013     \\\\\n\\textbf{track\\_genre\\_j-dance}           &       0.0051  &        0.001     &     9.250  &         0.000        &        0.004    &        0.006     \\\\\n\\textbf{track\\_genre\\_j-idol}            &       0.0121  &        0.001     &    22.148  &         0.000        &        0.011    &        0.013     \\\\\n\\textbf{track\\_genre\\_j-pop}             &       0.0056  &        0.001     &    10.367  &         0.000        &        0.005    &        0.007     \\\\\n\\textbf{track\\_genre\\_j-rock}            &       0.0084  &        0.001     &    15.544  &         0.000        &        0.007    &        0.009     \\\\\n\\textbf{track\\_genre\\_jazz}              &      -0.0012  &        0.001     &    -2.212  &         0.027        &       -0.002    &       -0.000     \\\\\n\\textbf{track\\_genre\\_k-pop}             &       0.0065  &        0.001     &    12.082  &         0.000        &        0.005    &        0.008     \\\\\n\\textbf{track\\_genre\\_kids}              &       0.0020  &        0.001     &     3.575  &         0.000        &        0.001    &        0.003     \\\\\n\\textbf{track\\_genre\\_latin}             &       0.0051  &        0.001     &     9.365  &         0.000        &        0.004    &        0.006     \\\\\n\\textbf{track\\_genre\\_latino}            &       0.0056  &        0.001     &    10.245  &         0.000        &        0.005    &        0.007     \\\\\n\\textbf{track\\_genre\\_malay}             &       0.0057  &        0.001     &    10.547  &         0.000        &        0.005    &        0.007     \\\\\n\\textbf{track\\_genre\\_mandopop}          &       0.0018  &        0.001     &     3.404  &         0.001        &        0.001    &        0.003     \\\\\n\\textbf{track\\_genre\\_metal}             &       0.0134  &        0.001     &    24.434  &         0.000        &        0.012    &        0.014     \\\\\n\\textbf{track\\_genre\\_metalcore}         &       0.0168  &        0.001     &    30.563  &         0.000        &        0.016    &        0.018     \\\\\n\\textbf{track\\_genre\\_minimal-techno}    &       0.0106  &        0.001     &    18.899  &         0.000        &        0.010    &        0.012     \\\\\n\\textbf{track\\_genre\\_mpb}               &       0.0053  &        0.001     &     9.975  &         0.000        &        0.004    &        0.006     \\\\\n\\textbf{track\\_genre\\_new-age}           &       0.0046  &        0.001     &     8.366  &         0.000        &        0.004    &        0.006     \\\\\n\\textbf{track\\_genre\\_opera}             &       0.0038  &        0.001     &     6.939  &         0.000        &        0.003    &        0.005     \\\\\n\\textbf{track\\_genre\\_pagode}            &       0.0120  &        0.001     &    22.102  &         0.000        &        0.011    &        0.013     \\\\\n\\textbf{track\\_genre\\_party}             &       0.0120  &        0.001     &    21.877  &         0.000        &        0.011    &        0.013     \\\\\n\\textbf{track\\_genre\\_piano}             &       0.0089  &        0.001     &    16.508  &         0.000        &        0.008    &        0.010     \\\\\n\\textbf{track\\_genre\\_pop}               &       0.0035  &        0.001     &     6.419  &         0.000        &        0.002    &        0.005     \\\\\n\\textbf{track\\_genre\\_pop-film}          &       0.0079  &        0.001     &    14.543  &         0.000        &        0.007    &        0.009     \\\\\n\\textbf{track\\_genre\\_power-pop}         &       0.0107  &        0.001     &    19.626  &         0.000        &        0.010    &        0.012     \\\\\n\\textbf{track\\_genre\\_progressive-house} &       0.0125  &        0.001     &    22.976  &         0.000        &        0.011    &        0.014     \\\\\n\\textbf{track\\_genre\\_psych-rock}        &       0.0036  &        0.001     &     6.742  &         0.000        &        0.003    &        0.005     \\\\\n\\textbf{track\\_genre\\_punk}              &       0.0109  &        0.001     &    19.973  &         0.000        &        0.010    &        0.012     \\\\\n\\textbf{track\\_genre\\_punk-rock}         &       0.0106  &        0.001     &    19.510  &         0.000        &        0.010    &        0.012     \\\\\n\\textbf{track\\_genre\\_r-n-b}             &       0.0059  &        0.001     &    10.937  &         0.000        &        0.005    &        0.007     \\\\\n\\textbf{track\\_genre\\_reggae}            &       0.0040  &        0.001     &     7.448  &         0.000        &        0.003    &        0.005     \\\\\n\\textbf{track\\_genre\\_reggaeton}         &       0.0049  &        0.001     &     9.055  &         0.000        &        0.004    &        0.006     \\\\\n\\textbf{track\\_genre\\_rock}              &       0.0047  &        0.001     &     8.789  &         0.000        &        0.004    &        0.006     \\\\\n\\textbf{track\\_genre\\_rock-n-roll}       &       0.0037  &        0.001     &     6.955  &         0.000        &        0.003    &        0.005     \\\\\n\\textbf{track\\_genre\\_rockabilly}        &       0.0095  &        0.001     &    17.591  &         0.000        &        0.008    &        0.011     \\\\\n\\textbf{track\\_genre\\_romance}           &       0.0016  &        0.001     &     2.862  &         0.004        &        0.000    &        0.003     \\\\\n\\textbf{track\\_genre\\_sad}               &       0.0016  &        0.001     &     2.898  &         0.004        &        0.001    &        0.003     \\\\\n\\textbf{track\\_genre\\_salsa}             &       0.0132  &        0.001     &    24.157  &         0.000        &        0.012    &        0.014     \\\\\n\\textbf{track\\_genre\\_samba}             &       0.0103  &        0.001     &    19.210  &         0.000        &        0.009    &        0.011     \\\\\n\\textbf{track\\_genre\\_sertanejo}         &       0.0068  &        0.001     &    12.534  &         0.000        &        0.006    &        0.008     \\\\\n\\textbf{track\\_genre\\_show-tunes}        &      -0.0006  &        0.001     &    -1.053  &         0.292        &       -0.002    &        0.000     \\\\\n\\textbf{track\\_genre\\_singer-songwriter} &       0.0011  &        0.001     &     1.985  &         0.047        &     1.36e-05    &        0.002     \\\\\n\\textbf{track\\_genre\\_ska}               &       0.0098  &        0.001     &    17.908  &         0.000        &        0.009    &        0.011     \\\\\n\\textbf{track\\_genre\\_sleep}             &       0.0291  &        0.001     &    48.966  &         0.000        &        0.028    &        0.030     \\\\\n\\textbf{track\\_genre\\_songwriter}        &       0.0007  &        0.001     &     1.246  &         0.213        &       -0.000    &        0.002     \\\\\n\\textbf{track\\_genre\\_soul}              &       0.0010  &        0.001     &     1.894  &         0.058        &    -3.56e-05    &        0.002     \\\\\n\\textbf{track\\_genre\\_spanish}           &       0.0082  &        0.001     &    15.195  &         0.000        &        0.007    &        0.009     \\\\\n\\textbf{track\\_genre\\_study}             &      -0.0047  &        0.001     &    -8.461  &         0.000        &       -0.006    &       -0.004     \\\\\n\\textbf{track\\_genre\\_swedish}           &       0.0056  &        0.001     &    10.425  &         0.000        &        0.005    &        0.007     \\\\\n\\textbf{track\\_genre\\_synth-pop}         &       0.0103  &        0.001     &    19.094  &         0.000        &        0.009    &        0.011     \\\\\n\\textbf{track\\_genre\\_tango}             &      -0.0025  &        0.001     &    -4.681  &         0.000        &       -0.004    &       -0.001     \\\\\n\\textbf{track\\_genre\\_techno}            &       0.0130  &        0.001     &    23.414  &         0.000        &        0.012    &        0.014     \\\\\n\\textbf{track\\_genre\\_trance}            &       0.0155  &        0.001     &    28.209  &         0.000        &        0.014    &        0.017     \\\\\n\\textbf{track\\_genre\\_trip-hop}          &       0.0050  &        0.001     &     9.115  &         0.000        &        0.004    &        0.006     \\\\\n\\textbf{track\\_genre\\_turkish}           &       0.0057  &        0.001     &    10.466  &         0.000        &        0.005    &        0.007     \\\\\n\\textbf{track\\_genre\\_world-music}       &       0.0024  &        0.001     &     4.368  &         0.000        &        0.001    &        0.003     \\\\\n\\textbf{mode\\_1}                         &      -0.0029  &        0.000     &    -6.994  &         0.000        &       -0.004    &       -0.002     \\\\\n\\bottomrule\n\\end{tabular}\n\\begin{tabular}{lclc}\n\\textbf{Omnibus:}       & 4359.340 & \\textbf{  Durbin-Watson:     } &     1.995  \\\\\n\\textbf{Prob(Omnibus):} &   0.000  & \\textbf{  Jarque-Bera (JB):  } & 16849.487  \\\\\n\\textbf{Skew:}          &  -0.045  & \\textbf{  Prob(JB):          } &      0.00  \\\\\n\\textbf{Kurtosis:}      &   5.173  & \\textbf{  Cond. No.          } &      22.1  \\\\\n\\bottomrule\n\\end{tabular}\n%\\caption{OLS Regression Results}\n\\end{center}\n\nNotes: \\newline\n [1] Standard Errors assume that the covariance matrix of the errors is correctly specified."
          },
          "metadata": {},
          "execution_count": 22
        }
      ]
    },
    {
      "cell_type": "code",
      "source": [
        "model_params = stats_models_cat[\"LinearReggression\"].params\n",
        "model_pvalues = stats_models_cat[\"LinearReggression\"].pvalues"
      ],
      "metadata": {
        "id": "nrdBgdunx6Li"
      },
      "execution_count": 23,
      "outputs": []
    },
    {
      "cell_type": "code",
      "source": [
        "model_params[abs(model_params) < 1E-6]"
      ],
      "metadata": {
        "colab": {
          "base_uri": "https://localhost:8080/"
        },
        "id": "qWgbGat-yHls",
        "outputId": "68f5cfda-cb56-445c-a22b-b1d55d6ccfd8"
      },
      "execution_count": 24,
      "outputs": [
        {
          "output_type": "execute_result",
          "data": {
            "text/plain": [
              "Series([], dtype: float64)"
            ]
          },
          "metadata": {},
          "execution_count": 24
        }
      ]
    },
    {
      "cell_type": "code",
      "source": [
        "model_pvalues[abs(model_pvalues) > 0.05]"
      ],
      "metadata": {
        "colab": {
          "base_uri": "https://localhost:8080/"
        },
        "id": "FOrPxp4QyOW1",
        "outputId": "c1e99b18-acb2-40d5-dab5-31160840a233"
      },
      "execution_count": 25,
      "outputs": [
        {
          "output_type": "execute_result",
          "data": {
            "text/plain": [
              "key_2                     0.068549\n",
              "key_3                     0.920559\n",
              "key_4                     0.149509\n",
              "key_7                     0.079212\n",
              "track_genre_children      0.542699\n",
              "track_genre_chill         0.760872\n",
              "track_genre_honky-tonk    0.558227\n",
              "track_genre_show-tunes    0.292337\n",
              "track_genre_songwriter    0.212717\n",
              "track_genre_soul          0.058169\n",
              "dtype: float64"
            ]
          },
          "metadata": {},
          "execution_count": 25
        }
      ]
    },
    {
      "cell_type": "markdown",
      "source": [
        "С закодированными категориальными признаками тоже не получили нулевых коэффициентов, однако 10 переменных стали незначимыми при $\\alpha = 0.05$. Prob (F-statistic):\t0.00 ⇒ модель также значима. $R^2$ вырос, что тоже хорошо  "
      ],
      "metadata": {
        "id": "L49n5-dYyU32"
      }
    },
    {
      "cell_type": "markdown",
      "source": [
        "Summary имплементирован только у LinearReggression из statsmodels, поэтому для всех остальных моделей посмотрим значений получившихся коэффициентов. $R^2$ у всех них не ниже 0.6, что в целом является неплохим результатом"
      ],
      "metadata": {
        "id": "VfCulR4MzMGs"
      }
    },
    {
      "cell_type": "code",
      "source": [
        "i, coefs = sklearn_models[\"LinearReggression\"].intercept_, sklearn_models[\"LinearReggression\"].coef_\n",
        "print(i, coefs)"
      ],
      "metadata": {
        "colab": {
          "base_uri": "https://localhost:8080/"
        },
        "id": "vJeB4FTE4if6",
        "outputId": "6f89b400-978a-4761-a927-0cbbfc352caf"
      },
      "execution_count": 26,
      "outputs": [
        {
          "output_type": "stream",
          "name": "stdout",
          "text": [
            "0.6420033217438598 [-0.00201958  0.00518748 -0.03145458  0.13568212  0.02743261 -0.1069128\n",
            "  0.03540285  0.02583874  0.04126599  0.00751454]\n"
          ]
        }
      ]
    },
    {
      "cell_type": "code",
      "source": [
        "i, coefs = sklearn_models_cat[\"LinearReggression\"].intercept_, sklearn_models_cat[\"LinearReggression\"].coef_\n",
        "print(i, coefs[abs(coefs) < 1E-6])"
      ],
      "metadata": {
        "colab": {
          "base_uri": "https://localhost:8080/"
        },
        "id": "yCfTBJF34i_X",
        "outputId": "75dbec5f-8db1-4891-b950-b6a812bd7405"
      },
      "execution_count": 27,
      "outputs": [
        {
          "output_type": "stream",
          "name": "stdout",
          "text": [
            "0.6420033217438598 []\n"
          ]
        }
      ]
    },
    {
      "cell_type": "markdown",
      "source": [
        "У модели из sklearn результат сильно похож на statsmodels. Только результат по $R^2$ получше"
      ],
      "metadata": {
        "id": "NxiT1vm742iQ"
      }
    },
    {
      "cell_type": "code",
      "source": [
        "stats_models[\"Ridge\"].params"
      ],
      "metadata": {
        "colab": {
          "base_uri": "https://localhost:8080/"
        },
        "id": "2sbeykpzcakw",
        "outputId": "55c8c600-f1e4-4877-8a1e-9981f94461f9"
      },
      "execution_count": 28,
      "outputs": [
        {
          "output_type": "execute_result",
          "data": {
            "text/plain": [
              "array([ 0.6233042 , -0.00225141,  0.00534436, -0.02847249,  0.13049524,\n",
              "        0.02637422, -0.10588113,  0.03185145,  0.02585905,  0.03902873,\n",
              "        0.00874872])"
            ]
          },
          "metadata": {},
          "execution_count": 28
        }
      ]
    },
    {
      "cell_type": "code",
      "source": [
        "stats_models_cat[\"Ridge\"].params\n",
        "model_params[abs(model_params) < 1E-6]"
      ],
      "metadata": {
        "colab": {
          "base_uri": "https://localhost:8080/"
        },
        "id": "wHL63jIBzofH",
        "outputId": "daa0b5d0-53bf-4706-c880-2a2bdb5f2055"
      },
      "execution_count": 29,
      "outputs": [
        {
          "output_type": "execute_result",
          "data": {
            "text/plain": [
              "Series([], dtype: float64)"
            ]
          },
          "metadata": {},
          "execution_count": 29
        }
      ]
    },
    {
      "cell_type": "markdown",
      "source": [
        "Нулевых коэффициентов нет у Ridge регрессии из statsmodels"
      ],
      "metadata": {
        "id": "b9ZKVpRWz2EF"
      }
    },
    {
      "cell_type": "code",
      "source": [
        "i, coefs = sklearn_models[\"Ridge\"].intercept_, sklearn_models[\"Ridge\"].coef_\n",
        "print(i, coefs)"
      ],
      "metadata": {
        "colab": {
          "base_uri": "https://localhost:8080/"
        },
        "id": "IxerFhjIz8O3",
        "outputId": "9cf2ac9b-3785-4546-a2b1-08a09b5cba39"
      },
      "execution_count": 30,
      "outputs": [
        {
          "output_type": "stream",
          "name": "stdout",
          "text": [
            "0.6420033217438598 [-0.00201959  0.00518749 -0.03145455  0.13568205  0.0274326  -0.10691279\n",
            "  0.03540281  0.02583874  0.04126596  0.00751456]\n"
          ]
        }
      ]
    },
    {
      "cell_type": "code",
      "source": [
        "i, coefs = sklearn_models_cat[\"Ridge\"].intercept_, sklearn_models_cat[\"Ridge\"].coef_\n",
        "print(i, coefs[abs(coefs) < 1E-6])"
      ],
      "metadata": {
        "colab": {
          "base_uri": "https://localhost:8080/"
        },
        "id": "fITKrD0O1GNJ",
        "outputId": "6b9feab8-7f58-47e4-ea8a-6d7c4eb2c6fb"
      },
      "execution_count": 31,
      "outputs": [
        {
          "output_type": "stream",
          "name": "stdout",
          "text": [
            "0.6420033217438598 []\n"
          ]
        }
      ]
    },
    {
      "cell_type": "markdown",
      "source": [
        "Аналогично у моделей из sklearn"
      ],
      "metadata": {
        "id": "LpUB9ryW1OpG"
      }
    },
    {
      "cell_type": "code",
      "source": [
        "stats_models[\"Lasso\"].params"
      ],
      "metadata": {
        "colab": {
          "base_uri": "https://localhost:8080/"
        },
        "id": "3IGtvDBoy_0V",
        "outputId": "3d2aebba-f617-496d-e338-6b2ea7bc59e7"
      },
      "execution_count": 32,
      "outputs": [
        {
          "output_type": "execute_result",
          "data": {
            "text/plain": [
              "const               0.592003\n",
              "popularity          0.000000\n",
              "duration_ms         0.000000\n",
              "danceability        0.000000\n",
              "loudness            0.095527\n",
              "speechiness         0.000000\n",
              "acousticness       -0.078565\n",
              "instrumentalness    0.000000\n",
              "liveness            0.000000\n",
              "valence             0.000000\n",
              "tempo               0.000000\n",
              "dtype: float64"
            ]
          },
          "metadata": {},
          "execution_count": 32
        }
      ]
    },
    {
      "cell_type": "code",
      "source": [
        "stats_models_cat[\"Lasso\"].params\n",
        "model_params[abs(model_params) < 1E-6]"
      ],
      "metadata": {
        "colab": {
          "base_uri": "https://localhost:8080/"
        },
        "id": "cKC09BK41UZ2",
        "outputId": "44fb4fc0-998e-4eaa-9ab5-3302c6d5089b"
      },
      "execution_count": 33,
      "outputs": [
        {
          "output_type": "execute_result",
          "data": {
            "text/plain": [
              "Series([], dtype: float64)"
            ]
          },
          "metadata": {},
          "execution_count": 33
        }
      ]
    },
    {
      "cell_type": "markdown",
      "source": [
        "У Lasso появляются нулевые веса. Это связано с регуляризацией"
      ],
      "metadata": {
        "id": "gvQhJ5Hf1mv2"
      }
    },
    {
      "cell_type": "code",
      "source": [
        "i, coefs = sklearn_models[\"Lasso\"].intercept_, sklearn_models[\"Lasso\"].coef_\n",
        "print(i, coefs)"
      ],
      "metadata": {
        "colab": {
          "base_uri": "https://localhost:8080/"
        },
        "id": "ZmzOgidiXpQV",
        "outputId": "32bae996-0fd3-448f-89a4-769cc0567f8c"
      },
      "execution_count": 34,
      "outputs": [
        {
          "output_type": "stream",
          "name": "stdout",
          "text": [
            "0.6420033217438597 [-0.          0.         -0.          0.09552992  0.         -0.0785626\n",
            "  0.          0.          0.          0.        ]\n"
          ]
        }
      ]
    },
    {
      "cell_type": "code",
      "source": [
        "i, coefs = sklearn_models_cat[\"Lasso\"].intercept_, sklearn_models_cat[\"Lasso\"].coef_\n",
        "print(i, coefs[abs(coefs) < 1E-6])"
      ],
      "metadata": {
        "colab": {
          "base_uri": "https://localhost:8080/"
        },
        "id": "GylweFdiXtr_",
        "outputId": "814ca776-b900-444f-a228-bf6fd2238762"
      },
      "execution_count": 35,
      "outputs": [
        {
          "output_type": "stream",
          "name": "stdout",
          "text": [
            "0.6420033217438597 [-0.  0. -0.  0.  0.  0.  0.  0.  0.  0. -0. -0. -0. -0.  0. -0.  0.  0.\n",
            "  0.  0. -0. -0.  0. -0.  0.  0. -0. -0.  0.  0. -0. -0. -0.  0. -0. -0.\n",
            "  0. -0. -0. -0.  0.  0. -0. -0. -0.  0.  0.  0.  0. -0.  0. -0.  0.  0.\n",
            " -0. -0. -0. -0.  0. -0. -0.  0. -0. -0.  0.  0.  0.  0. -0.  0.  0.  0.\n",
            "  0.  0. -0. -0.  0.  0. -0. -0. -0.  0.  0.  0.  0. -0.  0. -0. -0. -0.\n",
            " -0. -0. -0. -0.  0.  0.  0. -0. -0. -0.  0.  0. -0. -0. -0.  0.  0. -0.\n",
            "  0.  0.  0. -0. -0. -0. -0.  0. -0. -0.  0.  0.  0. -0. -0.  0.  0. -0.\n",
            " -0.  0. -0. -0.  0. -0.  0.  0. -0. -0. -0. -0.]\n"
          ]
        }
      ]
    },
    {
      "cell_type": "markdown",
      "source": [
        "У модели sklearn нулевые веса есть не только на данных без категориальных признаков"
      ],
      "metadata": {
        "id": "h6oPpnWT146S"
      }
    },
    {
      "cell_type": "code",
      "source": [
        "stats_models[\"ElasticNet\"].params"
      ],
      "metadata": {
        "colab": {
          "base_uri": "https://localhost:8080/"
        },
        "id": "r7n4Pb953XmR",
        "outputId": "599e17bc-e9bc-4b5f-b718-8a764ed61e19"
      },
      "execution_count": 36,
      "outputs": [
        {
          "output_type": "execute_result",
          "data": {
            "text/plain": [
              "const               0.634198\n",
              "popularity          0.000000\n",
              "duration_ms         0.001367\n",
              "danceability       -0.022598\n",
              "loudness            0.128941\n",
              "speechiness         0.022609\n",
              "acousticness       -0.105532\n",
              "instrumentalness    0.026797\n",
              "liveness            0.023973\n",
              "valence             0.031885\n",
              "tempo               0.006123\n",
              "dtype: float64"
            ]
          },
          "metadata": {},
          "execution_count": 36
        }
      ]
    },
    {
      "cell_type": "code",
      "source": [
        "stats_models_cat[\"ElasticNet\"].params\n",
        "model_params[abs(model_params) < 1E-6]"
      ],
      "metadata": {
        "colab": {
          "base_uri": "https://localhost:8080/"
        },
        "id": "PHDNmZ103cke",
        "outputId": "df1226f0-939d-4007-a875-099d7967bc74"
      },
      "execution_count": 37,
      "outputs": [
        {
          "output_type": "execute_result",
          "data": {
            "text/plain": [
              "Series([], dtype: float64)"
            ]
          },
          "metadata": {},
          "execution_count": 37
        }
      ]
    },
    {
      "cell_type": "markdown",
      "source": [
        "ElasticNet работает более избирательно, нулевые веса (в первом случае) есть, но их меньше чем у Lasso"
      ],
      "metadata": {
        "id": "dbJVaIak3i8x"
      }
    },
    {
      "cell_type": "code",
      "source": [
        "i, coefs = sklearn_models[\"ElasticNet\"].intercept_, sklearn_models[\"ElasticNet\"].coef_\n",
        "print(i, coefs)"
      ],
      "metadata": {
        "colab": {
          "base_uri": "https://localhost:8080/"
        },
        "id": "py5DYSD33sBB",
        "outputId": "cd9895c3-3f5d-4c1c-cf52-f573547943f9"
      },
      "execution_count": 38,
      "outputs": [
        {
          "output_type": "stream",
          "name": "stdout",
          "text": [
            "0.6420033217438598 [-0.          0.00136689 -0.02260264  0.12894748  0.02260992 -0.10552998\n",
            "  0.02679991  0.02397156  0.03188611  0.00612233]\n"
          ]
        }
      ]
    },
    {
      "cell_type": "code",
      "source": [
        "i, coefs = sklearn_models_cat[\"ElasticNet\"].intercept_, sklearn_models_cat[\"ElasticNet\"].coef_\n",
        "print(i, coefs[abs(coefs) < 1E-6])"
      ],
      "metadata": {
        "colab": {
          "base_uri": "https://localhost:8080/"
        },
        "id": "JAfdByfG33Yr",
        "outputId": "70ce5652-de45-4344-a6a1-45a7118ac3d0"
      },
      "execution_count": 39,
      "outputs": [
        {
          "output_type": "stream",
          "name": "stdout",
          "text": [
            "0.6420033217438598 [-0. -0.  0. -0. -0. -0. -0.  0. -0.  0.  0.  0.  0.  0. -0. -0.  0.  0.\n",
            " -0.  0.  0. -0. -0. -0. -0.  0.  0.  0. -0. -0.  0.  0. -0.  0. -0. -0.\n",
            "  0. -0.  0. -0. -0. -0.  0. -0.  0.  0.  0. -0. -0. -0.  0.  0. -0. -0.\n",
            " -0.  0. -0. -0. -0. -0.  0. -0. -0. -0.  0. -0.  0.  0. -0.  0.  0. -0.\n",
            " -0. -0. -0. -0.  0. -0.  0.  0.  0. -0.  0. -0. -0.]\n"
          ]
        }
      ]
    },
    {
      "cell_type": "markdown",
      "source": [
        "Аналогичная ситуация у модели из sklearn. В случае датасета с категориальными пременными нулевые веса есть в отличие от statsmodels"
      ],
      "metadata": {
        "id": "o1vSuoWj3-QM"
      }
    },
    {
      "cell_type": "markdown",
      "metadata": {
        "id": "yLcvGlUZy-Qt"
      },
      "source": [
        "#### 5. [1 балл] Реализуйте один из алгоритмов отбора признаков (Elimination by P-value, Forward elimination, Backward elimination), сделайте выводы."
      ]
    },
    {
      "cell_type": "code",
      "source": [
        "def pvalue_elimination(X, y, significance_level=0.05):\n",
        "    X = sm.add_constant(X)\n",
        "\n",
        "    ols = sm.OLS(y, X).fit()\n",
        "    highest_pvalue = np.max(ols.pvalues)\n",
        "\n",
        "    while highest_pvalue > significance_level:\n",
        "      idx = np.argmax(ols.pvalues)\n",
        "      X = X.drop(X.columns[idx], axis=1)\n",
        "\n",
        "      ols = sm.OLS(y, X).fit()\n",
        "      print(\"R2 score: {r2_score()}\")\n",
        "      highest_pvalue = np.max(ols.pvalues)\n",
        "\n",
        "    return X.iloc[: , 1:]\n"
      ],
      "metadata": {
        "id": "vNwrxZ078N1L"
      },
      "execution_count": 40,
      "outputs": []
    },
    {
      "cell_type": "code",
      "source": [
        "print(X_train.columns)\n",
        "res = pvalue_elimination(X_train, y_train)"
      ],
      "metadata": {
        "id": "cM4vWzKHoC4s",
        "colab": {
          "base_uri": "https://localhost:8080/"
        },
        "outputId": "1e24c376-cfce-4f4f-caca-8074539df07a"
      },
      "execution_count": 41,
      "outputs": [
        {
          "output_type": "stream",
          "name": "stdout",
          "text": [
            "Index(['popularity', 'duration_ms', 'danceability', 'loudness', 'speechiness',\n",
            "       'acousticness', 'instrumentalness', 'liveness', 'valence', 'tempo',\n",
            "       ...\n",
            "       'track_genre_study', 'track_genre_swedish', 'track_genre_synth-pop',\n",
            "       'track_genre_tango', 'track_genre_techno', 'track_genre_trance',\n",
            "       'track_genre_trip-hop', 'track_genre_turkish',\n",
            "       'track_genre_world-music', 'mode_1'],\n",
            "      dtype='object', length=140)\n",
            "R2 score: {r2_score()}\n",
            "R2 score: {r2_score()}\n",
            "R2 score: {r2_score()}\n",
            "R2 score: {r2_score()}\n",
            "R2 score: {r2_score()}\n",
            "R2 score: {r2_score()}\n",
            "R2 score: {r2_score()}\n",
            "R2 score: {r2_score()}\n",
            "R2 score: {r2_score()}\n",
            "R2 score: {r2_score()}\n",
            "R2 score: {r2_score()}\n",
            "R2 score: {r2_score()}\n"
          ]
        }
      ]
    },
    {
      "cell_type": "code",
      "source": [
        "res.columns"
      ],
      "metadata": {
        "colab": {
          "base_uri": "https://localhost:8080/"
        },
        "id": "DWPkZEu1oy5o",
        "outputId": "1d825586-9c76-4084-d2d7-acf3db55e152"
      },
      "execution_count": 42,
      "outputs": [
        {
          "output_type": "execute_result",
          "data": {
            "text/plain": [
              "Index(['popularity', 'duration_ms', 'danceability', 'loudness', 'speechiness',\n",
              "       'acousticness', 'instrumentalness', 'liveness', 'valence', 'tempo',\n",
              "       ...\n",
              "       'track_genre_study', 'track_genre_swedish', 'track_genre_synth-pop',\n",
              "       'track_genre_tango', 'track_genre_techno', 'track_genre_trance',\n",
              "       'track_genre_trip-hop', 'track_genre_turkish',\n",
              "       'track_genre_world-music', 'mode_1'],\n",
              "      dtype='object', length=128)"
            ]
          },
          "metadata": {},
          "execution_count": 42
        }
      ]
    },
    {
      "cell_type": "markdown",
      "source": [
        "С помощью алгоритма смогли отсеять 12 незначимых признаков"
      ],
      "metadata": {
        "id": "FtoXuM6QAht9"
      }
    },
    {
      "cell_type": "code",
      "source": [
        "def rmse_score(y, y_pred):\n",
        "    return np.sqrt(mean_squared_error(y, y_pred))"
      ],
      "metadata": {
        "id": "nC4Z3fHqskXP"
      },
      "execution_count": 43,
      "outputs": []
    },
    {
      "cell_type": "markdown",
      "metadata": {
        "id": "df0eQLdNy-Qt"
      },
      "source": [
        "#### 6. [1 балл] Найдите лучший (по RMSE) $\\alpha$ для регрессиии Lasso, используя кросс-валидацию на 5 фолдов. Вы должны выбрать значение из промежутка $[10^{-4}, 10^{3}]$."
      ]
    },
    {
      "cell_type": "markdown",
      "source": [
        "(Код написан по мотивам кода с семинаров)"
      ],
      "metadata": {
        "id": "LqVCM3DgXcmv"
      }
    },
    {
      "cell_type": "code",
      "execution_count": 44,
      "metadata": {
        "id": "JPoT3YHqy-Qt",
        "colab": {
          "base_uri": "https://localhost:8080/"
        },
        "outputId": "b2c67dc5-7c3e-422c-c012-96b10971b194"
      },
      "outputs": [
        {
          "output_type": "stream",
          "name": "stdout",
          "text": [
            "Best alpha = 0.0001\n"
          ]
        }
      ],
      "source": [
        "alphas = np.logspace(-4, 3, base=10)\n",
        "\n",
        "searcher = GridSearchCV(Lasso(), [{\"alpha\": alphas}], scoring=rmse_score, cv=5)\n",
        "searcher.fit(X_train_scaled, y_train)\n",
        "\n",
        "best_alpha = searcher.best_params_[\"alpha\"]\n",
        "print(\"Best alpha = %.4f\" % best_alpha)"
      ]
    },
    {
      "cell_type": "markdown",
      "metadata": {
        "id": "Q1PKinJUy-Qt"
      },
      "source": [
        "## Градиентный спуск\n",
        "\n",
        "#### 7. [3.5 балла] Имплементируйте  Ridge регрессию для MSE loss, обученную на градиентом спуске.\n",
        "\n",
        "\n",
        "Все вычисления должны быть векторизованы, а циклы Python можно использовать только для итераций градиентного спуска. В качестве критерия остановки необходимо использовать (одновременно):\n",
        "\n",
        "* проверка абсолютной нормы разницы весов на двух соседних итерациях (например, меньше некоторого малого числа порядка $10^{-6}$, заданного параметром `tolerance`);\n",
        "\n",
        "* достижение максимального количества итераций (например, 10000, заданного параметром `max_iter`).\n",
        "\n",
        "Вам необходимо выполнить:\n",
        "\n",
        "* Полный градиентный спуск:\n",
        "\n",
        "$$\n",
        "w_{k + 1} = w_{k} - \\eta_{k} \\nabla_{w} Q(w_{k}).\n",
        "$$\n",
        "\n",
        "* Стохастический градиентный спуск:\n",
        "\n",
        "$$\n",
        "w_{k + 1} = w_{k} - \\eta_{k} \\nabla_{w} q_{i_{k}}(w_{k}).\n",
        "$$\n",
        "\n",
        "$\\nabla_{w} q_{i_{k}}(w_{k}) \\, $ является оценкой градиента по набору объектов, выбранных случайным образом.\n",
        "\n",
        "* Momentum method:\n",
        "\n",
        "$$\n",
        "h_0 = 0, \\\\\n",
        "h_{k + 1} = \\alpha h_{k} + \\eta_k \\nabla_{w} Q(w_{k}), \\\\\n",
        "w_{k + 1} = w_{k} - h_{k + 1}.\n",
        "$$\n",
        "\n",
        "* Adagrad method:\n",
        "\n",
        "$$\n",
        "G_0 = 0, \\\\\n",
        "G_{k + 1} = G_{k} + (\\nabla_{w} Q(w_{k+1}))^2, \\\\\n",
        "w_{k + 1} = w_{k} - \\eta * \\frac{\\nabla_{w} Q(w_{k+1})}{\\sqrt{G_{k+1} + \\epsilon}}.\n",
        "$$\n",
        "\n",
        "Чтобы убедиться, что процесс оптимизации действительно выполняется, мы будем использовать атрибут класса `loss_history`. После вызова метода fit он должен содержать значения функции потерь для всех итераций, начиная с первой (до первого шага по антиградиенту).\n",
        "\n",
        "\n",
        "Вам нужно инициализировать веса случайным вектором из нормального распределения. Ниже приведен шаблон, который должен содержать код, реализующий все варианты моделей."
      ]
    },
    {
      "cell_type": "code",
      "execution_count": 45,
      "metadata": {
        "id": "oI39UzCLy-Qu"
      },
      "outputs": [],
      "source": [
        "from sklearn.base import BaseEstimator\n",
        "\n",
        "class LinReg(BaseEstimator):\n",
        "    def __init__(self, delta=1.0, gd_type='Momentum',\n",
        "                 tolerance=1e-4, max_iter=1000, w0=None, eta=1e-2, reg_cf=0.01, alpha=1e-3, epsilon=1e-6):\n",
        "        \"\"\"\n",
        "        gd_type: str\n",
        "            'GradientDescent', 'StochasticDescent', 'Momentum', 'Adagrad'\n",
        "        delta: float\n",
        "            proportion of object in a batch (for stochastic GD)\n",
        "        tolerance: float\n",
        "            for stopping gradient descent\n",
        "        max_iter: int\n",
        "            maximum number of steps in gradient descent\n",
        "        w0: np.array of shape (d)\n",
        "            init weights\n",
        "        eta: float\n",
        "            learning rate\n",
        "        alpha: float\n",
        "            momentum coefficient\n",
        "        reg_cf: float\n",
        "            regularization coefficient\n",
        "        epsilon: float\n",
        "            numerical stability\n",
        "        \"\"\"\n",
        "\n",
        "        self.delta = delta\n",
        "        self.gd_type = gd_type\n",
        "        self.tolerance = tolerance\n",
        "        self.max_iter = max_iter\n",
        "        self.w0 = w0\n",
        "        self.alpha = alpha\n",
        "        self.w = None\n",
        "        self.reg_cf = reg_cf\n",
        "        self.eta = eta\n",
        "        self.loss_history = None # list of loss function values at each training iteration\n",
        "        self.epsilon = epsilon\n",
        "\n",
        "    def fit(self, X, y):\n",
        "        \"\"\"\n",
        "        X: np.array of shape (l, d)\n",
        "        y: np.array of shape (l)\n",
        "        ---\n",
        "        output: self\n",
        "        \"\"\"\n",
        "        self.loss_history = []\n",
        "\n",
        "        self.w = self.w0\n",
        "        if (self.w0 is None):\n",
        "            self.w = np.random.normal(size=(X.shape[1]))\n",
        "        if (self.gd_type == \"Momentum\"):\n",
        "            self.calc_momentum(X, y)\n",
        "        elif (self.gd_type == \"Adagrad\"):\n",
        "            self.calc_adagrad(X, y)\n",
        "        else:\n",
        "            self.calc_stohastic_gradient_descent(X, y)\n",
        "\n",
        "\n",
        "        return self\n",
        "\n",
        "    def predict(self, X):\n",
        "        if self.w is None:\n",
        "            raise Exception('Not trained yet')\n",
        "\n",
        "        return np.dot(X, self.w)\n",
        "\n",
        "    def calc_gradient(self, X, y):\n",
        "        \"\"\"\n",
        "        X: np.array of shape (l, d) (l can be equal to 1 if stochastic)\n",
        "        y: np.array of shape (l)\n",
        "        ---\n",
        "        output: np.array of shape (d)\n",
        "        \"\"\"\n",
        "        if (self.gd_type != \"StochasticDescent\"):\n",
        "            self.delta = 1.0\n",
        "        n_objects = X.shape[0]\n",
        "        batch_size = int(self.delta * X.shape[0])\n",
        "        sample = np.random.randint(n_objects, size=batch_size)\n",
        "        return 2 * np.dot(X.iloc[sample].T, np.dot(X.iloc[sample], self.w) - y.iloc[sample]) / batch_size + 2 * self.reg_cf * self.w\n",
        "\n",
        "\n",
        "    def calc_stohastic_gradient_descent(self, X, y):\n",
        "        for i in range(self.max_iter):\n",
        "            self.loss_history.append(self.calc_loss(X, y))\n",
        "            diff = -self.eta * self.calc_gradient(X, y)\n",
        "            if np.all(np.abs(diff) <= self.tolerance):\n",
        "                break\n",
        "            self.w += diff\n",
        "\n",
        "    def calc_momentum(self, X, y):\n",
        "        h = 0\n",
        "        for i in range(self.max_iter):\n",
        "            self.loss_history.append(self.calc_loss(X, y))\n",
        "            h = self.alpha * h + self.eta * self.calc_gradient(X, y)\n",
        "            if np.all(np.abs(h) <= self.tolerance):\n",
        "                break\n",
        "            self.w -= h\n",
        "\n",
        "    def calc_adagrad(self, X, y):\n",
        "        G = 0\n",
        "        for i in range(self.max_iter):\n",
        "            self.loss_history.append(self.calc_loss(X, y))\n",
        "            gradient = self.calc_gradient(X, y)\n",
        "            G += gradient**2\n",
        "            diff = self.eta / np.sqrt(G + self.epsilon) * gradient\n",
        "            if np.all(np.abs(diff) <= self.tolerance):\n",
        "                break\n",
        "            self.w -= diff\n",
        "            self.loss_history.append(self.calc_loss(X, y))\n",
        "\n",
        "    def calc_loss(self, X, y):\n",
        "        \"\"\"\n",
        "        X: np.array of shape (l, d)\n",
        "        y: np.array of shape (l)\n",
        "        ---\n",
        "        output: float\n",
        "        \"\"\"\n",
        "        return np.mean((np.dot(X, self.w) - y) ** 2) + self.reg_cf * np.linalg.norm(self.w)**2"
      ]
    },
    {
      "cell_type": "markdown",
      "metadata": {
        "id": "1QQJEjGVy-Qu"
      },
      "source": [
        "#### 8. [1 балл] Натренируйте и провалидируйте \"ручные\" модели на тех же даннных, сравните качество с моделями из Sklearn и StatsModels. Исследуйте влияние параметров `max_iter` и `alpha` на процесс оптимизации. Соответствует ли оно вашим ожиданиям?"
      ]
    },
    {
      "cell_type": "code",
      "execution_count": 46,
      "metadata": {
        "id": "rIJNcxt_y-Qu"
      },
      "outputs": [],
      "source": [
        "y = data_without_categorical[\"energy\"]\n",
        "X = data_without_categorical.drop(\"energy\", axis=1)\n",
        "X_train, X_test, y_train, y_test = train_test_split(X, y, test_size=0.25, random_state=7)"
      ]
    },
    {
      "cell_type": "code",
      "source": [
        "scaler = StandardScaler()\n",
        "X_train_scaled = pd.DataFrame(scaler.fit_transform(X_train), index=X_train.index, columns=X_train.columns)\n",
        "X_test_scaled = pd.DataFrame(scaler.transform(X_test), index=X_test.index, columns=X_test.columns)\n",
        "\n",
        "X_train_const = sm.add_constant(X_train_scaled)\n",
        "X_test_const = sm.add_constant(X_test_scaled)"
      ],
      "metadata": {
        "id": "Oq1PJtAd-CED"
      },
      "execution_count": 47,
      "outputs": []
    },
    {
      "cell_type": "code",
      "source": [
        "model = LinReg(gd_type=\"GradientDescent\")\n",
        "model.fit(X_train_const, y_train)\n",
        "\n",
        "loss_gd = model.loss_history.copy()\n",
        "y_pred = model.predict(X_test_const)\n",
        "rmse = np.sqrt(mean_squared_error(y_test, y_pred))\n",
        "r2 = r2_score(y_test, y_pred)\n",
        "print(f\"RMSE: {rmse}, R2: {r2}\")"
      ],
      "metadata": {
        "colab": {
          "base_uri": "https://localhost:8080/"
        },
        "id": "3_0G4y04-Fh7",
        "outputId": "11948c80-72f3-4415-a26d-ff1f3551f12d"
      },
      "execution_count": 48,
      "outputs": [
        {
          "output_type": "stream",
          "name": "stdout",
          "text": [
            "RMSE: 0.12262910932357185, R2: 0.7606496094219793\n"
          ]
        }
      ]
    },
    {
      "cell_type": "code",
      "source": [
        "model = LinReg(gd_type=\"StochasticDescent\")\n",
        "model.fit(X_train_const, y_train)\n",
        "\n",
        "loss_sgd = model.loss_history.copy()\n",
        "\n",
        "y_pred = model.predict(X_test_const)\n",
        "rmse = np.sqrt(mean_squared_error(y_test, y_pred))\n",
        "r2 = r2_score(y_test, y_pred)\n",
        "print(f\"RMSE: {rmse}, R2: {r2}\")"
      ],
      "metadata": {
        "colab": {
          "base_uri": "https://localhost:8080/"
        },
        "id": "wS0_6DEl-ZAQ",
        "outputId": "a4485c2f-172c-476c-f201-0020e0be3f9f"
      },
      "execution_count": 49,
      "outputs": [
        {
          "output_type": "stream",
          "name": "stdout",
          "text": [
            "RMSE: 0.12255574136318846, R2: 0.7609359263801019\n"
          ]
        }
      ]
    },
    {
      "cell_type": "code",
      "source": [
        "model = LinReg(gd_type=\"Momentum\")\n",
        "model.fit(X_train_const, y_train)\n",
        "\n",
        "loss_momentum = model.loss_history.copy()\n",
        "\n",
        "y_pred = model.predict(X_test_const)\n",
        "rmse = np.sqrt(mean_squared_error(y_test, y_pred))\n",
        "r2 = r2_score(y_test, y_pred)\n",
        "print(f\"RMSE: {rmse}, R2: {r2}\")"
      ],
      "metadata": {
        "colab": {
          "base_uri": "https://localhost:8080/"
        },
        "id": "Qu0005vt-Z7G",
        "outputId": "e853f250-00e2-4b6b-9582-ccb10a70f087"
      },
      "execution_count": 50,
      "outputs": [
        {
          "output_type": "stream",
          "name": "stdout",
          "text": [
            "RMSE: 0.12258779020714711, R2: 0.7608108775020429\n"
          ]
        }
      ]
    },
    {
      "cell_type": "code",
      "source": [
        "model = LinReg(gd_type=\"Adagrad\", eta=1)\n",
        "model.fit(X_train_const, y_train)\n",
        "\n",
        "loss_adagrad = model.loss_history.copy()\n",
        "\n",
        "y_pred = model.predict(X_test_const)\n",
        "rmse = np.sqrt(mean_squared_error(y_test, y_pred))\n",
        "r2 = r2_score(y_test, y_pred)\n",
        "print(f\"RMSE: {rmse}, R2: {r2}\")"
      ],
      "metadata": {
        "colab": {
          "base_uri": "https://localhost:8080/"
        },
        "id": "8RoSiFIW-ala",
        "outputId": "d807dc30-195a-4c8a-fccf-ded61cb3b28b"
      },
      "execution_count": 51,
      "outputs": [
        {
          "output_type": "stream",
          "name": "stdout",
          "text": [
            "RMSE: 0.12203076976940162, R2: 0.7629796176944902\n"
          ]
        }
      ]
    },
    {
      "cell_type": "code",
      "source": [
        "y = data_encoded[\"energy\"]\n",
        "X = data_encoded.drop(\"energy\", axis=1)\n",
        "X_train, X_test, y_train, y_test = train_test_split(X, y, test_size=0.25, random_state=7)"
      ],
      "metadata": {
        "id": "jYz_oVwQ-nSs"
      },
      "execution_count": 52,
      "outputs": []
    },
    {
      "cell_type": "code",
      "source": [
        "scaler = StandardScaler()\n",
        "X_train_scaled = pd.DataFrame(scaler.fit_transform(X_train), index=X_train.index, columns=X_train.columns)\n",
        "X_test_scaled = pd.DataFrame(scaler.transform(X_test), index=X_test.index, columns=X_test.columns)\n",
        "\n",
        "X_train_const = sm.add_constant(X_train_scaled)\n",
        "X_test_const = sm.add_constant(X_test_scaled)"
      ],
      "metadata": {
        "id": "Q6yqo7Bn-stO"
      },
      "execution_count": 53,
      "outputs": []
    },
    {
      "cell_type": "code",
      "source": [
        "model = LinReg(gd_type=\"GradientDescent\")\n",
        "model.fit(X_train_const, y_train)\n",
        "\n",
        "loss_gd_cat = model.loss_history.copy()\n",
        "\n",
        "y_pred = model.predict(X_test_const)\n",
        "rmse = np.sqrt(mean_squared_error(y_test, y_pred))\n",
        "r2 = r2_score(y_test, y_pred)\n",
        "print(f\"RMSE: {rmse}, R2: {r2}\")"
      ],
      "metadata": {
        "colab": {
          "base_uri": "https://localhost:8080/"
        },
        "id": "-4Yvu3wC-wJI",
        "outputId": "063687ac-9c26-4be8-b773-eba047540677"
      },
      "execution_count": 54,
      "outputs": [
        {
          "output_type": "stream",
          "name": "stdout",
          "text": [
            "RMSE: 0.12375616154905388, R2: 0.7562297772853409\n"
          ]
        }
      ]
    },
    {
      "cell_type": "code",
      "source": [
        "model = LinReg(gd_type=\"StochasticDescent\")\n",
        "model.fit(X_train_const, y_train)\n",
        "\n",
        "loss_sgd_cat = model.loss_history.copy()\n",
        "\n",
        "y_pred = model.predict(X_test_const)\n",
        "rmse = np.sqrt(mean_squared_error(y_test, y_pred))\n",
        "r2 = r2_score(y_test, y_pred)\n",
        "print(f\"RMSE: {rmse}, R2: {r2}\")"
      ],
      "metadata": {
        "colab": {
          "base_uri": "https://localhost:8080/"
        },
        "id": "CQbm9elA-x0M",
        "outputId": "29554eba-9ea7-4691-ac81-3d6bd03d6687"
      },
      "execution_count": 55,
      "outputs": [
        {
          "output_type": "stream",
          "name": "stdout",
          "text": [
            "RMSE: 0.14557553475365323, R2: 0.6626942218145291\n"
          ]
        }
      ]
    },
    {
      "cell_type": "code",
      "source": [
        "model = LinReg(gd_type=\"Momentum\")\n",
        "model.fit(X_train_const, y_train)\n",
        "\n",
        "loss_momentum_cat = model.loss_history.copy()\n",
        "\n",
        "y_pred = model.predict(X_test_const)\n",
        "rmse = np.sqrt(mean_squared_error(y_test, y_pred))\n",
        "r2 = r2_score(y_test, y_pred)\n",
        "print(f\"RMSE: {rmse}, R2: {r2}\")"
      ],
      "metadata": {
        "colab": {
          "base_uri": "https://localhost:8080/"
        },
        "id": "GMYXpnTY-zjx",
        "outputId": "a8863b89-842f-4a40-80e1-854af0f277ba"
      },
      "execution_count": 56,
      "outputs": [
        {
          "output_type": "stream",
          "name": "stdout",
          "text": [
            "RMSE: 0.14449629117247398, R2: 0.6676770052928618\n"
          ]
        }
      ]
    },
    {
      "cell_type": "code",
      "source": [
        "model = LinReg(gd_type=\"Adagrad\", eta=1)\n",
        "model.fit(X_train_const, y_train)\n",
        "\n",
        "loss_adagraf_cat = model.loss_history.copy()\n",
        "\n",
        "y_pred = model.predict(X_test_const)\n",
        "rmse = np.sqrt(mean_squared_error(y_test, y_pred))\n",
        "r2 = r2_score(y_test, y_pred)\n",
        "print(f\"RMSE: {rmse}, R2: {r2}\")"
      ],
      "metadata": {
        "colab": {
          "base_uri": "https://localhost:8080/"
        },
        "id": "3TKzG6QH-2jo",
        "outputId": "e7a30cc1-47b4-49a1-ae7c-9dd98a0da6cb"
      },
      "execution_count": 57,
      "outputs": [
        {
          "output_type": "stream",
          "name": "stdout",
          "text": [
            "RMSE: 0.11246109205326398, R2: 0.7986963796706816\n"
          ]
        }
      ]
    },
    {
      "cell_type": "markdown",
      "source": [
        "Сравним с моделями из sklearn и sm. Так, метод адаграда очень близок к результату, которые выдавали модели sklearn и sm модели. Остальные методы показали себя хуже, однако это может быть связано с тем, что не были подобраны оптимальные гиперпараметры. В среднем $R^2$ находится на уровне 0.76, что очень близко к моделям из библиотек"
      ],
      "metadata": {
        "id": "Y7gGDCubYPAs"
      }
    },
    {
      "cell_type": "markdown",
      "source": [
        "Исследуем влияение max_iter и alpha"
      ],
      "metadata": {
        "id": "Du7P6bqVKr2F"
      }
    },
    {
      "cell_type": "code",
      "source": [
        "y = data_without_categorical[\"energy\"]\n",
        "X = data_without_categorical.drop(\"energy\", axis=1)\n",
        "X_train, X_test, y_train, y_test = train_test_split(X, y, test_size=0.25, random_state=7)"
      ],
      "metadata": {
        "id": "TgIbBIHvKq32"
      },
      "execution_count": 58,
      "outputs": []
    },
    {
      "cell_type": "code",
      "source": [
        "scaler = StandardScaler()\n",
        "X_train_scaled = pd.DataFrame(scaler.fit_transform(X_train), index=X_train.index, columns=X_train.columns)\n",
        "X_test_scaled = pd.DataFrame(scaler.transform(X_test), index=X_test.index, columns=X_test.columns)\n",
        "\n",
        "X_train_const = sm.add_constant(X_train_scaled)\n",
        "X_test_const = sm.add_constant(X_test_scaled)"
      ],
      "metadata": {
        "id": "xKycHgWfKys-"
      },
      "execution_count": 59,
      "outputs": []
    },
    {
      "cell_type": "code",
      "source": [
        "import plotly.graph_objects as go\n",
        "\n",
        "alphas = np.linspace(10**(-3), 10**(-1), 5)\n",
        "max_iters = np.arange(1000, 10000, 1000)\n",
        "\n",
        "alpha_graphics = []\n",
        "for alpha in alphas:\n",
        "    model = LinReg(gd_type=\"Momentum\", alpha=alpha)\n",
        "    model.fit(X_train_const, y_train)\n",
        "    alpha_graphics.append(go.Scatter(x=np.arange(1, 1001, 1), y=model.loss_history, name=f'alpha = {alpha}'))\n",
        "    y_pred = model.predict(X_test_const)\n",
        "    rmse = np.sqrt(mean_squared_error(y_test, y_pred))\n",
        "    r2 = r2_score(y_test, y_pred)\n",
        "    print(f\"alpha: {alpha} RMSE: {rmse}, R2: {r2}\")\n",
        "\n",
        "mi_graphics = []\n",
        "for max_iter in max_iters:\n",
        "    model = LinReg(gd_type=\"Momentum\", max_iter=max_iter)\n",
        "    model.fit(X_train_const, y_train)\n",
        "    mi_graphics.append(go.Scatter(x=np.arange(1, 1001, 1), y=model.loss_history, name=f'max_iter = {max_iter}'))\n",
        "\n",
        "    y_pred = model.predict(X_test_const)\n",
        "    rmse = np.sqrt(mean_squared_error(y_test, y_pred))\n",
        "    r2 = r2_score(y_test, y_pred)\n",
        "    print(f\"max_iter: {max_iter} RMSE: {rmse}, R2: {r2}\")"
      ],
      "metadata": {
        "colab": {
          "base_uri": "https://localhost:8080/"
        },
        "id": "TS0hhSjiKz25",
        "outputId": "d0149b2e-32f2-453c-90b3-f5dcaa37f33a"
      },
      "execution_count": 66,
      "outputs": [
        {
          "output_type": "stream",
          "name": "stdout",
          "text": [
            "alpha: 0.001 RMSE: 0.12275810264012024, R2: 0.7601458001823334\n",
            "alpha: 0.025750000000000002 RMSE: 0.12288710298069828, R2: 0.7596414337883127\n",
            "alpha: 0.0505 RMSE: 0.12266819734979245, R2: 0.7604969992388914\n",
            "alpha: 0.07525000000000001 RMSE: 0.12277972727470032, R2: 0.7600612889989145\n",
            "alpha: 0.1 RMSE: 0.12243865792439537, R2: 0.7613924871777666\n",
            "max_iter: 1000 RMSE: 0.12254149969595851, R2: 0.7609914843347809\n",
            "max_iter: 2000 RMSE: 0.12263443171903037, R2: 0.7606288322168874\n",
            "max_iter: 3000 RMSE: 0.12254336686615366, R2: 0.7609842007128592\n",
            "max_iter: 4000 RMSE: 0.12268356698985254, R2: 0.7604369787021328\n",
            "max_iter: 5000 RMSE: 0.12329440416032617, R2: 0.7580454881774094\n",
            "max_iter: 6000 RMSE: 0.1226595254136766, R2: 0.7605308610115863\n",
            "max_iter: 7000 RMSE: 0.12298421902890015, R2: 0.7592613792953926\n",
            "max_iter: 8000 RMSE: 0.12285679281259909, R2: 0.7597599882973978\n",
            "max_iter: 9000 RMSE: 0.12306755327381762, R2: 0.7589350192424249\n"
          ]
        }
      ]
    },
    {
      "cell_type": "code",
      "source": [
        "fig = go.Figure(data=alpha_graphics)\n",
        "fig.update_layout(title='Alpha',\n",
        "                 xaxis=dict(title=\"iteration\"),\n",
        "                yaxis=dict(title=\"loss\")\n",
        ")\n",
        "fig.show()"
      ],
      "metadata": {
        "colab": {
          "base_uri": "https://localhost:8080/",
          "height": 542
        },
        "id": "TDxzmug-gkM7",
        "outputId": "094d6ed9-7cf7-48d9-9175-b172c09a1b3e"
      },
      "execution_count": 67,
      "outputs": [
        {
          "output_type": "display_data",
          "data": {
            "text/html": [
              "<html>\n",
              "<head><meta charset=\"utf-8\" /></head>\n",
              "<body>\n",
              "    <div>            <script src=\"https://cdnjs.cloudflare.com/ajax/libs/mathjax/2.7.5/MathJax.js?config=TeX-AMS-MML_SVG\"></script><script type=\"text/javascript\">if (window.MathJax && window.MathJax.Hub && window.MathJax.Hub.Config) {window.MathJax.Hub.Config({SVG: {font: \"STIX-Web\"}});}</script>                <script type=\"text/javascript\">window.PlotlyConfig = {MathJaxConfig: 'local'};</script>\n",
              "        <script charset=\"utf-8\" src=\"https://cdn.plot.ly/plotly-2.24.1.min.js\"></script>                <div id=\"dce090d0-857f-4450-bffb-69cca60a6ed7\" class=\"plotly-graph-div\" style=\"height:525px; width:100%;\"></div>            <script type=\"text/javascript\">                                    window.PLOTLYENV=window.PLOTLYENV || {};                                    if (document.getElementById(\"dce090d0-857f-4450-bffb-69cca60a6ed7\")) {                    Plotly.newPlot(                        \"dce090d0-857f-4450-bffb-69cca60a6ed7\",                        [{\"name\":\"alpha = 0.001\",\"x\":[1,2,3,4,5,6,7,8,9,10,11,12,13,14,15,16,17,18,19,20,21,22,23,24,25,26,27,28,29,30,31,32,33,34,35,36,37,38,39,40,41,42,43,44,45,46,47,48,49,50,51,52,53,54,55,56,57,58,59,60,61,62,63,64,65,66,67,68,69,70,71,72,73,74,75,76,77,78,79,80,81,82,83,84,85,86,87,88,89,90,91,92,93,94,95,96,97,98,99,100,101,102,103,104,105,106,107,108,109,110,111,112,113,114,115,116,117,118,119,120,121,122,123,124,125,126,127,128,129,130,131,132,133,134,135,136,137,138,139,140,141,142,143,144,145,146,147,148,149,150,151,152,153,154,155,156,157,158,159,160,161,162,163,164,165,166,167,168,169,170,171,172,173,174,175,176,177,178,179,180,181,182,183,184,185,186,187,188,189,190,191,192,193,194,195,196,197,198,199,200,201,202,203,204,205,206,207,208,209,210,211,212,213,214,215,216,217,218,219,220,221,222,223,224,225,226,227,228,229,230,231,232,233,234,235,236,237,238,239,240,241,242,243,244,245,246,247,248,249,250,251,252,253,254,255,256,257,258,259,260,261,262,263,264,265,266,267,268,269,270,271,272,273,274,275,276,277,278,279,280,281,282,283,284,285,286,287,288,289,290,291,292,293,294,295,296,297,298,299,300,301,302,303,304,305,306,307,308,309,310,311,312,313,314,315,316,317,318,319,320,321,322,323,324,325,326,327,328,329,330,331,332,333,334,335,336,337,338,339,340,341,342,343,344,345,346,347,348,349,350,351,352,353,354,355,356,357,358,359,360,361,362,363,364,365,366,367,368,369,370,371,372,373,374,375,376,377,378,379,380,381,382,383,384,385,386,387,388,389,390,391,392,393,394,395,396,397,398,399,400,401,402,403,404,405,406,407,408,409,410,411,412,413,414,415,416,417,418,419,420,421,422,423,424,425,426,427,428,429,430,431,432,433,434,435,436,437,438,439,440,441,442,443,444,445,446,447,448,449,450,451,452,453,454,455,456,457,458,459,460,461,462,463,464,465,466,467,468,469,470,471,472,473,474,475,476,477,478,479,480,481,482,483,484,485,486,487,488,489,490,491,492,493,494,495,496,497,498,499,500,501,502,503,504,505,506,507,508,509,510,511,512,513,514,515,516,517,518,519,520,521,522,523,524,525,526,527,528,529,530,531,532,533,534,535,536,537,538,539,540,541,542,543,544,545,546,547,548,549,550,551,552,553,554,555,556,557,558,559,560,561,562,563,564,565,566,567,568,569,570,571,572,573,574,575,576,577,578,579,580,581,582,583,584,585,586,587,588,589,590,591,592,593,594,595,596,597,598,599,600,601,602,603,604,605,606,607,608,609,610,611,612,613,614,615,616,617,618,619,620,621,622,623,624,625,626,627,628,629,630,631,632,633,634,635,636,637,638,639,640,641,642,643,644,645,646,647,648,649,650,651,652,653,654,655,656,657,658,659,660,661,662,663,664,665,666,667,668,669,670,671,672,673,674,675,676,677,678,679,680,681,682,683,684,685,686,687,688,689,690,691,692,693,694,695,696,697,698,699,700,701,702,703,704,705,706,707,708,709,710,711,712,713,714,715,716,717,718,719,720,721,722,723,724,725,726,727,728,729,730,731,732,733,734,735,736,737,738,739,740,741,742,743,744,745,746,747,748,749,750,751,752,753,754,755,756,757,758,759,760,761,762,763,764,765,766,767,768,769,770,771,772,773,774,775,776,777,778,779,780,781,782,783,784,785,786,787,788,789,790,791,792,793,794,795,796,797,798,799,800,801,802,803,804,805,806,807,808,809,810,811,812,813,814,815,816,817,818,819,820,821,822,823,824,825,826,827,828,829,830,831,832,833,834,835,836,837,838,839,840,841,842,843,844,845,846,847,848,849,850,851,852,853,854,855,856,857,858,859,860,861,862,863,864,865,866,867,868,869,870,871,872,873,874,875,876,877,878,879,880,881,882,883,884,885,886,887,888,889,890,891,892,893,894,895,896,897,898,899,900,901,902,903,904,905,906,907,908,909,910,911,912,913,914,915,916,917,918,919,920,921,922,923,924,925,926,927,928,929,930,931,932,933,934,935,936,937,938,939,940,941,942,943,944,945,946,947,948,949,950,951,952,953,954,955,956,957,958,959,960,961,962,963,964,965,966,967,968,969,970,971,972,973,974,975,976,977,978,979,980,981,982,983,984,985,986,987,988,989,990,991,992,993,994,995,996,997,998,999,1000],\"y\":[8.85678214520718,8.28576848689485,7.755117602481114,7.26103662853194,6.806457753650725,6.385417361491257,5.994972605289623,5.633466524885385,5.294288471945875,4.981664823069191,4.691651830010508,4.422173728672244,4.166075517093115,3.93187229037628,3.7113883981039266,3.50640347909114,3.314356661294133,3.135877778303571,2.9679385445824176,2.810271837367237,2.663637067519706,2.52674758100161,2.397397261004051,2.276222267810965,2.1627748854534907,2.0562478002784874,1.955368081196848,1.8608553091158366,1.7722380583983386,1.6889331406024604,1.6108497316015469,1.5364781790963986,1.4670907631334102,1.400710791201513,1.338739593098377,1.2796342626944566,1.2230407501683005,1.170060967868391,1.1197841501583228,1.0718405984690136,1.0267838314563023,0.9840387287983284,0.9432126437292302,0.9045452314921533,0.8679853490384752,0.8330237998348988,0.7999724366420883,0.7685736805018434,0.7384629590334949,0.7097232710256146,0.6821471890282104,0.6559236891680046,0.6308792819689689,0.6070962062953031,0.5844875186145738,0.5628337360231065,0.542322324372205,0.5223135236178499,0.5034271862326213,0.48515360523284756,0.467945549881441,0.4512758383733916,0.43546522015683325,0.4202086016168429,0.40564950182319043,0.3916715980510427,0.3781484626518258,0.3654417987356823,0.3531167743919096,0.34132725295406735,0.33001257946163903,0.31908969890153954,0.3086966421877329,0.29862918121965776,0.28900619028522395,0.27969718064542154,0.2707781663525398,0.2621939039411377,0.25395317826210095,0.24613700857333257,0.23852032740648182,0.2312131878772643,0.2241675199574888,0.21740536348998515,0.2108686308385155,0.20453304119525528,0.19851847528522049,0.1926866566738195,0.1870974288463277,0.18166898076604893,0.17647112713537527,0.1714444394210817,0.16662781780731137,0.16195774991002043,0.1574968468195506,0.15319198001268902,0.1490443520858124,0.1449948807360334,0.1411254720170049,0.13738024093608114,0.13371885887370585,0.13020133215397037,0.12684446703678826,0.12359815268708271,0.12045051934465337,0.11742296437121981,0.11449242114095928,0.11167484864646642,0.10894577374008696,0.10631986439672585,0.10376975922012112,0.10128245897932422,0.09891466117866803,0.09660801364710797,0.09440780919880659,0.09225791715454826,0.09019107729503219,0.08818440178383954,0.08621131632470296,0.08431864166808305,0.08247445835679823,0.0806972671140864,0.0789791378253126,0.0773302302321651,0.0757335364824474,0.07418909376371602,0.07268395604567472,0.07123557471876027,0.06982353227755658,0.06846470581152733,0.06716434063198758,0.06589557111282757,0.06464751122183239,0.06346318760175894,0.06230879364207688,0.06118401000297123,0.06010169814296573,0.05904354840164587,0.05802466122639155,0.0570284061904241,0.056064630203200266,0.055126896027101635,0.0542256549395727,0.053346919782718744,0.052494897024798544,0.0516726512482014,0.0508671204598862,0.05008073874429106,0.0493360937491459,0.048606312332238485,0.04789554309896569,0.047209188065524134,0.04653467463605986,0.04587328713610456,0.04523522202075349,0.04461621520327068,0.044016690640724804,0.043440327191494946,0.042877175403830244,0.042334656079273995,0.04180405636123886,0.041289394302836534,0.04078936274027776,0.04030113691490425,0.03983255965360322,0.03937092732619229,0.03892097118695252,0.03848228276607857,0.03805733342174228,0.03764252847701878,0.03724330199000907,0.03684969269843906,0.03646457127007292,0.03609207773494551,0.03572767718184619,0.035376399372451545,0.03503345128303567,0.03469771032024972,0.03437666408373554,0.034060064962358,0.03375163660670886,0.033451234323089114,0.033160577959359464,0.032876936388051066,0.03259912222288986,0.03233145537652879,0.032068654056318716,0.03181645038133794,0.031568168739136065,0.03132458016874359,0.031087117942099445,0.030853221222524076,0.030627732225287863,0.03040594200608246,0.030188599714733724,0.02997634972447765,0.02976791698531569,0.029566581248672227,0.02936841396923453,0.029179277675014374,0.028988650224395746,0.028805208001888963,0.02862938820115528,0.028454864323209664,0.028285622497230847,0.028118717826029774,0.027957540265301416,0.027796462747985414,0.02764174383201978,0.02749097941428749,0.027342192584242777,0.027199072512353283,0.027056258409346685,0.02691778159913552,0.026783741478467408,0.026651356802143047,0.026520431952944234,0.026392773241645406,0.026269142711801176,0.02614761763883145,0.02602592311630169,0.025909918202169695,0.025796147503508195,0.025685348045595333,0.0255759982988492,0.025468222007887294,0.02536457275853536,0.02526131215308373,0.0251608831980968,0.02506305112781574,0.024966736533599473,0.024872872654763675,0.024779591808572473,0.02468882268937476,0.024600565425699324,0.024513190875271602,0.024427162078556316,0.024344430752387687,0.02426182651144189,0.02418183472596235,0.02410374358069209,0.02402672692299376,0.02395089976796553,0.023875891887350995,0.023803190542028084,0.023732568092980237,0.023661734418877648,0.023592688010938084,0.023525872907827323,0.023459427708369746,0.023394349939136052,0.02333082587342037,0.023267685979800896,0.023205949611912916,0.02314532301734675,0.023087819805028196,0.02302972630413021,0.0229719185031209,0.02291511974988302,0.02286051015418391,0.02280696048560509,0.022755217223156918,0.022702787116236682,0.022651742781433577,0.022601974617186927,0.022553233852229543,0.022504060479445774,0.022456486506004594,0.022409473761098704,0.022363329262055177,0.02231825502018598,0.022273137252502854,0.022228888164081854,0.02218636043075636,0.022144638645331047,0.022103788150975565,0.02206205722692825,0.02202173409893938,0.021982878229400746,0.021944410114971814,0.021905465993174392,0.021868140429594868,0.021831355054273888,0.02179506453550536,0.021758731674944874,0.02172358878026255,0.021689815617206523,0.021655543643576365,0.02162251300472138,0.02158940575275033,0.021557684505961395,0.021526462414002155,0.021494885977111154,0.021464739892008193,0.021434014328013555,0.021404822144325104,0.02137554359310892,0.021346579328740147,0.0213183564792569,0.021290483272743327,0.02126251488497404,0.02123471127435986,0.02120762662478448,0.02118148964355687,0.021155162166387843,0.021129397966719102,0.021104240661646376,0.02107916797049273,0.021054577127626876,0.02103003167200774,0.02100679270217618,0.020983504000269115,0.020960808763386147,0.020938068953677294,0.020916235518739047,0.020894451275084425,0.020872669478127454,0.02085134712006018,0.020830179948759627,0.02080950318710412,0.020788564946425035,0.02076851390868207,0.02074813402818338,0.020728860660283413,0.020709727966342406,0.020690909285441747,0.02067227632226975,0.020653739133587312,0.02063556028134818,0.020617792381935833,0.020600226055560732,0.020583268935774467,0.020565628209192915,0.02054868465158495,0.02053235807535869,0.020516812242627126,0.02050061239812704,0.020485043723142898,0.020469463229806834,0.02045399225846519,0.0204382974428216,0.020423281141757708,0.02040863368823689,0.02039440258310911,0.020380135660139423,0.020365895828890316,0.020352094432507496,0.020338049475903012,0.02032435316288494,0.02031070850736243,0.0202979037990721,0.02028476064122159,0.020271832239108053,0.020259281126764218,0.020246941015109918,0.020234723413729637,0.02022255334099874,0.020210664636653983,0.02019909331360211,0.020187595192326754,0.020175954706492083,0.020164679844280206,0.020153063432862182,0.020141821094294403,0.02013085588851979,0.020120106802468063,0.020109334847530858,0.020098625602598907,0.02008839318858696,0.020078584306160843,0.02006847290199406,0.02005853305924092,0.02004881602564538,0.020039083057428547,0.02002963108144639,0.02002046480696282,0.02001139596875152,0.020002442501165285,0.019993211843124224,0.019984625727357885,0.019975534947526515,0.019966721895730837,0.019958045016228387,0.01994973937950323,0.01994133831988706,0.019933565224015896,0.019925278041549723,0.01991746773984643,0.019909746918487743,0.019902121950676113,0.01989500683674429,0.019887651339999715,0.019880290023301637,0.01987321986392712,0.01986622210351273,0.0198591720732236,0.01985209371786386,0.019845257951054057,0.01983851954827394,0.01983205519549095,0.019825445034180777,0.019818946997065923,0.019812572155270203,0.019806585576260236,0.019800305214596442,0.019793892540456045,0.019787764165960158,0.01978153959760358,0.01977555775165636,0.019769771013134874,0.019764164462818288,0.01975819476663145,0.019752690861989393,0.019746985001917766,0.019741070556782994,0.01973565835483217,0.01973013962606647,0.019724850573827717,0.019719595663477394,0.01971431025387524,0.01970930828253183,0.019704496677220747,0.01969963151430423,0.019694842352164753,0.01969009917370517,0.01968538729798845,0.019680738677782528,0.019675814134678983,0.019671274903735495,0.01966671234571426,0.01966231259840214,0.019657800171676204,0.019653463343324715,0.01964913828331329,0.01964488745317548,0.01964071434887518,0.01963670095852559,0.0196326066485855,0.019628349752105888,0.019624479064131693,0.019620374453100373,0.019616361174408126,0.0196125801363264,0.01960870859266913,0.019604741904475018,0.01960110500395455,0.0195975722325339,0.01959399019705913,0.019590569645034642,0.01958716617869198,0.019583521294744236,0.019580096895856415,0.01957683890468599,0.01957341263918732,0.019570223190207427,0.01956685429476572,0.019563698796239995,0.01956069002112198,0.019557414500629068,0.01955439116728698,0.019551271467015133,0.019548322456076798,0.019545159346854295,0.01954240621279201,0.019539409659134768,0.019536593534078096,0.01953396414498978,0.019531118227652605,0.019528464163095012,0.019525897652837475,0.019523258440996345,0.019520653653457946,0.019518120270564182,0.01951562861429285,0.019513150607380784,0.01951072450082325,0.01950835350350613,0.0195058736744202,0.019503615625988818,0.01950120557534192,0.019498728665395346,0.019496485024317913,0.01949422656563041,0.019492026660540326,0.019489763159390036,0.01948754735824103,0.019485445265189177,0.019483268740725368,0.01948123792267212],\"type\":\"scatter\"},{\"name\":\"alpha = 0.025750000000000002\",\"x\":[1,2,3,4,5,6,7,8,9,10,11,12,13,14,15,16,17,18,19,20,21,22,23,24,25,26,27,28,29,30,31,32,33,34,35,36,37,38,39,40,41,42,43,44,45,46,47,48,49,50,51,52,53,54,55,56,57,58,59,60,61,62,63,64,65,66,67,68,69,70,71,72,73,74,75,76,77,78,79,80,81,82,83,84,85,86,87,88,89,90,91,92,93,94,95,96,97,98,99,100,101,102,103,104,105,106,107,108,109,110,111,112,113,114,115,116,117,118,119,120,121,122,123,124,125,126,127,128,129,130,131,132,133,134,135,136,137,138,139,140,141,142,143,144,145,146,147,148,149,150,151,152,153,154,155,156,157,158,159,160,161,162,163,164,165,166,167,168,169,170,171,172,173,174,175,176,177,178,179,180,181,182,183,184,185,186,187,188,189,190,191,192,193,194,195,196,197,198,199,200,201,202,203,204,205,206,207,208,209,210,211,212,213,214,215,216,217,218,219,220,221,222,223,224,225,226,227,228,229,230,231,232,233,234,235,236,237,238,239,240,241,242,243,244,245,246,247,248,249,250,251,252,253,254,255,256,257,258,259,260,261,262,263,264,265,266,267,268,269,270,271,272,273,274,275,276,277,278,279,280,281,282,283,284,285,286,287,288,289,290,291,292,293,294,295,296,297,298,299,300,301,302,303,304,305,306,307,308,309,310,311,312,313,314,315,316,317,318,319,320,321,322,323,324,325,326,327,328,329,330,331,332,333,334,335,336,337,338,339,340,341,342,343,344,345,346,347,348,349,350,351,352,353,354,355,356,357,358,359,360,361,362,363,364,365,366,367,368,369,370,371,372,373,374,375,376,377,378,379,380,381,382,383,384,385,386,387,388,389,390,391,392,393,394,395,396,397,398,399,400,401,402,403,404,405,406,407,408,409,410,411,412,413,414,415,416,417,418,419,420,421,422,423,424,425,426,427,428,429,430,431,432,433,434,435,436,437,438,439,440,441,442,443,444,445,446,447,448,449,450,451,452,453,454,455,456,457,458,459,460,461,462,463,464,465,466,467,468,469,470,471,472,473,474,475,476,477,478,479,480,481,482,483,484,485,486,487,488,489,490,491,492,493,494,495,496,497,498,499,500,501,502,503,504,505,506,507,508,509,510,511,512,513,514,515,516,517,518,519,520,521,522,523,524,525,526,527,528,529,530,531,532,533,534,535,536,537,538,539,540,541,542,543,544,545,546,547,548,549,550,551,552,553,554,555,556,557,558,559,560,561,562,563,564,565,566,567,568,569,570,571,572,573,574,575,576,577,578,579,580,581,582,583,584,585,586,587,588,589,590,591,592,593,594,595,596,597,598,599,600,601,602,603,604,605,606,607,608,609,610,611,612,613,614,615,616,617,618,619,620,621,622,623,624,625,626,627,628,629,630,631,632,633,634,635,636,637,638,639,640,641,642,643,644,645,646,647,648,649,650,651,652,653,654,655,656,657,658,659,660,661,662,663,664,665,666,667,668,669,670,671,672,673,674,675,676,677,678,679,680,681,682,683,684,685,686,687,688,689,690,691,692,693,694,695,696,697,698,699,700,701,702,703,704,705,706,707,708,709,710,711,712,713,714,715,716,717,718,719,720,721,722,723,724,725,726,727,728,729,730,731,732,733,734,735,736,737,738,739,740,741,742,743,744,745,746,747,748,749,750,751,752,753,754,755,756,757,758,759,760,761,762,763,764,765,766,767,768,769,770,771,772,773,774,775,776,777,778,779,780,781,782,783,784,785,786,787,788,789,790,791,792,793,794,795,796,797,798,799,800,801,802,803,804,805,806,807,808,809,810,811,812,813,814,815,816,817,818,819,820,821,822,823,824,825,826,827,828,829,830,831,832,833,834,835,836,837,838,839,840,841,842,843,844,845,846,847,848,849,850,851,852,853,854,855,856,857,858,859,860,861,862,863,864,865,866,867,868,869,870,871,872,873,874,875,876,877,878,879,880,881,882,883,884,885,886,887,888,889,890,891,892,893,894,895,896,897,898,899,900,901,902,903,904,905,906,907,908,909,910,911,912,913,914,915,916,917,918,919,920,921,922,923,924,925,926,927,928,929,930,931,932,933,934,935,936,937,938,939,940,941,942,943,944,945,946,947,948,949,950,951,952,953,954,955,956,957,958,959,960,961,962,963,964,965,966,967,968,969,970,971,972,973,974,975,976,977,978,979,980,981,982,983,984,985,986,987,988,989,990,991,992,993,994,995,996,997,998,999,1000],\"y\":[8.334013657416769,7.94825949804976,7.575550598254544,7.217794867428993,6.881010303410459,6.562282711025741,6.260889519659135,5.975058376617433,5.703229558769602,5.445447516611966,5.2029021740158585,4.971569935845462,4.750837171213317,4.540709992851132,4.342306072007244,4.151507474398361,3.972365453303783,3.8012770330450016,3.6378837307131837,3.4833531959442516,3.338288761215533,3.196855593386133,3.062810968211677,2.935403011211664,2.814109104958207,2.6990943064338455,2.589105151058147,2.4831409968546527,2.3826897601722865,2.286063364525609,2.193522107581172,2.1061049448251006,2.0211796276010854,1.9403504259778324,1.8632509614203694,1.7895708065946518,1.7189467161489018,1.651776822911821,1.5872613667061832,1.52559357345211,1.4658970048611657,1.409423196139536,1.3555803517450096,1.3033042908562895,1.253446157192256,1.2057447617095285,1.159715751366232,1.1157091869189903,1.0738999450116933,1.0334343559884394,0.9945797684498051,0.9575106075084564,0.9219869376106707,0.8876905780318072,0.8548660223600794,0.823032060593465,0.7927600262541664,0.7637842344086648,0.7357272029071843,0.7088916371712971,0.6832875786903696,0.6588588410709026,0.6350617198000829,0.6123450095638903,0.5907066553318714,0.5697092187852288,0.5497694503968102,0.5305214112059069,0.5119705609760653,0.49407427456674385,0.47688464397224695,0.4603771181773401,0.4446178599784008,0.4293786597444414,0.4147485943973199,0.4007807547884426,0.3872117337935782,0.3741786695505123,0.361683753417945,0.34966577132721727,0.33800167349647714,0.32675119218006093,0.31604882320168703,0.3058114551300681,0.2958591467022234,0.28632434491370773,0.2771904191810868,0.2683157295014843,0.25978366838167594,0.25165523440742976,0.24372542042013665,0.2361337526483068,0.2288141720371851,0.22180247283011523,0.2149939069753419,0.2084509530157629,0.20224209198190343,0.19615364189550372,0.19034016900716813,0.18468712958969655,0.17923236047421162,0.17404312273327924,0.16899009201943027,0.164151791065062,0.15946983420192284,0.15497264972106764,0.1506216702030147,0.14640046892096606,0.1423143275174512,0.1384519954062162,0.13468048774876315,0.1310118289313252,0.12751537294792736,0.12414343639467691,0.12085334566192735,0.11770394824223752,0.11467759899320587,0.11173794499617748,0.10891529077043505,0.10618708350999648,0.10355606437122686,0.101017995153364,0.09855380332346036,0.09620004656613225,0.09392434543209993,0.09170221402687728,0.08957577965688358,0.08752660770618287,0.0855336638617659,0.08361555097169376,0.08173882364750663,0.07993502855229136,0.0781980816290739,0.07653572221535124,0.07491684473985041,0.07333623525017291,0.07181828175923746,0.07035996075131368,0.06893543605079588,0.06755919526392912,0.066239190909633,0.06494644215209958,0.06370710860821786,0.06249723281631139,0.0613394002228055,0.060216818349186144,0.05912933443976087,0.058068900833376354,0.05705648712896841,0.05606088603549487,0.055100675326305984,0.05416988878546375,0.0532691901618944,0.05239437295205546,0.05155590739967842,0.05072926611018723,0.0499423876895628,0.04917730341579908,0.04844033447757589,0.04772015053324393,0.047023043731447556,0.04633916096032145,0.0456746357924996,0.045030903055176534,0.04440927136723824,0.04380514474286887,0.04322003398979348,0.042651852357038104,0.04209905169439211,0.041562452169453576,0.041037475033615683,0.04052932423919116,0.04003620540854118,0.03956307907983621,0.03909720040451086,0.03865250596889779,0.038213804343446615,0.03778550504157942,0.037368086079816766,0.036964659116068374,0.03657200639600326,0.03619255706757955,0.0358252323879623,0.03546988296370019,0.03512076643238594,0.03478316980406249,0.03445444101200923,0.03413328902393991,0.0338177242653588,0.033514600147164814,0.03321498300725248,0.032921298578666144,0.03263843012561443,0.03236214529155648,0.032096618300192406,0.031840657308650586,0.03158803332432976,0.031337336283544126,0.031097519607170485,0.030863243490226212,0.03063452522379613,0.03041157323811319,0.030195897850874374,0.0299837914100712,0.029776987362046856,0.02957194222067508,0.02937448708498777,0.029180784279461393,0.028991376326387888,0.02880799874970078,0.028629322121348545,0.028453823635093342,0.028280796666477852,0.028113933592125454,0.02795234316399184,0.02779379328476234,0.02763707734907484,0.02748376855053896,0.027334911737336327,0.027189188211981852,0.02704678529250487,0.02690799093468076,0.026773278033754754,0.026640747665331276,0.02650973411635061,0.02638101485773837,0.026257034760462247,0.026134468278221364,0.026015375191848072,0.02589979428480101,0.02578568044415221,0.02567375026055131,0.02556477641190735,0.025456307948522473,0.02534993460662597,0.025248217078521644,0.025146514518237774,0.02504791091904913,0.02495021484704673,0.024855018288292608,0.0247640048511795,0.024673297939175325,0.024584964413529396,0.024497379304192646,0.024412744541490925,0.024328944519341582,0.02424711864806866,0.02416705242067736,0.024088638671575614,0.024010701190680415,0.02393276592690799,0.023858173470953405,0.023784525858529262,0.023712937145725886,0.023642024734984002,0.02357329181142527,0.02350539222166754,0.02343925758106196,0.02337243428767198,0.023307858329896427,0.023243402282837174,0.02318152163809766,0.023120710782926775,0.02306119862032695,0.023002563116034994,0.022945100258940518,0.02288844930516084,0.02283325754809367,0.02277901970167842,0.022724566944334813,0.022671748849061164,0.022619406318687155,0.022568361504671126,0.022518399913170513,0.022468183243485335,0.022419859029235163,0.022372444550607162,0.02232572417809295,0.022280580358159916,0.022235294822614157,0.022191615277373615,0.022148128231191784,0.022104921078179435,0.02206313409718133,0.022021080961661846,0.021981394577371985,0.02194153698998883,0.021902683848652408,0.02186464894288385,0.0218269306206859,0.021789761205368033,0.021752708595295194,0.021716875302932686,0.021681156590077365,0.0216466062978342,0.02161229210866305,0.021577889777996496,0.021544412247917963,0.021511712461643955,0.02147982298810732,0.021448358301988192,0.021416664781556856,0.021385542740888823,0.021355048454153813,0.0213249019318378,0.021296158071626395,0.021267314896297358,0.02123849134617309,0.02121032174939525,0.021182764879650946,0.021155540419314566,0.021128900212899183,0.02110283441643269,0.02107717835053932,0.02105220945530785,0.021026890634813583,0.021002345753911016,0.020978381486672915,0.020954864582053697,0.020930599756842593,0.02090796814247825,0.020885035337853644,0.020862692464288783,0.020840043493699383,0.020818272476701927,0.020796613850113645,0.020775332244664185,0.020754205957408064,0.020734123857081878,0.020713823152614774,0.020694275106689336,0.020674151715542335,0.020654646389849287,0.020635706917932817,0.02061692036369841,0.02059837327867879,0.020580322240984363,0.020562421785865974,0.02054454015502267,0.020527402028102017,0.02051053180763566,0.020493913452117478,0.020477432654297027,0.020460813807095184,0.02044443094921322,0.020428383950688765,0.020412818320555387,0.02039745136031349,0.0203822584311971,0.020367161178117755,0.020352262627801047,0.020337635928404978,0.020323151168508902,0.020309047061296555,0.020294921845198113,0.020281511619340643,0.0202681539052533,0.020254770809812517,0.020241476125300327,0.02022852620416938,0.020215901721209233,0.020203688751551565,0.020191007484472338,0.020178589130861176,0.020166390030198166,0.020154749319856627,0.020143000895365738,0.02013125803876094,0.020119804925106614,0.02010856623445771,0.02009748399906555,0.020086478412782806,0.020075670112774033,0.020065195909900295,0.020054815008097197,0.020044781498164212,0.020034389313695243,0.020024509608153038,0.020014948929986974,0.020005384933175295,0.019995945666477187,0.01998644090422384,0.019977039780565926,0.019967514401567462,0.01995868631539297,0.01995017021969475,0.01994157171862055,0.019933252221187556,0.01992495305284875,0.019916644914004366,0.0199086119573125,0.0199004824984695,0.019892426970768373,0.01988471426718892,0.01987681128291428,0.01986896828940047,0.019861080566865433,0.019853539453985044,0.01984629496653581,0.01983891119486371,0.01983160029218361,0.01982448738864047,0.019817419955303457,0.019810463445325322,0.01980371892969211,0.019797106605696457,0.019790820550433005,0.019784159806304224,0.019777877436855214,0.019771630901690596,0.019765485019419354,0.019759440792889313,0.01975316758766606,0.019747227175581857,0.019741442241072688,0.01973559912157495,0.01973011316780829,0.01972461110301635,0.019719109518471875,0.01971351047700475,0.019708426647304714,0.019703237326404482,0.019698024241821068,0.019692687417872144,0.019687661971379986,0.019682539283474573,0.019677570637066343,0.019672813665972174,0.019668226854186566,0.019663230859732865,0.01965867252428203,0.019654204466006558,0.019649606386230936,0.019644947794464504,0.019640655279685285,0.01963631798633154,0.01963194663320874,0.01962784016097561,0.0196238028607076,0.019619657488797168,0.019615556513104333,0.01961168314527917,0.019607654149958083,0.01960407084514979,0.019600286513838203,0.019596505213022794,0.019592548902988834,0.01958876196465228,0.019585231025502015,0.01958180707386437,0.019578110311428917,0.019574621543196235,0.019571002431888224,0.019567551808082805,0.019564232824208515,0.019561027803773928,0.019557698084706525,0.01955449987865667,0.01955142390751435,0.01954812623151679,0.019545025581383012,0.019542161331384183,0.019539513446150653,0.019536584739938925,0.019533716028272266,0.019530749365404082,0.019527879690630915,0.019525124754876236,0.01952238814686857,0.01951974083063162,0.019517132497957723,0.01951462218923551],\"type\":\"scatter\"},{\"name\":\"alpha = 0.0505\",\"x\":[1,2,3,4,5,6,7,8,9,10,11,12,13,14,15,16,17,18,19,20,21,22,23,24,25,26,27,28,29,30,31,32,33,34,35,36,37,38,39,40,41,42,43,44,45,46,47,48,49,50,51,52,53,54,55,56,57,58,59,60,61,62,63,64,65,66,67,68,69,70,71,72,73,74,75,76,77,78,79,80,81,82,83,84,85,86,87,88,89,90,91,92,93,94,95,96,97,98,99,100,101,102,103,104,105,106,107,108,109,110,111,112,113,114,115,116,117,118,119,120,121,122,123,124,125,126,127,128,129,130,131,132,133,134,135,136,137,138,139,140,141,142,143,144,145,146,147,148,149,150,151,152,153,154,155,156,157,158,159,160,161,162,163,164,165,166,167,168,169,170,171,172,173,174,175,176,177,178,179,180,181,182,183,184,185,186,187,188,189,190,191,192,193,194,195,196,197,198,199,200,201,202,203,204,205,206,207,208,209,210,211,212,213,214,215,216,217,218,219,220,221,222,223,224,225,226,227,228,229,230,231,232,233,234,235,236,237,238,239,240,241,242,243,244,245,246,247,248,249,250,251,252,253,254,255,256,257,258,259,260,261,262,263,264,265,266,267,268,269,270,271,272,273,274,275,276,277,278,279,280,281,282,283,284,285,286,287,288,289,290,291,292,293,294,295,296,297,298,299,300,301,302,303,304,305,306,307,308,309,310,311,312,313,314,315,316,317,318,319,320,321,322,323,324,325,326,327,328,329,330,331,332,333,334,335,336,337,338,339,340,341,342,343,344,345,346,347,348,349,350,351,352,353,354,355,356,357,358,359,360,361,362,363,364,365,366,367,368,369,370,371,372,373,374,375,376,377,378,379,380,381,382,383,384,385,386,387,388,389,390,391,392,393,394,395,396,397,398,399,400,401,402,403,404,405,406,407,408,409,410,411,412,413,414,415,416,417,418,419,420,421,422,423,424,425,426,427,428,429,430,431,432,433,434,435,436,437,438,439,440,441,442,443,444,445,446,447,448,449,450,451,452,453,454,455,456,457,458,459,460,461,462,463,464,465,466,467,468,469,470,471,472,473,474,475,476,477,478,479,480,481,482,483,484,485,486,487,488,489,490,491,492,493,494,495,496,497,498,499,500,501,502,503,504,505,506,507,508,509,510,511,512,513,514,515,516,517,518,519,520,521,522,523,524,525,526,527,528,529,530,531,532,533,534,535,536,537,538,539,540,541,542,543,544,545,546,547,548,549,550,551,552,553,554,555,556,557,558,559,560,561,562,563,564,565,566,567,568,569,570,571,572,573,574,575,576,577,578,579,580,581,582,583,584,585,586,587,588,589,590,591,592,593,594,595,596,597,598,599,600,601,602,603,604,605,606,607,608,609,610,611,612,613,614,615,616,617,618,619,620,621,622,623,624,625,626,627,628,629,630,631,632,633,634,635,636,637,638,639,640,641,642,643,644,645,646,647,648,649,650,651,652,653,654,655,656,657,658,659,660,661,662,663,664,665,666,667,668,669,670,671,672,673,674,675,676,677,678,679,680,681,682,683,684,685,686,687,688,689,690,691,692,693,694,695,696,697,698,699,700,701,702,703,704,705,706,707,708,709,710,711,712,713,714,715,716,717,718,719,720,721,722,723,724,725,726,727,728,729,730,731,732,733,734,735,736,737,738,739,740,741,742,743,744,745,746,747,748,749,750,751,752,753,754,755,756,757,758,759,760,761,762,763,764,765,766,767,768,769,770,771,772,773,774,775,776,777,778,779,780,781,782,783,784,785,786,787,788,789,790,791,792,793,794,795,796,797,798,799,800,801,802,803,804,805,806,807,808,809,810,811,812,813,814,815,816,817,818,819,820,821,822,823,824,825,826,827,828,829,830,831,832,833,834,835,836,837,838,839,840,841,842,843,844,845,846,847,848,849,850,851,852,853,854,855,856,857,858,859,860,861,862,863,864,865,866,867,868,869,870,871,872,873,874,875,876,877,878,879,880,881,882,883,884,885,886,887,888,889,890,891,892,893,894,895,896,897,898,899,900,901,902,903,904,905,906,907,908,909,910,911,912,913,914,915,916,917,918,919,920,921,922,923,924,925,926,927,928,929,930,931,932,933,934,935,936,937,938,939,940,941,942,943,944,945,946,947,948,949,950,951,952,953,954,955,956,957,958,959,960,961,962,963,964,965,966,967,968,969,970,971,972,973,974,975,976,977,978,979,980,981,982,983,984,985,986,987,988,989,990,991,992,993,994,995,996,997,998,999,1000],\"y\":[6.045153333807136,5.83079828433343,5.617088004504542,5.41244815071032,5.2176466648664865,5.0280316857565195,4.848952570600848,4.6761037300759645,4.510230176163853,4.351442829846516,4.199285187836582,4.054242287326024,3.9141758438949186,3.7806972831222554,3.652588193160854,3.530193258604807,3.412082751855814,3.298389719019936,3.1905406232795266,3.085360285018089,2.9855555260117765,2.889838729874917,2.797334871431038,2.7080038619415925,2.6229254154873938,2.5414078837916034,2.4623269091335023,2.386237723256915,2.3139042354807295,2.2438334028968185,2.17608174015224,2.1107892127553436,2.048501141545868,1.9885020790433243,1.9306724511960316,1.8749014499818575,1.8206375092802496,1.7691506611614118,1.7194414979235721,1.670970098293504,1.6242487706197344,1.5792387233499987,1.5358884751102724,1.4941188945280093,1.4538456060389027,1.414526153280602,1.376639911001167,1.3402568944234752,1.3049798646441,1.2709538621844887,1.2382574966591013,1.206441966266612,1.1756551326153313,1.145893855013774,1.1171511072495692,1.0896385018975874,1.0630885562123795,1.0370375308271544,1.011981091375368,0.9874266941020072,0.9636073334866069,0.9406431651385265,0.9183175969485476,0.8965754343187599,0.8756084795898051,0.8553152507443974,0.8357719014254292,0.8166495598504142,0.797996410801633,0.7800257767745997,0.7625406175606553,0.7457322732185442,0.7294089920371526,0.7134883876753928,0.697942714394513,0.6830551949951671,0.6684032935912225,0.6542594155401444,0.6403262731533291,0.6268836990344736,0.6138561216395452,0.6011075384475575,0.5887521249653758,0.5766872736402617,0.5649313617289382,0.5534446160526345,0.5424348690528971,0.5316002105903017,0.5211048369957094,0.5108360186774588,0.5008259251739882,0.49109035322135397,0.4816195696785455,0.4723145132697008,0.4632490469325395,0.45447999832646535,0.44591505490899475,0.43759342846737825,0.42940387186054535,0.4214165955164029,0.4135973401227151,0.40590936582547626,0.3985107420741823,0.3912618903806842,0.384273712331398,0.3773934947270399,0.3706706254482852,0.36409393917913424,0.35763056177863617,0.3513455303570793,0.34524829797955353,0.33920619918985445,0.33335551788950585,0.3276022654788197,0.3219736907079586,0.31651545933266734,0.31111100343924547,0.3058728882071232,0.3007512795266524,0.2957596150313296,0.2908528270158992,0.2860811535065738,0.2813817892244627,0.27681008761909653,0.2723061626233917,0.26793654823009966,0.2636242756442203,0.25939430995649376,0.25528233973395803,0.2512367596476801,0.24726655625292382,0.24338853141757366,0.2395934228202151,0.23588532092370487,0.2322005109123192,0.2286282725283646,0.2250870018210214,0.2216415679204461,0.2182493101822774,0.2148738577851415,0.2116227733984002,0.20842480747816255,0.20529752769509574,0.20221867911363536,0.19919705842687238,0.19622901367273637,0.1933381218577981,0.19050675546606097,0.18771772772328618,0.1849835311240103,0.1822972504328899,0.17966909603283535,0.17708366446572746,0.1745488010565231,0.1720616278472871,0.1696166148443868,0.16721939556610307,0.16484391528359035,0.16252587358114162,0.16024673174067391,0.1579975494255661,0.15579058714274713,0.15363732170963038,0.15153249125803042,0.14945375233494737,0.14740162506363458,0.14539247466805288,0.14342369604555777,0.1414821485221336,0.13959499053479482,0.13773994913452126,0.13590990127271377,0.134101102201416,0.13232556489455416,0.13058826125026898,0.12887950654304997,0.12720437797994122,0.12554138376278,0.12392185585737757,0.12232161010466149,0.12075628950098805,0.11920907223749196,0.11769208307495821,0.11620018099984457,0.11472632116971539,0.11327095438159054,0.11184474580285714,0.11044654673741909,0.10907263237313423,0.10772007989511204,0.1063872749658869,0.10508139778875604,0.10378983978890326,0.10252152943994233,0.10127333742078579,0.10003904858648223,0.0988306774658174,0.09764875687758395,0.09647461250876635,0.0953227810753022,0.09418839307543087,0.0930741541757667,0.09197312324087023,0.09090232342742242,0.08983585472256755,0.08879191262502749,0.08776234435649823,0.08674439034054364,0.08574612259896848,0.08476243549200957,0.08380127453790864,0.08284769538721565,0.08190468239440968,0.08097729552287908,0.08006286733270729,0.07917241119424054,0.07829472527648758,0.077422454371203,0.07657307970906355,0.0757371093596518,0.07490233464407388,0.07408631241217688,0.07328766800564306,0.0725042519707847,0.07173504338556502,0.07097012346287188,0.07021365121670466,0.06947227435791652,0.06873952819004014,0.06802174059281559,0.06731182982377568,0.06660777707710197,0.06591876391562064,0.06524301977188454,0.0645747195091772,0.06391975868971982,0.06326849253319464,0.06263481335362828,0.06200312253154487,0.061383719881007714,0.060780052250728425,0.06017996299208741,0.059587071421605825,0.059005493961326136,0.05843054693403427,0.05786448112954071,0.05731078365936627,0.05676292359379736,0.05622408630906594,0.05569722125593948,0.05517663758491656,0.054664500503725955,0.054154723627409584,0.05365566470890613,0.053163998573046885,0.05267915394310005,0.052198961256246,0.051729078394720726,0.05126458008419859,0.05081041337778059,0.05035833066781094,0.04991699352414557,0.04947928789195178,0.04904769200192533,0.04862190729692289,0.04820337485516368,0.047788759302595143,0.047384420620256114,0.04698604578085506,0.04658844094620994,0.04620109281966062,0.04582164767676238,0.04544599162266366,0.045078059156929154,0.04471081898963297,0.04435049784802812,0.0439966021239918,0.04364403760911584,0.04330168616862691,0.04296364684664411,0.042628211994637816,0.042298948857621504,0.0419697753720862,0.04165054966348642,0.0413338028760322,0.04102116036974566,0.040714814596243,0.040412118256210106,0.040112255110316235,0.039817046452965126,0.03952652243665343,0.039240249013768796,0.03895904048173996,0.038682101814015525,0.038410806341615256,0.03813911689814924,0.03787282299206998,0.03761125734717719,0.03735177677674572,0.03709719024889864,0.036845805074152874,0.036595381058011744,0.03635088977271568,0.03611279144218289,0.035876764330386564,0.035641576936649814,0.03541260576850509,0.035187068293497936,0.03496337192848399,0.03474270797973034,0.03452509928016796,0.03431152474331993,0.03410327005209233,0.03389452087129537,0.03369041210820566,0.03348933027823704,0.03328958030847046,0.033093794652003614,0.03289789048641871,0.03270710740297089,0.03252159153861907,0.032336659042605215,0.032153673522205634,0.031973691992695175,0.031795581973136276,0.0316223448543133,0.031450987874493366,0.031279382993542916,0.031112444132248646,0.030948837190817986,0.030785927371192134,0.030623707421953708,0.030466137002457417,0.030310259964703046,0.030155945856837008,0.030004949505978228,0.029857099442612698,0.029708150955957635,0.029562962585425047,0.029419939773770387,0.029279508248180076,0.02914028091533932,0.029003801738997116,0.02886843462427229,0.028732603178318657,0.028602109796186072,0.028470594253489925,0.02834284457461625,0.028216227162066794,0.028092625778567613,0.02797060470690619,0.027851584352683777,0.027731384307246476,0.02761421964268957,0.027496838918234436,0.027382679011543593,0.02726997200663877,0.027158504300558356,0.027049748473912515,0.02694301895926285,0.026838602944515587,0.02673437739880451,0.026628552111885858,0.026526644475395274,0.026426415853324375,0.026326937742836544,0.02623001156025594,0.026133528900475586,0.02603922920619007,0.02594523066046637,0.02585308611148044,0.02576262175121288,0.025673047197976587,0.025585169806996093,0.025497942305886576,0.02541238233463432,0.02532817072630088,0.025245824156109545,0.02516232714171333,0.025080684517043705,0.024999772411428912,0.024920921453865794,0.024843283292331972,0.024767741669137186,0.02469327012437822,0.02461830353586369,0.024545073099001523,0.024472651788242566,0.024401394569804093,0.02433084440833974,0.024261107368624475,0.02419224484117026,0.024124996029922074,0.024058562481381347,0.02399260465406373,0.0239282925368098,0.023863147723806207,0.023800326326537263,0.023737734371093385,0.023676800643196435,0.023615718887479844,0.023556197493488376,0.023497185132629876,0.02343939273070508,0.023382796306956437,0.023326060556889242,0.02326992513276823,0.023215123468505183,0.023160991274535764,0.023108364833714416,0.02305558816627975,0.023003321372627655,0.022952143202124894,0.022902007466206672,0.02285224959151667,0.022802393303039452,0.02275324284874801,0.022705627761467076,0.02265967306926591,0.022613195107823572,0.02256802268130871,0.022523232415985615,0.022478740952594632,0.022435249980939896,0.022392640499746742,0.022349802443130624,0.022307632671529493,0.02226616899219157,0.022225697101980305,0.022185543734848896,0.02214579351304322,0.02210726450447987,0.022069191415876148,0.022031668889497875,0.021993751388266432,0.021957142674980064,0.02192047679718075,0.021884748694844008,0.021848869647248352,0.0218145784533349,0.021779817867069506,0.02174553682180484,0.021712330814797905,0.0216790908619327,0.02164680705929381,0.021614032637914716,0.0215815903175448,0.02154899551993801,0.02151799868377726,0.021487129660316993,0.021456793272940287,0.021427001318331834,0.021397522427662474,0.021369968507619238,0.0213418013788097,0.021314315479781788,0.02128726222226565,0.021259575913411682,0.02123274958069054,0.0212065716372108,0.02118065644307932,0.021155093282256204,0.021129938921450653,0.021105086975581153,0.021080761036213896,0.021056808529228324,0.021032561171341946,0.021009325757348773,0.02098597893306764,0.020963003714132435,0.02094016996479564,0.020917868307880862,0.02089600267124303,0.020874302170948957,0.02085273149712717,0.02083184681777875,0.020811075416094248,0.02079034797191359,0.020770381045971235,0.0207503904822864,0.020730960753542672,0.020712180723627436,0.0206927779991753,0.020674049463358473,0.02065483448992243,0.020636638309623607,0.020618657025830184,0.02060065611076581,0.020582883348729035,0.02056561934067129,0.02054827231221977,0.020531781985892283,0.020514650513615326,0.020498097687490342,0.02048177336754232,0.02046555830051879,0.02044984110729856,0.0204344760120449,0.0204191481139595,0.02040390155844793,0.020388710677243353,0.02037441196019275,0.020360184715978388,0.020345915250098892,0.02033190227759886,0.020318319889045887,0.020304456762699468,0.02029073686247565,0.02027767099558673,0.020264211729008056,0.020251370232571002,0.020238478831346947,0.020226146366903296,0.020213764255409793,0.020201404892175194,0.020189312895728003,0.020177606852533447,0.02016597097658244,0.02015415105296629,0.02014272097027521,0.02013152971513342,0.020120962948401152,0.020110189473948305,0.02009903122086538,0.02008824052032173,0.020077713767742,0.020067276408316737,0.020057296400231236,0.0200470964503928,0.0200375295691706,0.02002781034842949,0.020018262925352172,0.02000890195192226,0.01999954103477805,0.019990615698041392,0.019981618139389576,0.019972761104935156,0.019963679707911693,0.019954799996388932,0.019946017586182002,0.019937528449983075,0.01992892068885688,0.019920900328382615,0.019912520862143984,0.019904315271543422,0.0198961970716859,0.019888321802157667,0.019880756398721108,0.019872645001925565,0.01986534583091617,0.019857559683191122,0.019850209444406006,0.019842728183918277,0.01983539592393073,0.01982845899769526,0.01982170788882239,0.01981484579399785,0.019808039498212887,0.019801136128332352,0.01979479966683466,0.019788087361476407,0.01978193502951498,0.01977548205734926,0.019769209601634218,0.019763246845227293,0.01975721191602863,0.019751349006835554,0.019745445654344197,0.01973953907676766,0.019733940342998118,0.01972834027307918,0.019722672874404254,0.01971714363657858,0.01971179747755834,0.019706402888715856,0.019700978715499796,0.019695924880311508,0.01969066817048252,0.01968559043617276,0.019680556231051295,0.019675666985208725,0.019670838320695078,0.01966606928681126,0.019661378507622614,0.01965658393791172,0.01965198572145384,0.019647404757265584,0.019642674323831922,0.019638258870631437,0.019633906203885568,0.019629568859865637,0.01962534916115638,0.01962124069958124,0.01961701986088061,0.019613169424271527,0.019609288199554518,0.019605196328199452,0.019601240774265435,0.019597495050087718,0.019593775118140352,0.019590204151715508,0.019586566810150974,0.019582932701697076,0.01957947639010315,0.019576149617659296,0.01957276987468709,0.019569338174986375,0.019565843954047514,0.019562548568641185,0.01955943517879695,0.01955622486346198,0.019553176578290962,0.019550057304579017,0.019546853234726214,0.019543905420217108,0.019540975747479285,0.01953795869437534,0.01953501793093932,0.019532022941471876,0.01952920144254819,0.019526333110326057,0.019523754180208783,0.019521052040266582,0.01951815873523713,0.01951567606140186,0.01951298282634039,0.019510435366234993,0.01950797481288042,0.01950540484013994,0.01950294133689892,0.019500340943505633,0.01949804907986065,0.01949581997493159,0.01949353235100381,0.019491235163950685,0.01948913736246355,0.019486693245112423,0.019484553719091482,0.019482241582710266,0.019480001130702144,0.019477790989756875,0.01947566984131347,0.019473565194241964,0.019471404887088158,0.01946934158587273,0.01946720811908945,0.01946536120852989,0.019463286210166852,0.019461293247444097,0.019459367444508536,0.019457351706271164],\"type\":\"scatter\"},{\"name\":\"alpha = 0.07525000000000001\",\"x\":[1,2,3,4,5,6,7,8,9,10,11,12,13,14,15,16,17,18,19,20,21,22,23,24,25,26,27,28,29,30,31,32,33,34,35,36,37,38,39,40,41,42,43,44,45,46,47,48,49,50,51,52,53,54,55,56,57,58,59,60,61,62,63,64,65,66,67,68,69,70,71,72,73,74,75,76,77,78,79,80,81,82,83,84,85,86,87,88,89,90,91,92,93,94,95,96,97,98,99,100,101,102,103,104,105,106,107,108,109,110,111,112,113,114,115,116,117,118,119,120,121,122,123,124,125,126,127,128,129,130,131,132,133,134,135,136,137,138,139,140,141,142,143,144,145,146,147,148,149,150,151,152,153,154,155,156,157,158,159,160,161,162,163,164,165,166,167,168,169,170,171,172,173,174,175,176,177,178,179,180,181,182,183,184,185,186,187,188,189,190,191,192,193,194,195,196,197,198,199,200,201,202,203,204,205,206,207,208,209,210,211,212,213,214,215,216,217,218,219,220,221,222,223,224,225,226,227,228,229,230,231,232,233,234,235,236,237,238,239,240,241,242,243,244,245,246,247,248,249,250,251,252,253,254,255,256,257,258,259,260,261,262,263,264,265,266,267,268,269,270,271,272,273,274,275,276,277,278,279,280,281,282,283,284,285,286,287,288,289,290,291,292,293,294,295,296,297,298,299,300,301,302,303,304,305,306,307,308,309,310,311,312,313,314,315,316,317,318,319,320,321,322,323,324,325,326,327,328,329,330,331,332,333,334,335,336,337,338,339,340,341,342,343,344,345,346,347,348,349,350,351,352,353,354,355,356,357,358,359,360,361,362,363,364,365,366,367,368,369,370,371,372,373,374,375,376,377,378,379,380,381,382,383,384,385,386,387,388,389,390,391,392,393,394,395,396,397,398,399,400,401,402,403,404,405,406,407,408,409,410,411,412,413,414,415,416,417,418,419,420,421,422,423,424,425,426,427,428,429,430,431,432,433,434,435,436,437,438,439,440,441,442,443,444,445,446,447,448,449,450,451,452,453,454,455,456,457,458,459,460,461,462,463,464,465,466,467,468,469,470,471,472,473,474,475,476,477,478,479,480,481,482,483,484,485,486,487,488,489,490,491,492,493,494,495,496,497,498,499,500,501,502,503,504,505,506,507,508,509,510,511,512,513,514,515,516,517,518,519,520,521,522,523,524,525,526,527,528,529,530,531,532,533,534,535,536,537,538,539,540,541,542,543,544,545,546,547,548,549,550,551,552,553,554,555,556,557,558,559,560,561,562,563,564,565,566,567,568,569,570,571,572,573,574,575,576,577,578,579,580,581,582,583,584,585,586,587,588,589,590,591,592,593,594,595,596,597,598,599,600,601,602,603,604,605,606,607,608,609,610,611,612,613,614,615,616,617,618,619,620,621,622,623,624,625,626,627,628,629,630,631,632,633,634,635,636,637,638,639,640,641,642,643,644,645,646,647,648,649,650,651,652,653,654,655,656,657,658,659,660,661,662,663,664,665,666,667,668,669,670,671,672,673,674,675,676,677,678,679,680,681,682,683,684,685,686,687,688,689,690,691,692,693,694,695,696,697,698,699,700,701,702,703,704,705,706,707,708,709,710,711,712,713,714,715,716,717,718,719,720,721,722,723,724,725,726,727,728,729,730,731,732,733,734,735,736,737,738,739,740,741,742,743,744,745,746,747,748,749,750,751,752,753,754,755,756,757,758,759,760,761,762,763,764,765,766,767,768,769,770,771,772,773,774,775,776,777,778,779,780,781,782,783,784,785,786,787,788,789,790,791,792,793,794,795,796,797,798,799,800,801,802,803,804,805,806,807,808,809,810,811,812,813,814,815,816,817,818,819,820,821,822,823,824,825,826,827,828,829,830,831,832,833,834,835,836,837,838,839,840,841,842,843,844,845,846,847,848,849,850,851,852,853,854,855,856,857,858,859,860,861,862,863,864,865,866,867,868,869,870,871,872,873,874,875,876,877,878,879,880,881,882,883,884,885,886,887,888,889,890,891,892,893,894,895,896,897,898,899,900,901,902,903,904,905,906,907,908,909,910,911,912,913,914,915,916,917,918,919,920,921,922,923,924,925,926,927,928,929,930,931,932,933,934,935,936,937,938,939,940,941,942,943,944,945,946,947,948,949,950,951,952,953,954,955,956,957,958,959,960,961,962,963,964,965,966,967,968,969,970,971,972,973,974,975,976,977,978,979,980,981,982,983,984,985,986,987,988,989,990,991,992,993,994,995,996,997,998,999,1000],\"y\":[9.010320018889784,8.689123788304586,8.355098130057542,8.037225762439446,7.7300281809053475,7.435270448164555,7.153368360829441,6.888402474584359,6.631867350832932,6.38320308645749,6.147721747049056,5.921123328251431,5.7035483118463075,5.4979514842749655,5.301414352506283,5.1143285180061975,4.9362051273252305,4.762835242246743,4.597121582145676,4.438971953091069,4.285674751711442,4.1392786136907915,3.9991426209483025,3.865907969738191,3.7369053411599435,3.612343576679128,3.4935771459477123,3.3786849360024545,3.267578504252409,3.161369317070352,3.0604191155079237,2.9647029747504967,2.871380365561713,2.781027838342866,2.69489222664261,2.612757474522713,2.5330100833571834,2.45581014730976,2.3815537950313845,2.311089768201114,2.2412698815115926,2.1751986402374768,2.110662503548711,2.0496732439142873,1.9904961973168491,1.9333751581355854,1.877596814768467,1.8238587462144917,1.7726549303857482,1.7231322882571136,1.6753488055689856,1.6295464744468642,1.5854410153289393,1.5428237016052848,1.501837777516597,1.461941304756021,1.4232738203273942,1.3862797827291296,1.3497091957094725,1.314547589157857,1.2813834091276368,1.2491147206736917,1.2177655375901129,1.1874282744631386,1.1578903558435587,1.129549856685917,1.1018640439249783,1.0752518335559669,1.0491281582208205,1.0238631156634268,0.999275680592014,0.9758773182273894,0.9531243169406838,0.9309811927714425,0.9094986168858642,0.8886885252736183,0.8685164151797584,0.8489334789885051,0.8302129497052044,0.8115863752716516,0.7938154915672425,0.7764579646990304,0.7596170421755897,0.743260744981918,0.7275004437638634,0.7119937816556009,0.696859990593561,0.6823588770394675,0.6680327463729065,0.6542539229828686,0.6408911398924156,0.6278834243131531,0.6150994185020867,0.6028814566332554,0.5909141613519705,0.5792543785997949,0.5679706616178009,0.5569812736369205,0.5461105808431334,0.5356455837742388,0.5253663727414235,0.5153529114755121,0.5055836700688676,0.4961969044080615,0.4869420742090328,0.47792944579937635,0.46911152638216075,0.460538104476798,0.45218977123975457,0.4440587551815341,0.43613716970004035,0.42843280207753465,0.42078513368798626,0.4133872152419713,0.4060584949601559,0.3990254970542546,0.392115408495793,0.3853589660566966,0.37879866327994877,0.37235205423081535,0.3659945102694797,0.3598489420958595,0.3538389501721509,0.34793746737793835,0.3422153715448109,0.33660480389262165,0.3311746769248867,0.32580609470368954,0.320528249650694,0.315356460755488,0.31032418531846645,0.30540192011658557,0.3005472479730026,0.29582831798958004,0.29118358421841106,0.2866040943500847,0.28213985399555436,0.2777929636722326,0.27351906891830025,0.269333727163594,0.265235573695932,0.2612059576613988,0.25721654579113684,0.2533628987978276,0.24958811665799327,0.24588908420608988,0.24221953616248967,0.2386169032082846,0.23504081771037405,0.2316052136953782,0.22824062886868673,0.2249105565452021,0.2216293545580087,0.21844261359039976,0.21532811167434482,0.21224686806410478,0.2092408651112334,0.20627150523835358,0.2033551717715876,0.20048513700973902,0.1976780024452914,0.19492420706317604,0.19217033353550372,0.1894800792796616,0.18684300489783634,0.184229600131934,0.18168677227273605,0.1792069363950435,0.17674299079575703,0.17437108671911267,0.17199401298852718,0.1696473826086362,0.16735299634073608,0.16509159755058922,0.16289843344971078,0.160718231207621,0.15858994759196415,0.15648908877495254,0.15442152403692694,0.152380315872399,0.1503886235257928,0.14842904227147571,0.14650699644943196,0.14459567265334183,0.14271436549000138,0.14090585202742353,0.13910135305249643,0.13731914986517177,0.13557806427761068,0.13386191167167744,0.13217870308995358,0.13051573292616306,0.12887759647697908,0.12727373154902635,0.125678483403092,0.12412749217447465,0.12258700963485408,0.12106739980299838,0.11955068648748732,0.11808819516230318,0.11663658728900583,0.11523775130913622,0.11385393400469426,0.11247740059736756,0.11111910015534784,0.10978478478108204,0.10847744941859677,0.1071903273563434,0.10592850350861827,0.10467450971312313,0.10344141258309496,0.1022281048122291,0.1010429283845133,0.09985999500854466,0.09869918258283243,0.097560922542562,0.096437964937124,0.09532349833095087,0.09422660201663373,0.09314556698050563,0.09209335064030452,0.09104785840816366,0.0900265926196857,0.08902031586348828,0.08801222345874693,0.08703078547817897,0.08606607242598732,0.08512040404858362,0.08418916074120968,0.08326406133589223,0.0823544316207294,0.08145332180861313,0.0805690202712857,0.07969525229334294,0.07884369772479163,0.07798805373277819,0.07714209766794031,0.07631115602532439,0.07550855325805027,0.07471709431938313,0.07392762571363563,0.07315466793946658,0.07238787020542543,0.07163526322468262,0.07088850581552247,0.07014794257948914,0.0694194347827045,0.06870904731685733,0.06800772028704039,0.06731749978024838,0.06663903302934329,0.06597225478574555,0.06530769935253271,0.06465929417831588,0.06401573380467604,0.0633861157321289,0.06276853422493253,0.062154773427984464,0.06154846290847394,0.060952956457552374,0.060368078602128186,0.05978847908480064,0.05921415383691104,0.05864889476041335,0.05809440242442609,0.05754759740686157,0.0570067796800502,0.05647879916170659,0.055956042739212807,0.055438162708025686,0.05492664695820506,0.05442471758791406,0.053930988708675374,0.05344505722182262,0.05296668740007204,0.05249209121152689,0.0520287452000492,0.05157071911342256,0.051117466517860866,0.05067033368667105,0.05022903585029921,0.04979573784514603,0.04936971651855477,0.048948507024083716,0.048528906721039315,0.04811937946928009,0.04771836149276724,0.047322589141707457,0.04693276922184153,0.04654443314675567,0.04616635934424736,0.04578929689969252,0.045417461147005,0.04504995100354475,0.04469107250117528,0.0443351282488507,0.043985204485710125,0.04363780246682823,0.04329618804515156,0.042957726844546365,0.04262570147900441,0.042301006383734296,0.04197907475621227,0.04166269589409569,0.041351743112532105,0.04104298481415868,0.040737826907847774,0.040435202542158676,0.04013771226000854,0.03984485750992593,0.03955707914269568,0.03927531886870919,0.03899543449589438,0.03872059077944969,0.03844831119724592,0.038180919551228126,0.03791974454340265,0.037658605408656926,0.03740163181235166,0.0371491703655918,0.03690242842982602,0.03665745185734798,0.036413653878441504,0.036173364807165966,0.03593843640100106,0.03570605340323191,0.035478037320845,0.03525373724008157,0.03503036639660336,0.0348099841870667,0.0345927754891029,0.034381341153910144,0.03416987817737326,0.033962403086016286,0.03375693915797499,0.033556744879784654,0.03335837524353834,0.033161197965963375,0.032969669088752096,0.032779362979345736,0.03259170496976224,0.03240594680165116,0.03222369448750847,0.03204249910570446,0.03186436494031668,0.031687455806646225,0.03151339785288221,0.03134447440150252,0.031177685734896585,0.03101141596146372,0.030847833058086083,0.030686684660356817,0.030527609473441374,0.030370958987086447,0.03021786290028714,0.030066513395288624,0.029914882576400948,0.029768413251156468,0.02962256345654598,0.029477390972916566,0.029335335499912442,0.029195288038699457,0.029056780580001572,0.028920480484328846,0.028785992013230264,0.028653220731914626,0.02852229429415246,0.028393281695323402,0.028265298595301323,0.028139959112413987,0.028017040331710253,0.027895612286912994,0.027776553809737932,0.027658692630696768,0.02754249870866275,0.027427151343186025,0.027313586655947755,0.027201413001943363,0.027090190410124178,0.026981828233377136,0.026874678559528423,0.02676979425131402,0.026665852200714164,0.02656384205619247,0.026462697673117944,0.026363876253919703,0.02626578419763678,0.02616937165836263,0.026074989083202393,0.02598127109801702,0.025888228981495676,0.025797380954916974,0.02570718099635503,0.02561659618171851,0.02552658567970612,0.025439320521830906,0.02535425920395275,0.025269468917994795,0.025186560601698414,0.025105764684876387,0.02502546269513727,0.024945878633289068,0.024867518414120608,0.024790198809503384,0.024713320859606643,0.024637726757342056,0.02456310420772269,0.024491294607249605,0.02441919840601764,0.024347466254996578,0.02427697619942769,0.024208077384337588,0.024139934663631575,0.024073456527711607,0.024007408941162864,0.0239424983675813,0.023878364543130443,0.02381405762558618,0.023751320391551055,0.023689561622501062,0.02362813219034487,0.023567922021828162,0.02350837408558861,0.023450157167967185,0.023391932193070127,0.02333593877669024,0.02327979050306137,0.023224514623892564,0.023170676201330467,0.023117386490672253,0.023064594468132128,0.023012738020680837,0.022960889348318882,0.02291066739258101,0.022860598573649415,0.022812462593768398,0.02276379760607256,0.022715242041377755,0.02266822436638423,0.02262139558405752,0.022575033453699128,0.022529986139802317,0.02248534066467892,0.022441965535829778,0.022397984581486674,0.02235509806149209,0.0223126401136517,0.02227176444814829,0.022230696820801414,0.022190863468022796,0.02215134175271072,0.022112071520610538,0.02207304056888682,0.02203486448147357,0.02199626287693829,0.02195941400239741,0.021922758560207947,0.021886459071278806,0.021850451815141204,0.021815881168855165,0.02178048918869795,0.021745963113432,0.021712037691627335,0.02167844360448264,0.021645439490055884,0.02161285970095539,0.02158159507346726,0.021550054109014262,0.02151911853737988,0.021488827023308985,0.02145802221063548,0.02142829234896315,0.021398805546567555,0.02137009192782188,0.021341653273269028,0.02131328189212828,0.021285504865887553,0.021258525270008072,0.021231804310406267,0.021204703031150365,0.021178888521850573,0.021153161793530734,0.021127663972879462,0.021102131290859322,0.02107692223545238,0.02105250610368669,0.021028222007693633,0.021004058717311647,0.020980772660384457,0.02095791720871263,0.02093497985506208,0.02091224970713664,0.02088966871908235,0.020867927735176997,0.020846506222697646,0.020825057435867097,0.02080416456185765,0.02078340546104243,0.020763008109044398,0.020742722141293992,0.02072301404183064,0.020703382855072717,0.020684069689611968,0.020665159917315584,0.020646782034630554,0.020628252285759284,0.020609838420435216,0.02059210105786182,0.020574231601136677,0.02055656741331053,0.020539423729885042,0.020522241633582808,0.02050570727392685,0.020488909925375824,0.02047294717874857,0.02045708769024749,0.020441024641153143,0.02042554415944657,0.020410116968237635,0.020395208665904503,0.02038055512061139,0.02036555762494304,0.020351249114197344,0.02033684445559487,0.020322878039187715,0.020308934780930217,0.020295011641825563,0.020281511738693202,0.02026840123534991,0.020255217597405308,0.020242028543220415,0.020229513178127812,0.02021725627896494,0.02020484533721783,0.02019241919710693,0.020180131873508415,0.02016787893556923,0.020156216243748346,0.020144165172734117,0.020132889573842093,0.02012144068617191,0.020110125715935984,0.02009929783574397,0.020088578614198882,0.020077869462652227,0.02006753625013918,0.020057253991191584,0.02004703704741618,0.02003709904916957,0.0200270259737615,0.02001655086493741,0.02000685650791094,0.019997531346475975,0.01998812485283534,0.019978814807077108,0.01996947844502784,0.019960360394425742,0.01995131847418948,0.01994245306198085,0.019933904113143875,0.019925286701712508,0.01991660141296225,0.019908154575201273,0.019900144771821678,0.019892072322799374,0.019883996924131054,0.019876267465428022,0.019868777448121107,0.01986111287788222,0.01985351295831255,0.01984593321647868,0.01983870203297835,0.019831688749136222,0.01982422766250711,0.019816987417860175,0.019809970987881984,0.01980324744440724,0.019796669301821813,0.019790062509270033,0.019783630252375676,0.019777170518045884,0.019770721761212005,0.01976452819284749,0.01975853409511829,0.01975223622434344,0.019746649223758003,0.019740852872355982,0.01973528128835737,0.019729431826327172,0.01972365079356648,0.019718018764639113,0.019712256096526326,0.019706864344100627,0.019701759346615087,0.019696489260308796,0.019691147195234716,0.019685989273561237,0.01968110488949234,0.019675973322609567,0.019671322489968952,0.019666536897083916,0.01966172432679966,0.019657070582914937,0.01965267243957176,0.01964828733365717,0.019643832936267695,0.01963928132598958,0.01963480889774577,0.019630443808482827,0.019626505924294317,0.01962241868812517,0.01961829148763269,0.019614033592336287,0.01961007006744038,0.019606202475123027,0.019602240209141954,0.019598275694865178,0.019594683486159253,0.01959069512669795,0.019587191677278414,0.019583440481842913,0.019579749634421717,0.019576131866457895,0.019572687688602475,0.019569084710898473,0.019565668818283505,0.019562349782612287,0.019559230380137824,0.019555851286371863,0.019552408710243975,0.019549255929085997,0.019546065923492645,0.01954314076032594,0.019540016063805066,0.019536935972568194,0.019534035120026327,0.01953108913152292,0.019528393096925303,0.01952549918443845,0.019522703381459134,0.01951995457818386,0.019517214258766402,0.01951467675186199,0.019512102961643952,0.01950951012377389,0.01950685151360139,0.019504286126176204,0.019501752875308212,0.019499294574959424,0.019496875778180184,0.019494435582935732,0.019492012894582317,0.019489816251776287,0.019487409361197677,0.019485266570204027],\"type\":\"scatter\"},{\"name\":\"alpha = 0.1\",\"x\":[1,2,3,4,5,6,7,8,9,10,11,12,13,14,15,16,17,18,19,20,21,22,23,24,25,26,27,28,29,30,31,32,33,34,35,36,37,38,39,40,41,42,43,44,45,46,47,48,49,50,51,52,53,54,55,56,57,58,59,60,61,62,63,64,65,66,67,68,69,70,71,72,73,74,75,76,77,78,79,80,81,82,83,84,85,86,87,88,89,90,91,92,93,94,95,96,97,98,99,100,101,102,103,104,105,106,107,108,109,110,111,112,113,114,115,116,117,118,119,120,121,122,123,124,125,126,127,128,129,130,131,132,133,134,135,136,137,138,139,140,141,142,143,144,145,146,147,148,149,150,151,152,153,154,155,156,157,158,159,160,161,162,163,164,165,166,167,168,169,170,171,172,173,174,175,176,177,178,179,180,181,182,183,184,185,186,187,188,189,190,191,192,193,194,195,196,197,198,199,200,201,202,203,204,205,206,207,208,209,210,211,212,213,214,215,216,217,218,219,220,221,222,223,224,225,226,227,228,229,230,231,232,233,234,235,236,237,238,239,240,241,242,243,244,245,246,247,248,249,250,251,252,253,254,255,256,257,258,259,260,261,262,263,264,265,266,267,268,269,270,271,272,273,274,275,276,277,278,279,280,281,282,283,284,285,286,287,288,289,290,291,292,293,294,295,296,297,298,299,300,301,302,303,304,305,306,307,308,309,310,311,312,313,314,315,316,317,318,319,320,321,322,323,324,325,326,327,328,329,330,331,332,333,334,335,336,337,338,339,340,341,342,343,344,345,346,347,348,349,350,351,352,353,354,355,356,357,358,359,360,361,362,363,364,365,366,367,368,369,370,371,372,373,374,375,376,377,378,379,380,381,382,383,384,385,386,387,388,389,390,391,392,393,394,395,396,397,398,399,400,401,402,403,404,405,406,407,408,409,410,411,412,413,414,415,416,417,418,419,420,421,422,423,424,425,426,427,428,429,430,431,432,433,434,435,436,437,438,439,440,441,442,443,444,445,446,447,448,449,450,451,452,453,454,455,456,457,458,459,460,461,462,463,464,465,466,467,468,469,470,471,472,473,474,475,476,477,478,479,480,481,482,483,484,485,486,487,488,489,490,491,492,493,494,495,496,497,498,499,500,501,502,503,504,505,506,507,508,509,510,511,512,513,514,515,516,517,518,519,520,521,522,523,524,525,526,527,528,529,530,531,532,533,534,535,536,537,538,539,540,541,542,543,544,545,546,547,548,549,550,551,552,553,554,555,556,557,558,559,560,561,562,563,564,565,566,567,568,569,570,571,572,573,574,575,576,577,578,579,580,581,582,583,584,585,586,587,588,589,590,591,592,593,594,595,596,597,598,599,600,601,602,603,604,605,606,607,608,609,610,611,612,613,614,615,616,617,618,619,620,621,622,623,624,625,626,627,628,629,630,631,632,633,634,635,636,637,638,639,640,641,642,643,644,645,646,647,648,649,650,651,652,653,654,655,656,657,658,659,660,661,662,663,664,665,666,667,668,669,670,671,672,673,674,675,676,677,678,679,680,681,682,683,684,685,686,687,688,689,690,691,692,693,694,695,696,697,698,699,700,701,702,703,704,705,706,707,708,709,710,711,712,713,714,715,716,717,718,719,720,721,722,723,724,725,726,727,728,729,730,731,732,733,734,735,736,737,738,739,740,741,742,743,744,745,746,747,748,749,750,751,752,753,754,755,756,757,758,759,760,761,762,763,764,765,766,767,768,769,770,771,772,773,774,775,776,777,778,779,780,781,782,783,784,785,786,787,788,789,790,791,792,793,794,795,796,797,798,799,800,801,802,803,804,805,806,807,808,809,810,811,812,813,814,815,816,817,818,819,820,821,822,823,824,825,826,827,828,829,830,831,832,833,834,835,836,837,838,839,840,841,842,843,844,845,846,847,848,849,850,851,852,853,854,855,856,857,858,859,860,861,862,863,864,865,866,867,868,869,870,871,872,873,874,875,876,877,878,879,880,881,882,883,884,885,886,887,888,889,890,891,892,893,894,895,896,897,898,899,900,901,902,903,904,905,906,907,908,909,910,911,912,913,914,915,916,917,918,919,920,921,922,923,924,925,926,927,928,929,930,931,932,933,934,935,936,937,938,939,940,941,942,943,944,945,946,947,948,949,950,951,952,953,954,955,956,957,958,959,960,961,962,963,964,965,966,967,968,969,970,971,972,973,974,975,976,977,978,979,980,981,982,983,984,985,986,987,988,989,990,991,992,993,994,995,996,997,998,999,1000],\"y\":[16.850354694095728,15.985233487873254,15.090372634960568,14.245617946208307,13.462719584178947,12.725690484943966,12.033704511145201,11.401441263230996,10.808384776484232,10.258602056353709,9.736680298255312,9.256309400420001,8.802559938092624,8.378666796320724,7.978642964060629,7.604076751497683,7.25149609907093,6.917758250652216,6.604337804671286,6.304728869708252,6.020896489279989,5.753242971331773,5.499386122654568,5.263098996048512,5.035542981797797,4.820479566570956,4.618291258283546,4.4264088744585255,4.243432517817543,4.070152818002811,3.9067143390613297,3.749271743630141,3.598593240685167,3.4554706286439925,3.3192305606482573,3.189205191161662,3.065584879804465,2.948473344429707,2.835341415291681,2.7275085370746437,2.623034903283388,2.5246378054230587,2.4300769952744954,2.339413769765984,2.252868159066251,2.170148811442666,2.0912464737496204,2.0152464265603727,1.942652926773738,1.8738141932592118,1.8068644924045758,1.7424459911076666,1.6807540199823614,1.6217053537108612,1.5653147429085912,1.5105621321076084,1.4576464800726538,1.4069812208165506,1.359067630659326,1.3126458599969706,1.267528094293228,1.2245604440654971,1.1834016184734664,1.1436678186044378,1.1052949914044563,1.0686463755884008,1.0329906788668797,0.9988023427313896,0.9656989170321792,0.9342089249917036,0.9041538727588531,0.874912073674953,0.8469930320683763,0.8200039454091403,0.7938708796968612,0.7688061945019408,0.7445996299681333,0.7212293842028918,0.6989389887726896,0.6772401634466266,0.6562210303161876,0.6361486454642857,0.6167195480551235,0.5979541028657002,0.5798585572968935,0.5624054651267447,0.5455150516344514,0.529145000793147,0.5135345753901815,0.4984352776635157,0.4837544223622607,0.4698093641042031,0.4561448831407065,0.44293512656668627,0.43016424261503117,0.41788894742636556,0.4059327005489921,0.3945031672764128,0.3835152216645442,0.372950585508276,0.36263115567826,0.352667889786879,0.34302731682442095,0.3338291507833798,0.3248296343921371,0.3161385367373197,0.30764981494264887,0.2994840542634255,0.2916381219943942,0.2839947433571752,0.2766530789665115,0.2695816064480051,0.2626878804100075,0.2560409625047585,0.24960483052578233,0.24330740398321854,0.2372341487654519,0.23142425240537823,0.22572960282036245,0.22018724906965345,0.21488508131934533,0.2097436383685772,0.2047997452522513,0.19995080795333306,0.1952666871555311,0.1907535564713537,0.18635954017545728,0.1821082635667581,0.1779898161364649,0.17397059312557325,0.1701060175399285,0.16634675468873683,0.16265770347123898,0.15918609097104958,0.1557802828620896,0.15246139147598622,0.14922277082058527,0.14610563646839952,0.14301815780659335,0.14006545861808734,0.13717261836213365,0.1343796762399657,0.1316695539814651,0.1290384978135587,0.12650495107354787,0.12402211655169823,0.12159109210144634,0.11924733655415887,0.11695880383231243,0.11474348797657113,0.11258061419718506,0.1104997283061658,0.10844752065237623,0.1064729756575295,0.10453506909906547,0.10267519386577761,0.10085420403244129,0.09907338147554146,0.09735412177443356,0.09565536775277236,0.09400702302866042,0.09241312253343852,0.09084332290185727,0.08932416511856169,0.08785247015081456,0.08641104113067478,0.08501278165528522,0.0836611994688642,0.08233272342751799,0.08101814501537916,0.07975181144948505,0.07850683897764821,0.07730092313507388,0.07613331711637639,0.07498912594039815,0.07387013036039507,0.07278207754421256,0.07172687759914913,0.07069204575287817,0.06968543464855319,0.06869581362270089,0.06772310726141571,0.06677565569717454,0.06586517470787405,0.06497670668615328,0.06410044800242137,0.063240446276836,0.06239952987529504,0.06158774378454424,0.06078764441376676,0.06001088134627657,0.059239082209936816,0.058493236250923085,0.057767564192347624,0.057056018369016484,0.0563630724717986,0.055687139378076095,0.05501597792812404,0.054358667388487776,0.05372226656872261,0.053102021658985546,0.05249332893174796,0.0519049867327868,0.051316418643350716,0.05074830623397192,0.05018657889223763,0.04963684199497677,0.049089951933726284,0.04856358279808381,0.04805076247728013,0.047544764329695344,0.04705394109611135,0.04657616686868585,0.046100437922507384,0.04563165731239924,0.0451770631657986,0.044724988382720654,0.0442903014425806,0.04386435632468959,0.04344393718705609,0.043032301202491054,0.0426211782815518,0.042222663141046356,0.041833792957201715,0.04145436357071999,0.04107624219445319,0.04071433510529285,0.04035323985975249,0.0400009732437645,0.03965867924616237,0.03932389631581632,0.038996373008680064,0.03867226733121718,0.03835663260055297,0.03804357866365529,0.037737241773145226,0.03743330294734383,0.037134087543135894,0.03684478122789864,0.0365583280839926,0.03627853634632425,0.03600389198119687,0.03573512036380089,0.0354731207695613,0.03521558855266412,0.0349608678934304,0.034704795409831006,0.034456082052141256,0.034214368482289606,0.03397333324942668,0.03374250556695146,0.03351224876093368,0.03328716092902784,0.033067203884505084,0.03285022256063575,0.03263584175024654,0.032424759452924154,0.032217715388963175,0.03201170742829484,0.03181100482178258,0.03161314204643643,0.031422809812052394,0.031234343073353835,0.031046916149840342,0.030863736938119373,0.03068435179911977,0.030507324986009457,0.030330647936180136,0.03015881439978907,0.029989369890084064,0.029823549975266865,0.029664083169260516,0.02950611451314864,0.02934953348416776,0.029195074205239827,0.02904284345081063,0.028893279877283507,0.02874760849527463,0.028603145140215353,0.028459777238499444,0.028319843057157103,0.028182363163088562,0.028047543847516065,0.027914582882063523,0.027785145703277243,0.027655310952407253,0.027528857632772415,0.027404399190174546,0.027282955026719055,0.027162688078573832,0.02704365344522975,0.026926799613409106,0.02681197616548172,0.02669884930592538,0.026586908176425755,0.026476665766631286,0.02636806345119967,0.026262423946156733,0.026156682714169648,0.02605410008871442,0.025951583737226627,0.025851265381855393,0.025753363650872142,0.025657068502688417,0.025563242943951167,0.025470238255573017,0.02537836094622943,0.025287823369564717,0.025198467068623557,0.02511122579992675,0.025026017348096313,0.024941270798610294,0.0248559022682572,0.02477240376698398,0.02469039747500866,0.024610301112407154,0.02453137852318894,0.02445382721882712,0.024377537115265985,0.02430242062959624,0.024228470823193102,0.024156490842300538,0.02408313641658507,0.02401162597385709,0.023940953745316976,0.023872556671985748,0.023804109667336298,0.023737444355523517,0.02367264106887014,0.02360930246326322,0.023546037354436066,0.02348389792353967,0.02342189393526948,0.023362878402450132,0.02330331931240045,0.02324291134066214,0.02318450768979255,0.023127031444571927,0.023071704276638016,0.023015728134294464,0.02296005105209951,0.02290725959426319,0.022855013907216285,0.02280311280649075,0.02275257487879133,0.022701422716099064,0.022652244803156835,0.02260266734489953,0.022554689034822623,0.022507991864800046,0.022461185545336212,0.022415486530403244,0.022369527459223403,0.02232406282972649,0.022280520752245018,0.02223739084747314,0.022194459333476448,0.022152242493719616,0.022111595296438198,0.02207094786152036,0.022030643549046717,0.021991630245395966,0.021952912325604125,0.021914702870293574,0.0218768732309445,0.021840097418160904,0.021804268027041572,0.02176813246275043,0.021731630866420232,0.021696030566893558,0.021660961700555703,0.02162632551930311,0.02159162463392947,0.021557456077609425,0.021525343431978552,0.02149263821405606,0.02146067463233985,0.02142927409976833,0.021398337336965213,0.021367858512192767,0.021338081068544717,0.02130892797306834,0.021279033869169458,0.021250596458092245,0.02122258206202701,0.021194971983936214,0.021167650126805493,0.021140544148370174,0.021114453439420262,0.021088979911454142,0.02106346014153854,0.021039287395471507,0.02101376086554505,0.020988883218900318,0.02096490895059651,0.020940838685826413,0.020918029555516936,0.02089554834352842,0.02087287956987305,0.020849933524846733,0.02082745583535518,0.02080579680303833,0.02078471647936761,0.02076391426018585,0.020743122853160684,0.02072240688289643,0.02070217813505955,0.02068207903889428,0.020662213105977614,0.02064275327362182,0.020623484435009755,0.020604553045082928,0.02058614827840919,0.02056719525048399,0.020549174455428258,0.02053120816685924,0.020513904668616727,0.020496344436540796,0.020479342559020862,0.020462496917446074,0.020445544074813325,0.020429023084419993,0.020412971240708743,0.0203972077138309,0.02038152627202097,0.02036606113606563,0.02035057064331482,0.020336169908183557,0.020321923511137735,0.02030726794574471,0.020293438623463916,0.020279299111398787,0.020265067564237398,0.02025149989895313,0.020237725154297236,0.02022434466910136,0.020210760153186638,0.0201975747932339,0.020184995649487808,0.020172705815952704,0.020160604641757143,0.020148688215505094,0.02013671658301565,0.020124770973393356,0.020112860113223205,0.020101369362125417,0.020090145679496338,0.020078954481661016,0.020068275576499373,0.02005799385224394,0.020047337278545282,0.020036790168564047,0.02002660837224242,0.02001613881456244,0.020006409485559873,0.01999646930112733,0.01998686279235526,0.019977259444874284,0.0199677709668912,0.019958478178807207,0.0199493795697247,0.01994064737684196,0.019931596241573132,0.019923020378101865,0.01991406091797713,0.01990526080214043,0.01989688790436932,0.01988872228269025,0.01988060584810356,0.019872819058403803,0.019864710280709907,0.019856843033953804,0.019849354373380805,0.01984164818105453,0.01983449438016631,0.019826814311935725,0.019819139306800584,0.019812212038911356,0.019805113176641093,0.01979824936552544,0.019791566753699637,0.01978467831366334,0.019778083849617524,0.019771486954890744,0.01976502864203694,0.01975854373482397,0.019752172809226965,0.019746199212024654,0.01974033238076258,0.019734448435899103,0.01972879657752208,0.019722780044737626,0.019717034475803478,0.01971131886259707,0.0197053981099711,0.01969997791986837,0.019694652037721184,0.019689439882280356,0.019684155511643153,0.01967887807172094,0.01967346581205206,0.01966806227899328,0.019663045635967324,0.019658214032696516,0.01965339683641248,0.019648618644143287,0.01964388105377508,0.019639373963778673,0.019634501338852313,0.01962996402277124,0.019625491028462345,0.019621094214501016,0.019616790662520492,0.019612591422225916,0.019608361021561924,0.01960424206021523,0.019600335585729524,0.019596440562691303,0.019592511307253285,0.01958855830783694,0.01958469229702518,0.01958095515927733,0.01957725794049147,0.019573828982846635,0.01957028583210884,0.019566520275632014,0.019563074838380122,0.01955949160866951,0.019556187765500596,0.019552757503504457,0.019549584304869014,0.0195466063589168,0.019543702964845686,0.019540480122135384,0.019537424595266775,0.019534289334944322,0.019531365163172866,0.019528375647512475,0.0195255349298524,0.019522682639560945,0.0195198837045208,0.019517036207098604,0.019514256878292974,0.019511565456941157,0.019508909582698478,0.01950626461584637,0.0195035663057219,0.019500858620293746,0.019498170410032833,0.019495537787944547,0.01949304837193406,0.019490676503987926,0.01948818188070827,0.019485813364550773,0.0194835804834661,0.01948128359152814,0.019478983801350054,0.01947667425270013,0.019474424183284336,0.01947217642590966,0.019469907530480782,0.019467851838977,0.019465785879351653,0.019463661788746315],\"type\":\"scatter\"}],                        {\"template\":{\"data\":{\"histogram2dcontour\":[{\"type\":\"histogram2dcontour\",\"colorbar\":{\"outlinewidth\":0,\"ticks\":\"\"},\"colorscale\":[[0.0,\"#0d0887\"],[0.1111111111111111,\"#46039f\"],[0.2222222222222222,\"#7201a8\"],[0.3333333333333333,\"#9c179e\"],[0.4444444444444444,\"#bd3786\"],[0.5555555555555556,\"#d8576b\"],[0.6666666666666666,\"#ed7953\"],[0.7777777777777778,\"#fb9f3a\"],[0.8888888888888888,\"#fdca26\"],[1.0,\"#f0f921\"]]}],\"choropleth\":[{\"type\":\"choropleth\",\"colorbar\":{\"outlinewidth\":0,\"ticks\":\"\"}}],\"histogram2d\":[{\"type\":\"histogram2d\",\"colorbar\":{\"outlinewidth\":0,\"ticks\":\"\"},\"colorscale\":[[0.0,\"#0d0887\"],[0.1111111111111111,\"#46039f\"],[0.2222222222222222,\"#7201a8\"],[0.3333333333333333,\"#9c179e\"],[0.4444444444444444,\"#bd3786\"],[0.5555555555555556,\"#d8576b\"],[0.6666666666666666,\"#ed7953\"],[0.7777777777777778,\"#fb9f3a\"],[0.8888888888888888,\"#fdca26\"],[1.0,\"#f0f921\"]]}],\"heatmap\":[{\"type\":\"heatmap\",\"colorbar\":{\"outlinewidth\":0,\"ticks\":\"\"},\"colorscale\":[[0.0,\"#0d0887\"],[0.1111111111111111,\"#46039f\"],[0.2222222222222222,\"#7201a8\"],[0.3333333333333333,\"#9c179e\"],[0.4444444444444444,\"#bd3786\"],[0.5555555555555556,\"#d8576b\"],[0.6666666666666666,\"#ed7953\"],[0.7777777777777778,\"#fb9f3a\"],[0.8888888888888888,\"#fdca26\"],[1.0,\"#f0f921\"]]}],\"heatmapgl\":[{\"type\":\"heatmapgl\",\"colorbar\":{\"outlinewidth\":0,\"ticks\":\"\"},\"colorscale\":[[0.0,\"#0d0887\"],[0.1111111111111111,\"#46039f\"],[0.2222222222222222,\"#7201a8\"],[0.3333333333333333,\"#9c179e\"],[0.4444444444444444,\"#bd3786\"],[0.5555555555555556,\"#d8576b\"],[0.6666666666666666,\"#ed7953\"],[0.7777777777777778,\"#fb9f3a\"],[0.8888888888888888,\"#fdca26\"],[1.0,\"#f0f921\"]]}],\"contourcarpet\":[{\"type\":\"contourcarpet\",\"colorbar\":{\"outlinewidth\":0,\"ticks\":\"\"}}],\"contour\":[{\"type\":\"contour\",\"colorbar\":{\"outlinewidth\":0,\"ticks\":\"\"},\"colorscale\":[[0.0,\"#0d0887\"],[0.1111111111111111,\"#46039f\"],[0.2222222222222222,\"#7201a8\"],[0.3333333333333333,\"#9c179e\"],[0.4444444444444444,\"#bd3786\"],[0.5555555555555556,\"#d8576b\"],[0.6666666666666666,\"#ed7953\"],[0.7777777777777778,\"#fb9f3a\"],[0.8888888888888888,\"#fdca26\"],[1.0,\"#f0f921\"]]}],\"surface\":[{\"type\":\"surface\",\"colorbar\":{\"outlinewidth\":0,\"ticks\":\"\"},\"colorscale\":[[0.0,\"#0d0887\"],[0.1111111111111111,\"#46039f\"],[0.2222222222222222,\"#7201a8\"],[0.3333333333333333,\"#9c179e\"],[0.4444444444444444,\"#bd3786\"],[0.5555555555555556,\"#d8576b\"],[0.6666666666666666,\"#ed7953\"],[0.7777777777777778,\"#fb9f3a\"],[0.8888888888888888,\"#fdca26\"],[1.0,\"#f0f921\"]]}],\"mesh3d\":[{\"type\":\"mesh3d\",\"colorbar\":{\"outlinewidth\":0,\"ticks\":\"\"}}],\"scatter\":[{\"fillpattern\":{\"fillmode\":\"overlay\",\"size\":10,\"solidity\":0.2},\"type\":\"scatter\"}],\"parcoords\":[{\"type\":\"parcoords\",\"line\":{\"colorbar\":{\"outlinewidth\":0,\"ticks\":\"\"}}}],\"scatterpolargl\":[{\"type\":\"scatterpolargl\",\"marker\":{\"colorbar\":{\"outlinewidth\":0,\"ticks\":\"\"}}}],\"bar\":[{\"error_x\":{\"color\":\"#2a3f5f\"},\"error_y\":{\"color\":\"#2a3f5f\"},\"marker\":{\"line\":{\"color\":\"#E5ECF6\",\"width\":0.5},\"pattern\":{\"fillmode\":\"overlay\",\"size\":10,\"solidity\":0.2}},\"type\":\"bar\"}],\"scattergeo\":[{\"type\":\"scattergeo\",\"marker\":{\"colorbar\":{\"outlinewidth\":0,\"ticks\":\"\"}}}],\"scatterpolar\":[{\"type\":\"scatterpolar\",\"marker\":{\"colorbar\":{\"outlinewidth\":0,\"ticks\":\"\"}}}],\"histogram\":[{\"marker\":{\"pattern\":{\"fillmode\":\"overlay\",\"size\":10,\"solidity\":0.2}},\"type\":\"histogram\"}],\"scattergl\":[{\"type\":\"scattergl\",\"marker\":{\"colorbar\":{\"outlinewidth\":0,\"ticks\":\"\"}}}],\"scatter3d\":[{\"type\":\"scatter3d\",\"line\":{\"colorbar\":{\"outlinewidth\":0,\"ticks\":\"\"}},\"marker\":{\"colorbar\":{\"outlinewidth\":0,\"ticks\":\"\"}}}],\"scattermapbox\":[{\"type\":\"scattermapbox\",\"marker\":{\"colorbar\":{\"outlinewidth\":0,\"ticks\":\"\"}}}],\"scatterternary\":[{\"type\":\"scatterternary\",\"marker\":{\"colorbar\":{\"outlinewidth\":0,\"ticks\":\"\"}}}],\"scattercarpet\":[{\"type\":\"scattercarpet\",\"marker\":{\"colorbar\":{\"outlinewidth\":0,\"ticks\":\"\"}}}],\"carpet\":[{\"aaxis\":{\"endlinecolor\":\"#2a3f5f\",\"gridcolor\":\"white\",\"linecolor\":\"white\",\"minorgridcolor\":\"white\",\"startlinecolor\":\"#2a3f5f\"},\"baxis\":{\"endlinecolor\":\"#2a3f5f\",\"gridcolor\":\"white\",\"linecolor\":\"white\",\"minorgridcolor\":\"white\",\"startlinecolor\":\"#2a3f5f\"},\"type\":\"carpet\"}],\"table\":[{\"cells\":{\"fill\":{\"color\":\"#EBF0F8\"},\"line\":{\"color\":\"white\"}},\"header\":{\"fill\":{\"color\":\"#C8D4E3\"},\"line\":{\"color\":\"white\"}},\"type\":\"table\"}],\"barpolar\":[{\"marker\":{\"line\":{\"color\":\"#E5ECF6\",\"width\":0.5},\"pattern\":{\"fillmode\":\"overlay\",\"size\":10,\"solidity\":0.2}},\"type\":\"barpolar\"}],\"pie\":[{\"automargin\":true,\"type\":\"pie\"}]},\"layout\":{\"autotypenumbers\":\"strict\",\"colorway\":[\"#636efa\",\"#EF553B\",\"#00cc96\",\"#ab63fa\",\"#FFA15A\",\"#19d3f3\",\"#FF6692\",\"#B6E880\",\"#FF97FF\",\"#FECB52\"],\"font\":{\"color\":\"#2a3f5f\"},\"hovermode\":\"closest\",\"hoverlabel\":{\"align\":\"left\"},\"paper_bgcolor\":\"white\",\"plot_bgcolor\":\"#E5ECF6\",\"polar\":{\"bgcolor\":\"#E5ECF6\",\"angularaxis\":{\"gridcolor\":\"white\",\"linecolor\":\"white\",\"ticks\":\"\"},\"radialaxis\":{\"gridcolor\":\"white\",\"linecolor\":\"white\",\"ticks\":\"\"}},\"ternary\":{\"bgcolor\":\"#E5ECF6\",\"aaxis\":{\"gridcolor\":\"white\",\"linecolor\":\"white\",\"ticks\":\"\"},\"baxis\":{\"gridcolor\":\"white\",\"linecolor\":\"white\",\"ticks\":\"\"},\"caxis\":{\"gridcolor\":\"white\",\"linecolor\":\"white\",\"ticks\":\"\"}},\"coloraxis\":{\"colorbar\":{\"outlinewidth\":0,\"ticks\":\"\"}},\"colorscale\":{\"sequential\":[[0.0,\"#0d0887\"],[0.1111111111111111,\"#46039f\"],[0.2222222222222222,\"#7201a8\"],[0.3333333333333333,\"#9c179e\"],[0.4444444444444444,\"#bd3786\"],[0.5555555555555556,\"#d8576b\"],[0.6666666666666666,\"#ed7953\"],[0.7777777777777778,\"#fb9f3a\"],[0.8888888888888888,\"#fdca26\"],[1.0,\"#f0f921\"]],\"sequentialminus\":[[0.0,\"#0d0887\"],[0.1111111111111111,\"#46039f\"],[0.2222222222222222,\"#7201a8\"],[0.3333333333333333,\"#9c179e\"],[0.4444444444444444,\"#bd3786\"],[0.5555555555555556,\"#d8576b\"],[0.6666666666666666,\"#ed7953\"],[0.7777777777777778,\"#fb9f3a\"],[0.8888888888888888,\"#fdca26\"],[1.0,\"#f0f921\"]],\"diverging\":[[0,\"#8e0152\"],[0.1,\"#c51b7d\"],[0.2,\"#de77ae\"],[0.3,\"#f1b6da\"],[0.4,\"#fde0ef\"],[0.5,\"#f7f7f7\"],[0.6,\"#e6f5d0\"],[0.7,\"#b8e186\"],[0.8,\"#7fbc41\"],[0.9,\"#4d9221\"],[1,\"#276419\"]]},\"xaxis\":{\"gridcolor\":\"white\",\"linecolor\":\"white\",\"ticks\":\"\",\"title\":{\"standoff\":15},\"zerolinecolor\":\"white\",\"automargin\":true,\"zerolinewidth\":2},\"yaxis\":{\"gridcolor\":\"white\",\"linecolor\":\"white\",\"ticks\":\"\",\"title\":{\"standoff\":15},\"zerolinecolor\":\"white\",\"automargin\":true,\"zerolinewidth\":2},\"scene\":{\"xaxis\":{\"backgroundcolor\":\"#E5ECF6\",\"gridcolor\":\"white\",\"linecolor\":\"white\",\"showbackground\":true,\"ticks\":\"\",\"zerolinecolor\":\"white\",\"gridwidth\":2},\"yaxis\":{\"backgroundcolor\":\"#E5ECF6\",\"gridcolor\":\"white\",\"linecolor\":\"white\",\"showbackground\":true,\"ticks\":\"\",\"zerolinecolor\":\"white\",\"gridwidth\":2},\"zaxis\":{\"backgroundcolor\":\"#E5ECF6\",\"gridcolor\":\"white\",\"linecolor\":\"white\",\"showbackground\":true,\"ticks\":\"\",\"zerolinecolor\":\"white\",\"gridwidth\":2}},\"shapedefaults\":{\"line\":{\"color\":\"#2a3f5f\"}},\"annotationdefaults\":{\"arrowcolor\":\"#2a3f5f\",\"arrowhead\":0,\"arrowwidth\":1},\"geo\":{\"bgcolor\":\"white\",\"landcolor\":\"#E5ECF6\",\"subunitcolor\":\"white\",\"showland\":true,\"showlakes\":true,\"lakecolor\":\"white\"},\"title\":{\"x\":0.05},\"mapbox\":{\"style\":\"light\"}}},\"title\":{\"text\":\"Alpha\"},\"xaxis\":{\"title\":{\"text\":\"iteration\"}},\"yaxis\":{\"title\":{\"text\":\"loss\"}}},                        {\"responsive\": true}                    ).then(function(){\n",
              "                            \n",
              "var gd = document.getElementById('dce090d0-857f-4450-bffb-69cca60a6ed7');\n",
              "var x = new MutationObserver(function (mutations, observer) {{\n",
              "        var display = window.getComputedStyle(gd).display;\n",
              "        if (!display || display === 'none') {{\n",
              "            console.log([gd, 'removed!']);\n",
              "            Plotly.purge(gd);\n",
              "            observer.disconnect();\n",
              "        }}\n",
              "}});\n",
              "\n",
              "// Listen for the removal of the full notebook cells\n",
              "var notebookContainer = gd.closest('#notebook-container');\n",
              "if (notebookContainer) {{\n",
              "    x.observe(notebookContainer, {childList: true});\n",
              "}}\n",
              "\n",
              "// Listen for the clearing of the current output cell\n",
              "var outputEl = gd.closest('.output');\n",
              "if (outputEl) {{\n",
              "    x.observe(outputEl, {childList: true});\n",
              "}}\n",
              "\n",
              "                        })                };                            </script>        </div>\n",
              "</body>\n",
              "</html>"
            ]
          },
          "metadata": {}
        }
      ]
    },
    {
      "cell_type": "code",
      "source": [
        "fig = go.Figure(data=alpha_graphics)\n",
        "fig.update_layout(title='max_iter',\n",
        "                 xaxis=dict(title=\"iteration\"),\n",
        "                yaxis=dict(title=\"loss\")\n",
        ")\n",
        "fig.show()"
      ],
      "metadata": {
        "colab": {
          "base_uri": "https://localhost:8080/",
          "height": 542
        },
        "id": "kh0BDkDXhChB",
        "outputId": "241731a7-ffdc-4e8b-db96-bf746b46fe2a"
      },
      "execution_count": 68,
      "outputs": [
        {
          "output_type": "display_data",
          "data": {
            "text/html": [
              "<html>\n",
              "<head><meta charset=\"utf-8\" /></head>\n",
              "<body>\n",
              "    <div>            <script src=\"https://cdnjs.cloudflare.com/ajax/libs/mathjax/2.7.5/MathJax.js?config=TeX-AMS-MML_SVG\"></script><script type=\"text/javascript\">if (window.MathJax && window.MathJax.Hub && window.MathJax.Hub.Config) {window.MathJax.Hub.Config({SVG: {font: \"STIX-Web\"}});}</script>                <script type=\"text/javascript\">window.PlotlyConfig = {MathJaxConfig: 'local'};</script>\n",
              "        <script charset=\"utf-8\" src=\"https://cdn.plot.ly/plotly-2.24.1.min.js\"></script>                <div id=\"a4916943-1818-4959-96cc-044f48d27c2b\" class=\"plotly-graph-div\" style=\"height:525px; width:100%;\"></div>            <script type=\"text/javascript\">                                    window.PLOTLYENV=window.PLOTLYENV || {};                                    if (document.getElementById(\"a4916943-1818-4959-96cc-044f48d27c2b\")) {                    Plotly.newPlot(                        \"a4916943-1818-4959-96cc-044f48d27c2b\",                        [{\"name\":\"alpha = 0.001\",\"x\":[1,2,3,4,5,6,7,8,9,10,11,12,13,14,15,16,17,18,19,20,21,22,23,24,25,26,27,28,29,30,31,32,33,34,35,36,37,38,39,40,41,42,43,44,45,46,47,48,49,50,51,52,53,54,55,56,57,58,59,60,61,62,63,64,65,66,67,68,69,70,71,72,73,74,75,76,77,78,79,80,81,82,83,84,85,86,87,88,89,90,91,92,93,94,95,96,97,98,99,100,101,102,103,104,105,106,107,108,109,110,111,112,113,114,115,116,117,118,119,120,121,122,123,124,125,126,127,128,129,130,131,132,133,134,135,136,137,138,139,140,141,142,143,144,145,146,147,148,149,150,151,152,153,154,155,156,157,158,159,160,161,162,163,164,165,166,167,168,169,170,171,172,173,174,175,176,177,178,179,180,181,182,183,184,185,186,187,188,189,190,191,192,193,194,195,196,197,198,199,200,201,202,203,204,205,206,207,208,209,210,211,212,213,214,215,216,217,218,219,220,221,222,223,224,225,226,227,228,229,230,231,232,233,234,235,236,237,238,239,240,241,242,243,244,245,246,247,248,249,250,251,252,253,254,255,256,257,258,259,260,261,262,263,264,265,266,267,268,269,270,271,272,273,274,275,276,277,278,279,280,281,282,283,284,285,286,287,288,289,290,291,292,293,294,295,296,297,298,299,300,301,302,303,304,305,306,307,308,309,310,311,312,313,314,315,316,317,318,319,320,321,322,323,324,325,326,327,328,329,330,331,332,333,334,335,336,337,338,339,340,341,342,343,344,345,346,347,348,349,350,351,352,353,354,355,356,357,358,359,360,361,362,363,364,365,366,367,368,369,370,371,372,373,374,375,376,377,378,379,380,381,382,383,384,385,386,387,388,389,390,391,392,393,394,395,396,397,398,399,400,401,402,403,404,405,406,407,408,409,410,411,412,413,414,415,416,417,418,419,420,421,422,423,424,425,426,427,428,429,430,431,432,433,434,435,436,437,438,439,440,441,442,443,444,445,446,447,448,449,450,451,452,453,454,455,456,457,458,459,460,461,462,463,464,465,466,467,468,469,470,471,472,473,474,475,476,477,478,479,480,481,482,483,484,485,486,487,488,489,490,491,492,493,494,495,496,497,498,499,500,501,502,503,504,505,506,507,508,509,510,511,512,513,514,515,516,517,518,519,520,521,522,523,524,525,526,527,528,529,530,531,532,533,534,535,536,537,538,539,540,541,542,543,544,545,546,547,548,549,550,551,552,553,554,555,556,557,558,559,560,561,562,563,564,565,566,567,568,569,570,571,572,573,574,575,576,577,578,579,580,581,582,583,584,585,586,587,588,589,590,591,592,593,594,595,596,597,598,599,600,601,602,603,604,605,606,607,608,609,610,611,612,613,614,615,616,617,618,619,620,621,622,623,624,625,626,627,628,629,630,631,632,633,634,635,636,637,638,639,640,641,642,643,644,645,646,647,648,649,650,651,652,653,654,655,656,657,658,659,660,661,662,663,664,665,666,667,668,669,670,671,672,673,674,675,676,677,678,679,680,681,682,683,684,685,686,687,688,689,690,691,692,693,694,695,696,697,698,699,700,701,702,703,704,705,706,707,708,709,710,711,712,713,714,715,716,717,718,719,720,721,722,723,724,725,726,727,728,729,730,731,732,733,734,735,736,737,738,739,740,741,742,743,744,745,746,747,748,749,750,751,752,753,754,755,756,757,758,759,760,761,762,763,764,765,766,767,768,769,770,771,772,773,774,775,776,777,778,779,780,781,782,783,784,785,786,787,788,789,790,791,792,793,794,795,796,797,798,799,800,801,802,803,804,805,806,807,808,809,810,811,812,813,814,815,816,817,818,819,820,821,822,823,824,825,826,827,828,829,830,831,832,833,834,835,836,837,838,839,840,841,842,843,844,845,846,847,848,849,850,851,852,853,854,855,856,857,858,859,860,861,862,863,864,865,866,867,868,869,870,871,872,873,874,875,876,877,878,879,880,881,882,883,884,885,886,887,888,889,890,891,892,893,894,895,896,897,898,899,900,901,902,903,904,905,906,907,908,909,910,911,912,913,914,915,916,917,918,919,920,921,922,923,924,925,926,927,928,929,930,931,932,933,934,935,936,937,938,939,940,941,942,943,944,945,946,947,948,949,950,951,952,953,954,955,956,957,958,959,960,961,962,963,964,965,966,967,968,969,970,971,972,973,974,975,976,977,978,979,980,981,982,983,984,985,986,987,988,989,990,991,992,993,994,995,996,997,998,999,1000],\"y\":[8.85678214520718,8.28576848689485,7.755117602481114,7.26103662853194,6.806457753650725,6.385417361491257,5.994972605289623,5.633466524885385,5.294288471945875,4.981664823069191,4.691651830010508,4.422173728672244,4.166075517093115,3.93187229037628,3.7113883981039266,3.50640347909114,3.314356661294133,3.135877778303571,2.9679385445824176,2.810271837367237,2.663637067519706,2.52674758100161,2.397397261004051,2.276222267810965,2.1627748854534907,2.0562478002784874,1.955368081196848,1.8608553091158366,1.7722380583983386,1.6889331406024604,1.6108497316015469,1.5364781790963986,1.4670907631334102,1.400710791201513,1.338739593098377,1.2796342626944566,1.2230407501683005,1.170060967868391,1.1197841501583228,1.0718405984690136,1.0267838314563023,0.9840387287983284,0.9432126437292302,0.9045452314921533,0.8679853490384752,0.8330237998348988,0.7999724366420883,0.7685736805018434,0.7384629590334949,0.7097232710256146,0.6821471890282104,0.6559236891680046,0.6308792819689689,0.6070962062953031,0.5844875186145738,0.5628337360231065,0.542322324372205,0.5223135236178499,0.5034271862326213,0.48515360523284756,0.467945549881441,0.4512758383733916,0.43546522015683325,0.4202086016168429,0.40564950182319043,0.3916715980510427,0.3781484626518258,0.3654417987356823,0.3531167743919096,0.34132725295406735,0.33001257946163903,0.31908969890153954,0.3086966421877329,0.29862918121965776,0.28900619028522395,0.27969718064542154,0.2707781663525398,0.2621939039411377,0.25395317826210095,0.24613700857333257,0.23852032740648182,0.2312131878772643,0.2241675199574888,0.21740536348998515,0.2108686308385155,0.20453304119525528,0.19851847528522049,0.1926866566738195,0.1870974288463277,0.18166898076604893,0.17647112713537527,0.1714444394210817,0.16662781780731137,0.16195774991002043,0.1574968468195506,0.15319198001268902,0.1490443520858124,0.1449948807360334,0.1411254720170049,0.13738024093608114,0.13371885887370585,0.13020133215397037,0.12684446703678826,0.12359815268708271,0.12045051934465337,0.11742296437121981,0.11449242114095928,0.11167484864646642,0.10894577374008696,0.10631986439672585,0.10376975922012112,0.10128245897932422,0.09891466117866803,0.09660801364710797,0.09440780919880659,0.09225791715454826,0.09019107729503219,0.08818440178383954,0.08621131632470296,0.08431864166808305,0.08247445835679823,0.0806972671140864,0.0789791378253126,0.0773302302321651,0.0757335364824474,0.07418909376371602,0.07268395604567472,0.07123557471876027,0.06982353227755658,0.06846470581152733,0.06716434063198758,0.06589557111282757,0.06464751122183239,0.06346318760175894,0.06230879364207688,0.06118401000297123,0.06010169814296573,0.05904354840164587,0.05802466122639155,0.0570284061904241,0.056064630203200266,0.055126896027101635,0.0542256549395727,0.053346919782718744,0.052494897024798544,0.0516726512482014,0.0508671204598862,0.05008073874429106,0.0493360937491459,0.048606312332238485,0.04789554309896569,0.047209188065524134,0.04653467463605986,0.04587328713610456,0.04523522202075349,0.04461621520327068,0.044016690640724804,0.043440327191494946,0.042877175403830244,0.042334656079273995,0.04180405636123886,0.041289394302836534,0.04078936274027776,0.04030113691490425,0.03983255965360322,0.03937092732619229,0.03892097118695252,0.03848228276607857,0.03805733342174228,0.03764252847701878,0.03724330199000907,0.03684969269843906,0.03646457127007292,0.03609207773494551,0.03572767718184619,0.035376399372451545,0.03503345128303567,0.03469771032024972,0.03437666408373554,0.034060064962358,0.03375163660670886,0.033451234323089114,0.033160577959359464,0.032876936388051066,0.03259912222288986,0.03233145537652879,0.032068654056318716,0.03181645038133794,0.031568168739136065,0.03132458016874359,0.031087117942099445,0.030853221222524076,0.030627732225287863,0.03040594200608246,0.030188599714733724,0.02997634972447765,0.02976791698531569,0.029566581248672227,0.02936841396923453,0.029179277675014374,0.028988650224395746,0.028805208001888963,0.02862938820115528,0.028454864323209664,0.028285622497230847,0.028118717826029774,0.027957540265301416,0.027796462747985414,0.02764174383201978,0.02749097941428749,0.027342192584242777,0.027199072512353283,0.027056258409346685,0.02691778159913552,0.026783741478467408,0.026651356802143047,0.026520431952944234,0.026392773241645406,0.026269142711801176,0.02614761763883145,0.02602592311630169,0.025909918202169695,0.025796147503508195,0.025685348045595333,0.0255759982988492,0.025468222007887294,0.02536457275853536,0.02526131215308373,0.0251608831980968,0.02506305112781574,0.024966736533599473,0.024872872654763675,0.024779591808572473,0.02468882268937476,0.024600565425699324,0.024513190875271602,0.024427162078556316,0.024344430752387687,0.02426182651144189,0.02418183472596235,0.02410374358069209,0.02402672692299376,0.02395089976796553,0.023875891887350995,0.023803190542028084,0.023732568092980237,0.023661734418877648,0.023592688010938084,0.023525872907827323,0.023459427708369746,0.023394349939136052,0.02333082587342037,0.023267685979800896,0.023205949611912916,0.02314532301734675,0.023087819805028196,0.02302972630413021,0.0229719185031209,0.02291511974988302,0.02286051015418391,0.02280696048560509,0.022755217223156918,0.022702787116236682,0.022651742781433577,0.022601974617186927,0.022553233852229543,0.022504060479445774,0.022456486506004594,0.022409473761098704,0.022363329262055177,0.02231825502018598,0.022273137252502854,0.022228888164081854,0.02218636043075636,0.022144638645331047,0.022103788150975565,0.02206205722692825,0.02202173409893938,0.021982878229400746,0.021944410114971814,0.021905465993174392,0.021868140429594868,0.021831355054273888,0.02179506453550536,0.021758731674944874,0.02172358878026255,0.021689815617206523,0.021655543643576365,0.02162251300472138,0.02158940575275033,0.021557684505961395,0.021526462414002155,0.021494885977111154,0.021464739892008193,0.021434014328013555,0.021404822144325104,0.02137554359310892,0.021346579328740147,0.0213183564792569,0.021290483272743327,0.02126251488497404,0.02123471127435986,0.02120762662478448,0.02118148964355687,0.021155162166387843,0.021129397966719102,0.021104240661646376,0.02107916797049273,0.021054577127626876,0.02103003167200774,0.02100679270217618,0.020983504000269115,0.020960808763386147,0.020938068953677294,0.020916235518739047,0.020894451275084425,0.020872669478127454,0.02085134712006018,0.020830179948759627,0.02080950318710412,0.020788564946425035,0.02076851390868207,0.02074813402818338,0.020728860660283413,0.020709727966342406,0.020690909285441747,0.02067227632226975,0.020653739133587312,0.02063556028134818,0.020617792381935833,0.020600226055560732,0.020583268935774467,0.020565628209192915,0.02054868465158495,0.02053235807535869,0.020516812242627126,0.02050061239812704,0.020485043723142898,0.020469463229806834,0.02045399225846519,0.0204382974428216,0.020423281141757708,0.02040863368823689,0.02039440258310911,0.020380135660139423,0.020365895828890316,0.020352094432507496,0.020338049475903012,0.02032435316288494,0.02031070850736243,0.0202979037990721,0.02028476064122159,0.020271832239108053,0.020259281126764218,0.020246941015109918,0.020234723413729637,0.02022255334099874,0.020210664636653983,0.02019909331360211,0.020187595192326754,0.020175954706492083,0.020164679844280206,0.020153063432862182,0.020141821094294403,0.02013085588851979,0.020120106802468063,0.020109334847530858,0.020098625602598907,0.02008839318858696,0.020078584306160843,0.02006847290199406,0.02005853305924092,0.02004881602564538,0.020039083057428547,0.02002963108144639,0.02002046480696282,0.02001139596875152,0.020002442501165285,0.019993211843124224,0.019984625727357885,0.019975534947526515,0.019966721895730837,0.019958045016228387,0.01994973937950323,0.01994133831988706,0.019933565224015896,0.019925278041549723,0.01991746773984643,0.019909746918487743,0.019902121950676113,0.01989500683674429,0.019887651339999715,0.019880290023301637,0.01987321986392712,0.01986622210351273,0.0198591720732236,0.01985209371786386,0.019845257951054057,0.01983851954827394,0.01983205519549095,0.019825445034180777,0.019818946997065923,0.019812572155270203,0.019806585576260236,0.019800305214596442,0.019793892540456045,0.019787764165960158,0.01978153959760358,0.01977555775165636,0.019769771013134874,0.019764164462818288,0.01975819476663145,0.019752690861989393,0.019746985001917766,0.019741070556782994,0.01973565835483217,0.01973013962606647,0.019724850573827717,0.019719595663477394,0.01971431025387524,0.01970930828253183,0.019704496677220747,0.01969963151430423,0.019694842352164753,0.01969009917370517,0.01968538729798845,0.019680738677782528,0.019675814134678983,0.019671274903735495,0.01966671234571426,0.01966231259840214,0.019657800171676204,0.019653463343324715,0.01964913828331329,0.01964488745317548,0.01964071434887518,0.01963670095852559,0.0196326066485855,0.019628349752105888,0.019624479064131693,0.019620374453100373,0.019616361174408126,0.0196125801363264,0.01960870859266913,0.019604741904475018,0.01960110500395455,0.0195975722325339,0.01959399019705913,0.019590569645034642,0.01958716617869198,0.019583521294744236,0.019580096895856415,0.01957683890468599,0.01957341263918732,0.019570223190207427,0.01956685429476572,0.019563698796239995,0.01956069002112198,0.019557414500629068,0.01955439116728698,0.019551271467015133,0.019548322456076798,0.019545159346854295,0.01954240621279201,0.019539409659134768,0.019536593534078096,0.01953396414498978,0.019531118227652605,0.019528464163095012,0.019525897652837475,0.019523258440996345,0.019520653653457946,0.019518120270564182,0.01951562861429285,0.019513150607380784,0.01951072450082325,0.01950835350350613,0.0195058736744202,0.019503615625988818,0.01950120557534192,0.019498728665395346,0.019496485024317913,0.01949422656563041,0.019492026660540326,0.019489763159390036,0.01948754735824103,0.019485445265189177,0.019483268740725368,0.01948123792267212],\"type\":\"scatter\"},{\"name\":\"alpha = 0.025750000000000002\",\"x\":[1,2,3,4,5,6,7,8,9,10,11,12,13,14,15,16,17,18,19,20,21,22,23,24,25,26,27,28,29,30,31,32,33,34,35,36,37,38,39,40,41,42,43,44,45,46,47,48,49,50,51,52,53,54,55,56,57,58,59,60,61,62,63,64,65,66,67,68,69,70,71,72,73,74,75,76,77,78,79,80,81,82,83,84,85,86,87,88,89,90,91,92,93,94,95,96,97,98,99,100,101,102,103,104,105,106,107,108,109,110,111,112,113,114,115,116,117,118,119,120,121,122,123,124,125,126,127,128,129,130,131,132,133,134,135,136,137,138,139,140,141,142,143,144,145,146,147,148,149,150,151,152,153,154,155,156,157,158,159,160,161,162,163,164,165,166,167,168,169,170,171,172,173,174,175,176,177,178,179,180,181,182,183,184,185,186,187,188,189,190,191,192,193,194,195,196,197,198,199,200,201,202,203,204,205,206,207,208,209,210,211,212,213,214,215,216,217,218,219,220,221,222,223,224,225,226,227,228,229,230,231,232,233,234,235,236,237,238,239,240,241,242,243,244,245,246,247,248,249,250,251,252,253,254,255,256,257,258,259,260,261,262,263,264,265,266,267,268,269,270,271,272,273,274,275,276,277,278,279,280,281,282,283,284,285,286,287,288,289,290,291,292,293,294,295,296,297,298,299,300,301,302,303,304,305,306,307,308,309,310,311,312,313,314,315,316,317,318,319,320,321,322,323,324,325,326,327,328,329,330,331,332,333,334,335,336,337,338,339,340,341,342,343,344,345,346,347,348,349,350,351,352,353,354,355,356,357,358,359,360,361,362,363,364,365,366,367,368,369,370,371,372,373,374,375,376,377,378,379,380,381,382,383,384,385,386,387,388,389,390,391,392,393,394,395,396,397,398,399,400,401,402,403,404,405,406,407,408,409,410,411,412,413,414,415,416,417,418,419,420,421,422,423,424,425,426,427,428,429,430,431,432,433,434,435,436,437,438,439,440,441,442,443,444,445,446,447,448,449,450,451,452,453,454,455,456,457,458,459,460,461,462,463,464,465,466,467,468,469,470,471,472,473,474,475,476,477,478,479,480,481,482,483,484,485,486,487,488,489,490,491,492,493,494,495,496,497,498,499,500,501,502,503,504,505,506,507,508,509,510,511,512,513,514,515,516,517,518,519,520,521,522,523,524,525,526,527,528,529,530,531,532,533,534,535,536,537,538,539,540,541,542,543,544,545,546,547,548,549,550,551,552,553,554,555,556,557,558,559,560,561,562,563,564,565,566,567,568,569,570,571,572,573,574,575,576,577,578,579,580,581,582,583,584,585,586,587,588,589,590,591,592,593,594,595,596,597,598,599,600,601,602,603,604,605,606,607,608,609,610,611,612,613,614,615,616,617,618,619,620,621,622,623,624,625,626,627,628,629,630,631,632,633,634,635,636,637,638,639,640,641,642,643,644,645,646,647,648,649,650,651,652,653,654,655,656,657,658,659,660,661,662,663,664,665,666,667,668,669,670,671,672,673,674,675,676,677,678,679,680,681,682,683,684,685,686,687,688,689,690,691,692,693,694,695,696,697,698,699,700,701,702,703,704,705,706,707,708,709,710,711,712,713,714,715,716,717,718,719,720,721,722,723,724,725,726,727,728,729,730,731,732,733,734,735,736,737,738,739,740,741,742,743,744,745,746,747,748,749,750,751,752,753,754,755,756,757,758,759,760,761,762,763,764,765,766,767,768,769,770,771,772,773,774,775,776,777,778,779,780,781,782,783,784,785,786,787,788,789,790,791,792,793,794,795,796,797,798,799,800,801,802,803,804,805,806,807,808,809,810,811,812,813,814,815,816,817,818,819,820,821,822,823,824,825,826,827,828,829,830,831,832,833,834,835,836,837,838,839,840,841,842,843,844,845,846,847,848,849,850,851,852,853,854,855,856,857,858,859,860,861,862,863,864,865,866,867,868,869,870,871,872,873,874,875,876,877,878,879,880,881,882,883,884,885,886,887,888,889,890,891,892,893,894,895,896,897,898,899,900,901,902,903,904,905,906,907,908,909,910,911,912,913,914,915,916,917,918,919,920,921,922,923,924,925,926,927,928,929,930,931,932,933,934,935,936,937,938,939,940,941,942,943,944,945,946,947,948,949,950,951,952,953,954,955,956,957,958,959,960,961,962,963,964,965,966,967,968,969,970,971,972,973,974,975,976,977,978,979,980,981,982,983,984,985,986,987,988,989,990,991,992,993,994,995,996,997,998,999,1000],\"y\":[8.334013657416769,7.94825949804976,7.575550598254544,7.217794867428993,6.881010303410459,6.562282711025741,6.260889519659135,5.975058376617433,5.703229558769602,5.445447516611966,5.2029021740158585,4.971569935845462,4.750837171213317,4.540709992851132,4.342306072007244,4.151507474398361,3.972365453303783,3.8012770330450016,3.6378837307131837,3.4833531959442516,3.338288761215533,3.196855593386133,3.062810968211677,2.935403011211664,2.814109104958207,2.6990943064338455,2.589105151058147,2.4831409968546527,2.3826897601722865,2.286063364525609,2.193522107581172,2.1061049448251006,2.0211796276010854,1.9403504259778324,1.8632509614203694,1.7895708065946518,1.7189467161489018,1.651776822911821,1.5872613667061832,1.52559357345211,1.4658970048611657,1.409423196139536,1.3555803517450096,1.3033042908562895,1.253446157192256,1.2057447617095285,1.159715751366232,1.1157091869189903,1.0738999450116933,1.0334343559884394,0.9945797684498051,0.9575106075084564,0.9219869376106707,0.8876905780318072,0.8548660223600794,0.823032060593465,0.7927600262541664,0.7637842344086648,0.7357272029071843,0.7088916371712971,0.6832875786903696,0.6588588410709026,0.6350617198000829,0.6123450095638903,0.5907066553318714,0.5697092187852288,0.5497694503968102,0.5305214112059069,0.5119705609760653,0.49407427456674385,0.47688464397224695,0.4603771181773401,0.4446178599784008,0.4293786597444414,0.4147485943973199,0.4007807547884426,0.3872117337935782,0.3741786695505123,0.361683753417945,0.34966577132721727,0.33800167349647714,0.32675119218006093,0.31604882320168703,0.3058114551300681,0.2958591467022234,0.28632434491370773,0.2771904191810868,0.2683157295014843,0.25978366838167594,0.25165523440742976,0.24372542042013665,0.2361337526483068,0.2288141720371851,0.22180247283011523,0.2149939069753419,0.2084509530157629,0.20224209198190343,0.19615364189550372,0.19034016900716813,0.18468712958969655,0.17923236047421162,0.17404312273327924,0.16899009201943027,0.164151791065062,0.15946983420192284,0.15497264972106764,0.1506216702030147,0.14640046892096606,0.1423143275174512,0.1384519954062162,0.13468048774876315,0.1310118289313252,0.12751537294792736,0.12414343639467691,0.12085334566192735,0.11770394824223752,0.11467759899320587,0.11173794499617748,0.10891529077043505,0.10618708350999648,0.10355606437122686,0.101017995153364,0.09855380332346036,0.09620004656613225,0.09392434543209993,0.09170221402687728,0.08957577965688358,0.08752660770618287,0.0855336638617659,0.08361555097169376,0.08173882364750663,0.07993502855229136,0.0781980816290739,0.07653572221535124,0.07491684473985041,0.07333623525017291,0.07181828175923746,0.07035996075131368,0.06893543605079588,0.06755919526392912,0.066239190909633,0.06494644215209958,0.06370710860821786,0.06249723281631139,0.0613394002228055,0.060216818349186144,0.05912933443976087,0.058068900833376354,0.05705648712896841,0.05606088603549487,0.055100675326305984,0.05416988878546375,0.0532691901618944,0.05239437295205546,0.05155590739967842,0.05072926611018723,0.0499423876895628,0.04917730341579908,0.04844033447757589,0.04772015053324393,0.047023043731447556,0.04633916096032145,0.0456746357924996,0.045030903055176534,0.04440927136723824,0.04380514474286887,0.04322003398979348,0.042651852357038104,0.04209905169439211,0.041562452169453576,0.041037475033615683,0.04052932423919116,0.04003620540854118,0.03956307907983621,0.03909720040451086,0.03865250596889779,0.038213804343446615,0.03778550504157942,0.037368086079816766,0.036964659116068374,0.03657200639600326,0.03619255706757955,0.0358252323879623,0.03546988296370019,0.03512076643238594,0.03478316980406249,0.03445444101200923,0.03413328902393991,0.0338177242653588,0.033514600147164814,0.03321498300725248,0.032921298578666144,0.03263843012561443,0.03236214529155648,0.032096618300192406,0.031840657308650586,0.03158803332432976,0.031337336283544126,0.031097519607170485,0.030863243490226212,0.03063452522379613,0.03041157323811319,0.030195897850874374,0.0299837914100712,0.029776987362046856,0.02957194222067508,0.02937448708498777,0.029180784279461393,0.028991376326387888,0.02880799874970078,0.028629322121348545,0.028453823635093342,0.028280796666477852,0.028113933592125454,0.02795234316399184,0.02779379328476234,0.02763707734907484,0.02748376855053896,0.027334911737336327,0.027189188211981852,0.02704678529250487,0.02690799093468076,0.026773278033754754,0.026640747665331276,0.02650973411635061,0.02638101485773837,0.026257034760462247,0.026134468278221364,0.026015375191848072,0.02589979428480101,0.02578568044415221,0.02567375026055131,0.02556477641190735,0.025456307948522473,0.02534993460662597,0.025248217078521644,0.025146514518237774,0.02504791091904913,0.02495021484704673,0.024855018288292608,0.0247640048511795,0.024673297939175325,0.024584964413529396,0.024497379304192646,0.024412744541490925,0.024328944519341582,0.02424711864806866,0.02416705242067736,0.024088638671575614,0.024010701190680415,0.02393276592690799,0.023858173470953405,0.023784525858529262,0.023712937145725886,0.023642024734984002,0.02357329181142527,0.02350539222166754,0.02343925758106196,0.02337243428767198,0.023307858329896427,0.023243402282837174,0.02318152163809766,0.023120710782926775,0.02306119862032695,0.023002563116034994,0.022945100258940518,0.02288844930516084,0.02283325754809367,0.02277901970167842,0.022724566944334813,0.022671748849061164,0.022619406318687155,0.022568361504671126,0.022518399913170513,0.022468183243485335,0.022419859029235163,0.022372444550607162,0.02232572417809295,0.022280580358159916,0.022235294822614157,0.022191615277373615,0.022148128231191784,0.022104921078179435,0.02206313409718133,0.022021080961661846,0.021981394577371985,0.02194153698998883,0.021902683848652408,0.02186464894288385,0.0218269306206859,0.021789761205368033,0.021752708595295194,0.021716875302932686,0.021681156590077365,0.0216466062978342,0.02161229210866305,0.021577889777996496,0.021544412247917963,0.021511712461643955,0.02147982298810732,0.021448358301988192,0.021416664781556856,0.021385542740888823,0.021355048454153813,0.0213249019318378,0.021296158071626395,0.021267314896297358,0.02123849134617309,0.02121032174939525,0.021182764879650946,0.021155540419314566,0.021128900212899183,0.02110283441643269,0.02107717835053932,0.02105220945530785,0.021026890634813583,0.021002345753911016,0.020978381486672915,0.020954864582053697,0.020930599756842593,0.02090796814247825,0.020885035337853644,0.020862692464288783,0.020840043493699383,0.020818272476701927,0.020796613850113645,0.020775332244664185,0.020754205957408064,0.020734123857081878,0.020713823152614774,0.020694275106689336,0.020674151715542335,0.020654646389849287,0.020635706917932817,0.02061692036369841,0.02059837327867879,0.020580322240984363,0.020562421785865974,0.02054454015502267,0.020527402028102017,0.02051053180763566,0.020493913452117478,0.020477432654297027,0.020460813807095184,0.02044443094921322,0.020428383950688765,0.020412818320555387,0.02039745136031349,0.0203822584311971,0.020367161178117755,0.020352262627801047,0.020337635928404978,0.020323151168508902,0.020309047061296555,0.020294921845198113,0.020281511619340643,0.0202681539052533,0.020254770809812517,0.020241476125300327,0.02022852620416938,0.020215901721209233,0.020203688751551565,0.020191007484472338,0.020178589130861176,0.020166390030198166,0.020154749319856627,0.020143000895365738,0.02013125803876094,0.020119804925106614,0.02010856623445771,0.02009748399906555,0.020086478412782806,0.020075670112774033,0.020065195909900295,0.020054815008097197,0.020044781498164212,0.020034389313695243,0.020024509608153038,0.020014948929986974,0.020005384933175295,0.019995945666477187,0.01998644090422384,0.019977039780565926,0.019967514401567462,0.01995868631539297,0.01995017021969475,0.01994157171862055,0.019933252221187556,0.01992495305284875,0.019916644914004366,0.0199086119573125,0.0199004824984695,0.019892426970768373,0.01988471426718892,0.01987681128291428,0.01986896828940047,0.019861080566865433,0.019853539453985044,0.01984629496653581,0.01983891119486371,0.01983160029218361,0.01982448738864047,0.019817419955303457,0.019810463445325322,0.01980371892969211,0.019797106605696457,0.019790820550433005,0.019784159806304224,0.019777877436855214,0.019771630901690596,0.019765485019419354,0.019759440792889313,0.01975316758766606,0.019747227175581857,0.019741442241072688,0.01973559912157495,0.01973011316780829,0.01972461110301635,0.019719109518471875,0.01971351047700475,0.019708426647304714,0.019703237326404482,0.019698024241821068,0.019692687417872144,0.019687661971379986,0.019682539283474573,0.019677570637066343,0.019672813665972174,0.019668226854186566,0.019663230859732865,0.01965867252428203,0.019654204466006558,0.019649606386230936,0.019644947794464504,0.019640655279685285,0.01963631798633154,0.01963194663320874,0.01962784016097561,0.0196238028607076,0.019619657488797168,0.019615556513104333,0.01961168314527917,0.019607654149958083,0.01960407084514979,0.019600286513838203,0.019596505213022794,0.019592548902988834,0.01958876196465228,0.019585231025502015,0.01958180707386437,0.019578110311428917,0.019574621543196235,0.019571002431888224,0.019567551808082805,0.019564232824208515,0.019561027803773928,0.019557698084706525,0.01955449987865667,0.01955142390751435,0.01954812623151679,0.019545025581383012,0.019542161331384183,0.019539513446150653,0.019536584739938925,0.019533716028272266,0.019530749365404082,0.019527879690630915,0.019525124754876236,0.01952238814686857,0.01951974083063162,0.019517132497957723,0.01951462218923551],\"type\":\"scatter\"},{\"name\":\"alpha = 0.0505\",\"x\":[1,2,3,4,5,6,7,8,9,10,11,12,13,14,15,16,17,18,19,20,21,22,23,24,25,26,27,28,29,30,31,32,33,34,35,36,37,38,39,40,41,42,43,44,45,46,47,48,49,50,51,52,53,54,55,56,57,58,59,60,61,62,63,64,65,66,67,68,69,70,71,72,73,74,75,76,77,78,79,80,81,82,83,84,85,86,87,88,89,90,91,92,93,94,95,96,97,98,99,100,101,102,103,104,105,106,107,108,109,110,111,112,113,114,115,116,117,118,119,120,121,122,123,124,125,126,127,128,129,130,131,132,133,134,135,136,137,138,139,140,141,142,143,144,145,146,147,148,149,150,151,152,153,154,155,156,157,158,159,160,161,162,163,164,165,166,167,168,169,170,171,172,173,174,175,176,177,178,179,180,181,182,183,184,185,186,187,188,189,190,191,192,193,194,195,196,197,198,199,200,201,202,203,204,205,206,207,208,209,210,211,212,213,214,215,216,217,218,219,220,221,222,223,224,225,226,227,228,229,230,231,232,233,234,235,236,237,238,239,240,241,242,243,244,245,246,247,248,249,250,251,252,253,254,255,256,257,258,259,260,261,262,263,264,265,266,267,268,269,270,271,272,273,274,275,276,277,278,279,280,281,282,283,284,285,286,287,288,289,290,291,292,293,294,295,296,297,298,299,300,301,302,303,304,305,306,307,308,309,310,311,312,313,314,315,316,317,318,319,320,321,322,323,324,325,326,327,328,329,330,331,332,333,334,335,336,337,338,339,340,341,342,343,344,345,346,347,348,349,350,351,352,353,354,355,356,357,358,359,360,361,362,363,364,365,366,367,368,369,370,371,372,373,374,375,376,377,378,379,380,381,382,383,384,385,386,387,388,389,390,391,392,393,394,395,396,397,398,399,400,401,402,403,404,405,406,407,408,409,410,411,412,413,414,415,416,417,418,419,420,421,422,423,424,425,426,427,428,429,430,431,432,433,434,435,436,437,438,439,440,441,442,443,444,445,446,447,448,449,450,451,452,453,454,455,456,457,458,459,460,461,462,463,464,465,466,467,468,469,470,471,472,473,474,475,476,477,478,479,480,481,482,483,484,485,486,487,488,489,490,491,492,493,494,495,496,497,498,499,500,501,502,503,504,505,506,507,508,509,510,511,512,513,514,515,516,517,518,519,520,521,522,523,524,525,526,527,528,529,530,531,532,533,534,535,536,537,538,539,540,541,542,543,544,545,546,547,548,549,550,551,552,553,554,555,556,557,558,559,560,561,562,563,564,565,566,567,568,569,570,571,572,573,574,575,576,577,578,579,580,581,582,583,584,585,586,587,588,589,590,591,592,593,594,595,596,597,598,599,600,601,602,603,604,605,606,607,608,609,610,611,612,613,614,615,616,617,618,619,620,621,622,623,624,625,626,627,628,629,630,631,632,633,634,635,636,637,638,639,640,641,642,643,644,645,646,647,648,649,650,651,652,653,654,655,656,657,658,659,660,661,662,663,664,665,666,667,668,669,670,671,672,673,674,675,676,677,678,679,680,681,682,683,684,685,686,687,688,689,690,691,692,693,694,695,696,697,698,699,700,701,702,703,704,705,706,707,708,709,710,711,712,713,714,715,716,717,718,719,720,721,722,723,724,725,726,727,728,729,730,731,732,733,734,735,736,737,738,739,740,741,742,743,744,745,746,747,748,749,750,751,752,753,754,755,756,757,758,759,760,761,762,763,764,765,766,767,768,769,770,771,772,773,774,775,776,777,778,779,780,781,782,783,784,785,786,787,788,789,790,791,792,793,794,795,796,797,798,799,800,801,802,803,804,805,806,807,808,809,810,811,812,813,814,815,816,817,818,819,820,821,822,823,824,825,826,827,828,829,830,831,832,833,834,835,836,837,838,839,840,841,842,843,844,845,846,847,848,849,850,851,852,853,854,855,856,857,858,859,860,861,862,863,864,865,866,867,868,869,870,871,872,873,874,875,876,877,878,879,880,881,882,883,884,885,886,887,888,889,890,891,892,893,894,895,896,897,898,899,900,901,902,903,904,905,906,907,908,909,910,911,912,913,914,915,916,917,918,919,920,921,922,923,924,925,926,927,928,929,930,931,932,933,934,935,936,937,938,939,940,941,942,943,944,945,946,947,948,949,950,951,952,953,954,955,956,957,958,959,960,961,962,963,964,965,966,967,968,969,970,971,972,973,974,975,976,977,978,979,980,981,982,983,984,985,986,987,988,989,990,991,992,993,994,995,996,997,998,999,1000],\"y\":[6.045153333807136,5.83079828433343,5.617088004504542,5.41244815071032,5.2176466648664865,5.0280316857565195,4.848952570600848,4.6761037300759645,4.510230176163853,4.351442829846516,4.199285187836582,4.054242287326024,3.9141758438949186,3.7806972831222554,3.652588193160854,3.530193258604807,3.412082751855814,3.298389719019936,3.1905406232795266,3.085360285018089,2.9855555260117765,2.889838729874917,2.797334871431038,2.7080038619415925,2.6229254154873938,2.5414078837916034,2.4623269091335023,2.386237723256915,2.3139042354807295,2.2438334028968185,2.17608174015224,2.1107892127553436,2.048501141545868,1.9885020790433243,1.9306724511960316,1.8749014499818575,1.8206375092802496,1.7691506611614118,1.7194414979235721,1.670970098293504,1.6242487706197344,1.5792387233499987,1.5358884751102724,1.4941188945280093,1.4538456060389027,1.414526153280602,1.376639911001167,1.3402568944234752,1.3049798646441,1.2709538621844887,1.2382574966591013,1.206441966266612,1.1756551326153313,1.145893855013774,1.1171511072495692,1.0896385018975874,1.0630885562123795,1.0370375308271544,1.011981091375368,0.9874266941020072,0.9636073334866069,0.9406431651385265,0.9183175969485476,0.8965754343187599,0.8756084795898051,0.8553152507443974,0.8357719014254292,0.8166495598504142,0.797996410801633,0.7800257767745997,0.7625406175606553,0.7457322732185442,0.7294089920371526,0.7134883876753928,0.697942714394513,0.6830551949951671,0.6684032935912225,0.6542594155401444,0.6403262731533291,0.6268836990344736,0.6138561216395452,0.6011075384475575,0.5887521249653758,0.5766872736402617,0.5649313617289382,0.5534446160526345,0.5424348690528971,0.5316002105903017,0.5211048369957094,0.5108360186774588,0.5008259251739882,0.49109035322135397,0.4816195696785455,0.4723145132697008,0.4632490469325395,0.45447999832646535,0.44591505490899475,0.43759342846737825,0.42940387186054535,0.4214165955164029,0.4135973401227151,0.40590936582547626,0.3985107420741823,0.3912618903806842,0.384273712331398,0.3773934947270399,0.3706706254482852,0.36409393917913424,0.35763056177863617,0.3513455303570793,0.34524829797955353,0.33920619918985445,0.33335551788950585,0.3276022654788197,0.3219736907079586,0.31651545933266734,0.31111100343924547,0.3058728882071232,0.3007512795266524,0.2957596150313296,0.2908528270158992,0.2860811535065738,0.2813817892244627,0.27681008761909653,0.2723061626233917,0.26793654823009966,0.2636242756442203,0.25939430995649376,0.25528233973395803,0.2512367596476801,0.24726655625292382,0.24338853141757366,0.2395934228202151,0.23588532092370487,0.2322005109123192,0.2286282725283646,0.2250870018210214,0.2216415679204461,0.2182493101822774,0.2148738577851415,0.2116227733984002,0.20842480747816255,0.20529752769509574,0.20221867911363536,0.19919705842687238,0.19622901367273637,0.1933381218577981,0.19050675546606097,0.18771772772328618,0.1849835311240103,0.1822972504328899,0.17966909603283535,0.17708366446572746,0.1745488010565231,0.1720616278472871,0.1696166148443868,0.16721939556610307,0.16484391528359035,0.16252587358114162,0.16024673174067391,0.1579975494255661,0.15579058714274713,0.15363732170963038,0.15153249125803042,0.14945375233494737,0.14740162506363458,0.14539247466805288,0.14342369604555777,0.1414821485221336,0.13959499053479482,0.13773994913452126,0.13590990127271377,0.134101102201416,0.13232556489455416,0.13058826125026898,0.12887950654304997,0.12720437797994122,0.12554138376278,0.12392185585737757,0.12232161010466149,0.12075628950098805,0.11920907223749196,0.11769208307495821,0.11620018099984457,0.11472632116971539,0.11327095438159054,0.11184474580285714,0.11044654673741909,0.10907263237313423,0.10772007989511204,0.1063872749658869,0.10508139778875604,0.10378983978890326,0.10252152943994233,0.10127333742078579,0.10003904858648223,0.0988306774658174,0.09764875687758395,0.09647461250876635,0.0953227810753022,0.09418839307543087,0.0930741541757667,0.09197312324087023,0.09090232342742242,0.08983585472256755,0.08879191262502749,0.08776234435649823,0.08674439034054364,0.08574612259896848,0.08476243549200957,0.08380127453790864,0.08284769538721565,0.08190468239440968,0.08097729552287908,0.08006286733270729,0.07917241119424054,0.07829472527648758,0.077422454371203,0.07657307970906355,0.0757371093596518,0.07490233464407388,0.07408631241217688,0.07328766800564306,0.0725042519707847,0.07173504338556502,0.07097012346287188,0.07021365121670466,0.06947227435791652,0.06873952819004014,0.06802174059281559,0.06731182982377568,0.06660777707710197,0.06591876391562064,0.06524301977188454,0.0645747195091772,0.06391975868971982,0.06326849253319464,0.06263481335362828,0.06200312253154487,0.061383719881007714,0.060780052250728425,0.06017996299208741,0.059587071421605825,0.059005493961326136,0.05843054693403427,0.05786448112954071,0.05731078365936627,0.05676292359379736,0.05622408630906594,0.05569722125593948,0.05517663758491656,0.054664500503725955,0.054154723627409584,0.05365566470890613,0.053163998573046885,0.05267915394310005,0.052198961256246,0.051729078394720726,0.05126458008419859,0.05081041337778059,0.05035833066781094,0.04991699352414557,0.04947928789195178,0.04904769200192533,0.04862190729692289,0.04820337485516368,0.047788759302595143,0.047384420620256114,0.04698604578085506,0.04658844094620994,0.04620109281966062,0.04582164767676238,0.04544599162266366,0.045078059156929154,0.04471081898963297,0.04435049784802812,0.0439966021239918,0.04364403760911584,0.04330168616862691,0.04296364684664411,0.042628211994637816,0.042298948857621504,0.0419697753720862,0.04165054966348642,0.0413338028760322,0.04102116036974566,0.040714814596243,0.040412118256210106,0.040112255110316235,0.039817046452965126,0.03952652243665343,0.039240249013768796,0.03895904048173996,0.038682101814015525,0.038410806341615256,0.03813911689814924,0.03787282299206998,0.03761125734717719,0.03735177677674572,0.03709719024889864,0.036845805074152874,0.036595381058011744,0.03635088977271568,0.03611279144218289,0.035876764330386564,0.035641576936649814,0.03541260576850509,0.035187068293497936,0.03496337192848399,0.03474270797973034,0.03452509928016796,0.03431152474331993,0.03410327005209233,0.03389452087129537,0.03369041210820566,0.03348933027823704,0.03328958030847046,0.033093794652003614,0.03289789048641871,0.03270710740297089,0.03252159153861907,0.032336659042605215,0.032153673522205634,0.031973691992695175,0.031795581973136276,0.0316223448543133,0.031450987874493366,0.031279382993542916,0.031112444132248646,0.030948837190817986,0.030785927371192134,0.030623707421953708,0.030466137002457417,0.030310259964703046,0.030155945856837008,0.030004949505978228,0.029857099442612698,0.029708150955957635,0.029562962585425047,0.029419939773770387,0.029279508248180076,0.02914028091533932,0.029003801738997116,0.02886843462427229,0.028732603178318657,0.028602109796186072,0.028470594253489925,0.02834284457461625,0.028216227162066794,0.028092625778567613,0.02797060470690619,0.027851584352683777,0.027731384307246476,0.02761421964268957,0.027496838918234436,0.027382679011543593,0.02726997200663877,0.027158504300558356,0.027049748473912515,0.02694301895926285,0.026838602944515587,0.02673437739880451,0.026628552111885858,0.026526644475395274,0.026426415853324375,0.026326937742836544,0.02623001156025594,0.026133528900475586,0.02603922920619007,0.02594523066046637,0.02585308611148044,0.02576262175121288,0.025673047197976587,0.025585169806996093,0.025497942305886576,0.02541238233463432,0.02532817072630088,0.025245824156109545,0.02516232714171333,0.025080684517043705,0.024999772411428912,0.024920921453865794,0.024843283292331972,0.024767741669137186,0.02469327012437822,0.02461830353586369,0.024545073099001523,0.024472651788242566,0.024401394569804093,0.02433084440833974,0.024261107368624475,0.02419224484117026,0.024124996029922074,0.024058562481381347,0.02399260465406373,0.0239282925368098,0.023863147723806207,0.023800326326537263,0.023737734371093385,0.023676800643196435,0.023615718887479844,0.023556197493488376,0.023497185132629876,0.02343939273070508,0.023382796306956437,0.023326060556889242,0.02326992513276823,0.023215123468505183,0.023160991274535764,0.023108364833714416,0.02305558816627975,0.023003321372627655,0.022952143202124894,0.022902007466206672,0.02285224959151667,0.022802393303039452,0.02275324284874801,0.022705627761467076,0.02265967306926591,0.022613195107823572,0.02256802268130871,0.022523232415985615,0.022478740952594632,0.022435249980939896,0.022392640499746742,0.022349802443130624,0.022307632671529493,0.02226616899219157,0.022225697101980305,0.022185543734848896,0.02214579351304322,0.02210726450447987,0.022069191415876148,0.022031668889497875,0.021993751388266432,0.021957142674980064,0.02192047679718075,0.021884748694844008,0.021848869647248352,0.0218145784533349,0.021779817867069506,0.02174553682180484,0.021712330814797905,0.0216790908619327,0.02164680705929381,0.021614032637914716,0.0215815903175448,0.02154899551993801,0.02151799868377726,0.021487129660316993,0.021456793272940287,0.021427001318331834,0.021397522427662474,0.021369968507619238,0.0213418013788097,0.021314315479781788,0.02128726222226565,0.021259575913411682,0.02123274958069054,0.0212065716372108,0.02118065644307932,0.021155093282256204,0.021129938921450653,0.021105086975581153,0.021080761036213896,0.021056808529228324,0.021032561171341946,0.021009325757348773,0.02098597893306764,0.020963003714132435,0.02094016996479564,0.020917868307880862,0.02089600267124303,0.020874302170948957,0.02085273149712717,0.02083184681777875,0.020811075416094248,0.02079034797191359,0.020770381045971235,0.0207503904822864,0.020730960753542672,0.020712180723627436,0.0206927779991753,0.020674049463358473,0.02065483448992243,0.020636638309623607,0.020618657025830184,0.02060065611076581,0.020582883348729035,0.02056561934067129,0.02054827231221977,0.020531781985892283,0.020514650513615326,0.020498097687490342,0.02048177336754232,0.02046555830051879,0.02044984110729856,0.0204344760120449,0.0204191481139595,0.02040390155844793,0.020388710677243353,0.02037441196019275,0.020360184715978388,0.020345915250098892,0.02033190227759886,0.020318319889045887,0.020304456762699468,0.02029073686247565,0.02027767099558673,0.020264211729008056,0.020251370232571002,0.020238478831346947,0.020226146366903296,0.020213764255409793,0.020201404892175194,0.020189312895728003,0.020177606852533447,0.02016597097658244,0.02015415105296629,0.02014272097027521,0.02013152971513342,0.020120962948401152,0.020110189473948305,0.02009903122086538,0.02008824052032173,0.020077713767742,0.020067276408316737,0.020057296400231236,0.0200470964503928,0.0200375295691706,0.02002781034842949,0.020018262925352172,0.02000890195192226,0.01999954103477805,0.019990615698041392,0.019981618139389576,0.019972761104935156,0.019963679707911693,0.019954799996388932,0.019946017586182002,0.019937528449983075,0.01992892068885688,0.019920900328382615,0.019912520862143984,0.019904315271543422,0.0198961970716859,0.019888321802157667,0.019880756398721108,0.019872645001925565,0.01986534583091617,0.019857559683191122,0.019850209444406006,0.019842728183918277,0.01983539592393073,0.01982845899769526,0.01982170788882239,0.01981484579399785,0.019808039498212887,0.019801136128332352,0.01979479966683466,0.019788087361476407,0.01978193502951498,0.01977548205734926,0.019769209601634218,0.019763246845227293,0.01975721191602863,0.019751349006835554,0.019745445654344197,0.01973953907676766,0.019733940342998118,0.01972834027307918,0.019722672874404254,0.01971714363657858,0.01971179747755834,0.019706402888715856,0.019700978715499796,0.019695924880311508,0.01969066817048252,0.01968559043617276,0.019680556231051295,0.019675666985208725,0.019670838320695078,0.01966606928681126,0.019661378507622614,0.01965658393791172,0.01965198572145384,0.019647404757265584,0.019642674323831922,0.019638258870631437,0.019633906203885568,0.019629568859865637,0.01962534916115638,0.01962124069958124,0.01961701986088061,0.019613169424271527,0.019609288199554518,0.019605196328199452,0.019601240774265435,0.019597495050087718,0.019593775118140352,0.019590204151715508,0.019586566810150974,0.019582932701697076,0.01957947639010315,0.019576149617659296,0.01957276987468709,0.019569338174986375,0.019565843954047514,0.019562548568641185,0.01955943517879695,0.01955622486346198,0.019553176578290962,0.019550057304579017,0.019546853234726214,0.019543905420217108,0.019540975747479285,0.01953795869437534,0.01953501793093932,0.019532022941471876,0.01952920144254819,0.019526333110326057,0.019523754180208783,0.019521052040266582,0.01951815873523713,0.01951567606140186,0.01951298282634039,0.019510435366234993,0.01950797481288042,0.01950540484013994,0.01950294133689892,0.019500340943505633,0.01949804907986065,0.01949581997493159,0.01949353235100381,0.019491235163950685,0.01948913736246355,0.019486693245112423,0.019484553719091482,0.019482241582710266,0.019480001130702144,0.019477790989756875,0.01947566984131347,0.019473565194241964,0.019471404887088158,0.01946934158587273,0.01946720811908945,0.01946536120852989,0.019463286210166852,0.019461293247444097,0.019459367444508536,0.019457351706271164],\"type\":\"scatter\"},{\"name\":\"alpha = 0.07525000000000001\",\"x\":[1,2,3,4,5,6,7,8,9,10,11,12,13,14,15,16,17,18,19,20,21,22,23,24,25,26,27,28,29,30,31,32,33,34,35,36,37,38,39,40,41,42,43,44,45,46,47,48,49,50,51,52,53,54,55,56,57,58,59,60,61,62,63,64,65,66,67,68,69,70,71,72,73,74,75,76,77,78,79,80,81,82,83,84,85,86,87,88,89,90,91,92,93,94,95,96,97,98,99,100,101,102,103,104,105,106,107,108,109,110,111,112,113,114,115,116,117,118,119,120,121,122,123,124,125,126,127,128,129,130,131,132,133,134,135,136,137,138,139,140,141,142,143,144,145,146,147,148,149,150,151,152,153,154,155,156,157,158,159,160,161,162,163,164,165,166,167,168,169,170,171,172,173,174,175,176,177,178,179,180,181,182,183,184,185,186,187,188,189,190,191,192,193,194,195,196,197,198,199,200,201,202,203,204,205,206,207,208,209,210,211,212,213,214,215,216,217,218,219,220,221,222,223,224,225,226,227,228,229,230,231,232,233,234,235,236,237,238,239,240,241,242,243,244,245,246,247,248,249,250,251,252,253,254,255,256,257,258,259,260,261,262,263,264,265,266,267,268,269,270,271,272,273,274,275,276,277,278,279,280,281,282,283,284,285,286,287,288,289,290,291,292,293,294,295,296,297,298,299,300,301,302,303,304,305,306,307,308,309,310,311,312,313,314,315,316,317,318,319,320,321,322,323,324,325,326,327,328,329,330,331,332,333,334,335,336,337,338,339,340,341,342,343,344,345,346,347,348,349,350,351,352,353,354,355,356,357,358,359,360,361,362,363,364,365,366,367,368,369,370,371,372,373,374,375,376,377,378,379,380,381,382,383,384,385,386,387,388,389,390,391,392,393,394,395,396,397,398,399,400,401,402,403,404,405,406,407,408,409,410,411,412,413,414,415,416,417,418,419,420,421,422,423,424,425,426,427,428,429,430,431,432,433,434,435,436,437,438,439,440,441,442,443,444,445,446,447,448,449,450,451,452,453,454,455,456,457,458,459,460,461,462,463,464,465,466,467,468,469,470,471,472,473,474,475,476,477,478,479,480,481,482,483,484,485,486,487,488,489,490,491,492,493,494,495,496,497,498,499,500,501,502,503,504,505,506,507,508,509,510,511,512,513,514,515,516,517,518,519,520,521,522,523,524,525,526,527,528,529,530,531,532,533,534,535,536,537,538,539,540,541,542,543,544,545,546,547,548,549,550,551,552,553,554,555,556,557,558,559,560,561,562,563,564,565,566,567,568,569,570,571,572,573,574,575,576,577,578,579,580,581,582,583,584,585,586,587,588,589,590,591,592,593,594,595,596,597,598,599,600,601,602,603,604,605,606,607,608,609,610,611,612,613,614,615,616,617,618,619,620,621,622,623,624,625,626,627,628,629,630,631,632,633,634,635,636,637,638,639,640,641,642,643,644,645,646,647,648,649,650,651,652,653,654,655,656,657,658,659,660,661,662,663,664,665,666,667,668,669,670,671,672,673,674,675,676,677,678,679,680,681,682,683,684,685,686,687,688,689,690,691,692,693,694,695,696,697,698,699,700,701,702,703,704,705,706,707,708,709,710,711,712,713,714,715,716,717,718,719,720,721,722,723,724,725,726,727,728,729,730,731,732,733,734,735,736,737,738,739,740,741,742,743,744,745,746,747,748,749,750,751,752,753,754,755,756,757,758,759,760,761,762,763,764,765,766,767,768,769,770,771,772,773,774,775,776,777,778,779,780,781,782,783,784,785,786,787,788,789,790,791,792,793,794,795,796,797,798,799,800,801,802,803,804,805,806,807,808,809,810,811,812,813,814,815,816,817,818,819,820,821,822,823,824,825,826,827,828,829,830,831,832,833,834,835,836,837,838,839,840,841,842,843,844,845,846,847,848,849,850,851,852,853,854,855,856,857,858,859,860,861,862,863,864,865,866,867,868,869,870,871,872,873,874,875,876,877,878,879,880,881,882,883,884,885,886,887,888,889,890,891,892,893,894,895,896,897,898,899,900,901,902,903,904,905,906,907,908,909,910,911,912,913,914,915,916,917,918,919,920,921,922,923,924,925,926,927,928,929,930,931,932,933,934,935,936,937,938,939,940,941,942,943,944,945,946,947,948,949,950,951,952,953,954,955,956,957,958,959,960,961,962,963,964,965,966,967,968,969,970,971,972,973,974,975,976,977,978,979,980,981,982,983,984,985,986,987,988,989,990,991,992,993,994,995,996,997,998,999,1000],\"y\":[9.010320018889784,8.689123788304586,8.355098130057542,8.037225762439446,7.7300281809053475,7.435270448164555,7.153368360829441,6.888402474584359,6.631867350832932,6.38320308645749,6.147721747049056,5.921123328251431,5.7035483118463075,5.4979514842749655,5.301414352506283,5.1143285180061975,4.9362051273252305,4.762835242246743,4.597121582145676,4.438971953091069,4.285674751711442,4.1392786136907915,3.9991426209483025,3.865907969738191,3.7369053411599435,3.612343576679128,3.4935771459477123,3.3786849360024545,3.267578504252409,3.161369317070352,3.0604191155079237,2.9647029747504967,2.871380365561713,2.781027838342866,2.69489222664261,2.612757474522713,2.5330100833571834,2.45581014730976,2.3815537950313845,2.311089768201114,2.2412698815115926,2.1751986402374768,2.110662503548711,2.0496732439142873,1.9904961973168491,1.9333751581355854,1.877596814768467,1.8238587462144917,1.7726549303857482,1.7231322882571136,1.6753488055689856,1.6295464744468642,1.5854410153289393,1.5428237016052848,1.501837777516597,1.461941304756021,1.4232738203273942,1.3862797827291296,1.3497091957094725,1.314547589157857,1.2813834091276368,1.2491147206736917,1.2177655375901129,1.1874282744631386,1.1578903558435587,1.129549856685917,1.1018640439249783,1.0752518335559669,1.0491281582208205,1.0238631156634268,0.999275680592014,0.9758773182273894,0.9531243169406838,0.9309811927714425,0.9094986168858642,0.8886885252736183,0.8685164151797584,0.8489334789885051,0.8302129497052044,0.8115863752716516,0.7938154915672425,0.7764579646990304,0.7596170421755897,0.743260744981918,0.7275004437638634,0.7119937816556009,0.696859990593561,0.6823588770394675,0.6680327463729065,0.6542539229828686,0.6408911398924156,0.6278834243131531,0.6150994185020867,0.6028814566332554,0.5909141613519705,0.5792543785997949,0.5679706616178009,0.5569812736369205,0.5461105808431334,0.5356455837742388,0.5253663727414235,0.5153529114755121,0.5055836700688676,0.4961969044080615,0.4869420742090328,0.47792944579937635,0.46911152638216075,0.460538104476798,0.45218977123975457,0.4440587551815341,0.43613716970004035,0.42843280207753465,0.42078513368798626,0.4133872152419713,0.4060584949601559,0.3990254970542546,0.392115408495793,0.3853589660566966,0.37879866327994877,0.37235205423081535,0.3659945102694797,0.3598489420958595,0.3538389501721509,0.34793746737793835,0.3422153715448109,0.33660480389262165,0.3311746769248867,0.32580609470368954,0.320528249650694,0.315356460755488,0.31032418531846645,0.30540192011658557,0.3005472479730026,0.29582831798958004,0.29118358421841106,0.2866040943500847,0.28213985399555436,0.2777929636722326,0.27351906891830025,0.269333727163594,0.265235573695932,0.2612059576613988,0.25721654579113684,0.2533628987978276,0.24958811665799327,0.24588908420608988,0.24221953616248967,0.2386169032082846,0.23504081771037405,0.2316052136953782,0.22824062886868673,0.2249105565452021,0.2216293545580087,0.21844261359039976,0.21532811167434482,0.21224686806410478,0.2092408651112334,0.20627150523835358,0.2033551717715876,0.20048513700973902,0.1976780024452914,0.19492420706317604,0.19217033353550372,0.1894800792796616,0.18684300489783634,0.184229600131934,0.18168677227273605,0.1792069363950435,0.17674299079575703,0.17437108671911267,0.17199401298852718,0.1696473826086362,0.16735299634073608,0.16509159755058922,0.16289843344971078,0.160718231207621,0.15858994759196415,0.15648908877495254,0.15442152403692694,0.152380315872399,0.1503886235257928,0.14842904227147571,0.14650699644943196,0.14459567265334183,0.14271436549000138,0.14090585202742353,0.13910135305249643,0.13731914986517177,0.13557806427761068,0.13386191167167744,0.13217870308995358,0.13051573292616306,0.12887759647697908,0.12727373154902635,0.125678483403092,0.12412749217447465,0.12258700963485408,0.12106739980299838,0.11955068648748732,0.11808819516230318,0.11663658728900583,0.11523775130913622,0.11385393400469426,0.11247740059736756,0.11111910015534784,0.10978478478108204,0.10847744941859677,0.1071903273563434,0.10592850350861827,0.10467450971312313,0.10344141258309496,0.1022281048122291,0.1010429283845133,0.09985999500854466,0.09869918258283243,0.097560922542562,0.096437964937124,0.09532349833095087,0.09422660201663373,0.09314556698050563,0.09209335064030452,0.09104785840816366,0.0900265926196857,0.08902031586348828,0.08801222345874693,0.08703078547817897,0.08606607242598732,0.08512040404858362,0.08418916074120968,0.08326406133589223,0.0823544316207294,0.08145332180861313,0.0805690202712857,0.07969525229334294,0.07884369772479163,0.07798805373277819,0.07714209766794031,0.07631115602532439,0.07550855325805027,0.07471709431938313,0.07392762571363563,0.07315466793946658,0.07238787020542543,0.07163526322468262,0.07088850581552247,0.07014794257948914,0.0694194347827045,0.06870904731685733,0.06800772028704039,0.06731749978024838,0.06663903302934329,0.06597225478574555,0.06530769935253271,0.06465929417831588,0.06401573380467604,0.0633861157321289,0.06276853422493253,0.062154773427984464,0.06154846290847394,0.060952956457552374,0.060368078602128186,0.05978847908480064,0.05921415383691104,0.05864889476041335,0.05809440242442609,0.05754759740686157,0.0570067796800502,0.05647879916170659,0.055956042739212807,0.055438162708025686,0.05492664695820506,0.05442471758791406,0.053930988708675374,0.05344505722182262,0.05296668740007204,0.05249209121152689,0.0520287452000492,0.05157071911342256,0.051117466517860866,0.05067033368667105,0.05022903585029921,0.04979573784514603,0.04936971651855477,0.048948507024083716,0.048528906721039315,0.04811937946928009,0.04771836149276724,0.047322589141707457,0.04693276922184153,0.04654443314675567,0.04616635934424736,0.04578929689969252,0.045417461147005,0.04504995100354475,0.04469107250117528,0.0443351282488507,0.043985204485710125,0.04363780246682823,0.04329618804515156,0.042957726844546365,0.04262570147900441,0.042301006383734296,0.04197907475621227,0.04166269589409569,0.041351743112532105,0.04104298481415868,0.040737826907847774,0.040435202542158676,0.04013771226000854,0.03984485750992593,0.03955707914269568,0.03927531886870919,0.03899543449589438,0.03872059077944969,0.03844831119724592,0.038180919551228126,0.03791974454340265,0.037658605408656926,0.03740163181235166,0.0371491703655918,0.03690242842982602,0.03665745185734798,0.036413653878441504,0.036173364807165966,0.03593843640100106,0.03570605340323191,0.035478037320845,0.03525373724008157,0.03503036639660336,0.0348099841870667,0.0345927754891029,0.034381341153910144,0.03416987817737326,0.033962403086016286,0.03375693915797499,0.033556744879784654,0.03335837524353834,0.033161197965963375,0.032969669088752096,0.032779362979345736,0.03259170496976224,0.03240594680165116,0.03222369448750847,0.03204249910570446,0.03186436494031668,0.031687455806646225,0.03151339785288221,0.03134447440150252,0.031177685734896585,0.03101141596146372,0.030847833058086083,0.030686684660356817,0.030527609473441374,0.030370958987086447,0.03021786290028714,0.030066513395288624,0.029914882576400948,0.029768413251156468,0.02962256345654598,0.029477390972916566,0.029335335499912442,0.029195288038699457,0.029056780580001572,0.028920480484328846,0.028785992013230264,0.028653220731914626,0.02852229429415246,0.028393281695323402,0.028265298595301323,0.028139959112413987,0.028017040331710253,0.027895612286912994,0.027776553809737932,0.027658692630696768,0.02754249870866275,0.027427151343186025,0.027313586655947755,0.027201413001943363,0.027090190410124178,0.026981828233377136,0.026874678559528423,0.02676979425131402,0.026665852200714164,0.02656384205619247,0.026462697673117944,0.026363876253919703,0.02626578419763678,0.02616937165836263,0.026074989083202393,0.02598127109801702,0.025888228981495676,0.025797380954916974,0.02570718099635503,0.02561659618171851,0.02552658567970612,0.025439320521830906,0.02535425920395275,0.025269468917994795,0.025186560601698414,0.025105764684876387,0.02502546269513727,0.024945878633289068,0.024867518414120608,0.024790198809503384,0.024713320859606643,0.024637726757342056,0.02456310420772269,0.024491294607249605,0.02441919840601764,0.024347466254996578,0.02427697619942769,0.024208077384337588,0.024139934663631575,0.024073456527711607,0.024007408941162864,0.0239424983675813,0.023878364543130443,0.02381405762558618,0.023751320391551055,0.023689561622501062,0.02362813219034487,0.023567922021828162,0.02350837408558861,0.023450157167967185,0.023391932193070127,0.02333593877669024,0.02327979050306137,0.023224514623892564,0.023170676201330467,0.023117386490672253,0.023064594468132128,0.023012738020680837,0.022960889348318882,0.02291066739258101,0.022860598573649415,0.022812462593768398,0.02276379760607256,0.022715242041377755,0.02266822436638423,0.02262139558405752,0.022575033453699128,0.022529986139802317,0.02248534066467892,0.022441965535829778,0.022397984581486674,0.02235509806149209,0.0223126401136517,0.02227176444814829,0.022230696820801414,0.022190863468022796,0.02215134175271072,0.022112071520610538,0.02207304056888682,0.02203486448147357,0.02199626287693829,0.02195941400239741,0.021922758560207947,0.021886459071278806,0.021850451815141204,0.021815881168855165,0.02178048918869795,0.021745963113432,0.021712037691627335,0.02167844360448264,0.021645439490055884,0.02161285970095539,0.02158159507346726,0.021550054109014262,0.02151911853737988,0.021488827023308985,0.02145802221063548,0.02142829234896315,0.021398805546567555,0.02137009192782188,0.021341653273269028,0.02131328189212828,0.021285504865887553,0.021258525270008072,0.021231804310406267,0.021204703031150365,0.021178888521850573,0.021153161793530734,0.021127663972879462,0.021102131290859322,0.02107692223545238,0.02105250610368669,0.021028222007693633,0.021004058717311647,0.020980772660384457,0.02095791720871263,0.02093497985506208,0.02091224970713664,0.02088966871908235,0.020867927735176997,0.020846506222697646,0.020825057435867097,0.02080416456185765,0.02078340546104243,0.020763008109044398,0.020742722141293992,0.02072301404183064,0.020703382855072717,0.020684069689611968,0.020665159917315584,0.020646782034630554,0.020628252285759284,0.020609838420435216,0.02059210105786182,0.020574231601136677,0.02055656741331053,0.020539423729885042,0.020522241633582808,0.02050570727392685,0.020488909925375824,0.02047294717874857,0.02045708769024749,0.020441024641153143,0.02042554415944657,0.020410116968237635,0.020395208665904503,0.02038055512061139,0.02036555762494304,0.020351249114197344,0.02033684445559487,0.020322878039187715,0.020308934780930217,0.020295011641825563,0.020281511738693202,0.02026840123534991,0.020255217597405308,0.020242028543220415,0.020229513178127812,0.02021725627896494,0.02020484533721783,0.02019241919710693,0.020180131873508415,0.02016787893556923,0.020156216243748346,0.020144165172734117,0.020132889573842093,0.02012144068617191,0.020110125715935984,0.02009929783574397,0.020088578614198882,0.020077869462652227,0.02006753625013918,0.020057253991191584,0.02004703704741618,0.02003709904916957,0.0200270259737615,0.02001655086493741,0.02000685650791094,0.019997531346475975,0.01998812485283534,0.019978814807077108,0.01996947844502784,0.019960360394425742,0.01995131847418948,0.01994245306198085,0.019933904113143875,0.019925286701712508,0.01991660141296225,0.019908154575201273,0.019900144771821678,0.019892072322799374,0.019883996924131054,0.019876267465428022,0.019868777448121107,0.01986111287788222,0.01985351295831255,0.01984593321647868,0.01983870203297835,0.019831688749136222,0.01982422766250711,0.019816987417860175,0.019809970987881984,0.01980324744440724,0.019796669301821813,0.019790062509270033,0.019783630252375676,0.019777170518045884,0.019770721761212005,0.01976452819284749,0.01975853409511829,0.01975223622434344,0.019746649223758003,0.019740852872355982,0.01973528128835737,0.019729431826327172,0.01972365079356648,0.019718018764639113,0.019712256096526326,0.019706864344100627,0.019701759346615087,0.019696489260308796,0.019691147195234716,0.019685989273561237,0.01968110488949234,0.019675973322609567,0.019671322489968952,0.019666536897083916,0.01966172432679966,0.019657070582914937,0.01965267243957176,0.01964828733365717,0.019643832936267695,0.01963928132598958,0.01963480889774577,0.019630443808482827,0.019626505924294317,0.01962241868812517,0.01961829148763269,0.019614033592336287,0.01961007006744038,0.019606202475123027,0.019602240209141954,0.019598275694865178,0.019594683486159253,0.01959069512669795,0.019587191677278414,0.019583440481842913,0.019579749634421717,0.019576131866457895,0.019572687688602475,0.019569084710898473,0.019565668818283505,0.019562349782612287,0.019559230380137824,0.019555851286371863,0.019552408710243975,0.019549255929085997,0.019546065923492645,0.01954314076032594,0.019540016063805066,0.019536935972568194,0.019534035120026327,0.01953108913152292,0.019528393096925303,0.01952549918443845,0.019522703381459134,0.01951995457818386,0.019517214258766402,0.01951467675186199,0.019512102961643952,0.01950951012377389,0.01950685151360139,0.019504286126176204,0.019501752875308212,0.019499294574959424,0.019496875778180184,0.019494435582935732,0.019492012894582317,0.019489816251776287,0.019487409361197677,0.019485266570204027],\"type\":\"scatter\"},{\"name\":\"alpha = 0.1\",\"x\":[1,2,3,4,5,6,7,8,9,10,11,12,13,14,15,16,17,18,19,20,21,22,23,24,25,26,27,28,29,30,31,32,33,34,35,36,37,38,39,40,41,42,43,44,45,46,47,48,49,50,51,52,53,54,55,56,57,58,59,60,61,62,63,64,65,66,67,68,69,70,71,72,73,74,75,76,77,78,79,80,81,82,83,84,85,86,87,88,89,90,91,92,93,94,95,96,97,98,99,100,101,102,103,104,105,106,107,108,109,110,111,112,113,114,115,116,117,118,119,120,121,122,123,124,125,126,127,128,129,130,131,132,133,134,135,136,137,138,139,140,141,142,143,144,145,146,147,148,149,150,151,152,153,154,155,156,157,158,159,160,161,162,163,164,165,166,167,168,169,170,171,172,173,174,175,176,177,178,179,180,181,182,183,184,185,186,187,188,189,190,191,192,193,194,195,196,197,198,199,200,201,202,203,204,205,206,207,208,209,210,211,212,213,214,215,216,217,218,219,220,221,222,223,224,225,226,227,228,229,230,231,232,233,234,235,236,237,238,239,240,241,242,243,244,245,246,247,248,249,250,251,252,253,254,255,256,257,258,259,260,261,262,263,264,265,266,267,268,269,270,271,272,273,274,275,276,277,278,279,280,281,282,283,284,285,286,287,288,289,290,291,292,293,294,295,296,297,298,299,300,301,302,303,304,305,306,307,308,309,310,311,312,313,314,315,316,317,318,319,320,321,322,323,324,325,326,327,328,329,330,331,332,333,334,335,336,337,338,339,340,341,342,343,344,345,346,347,348,349,350,351,352,353,354,355,356,357,358,359,360,361,362,363,364,365,366,367,368,369,370,371,372,373,374,375,376,377,378,379,380,381,382,383,384,385,386,387,388,389,390,391,392,393,394,395,396,397,398,399,400,401,402,403,404,405,406,407,408,409,410,411,412,413,414,415,416,417,418,419,420,421,422,423,424,425,426,427,428,429,430,431,432,433,434,435,436,437,438,439,440,441,442,443,444,445,446,447,448,449,450,451,452,453,454,455,456,457,458,459,460,461,462,463,464,465,466,467,468,469,470,471,472,473,474,475,476,477,478,479,480,481,482,483,484,485,486,487,488,489,490,491,492,493,494,495,496,497,498,499,500,501,502,503,504,505,506,507,508,509,510,511,512,513,514,515,516,517,518,519,520,521,522,523,524,525,526,527,528,529,530,531,532,533,534,535,536,537,538,539,540,541,542,543,544,545,546,547,548,549,550,551,552,553,554,555,556,557,558,559,560,561,562,563,564,565,566,567,568,569,570,571,572,573,574,575,576,577,578,579,580,581,582,583,584,585,586,587,588,589,590,591,592,593,594,595,596,597,598,599,600,601,602,603,604,605,606,607,608,609,610,611,612,613,614,615,616,617,618,619,620,621,622,623,624,625,626,627,628,629,630,631,632,633,634,635,636,637,638,639,640,641,642,643,644,645,646,647,648,649,650,651,652,653,654,655,656,657,658,659,660,661,662,663,664,665,666,667,668,669,670,671,672,673,674,675,676,677,678,679,680,681,682,683,684,685,686,687,688,689,690,691,692,693,694,695,696,697,698,699,700,701,702,703,704,705,706,707,708,709,710,711,712,713,714,715,716,717,718,719,720,721,722,723,724,725,726,727,728,729,730,731,732,733,734,735,736,737,738,739,740,741,742,743,744,745,746,747,748,749,750,751,752,753,754,755,756,757,758,759,760,761,762,763,764,765,766,767,768,769,770,771,772,773,774,775,776,777,778,779,780,781,782,783,784,785,786,787,788,789,790,791,792,793,794,795,796,797,798,799,800,801,802,803,804,805,806,807,808,809,810,811,812,813,814,815,816,817,818,819,820,821,822,823,824,825,826,827,828,829,830,831,832,833,834,835,836,837,838,839,840,841,842,843,844,845,846,847,848,849,850,851,852,853,854,855,856,857,858,859,860,861,862,863,864,865,866,867,868,869,870,871,872,873,874,875,876,877,878,879,880,881,882,883,884,885,886,887,888,889,890,891,892,893,894,895,896,897,898,899,900,901,902,903,904,905,906,907,908,909,910,911,912,913,914,915,916,917,918,919,920,921,922,923,924,925,926,927,928,929,930,931,932,933,934,935,936,937,938,939,940,941,942,943,944,945,946,947,948,949,950,951,952,953,954,955,956,957,958,959,960,961,962,963,964,965,966,967,968,969,970,971,972,973,974,975,976,977,978,979,980,981,982,983,984,985,986,987,988,989,990,991,992,993,994,995,996,997,998,999,1000],\"y\":[16.850354694095728,15.985233487873254,15.090372634960568,14.245617946208307,13.462719584178947,12.725690484943966,12.033704511145201,11.401441263230996,10.808384776484232,10.258602056353709,9.736680298255312,9.256309400420001,8.802559938092624,8.378666796320724,7.978642964060629,7.604076751497683,7.25149609907093,6.917758250652216,6.604337804671286,6.304728869708252,6.020896489279989,5.753242971331773,5.499386122654568,5.263098996048512,5.035542981797797,4.820479566570956,4.618291258283546,4.4264088744585255,4.243432517817543,4.070152818002811,3.9067143390613297,3.749271743630141,3.598593240685167,3.4554706286439925,3.3192305606482573,3.189205191161662,3.065584879804465,2.948473344429707,2.835341415291681,2.7275085370746437,2.623034903283388,2.5246378054230587,2.4300769952744954,2.339413769765984,2.252868159066251,2.170148811442666,2.0912464737496204,2.0152464265603727,1.942652926773738,1.8738141932592118,1.8068644924045758,1.7424459911076666,1.6807540199823614,1.6217053537108612,1.5653147429085912,1.5105621321076084,1.4576464800726538,1.4069812208165506,1.359067630659326,1.3126458599969706,1.267528094293228,1.2245604440654971,1.1834016184734664,1.1436678186044378,1.1052949914044563,1.0686463755884008,1.0329906788668797,0.9988023427313896,0.9656989170321792,0.9342089249917036,0.9041538727588531,0.874912073674953,0.8469930320683763,0.8200039454091403,0.7938708796968612,0.7688061945019408,0.7445996299681333,0.7212293842028918,0.6989389887726896,0.6772401634466266,0.6562210303161876,0.6361486454642857,0.6167195480551235,0.5979541028657002,0.5798585572968935,0.5624054651267447,0.5455150516344514,0.529145000793147,0.5135345753901815,0.4984352776635157,0.4837544223622607,0.4698093641042031,0.4561448831407065,0.44293512656668627,0.43016424261503117,0.41788894742636556,0.4059327005489921,0.3945031672764128,0.3835152216645442,0.372950585508276,0.36263115567826,0.352667889786879,0.34302731682442095,0.3338291507833798,0.3248296343921371,0.3161385367373197,0.30764981494264887,0.2994840542634255,0.2916381219943942,0.2839947433571752,0.2766530789665115,0.2695816064480051,0.2626878804100075,0.2560409625047585,0.24960483052578233,0.24330740398321854,0.2372341487654519,0.23142425240537823,0.22572960282036245,0.22018724906965345,0.21488508131934533,0.2097436383685772,0.2047997452522513,0.19995080795333306,0.1952666871555311,0.1907535564713537,0.18635954017545728,0.1821082635667581,0.1779898161364649,0.17397059312557325,0.1701060175399285,0.16634675468873683,0.16265770347123898,0.15918609097104958,0.1557802828620896,0.15246139147598622,0.14922277082058527,0.14610563646839952,0.14301815780659335,0.14006545861808734,0.13717261836213365,0.1343796762399657,0.1316695539814651,0.1290384978135587,0.12650495107354787,0.12402211655169823,0.12159109210144634,0.11924733655415887,0.11695880383231243,0.11474348797657113,0.11258061419718506,0.1104997283061658,0.10844752065237623,0.1064729756575295,0.10453506909906547,0.10267519386577761,0.10085420403244129,0.09907338147554146,0.09735412177443356,0.09565536775277236,0.09400702302866042,0.09241312253343852,0.09084332290185727,0.08932416511856169,0.08785247015081456,0.08641104113067478,0.08501278165528522,0.0836611994688642,0.08233272342751799,0.08101814501537916,0.07975181144948505,0.07850683897764821,0.07730092313507388,0.07613331711637639,0.07498912594039815,0.07387013036039507,0.07278207754421256,0.07172687759914913,0.07069204575287817,0.06968543464855319,0.06869581362270089,0.06772310726141571,0.06677565569717454,0.06586517470787405,0.06497670668615328,0.06410044800242137,0.063240446276836,0.06239952987529504,0.06158774378454424,0.06078764441376676,0.06001088134627657,0.059239082209936816,0.058493236250923085,0.057767564192347624,0.057056018369016484,0.0563630724717986,0.055687139378076095,0.05501597792812404,0.054358667388487776,0.05372226656872261,0.053102021658985546,0.05249332893174796,0.0519049867327868,0.051316418643350716,0.05074830623397192,0.05018657889223763,0.04963684199497677,0.049089951933726284,0.04856358279808381,0.04805076247728013,0.047544764329695344,0.04705394109611135,0.04657616686868585,0.046100437922507384,0.04563165731239924,0.0451770631657986,0.044724988382720654,0.0442903014425806,0.04386435632468959,0.04344393718705609,0.043032301202491054,0.0426211782815518,0.042222663141046356,0.041833792957201715,0.04145436357071999,0.04107624219445319,0.04071433510529285,0.04035323985975249,0.0400009732437645,0.03965867924616237,0.03932389631581632,0.038996373008680064,0.03867226733121718,0.03835663260055297,0.03804357866365529,0.037737241773145226,0.03743330294734383,0.037134087543135894,0.03684478122789864,0.0365583280839926,0.03627853634632425,0.03600389198119687,0.03573512036380089,0.0354731207695613,0.03521558855266412,0.0349608678934304,0.034704795409831006,0.034456082052141256,0.034214368482289606,0.03397333324942668,0.03374250556695146,0.03351224876093368,0.03328716092902784,0.033067203884505084,0.03285022256063575,0.03263584175024654,0.032424759452924154,0.032217715388963175,0.03201170742829484,0.03181100482178258,0.03161314204643643,0.031422809812052394,0.031234343073353835,0.031046916149840342,0.030863736938119373,0.03068435179911977,0.030507324986009457,0.030330647936180136,0.03015881439978907,0.029989369890084064,0.029823549975266865,0.029664083169260516,0.02950611451314864,0.02934953348416776,0.029195074205239827,0.02904284345081063,0.028893279877283507,0.02874760849527463,0.028603145140215353,0.028459777238499444,0.028319843057157103,0.028182363163088562,0.028047543847516065,0.027914582882063523,0.027785145703277243,0.027655310952407253,0.027528857632772415,0.027404399190174546,0.027282955026719055,0.027162688078573832,0.02704365344522975,0.026926799613409106,0.02681197616548172,0.02669884930592538,0.026586908176425755,0.026476665766631286,0.02636806345119967,0.026262423946156733,0.026156682714169648,0.02605410008871442,0.025951583737226627,0.025851265381855393,0.025753363650872142,0.025657068502688417,0.025563242943951167,0.025470238255573017,0.02537836094622943,0.025287823369564717,0.025198467068623557,0.02511122579992675,0.025026017348096313,0.024941270798610294,0.0248559022682572,0.02477240376698398,0.02469039747500866,0.024610301112407154,0.02453137852318894,0.02445382721882712,0.024377537115265985,0.02430242062959624,0.024228470823193102,0.024156490842300538,0.02408313641658507,0.02401162597385709,0.023940953745316976,0.023872556671985748,0.023804109667336298,0.023737444355523517,0.02367264106887014,0.02360930246326322,0.023546037354436066,0.02348389792353967,0.02342189393526948,0.023362878402450132,0.02330331931240045,0.02324291134066214,0.02318450768979255,0.023127031444571927,0.023071704276638016,0.023015728134294464,0.02296005105209951,0.02290725959426319,0.022855013907216285,0.02280311280649075,0.02275257487879133,0.022701422716099064,0.022652244803156835,0.02260266734489953,0.022554689034822623,0.022507991864800046,0.022461185545336212,0.022415486530403244,0.022369527459223403,0.02232406282972649,0.022280520752245018,0.02223739084747314,0.022194459333476448,0.022152242493719616,0.022111595296438198,0.02207094786152036,0.022030643549046717,0.021991630245395966,0.021952912325604125,0.021914702870293574,0.0218768732309445,0.021840097418160904,0.021804268027041572,0.02176813246275043,0.021731630866420232,0.021696030566893558,0.021660961700555703,0.02162632551930311,0.02159162463392947,0.021557456077609425,0.021525343431978552,0.02149263821405606,0.02146067463233985,0.02142927409976833,0.021398337336965213,0.021367858512192767,0.021338081068544717,0.02130892797306834,0.021279033869169458,0.021250596458092245,0.02122258206202701,0.021194971983936214,0.021167650126805493,0.021140544148370174,0.021114453439420262,0.021088979911454142,0.02106346014153854,0.021039287395471507,0.02101376086554505,0.020988883218900318,0.02096490895059651,0.020940838685826413,0.020918029555516936,0.02089554834352842,0.02087287956987305,0.020849933524846733,0.02082745583535518,0.02080579680303833,0.02078471647936761,0.02076391426018585,0.020743122853160684,0.02072240688289643,0.02070217813505955,0.02068207903889428,0.020662213105977614,0.02064275327362182,0.020623484435009755,0.020604553045082928,0.02058614827840919,0.02056719525048399,0.020549174455428258,0.02053120816685924,0.020513904668616727,0.020496344436540796,0.020479342559020862,0.020462496917446074,0.020445544074813325,0.020429023084419993,0.020412971240708743,0.0203972077138309,0.02038152627202097,0.02036606113606563,0.02035057064331482,0.020336169908183557,0.020321923511137735,0.02030726794574471,0.020293438623463916,0.020279299111398787,0.020265067564237398,0.02025149989895313,0.020237725154297236,0.02022434466910136,0.020210760153186638,0.0201975747932339,0.020184995649487808,0.020172705815952704,0.020160604641757143,0.020148688215505094,0.02013671658301565,0.020124770973393356,0.020112860113223205,0.020101369362125417,0.020090145679496338,0.020078954481661016,0.020068275576499373,0.02005799385224394,0.020047337278545282,0.020036790168564047,0.02002660837224242,0.02001613881456244,0.020006409485559873,0.01999646930112733,0.01998686279235526,0.019977259444874284,0.0199677709668912,0.019958478178807207,0.0199493795697247,0.01994064737684196,0.019931596241573132,0.019923020378101865,0.01991406091797713,0.01990526080214043,0.01989688790436932,0.01988872228269025,0.01988060584810356,0.019872819058403803,0.019864710280709907,0.019856843033953804,0.019849354373380805,0.01984164818105453,0.01983449438016631,0.019826814311935725,0.019819139306800584,0.019812212038911356,0.019805113176641093,0.01979824936552544,0.019791566753699637,0.01978467831366334,0.019778083849617524,0.019771486954890744,0.01976502864203694,0.01975854373482397,0.019752172809226965,0.019746199212024654,0.01974033238076258,0.019734448435899103,0.01972879657752208,0.019722780044737626,0.019717034475803478,0.01971131886259707,0.0197053981099711,0.01969997791986837,0.019694652037721184,0.019689439882280356,0.019684155511643153,0.01967887807172094,0.01967346581205206,0.01966806227899328,0.019663045635967324,0.019658214032696516,0.01965339683641248,0.019648618644143287,0.01964388105377508,0.019639373963778673,0.019634501338852313,0.01962996402277124,0.019625491028462345,0.019621094214501016,0.019616790662520492,0.019612591422225916,0.019608361021561924,0.01960424206021523,0.019600335585729524,0.019596440562691303,0.019592511307253285,0.01958855830783694,0.01958469229702518,0.01958095515927733,0.01957725794049147,0.019573828982846635,0.01957028583210884,0.019566520275632014,0.019563074838380122,0.01955949160866951,0.019556187765500596,0.019552757503504457,0.019549584304869014,0.0195466063589168,0.019543702964845686,0.019540480122135384,0.019537424595266775,0.019534289334944322,0.019531365163172866,0.019528375647512475,0.0195255349298524,0.019522682639560945,0.0195198837045208,0.019517036207098604,0.019514256878292974,0.019511565456941157,0.019508909582698478,0.01950626461584637,0.0195035663057219,0.019500858620293746,0.019498170410032833,0.019495537787944547,0.01949304837193406,0.019490676503987926,0.01948818188070827,0.019485813364550773,0.0194835804834661,0.01948128359152814,0.019478983801350054,0.01947667425270013,0.019474424183284336,0.01947217642590966,0.019469907530480782,0.019467851838977,0.019465785879351653,0.019463661788746315],\"type\":\"scatter\"}],                        {\"template\":{\"data\":{\"histogram2dcontour\":[{\"type\":\"histogram2dcontour\",\"colorbar\":{\"outlinewidth\":0,\"ticks\":\"\"},\"colorscale\":[[0.0,\"#0d0887\"],[0.1111111111111111,\"#46039f\"],[0.2222222222222222,\"#7201a8\"],[0.3333333333333333,\"#9c179e\"],[0.4444444444444444,\"#bd3786\"],[0.5555555555555556,\"#d8576b\"],[0.6666666666666666,\"#ed7953\"],[0.7777777777777778,\"#fb9f3a\"],[0.8888888888888888,\"#fdca26\"],[1.0,\"#f0f921\"]]}],\"choropleth\":[{\"type\":\"choropleth\",\"colorbar\":{\"outlinewidth\":0,\"ticks\":\"\"}}],\"histogram2d\":[{\"type\":\"histogram2d\",\"colorbar\":{\"outlinewidth\":0,\"ticks\":\"\"},\"colorscale\":[[0.0,\"#0d0887\"],[0.1111111111111111,\"#46039f\"],[0.2222222222222222,\"#7201a8\"],[0.3333333333333333,\"#9c179e\"],[0.4444444444444444,\"#bd3786\"],[0.5555555555555556,\"#d8576b\"],[0.6666666666666666,\"#ed7953\"],[0.7777777777777778,\"#fb9f3a\"],[0.8888888888888888,\"#fdca26\"],[1.0,\"#f0f921\"]]}],\"heatmap\":[{\"type\":\"heatmap\",\"colorbar\":{\"outlinewidth\":0,\"ticks\":\"\"},\"colorscale\":[[0.0,\"#0d0887\"],[0.1111111111111111,\"#46039f\"],[0.2222222222222222,\"#7201a8\"],[0.3333333333333333,\"#9c179e\"],[0.4444444444444444,\"#bd3786\"],[0.5555555555555556,\"#d8576b\"],[0.6666666666666666,\"#ed7953\"],[0.7777777777777778,\"#fb9f3a\"],[0.8888888888888888,\"#fdca26\"],[1.0,\"#f0f921\"]]}],\"heatmapgl\":[{\"type\":\"heatmapgl\",\"colorbar\":{\"outlinewidth\":0,\"ticks\":\"\"},\"colorscale\":[[0.0,\"#0d0887\"],[0.1111111111111111,\"#46039f\"],[0.2222222222222222,\"#7201a8\"],[0.3333333333333333,\"#9c179e\"],[0.4444444444444444,\"#bd3786\"],[0.5555555555555556,\"#d8576b\"],[0.6666666666666666,\"#ed7953\"],[0.7777777777777778,\"#fb9f3a\"],[0.8888888888888888,\"#fdca26\"],[1.0,\"#f0f921\"]]}],\"contourcarpet\":[{\"type\":\"contourcarpet\",\"colorbar\":{\"outlinewidth\":0,\"ticks\":\"\"}}],\"contour\":[{\"type\":\"contour\",\"colorbar\":{\"outlinewidth\":0,\"ticks\":\"\"},\"colorscale\":[[0.0,\"#0d0887\"],[0.1111111111111111,\"#46039f\"],[0.2222222222222222,\"#7201a8\"],[0.3333333333333333,\"#9c179e\"],[0.4444444444444444,\"#bd3786\"],[0.5555555555555556,\"#d8576b\"],[0.6666666666666666,\"#ed7953\"],[0.7777777777777778,\"#fb9f3a\"],[0.8888888888888888,\"#fdca26\"],[1.0,\"#f0f921\"]]}],\"surface\":[{\"type\":\"surface\",\"colorbar\":{\"outlinewidth\":0,\"ticks\":\"\"},\"colorscale\":[[0.0,\"#0d0887\"],[0.1111111111111111,\"#46039f\"],[0.2222222222222222,\"#7201a8\"],[0.3333333333333333,\"#9c179e\"],[0.4444444444444444,\"#bd3786\"],[0.5555555555555556,\"#d8576b\"],[0.6666666666666666,\"#ed7953\"],[0.7777777777777778,\"#fb9f3a\"],[0.8888888888888888,\"#fdca26\"],[1.0,\"#f0f921\"]]}],\"mesh3d\":[{\"type\":\"mesh3d\",\"colorbar\":{\"outlinewidth\":0,\"ticks\":\"\"}}],\"scatter\":[{\"fillpattern\":{\"fillmode\":\"overlay\",\"size\":10,\"solidity\":0.2},\"type\":\"scatter\"}],\"parcoords\":[{\"type\":\"parcoords\",\"line\":{\"colorbar\":{\"outlinewidth\":0,\"ticks\":\"\"}}}],\"scatterpolargl\":[{\"type\":\"scatterpolargl\",\"marker\":{\"colorbar\":{\"outlinewidth\":0,\"ticks\":\"\"}}}],\"bar\":[{\"error_x\":{\"color\":\"#2a3f5f\"},\"error_y\":{\"color\":\"#2a3f5f\"},\"marker\":{\"line\":{\"color\":\"#E5ECF6\",\"width\":0.5},\"pattern\":{\"fillmode\":\"overlay\",\"size\":10,\"solidity\":0.2}},\"type\":\"bar\"}],\"scattergeo\":[{\"type\":\"scattergeo\",\"marker\":{\"colorbar\":{\"outlinewidth\":0,\"ticks\":\"\"}}}],\"scatterpolar\":[{\"type\":\"scatterpolar\",\"marker\":{\"colorbar\":{\"outlinewidth\":0,\"ticks\":\"\"}}}],\"histogram\":[{\"marker\":{\"pattern\":{\"fillmode\":\"overlay\",\"size\":10,\"solidity\":0.2}},\"type\":\"histogram\"}],\"scattergl\":[{\"type\":\"scattergl\",\"marker\":{\"colorbar\":{\"outlinewidth\":0,\"ticks\":\"\"}}}],\"scatter3d\":[{\"type\":\"scatter3d\",\"line\":{\"colorbar\":{\"outlinewidth\":0,\"ticks\":\"\"}},\"marker\":{\"colorbar\":{\"outlinewidth\":0,\"ticks\":\"\"}}}],\"scattermapbox\":[{\"type\":\"scattermapbox\",\"marker\":{\"colorbar\":{\"outlinewidth\":0,\"ticks\":\"\"}}}],\"scatterternary\":[{\"type\":\"scatterternary\",\"marker\":{\"colorbar\":{\"outlinewidth\":0,\"ticks\":\"\"}}}],\"scattercarpet\":[{\"type\":\"scattercarpet\",\"marker\":{\"colorbar\":{\"outlinewidth\":0,\"ticks\":\"\"}}}],\"carpet\":[{\"aaxis\":{\"endlinecolor\":\"#2a3f5f\",\"gridcolor\":\"white\",\"linecolor\":\"white\",\"minorgridcolor\":\"white\",\"startlinecolor\":\"#2a3f5f\"},\"baxis\":{\"endlinecolor\":\"#2a3f5f\",\"gridcolor\":\"white\",\"linecolor\":\"white\",\"minorgridcolor\":\"white\",\"startlinecolor\":\"#2a3f5f\"},\"type\":\"carpet\"}],\"table\":[{\"cells\":{\"fill\":{\"color\":\"#EBF0F8\"},\"line\":{\"color\":\"white\"}},\"header\":{\"fill\":{\"color\":\"#C8D4E3\"},\"line\":{\"color\":\"white\"}},\"type\":\"table\"}],\"barpolar\":[{\"marker\":{\"line\":{\"color\":\"#E5ECF6\",\"width\":0.5},\"pattern\":{\"fillmode\":\"overlay\",\"size\":10,\"solidity\":0.2}},\"type\":\"barpolar\"}],\"pie\":[{\"automargin\":true,\"type\":\"pie\"}]},\"layout\":{\"autotypenumbers\":\"strict\",\"colorway\":[\"#636efa\",\"#EF553B\",\"#00cc96\",\"#ab63fa\",\"#FFA15A\",\"#19d3f3\",\"#FF6692\",\"#B6E880\",\"#FF97FF\",\"#FECB52\"],\"font\":{\"color\":\"#2a3f5f\"},\"hovermode\":\"closest\",\"hoverlabel\":{\"align\":\"left\"},\"paper_bgcolor\":\"white\",\"plot_bgcolor\":\"#E5ECF6\",\"polar\":{\"bgcolor\":\"#E5ECF6\",\"angularaxis\":{\"gridcolor\":\"white\",\"linecolor\":\"white\",\"ticks\":\"\"},\"radialaxis\":{\"gridcolor\":\"white\",\"linecolor\":\"white\",\"ticks\":\"\"}},\"ternary\":{\"bgcolor\":\"#E5ECF6\",\"aaxis\":{\"gridcolor\":\"white\",\"linecolor\":\"white\",\"ticks\":\"\"},\"baxis\":{\"gridcolor\":\"white\",\"linecolor\":\"white\",\"ticks\":\"\"},\"caxis\":{\"gridcolor\":\"white\",\"linecolor\":\"white\",\"ticks\":\"\"}},\"coloraxis\":{\"colorbar\":{\"outlinewidth\":0,\"ticks\":\"\"}},\"colorscale\":{\"sequential\":[[0.0,\"#0d0887\"],[0.1111111111111111,\"#46039f\"],[0.2222222222222222,\"#7201a8\"],[0.3333333333333333,\"#9c179e\"],[0.4444444444444444,\"#bd3786\"],[0.5555555555555556,\"#d8576b\"],[0.6666666666666666,\"#ed7953\"],[0.7777777777777778,\"#fb9f3a\"],[0.8888888888888888,\"#fdca26\"],[1.0,\"#f0f921\"]],\"sequentialminus\":[[0.0,\"#0d0887\"],[0.1111111111111111,\"#46039f\"],[0.2222222222222222,\"#7201a8\"],[0.3333333333333333,\"#9c179e\"],[0.4444444444444444,\"#bd3786\"],[0.5555555555555556,\"#d8576b\"],[0.6666666666666666,\"#ed7953\"],[0.7777777777777778,\"#fb9f3a\"],[0.8888888888888888,\"#fdca26\"],[1.0,\"#f0f921\"]],\"diverging\":[[0,\"#8e0152\"],[0.1,\"#c51b7d\"],[0.2,\"#de77ae\"],[0.3,\"#f1b6da\"],[0.4,\"#fde0ef\"],[0.5,\"#f7f7f7\"],[0.6,\"#e6f5d0\"],[0.7,\"#b8e186\"],[0.8,\"#7fbc41\"],[0.9,\"#4d9221\"],[1,\"#276419\"]]},\"xaxis\":{\"gridcolor\":\"white\",\"linecolor\":\"white\",\"ticks\":\"\",\"title\":{\"standoff\":15},\"zerolinecolor\":\"white\",\"automargin\":true,\"zerolinewidth\":2},\"yaxis\":{\"gridcolor\":\"white\",\"linecolor\":\"white\",\"ticks\":\"\",\"title\":{\"standoff\":15},\"zerolinecolor\":\"white\",\"automargin\":true,\"zerolinewidth\":2},\"scene\":{\"xaxis\":{\"backgroundcolor\":\"#E5ECF6\",\"gridcolor\":\"white\",\"linecolor\":\"white\",\"showbackground\":true,\"ticks\":\"\",\"zerolinecolor\":\"white\",\"gridwidth\":2},\"yaxis\":{\"backgroundcolor\":\"#E5ECF6\",\"gridcolor\":\"white\",\"linecolor\":\"white\",\"showbackground\":true,\"ticks\":\"\",\"zerolinecolor\":\"white\",\"gridwidth\":2},\"zaxis\":{\"backgroundcolor\":\"#E5ECF6\",\"gridcolor\":\"white\",\"linecolor\":\"white\",\"showbackground\":true,\"ticks\":\"\",\"zerolinecolor\":\"white\",\"gridwidth\":2}},\"shapedefaults\":{\"line\":{\"color\":\"#2a3f5f\"}},\"annotationdefaults\":{\"arrowcolor\":\"#2a3f5f\",\"arrowhead\":0,\"arrowwidth\":1},\"geo\":{\"bgcolor\":\"white\",\"landcolor\":\"#E5ECF6\",\"subunitcolor\":\"white\",\"showland\":true,\"showlakes\":true,\"lakecolor\":\"white\"},\"title\":{\"x\":0.05},\"mapbox\":{\"style\":\"light\"}}},\"title\":{\"text\":\"max_iter\"},\"xaxis\":{\"title\":{\"text\":\"iteration\"}},\"yaxis\":{\"title\":{\"text\":\"loss\"}}},                        {\"responsive\": true}                    ).then(function(){\n",
              "                            \n",
              "var gd = document.getElementById('a4916943-1818-4959-96cc-044f48d27c2b');\n",
              "var x = new MutationObserver(function (mutations, observer) {{\n",
              "        var display = window.getComputedStyle(gd).display;\n",
              "        if (!display || display === 'none') {{\n",
              "            console.log([gd, 'removed!']);\n",
              "            Plotly.purge(gd);\n",
              "            observer.disconnect();\n",
              "        }}\n",
              "}});\n",
              "\n",
              "// Listen for the removal of the full notebook cells\n",
              "var notebookContainer = gd.closest('#notebook-container');\n",
              "if (notebookContainer) {{\n",
              "    x.observe(notebookContainer, {childList: true});\n",
              "}}\n",
              "\n",
              "// Listen for the clearing of the current output cell\n",
              "var outputEl = gd.closest('.output');\n",
              "if (outputEl) {{\n",
              "    x.observe(outputEl, {childList: true});\n",
              "}}\n",
              "\n",
              "                        })                };                            </script>        </div>\n",
              "</body>\n",
              "</html>"
            ]
          },
          "metadata": {}
        }
      ]
    },
    {
      "cell_type": "markdown",
      "source": [
        "Эти два параметра с увеличением могут улучшить качество модели, однако сходимость при этом, как правило становится медленее. Поэтому их следует выбирать так, чтобы был баланс между качеством и скоростью сходимости"
      ],
      "metadata": {
        "id": "y1GFGBgxdtht"
      }
    },
    {
      "cell_type": "markdown",
      "metadata": {
        "id": "bqYtVqv-y-Qu"
      },
      "source": [
        "#### 9. [1 балл] Постройте графики (там же) зависимости значения функции потерь от номера итерации для всех моделей (полного градиентого спуска, стохастического гс, Momentum и Adagrad). Сделайте выводы о скорости сходимости различных модификаций градиентного спуска.\n",
        "\n",
        "\n",
        "Не забывайте о том, как должен выглядеть *красивый* график!"
      ]
    },
    {
      "cell_type": "code",
      "execution_count": 69,
      "metadata": {
        "id": "Xbwhu8BSy-Qu",
        "colab": {
          "base_uri": "https://localhost:8080/",
          "height": 542
        },
        "outputId": "6188a81b-2584-4b48-989e-7d763ec2c37e"
      },
      "outputs": [
        {
          "output_type": "display_data",
          "data": {
            "text/html": [
              "<html>\n",
              "<head><meta charset=\"utf-8\" /></head>\n",
              "<body>\n",
              "    <div>            <script src=\"https://cdnjs.cloudflare.com/ajax/libs/mathjax/2.7.5/MathJax.js?config=TeX-AMS-MML_SVG\"></script><script type=\"text/javascript\">if (window.MathJax && window.MathJax.Hub && window.MathJax.Hub.Config) {window.MathJax.Hub.Config({SVG: {font: \"STIX-Web\"}});}</script>                <script type=\"text/javascript\">window.PlotlyConfig = {MathJaxConfig: 'local'};</script>\n",
              "        <script charset=\"utf-8\" src=\"https://cdn.plot.ly/plotly-2.24.1.min.js\"></script>                <div id=\"a42165f1-20d6-41b5-86bd-e071ca043921\" class=\"plotly-graph-div\" style=\"height:525px; width:100%;\"></div>            <script type=\"text/javascript\">                                    window.PLOTLYENV=window.PLOTLYENV || {};                                    if (document.getElementById(\"a42165f1-20d6-41b5-86bd-e071ca043921\")) {                    Plotly.newPlot(                        \"a42165f1-20d6-41b5-86bd-e071ca043921\",                        [{\"name\":\"Full GD\",\"x\":[1,2,3,4,5,6,7,8,9,10,11,12,13,14,15,16,17,18,19,20,21,22,23,24,25,26,27,28,29,30,31,32,33,34,35,36,37,38,39,40,41,42,43,44,45,46,47,48,49,50,51,52,53,54,55,56,57,58,59,60,61,62,63,64,65,66,67,68,69,70,71,72,73,74,75,76,77,78,79,80,81,82,83,84,85,86,87,88,89,90,91,92,93,94,95,96,97,98,99,100,101,102,103,104,105,106,107,108,109,110,111,112,113,114,115,116,117,118,119,120,121,122,123,124,125,126,127,128,129,130,131,132,133,134,135,136,137,138,139,140,141,142,143,144,145,146,147,148,149,150,151,152,153,154,155,156,157,158,159,160,161,162,163,164,165,166,167,168,169,170,171,172,173,174,175,176,177,178,179,180,181,182,183,184,185,186,187,188,189,190,191,192,193,194,195,196,197,198,199,200,201,202,203,204,205,206,207,208,209,210,211,212,213,214,215,216,217,218,219,220,221,222,223,224,225,226,227,228,229,230,231,232,233,234,235,236,237,238,239,240,241,242,243,244,245,246,247,248,249,250,251,252,253,254,255,256,257,258,259,260,261,262,263,264,265,266,267,268,269,270,271,272,273,274,275,276,277,278,279,280,281,282,283,284,285,286,287,288,289,290,291,292,293,294,295,296,297,298,299,300,301,302,303,304,305,306,307,308,309,310,311,312,313,314,315,316,317,318,319,320,321,322,323,324,325,326,327,328,329,330,331,332,333,334,335,336,337,338,339,340,341,342,343,344,345,346,347,348,349,350,351,352,353,354,355,356,357,358,359,360,361,362,363,364,365,366,367,368,369,370,371,372,373,374,375,376,377,378,379,380,381,382,383,384,385,386,387,388,389,390,391,392,393,394,395,396,397,398,399,400,401,402,403,404,405,406,407,408,409,410,411,412,413,414,415,416,417,418,419,420,421,422,423,424,425,426,427,428,429,430,431,432,433,434,435,436,437,438,439,440,441,442,443,444,445,446,447,448,449,450,451,452,453,454,455,456,457,458,459,460,461,462,463,464,465,466,467,468,469,470,471,472,473,474,475,476,477,478,479,480,481,482,483,484,485,486,487,488,489,490,491,492,493,494,495,496,497,498,499,500,501,502,503,504,505,506,507,508,509,510,511,512,513,514,515,516,517,518,519,520,521,522,523,524,525,526,527,528,529,530,531,532,533,534,535,536,537,538,539,540,541,542,543,544,545,546,547,548,549,550,551,552,553,554,555,556,557,558,559,560,561,562,563,564,565,566,567,568,569,570,571,572,573,574,575,576,577,578,579,580,581,582,583,584,585,586,587,588,589,590,591,592,593,594,595,596,597,598,599,600,601,602,603,604,605,606,607,608,609,610,611,612,613,614,615,616,617,618,619,620,621,622,623,624,625,626,627,628,629,630,631,632,633,634,635,636,637,638,639,640,641,642,643,644,645,646,647,648,649,650,651,652,653,654,655,656,657,658,659,660,661,662,663,664,665,666,667,668,669,670,671,672,673,674,675,676,677,678,679,680,681,682,683,684,685,686,687,688,689,690,691,692,693,694,695,696,697,698,699,700,701,702,703,704,705,706,707,708,709,710,711,712,713,714,715,716,717,718,719,720,721,722,723,724,725,726,727,728,729,730,731,732,733,734,735,736,737,738,739,740,741,742,743,744,745,746,747,748,749,750,751,752,753,754,755,756,757,758,759,760,761,762,763,764,765,766,767,768,769,770,771,772,773,774,775,776,777,778,779,780,781,782,783,784,785,786,787,788,789,790,791,792,793,794,795,796,797,798,799,800,801,802,803,804,805,806,807,808,809,810,811,812,813,814,815,816,817,818,819,820,821,822,823,824,825,826,827,828,829,830,831,832,833,834,835,836,837,838,839,840,841,842,843,844,845,846,847,848,849,850,851,852,853,854,855,856,857,858,859,860,861,862,863,864,865,866,867,868,869,870,871,872,873,874,875,876,877,878,879,880,881,882,883,884,885,886,887,888,889,890,891,892,893,894,895,896,897,898,899,900,901,902,903,904,905,906,907,908,909,910,911,912,913,914,915,916,917,918,919,920,921,922,923,924,925,926,927,928,929,930,931,932,933,934,935,936,937,938,939,940,941,942,943,944,945,946,947,948,949,950,951,952,953,954,955,956,957,958,959,960,961,962,963,964,965,966,967,968,969,970,971,972,973,974,975,976,977,978,979,980,981,982,983,984,985,986,987,988,989,990,991,992,993,994,995,996,997,998,999,1000],\"y\":[151.72517038731868,145.21014727770023,138.92068203801662,133.00647299444918,127.41736309833883,122.02922096878464,116.89596795580616,112.00546553697829,107.3029483097132,102.85129679645853,98.58626238920671,94.52534166473292,90.58901885135862,86.85726348662047,83.29763980714134,79.8672321669525,76.61256241194063,73.47484712052913,70.4915794449853,67.60799607585807,64.85739210101285,62.23235310036846,59.73314481307844,57.34170353521586,55.01510051940975,52.7966347084726,50.67125659323565,48.64482912192384,46.7102008652098,44.84626810802112,43.06503007923053,41.35609011138544,39.71836476984217,38.14616905548764,36.660073392814745,35.21620634107517,33.83058082852361,32.49878759528242,31.21450121944185,29.98222690389907,28.816343705618333,27.696551357840676,26.6291616188046,25.594962359777238,24.605432690554572,23.64436914060352,22.728380901752598,21.847115985708538,20.999873906441962,20.193513036056203,19.422107209122775,18.67658975065762,17.954176898151317,17.262519713025938,16.606183969091962,15.97460130784162,15.367781704133522,14.780198004235134,14.217795266374639,13.677306827463811,13.155858949769197,12.659551423436197,12.181755940911463,11.724728920809442,11.284915736471893,10.860195472866522,10.453874393654122,10.064929614441755,9.689289641131566,9.333183253229917,8.98627241637355,8.653265774242204,8.33332809540637,8.02817132938225,7.735708214227031,7.456458969988951,7.1859926416018745,6.924993256503578,6.67357028294992,6.433148850980232,6.200491579375688,5.976871055104625,5.764762094925762,5.558994227283933,5.36325662211843,5.173259564804146,4.989877255290978,4.814013596611428,4.645589778550807,4.482505308509775,4.3255001484027575,4.175244335533461,4.031264089833082,3.892985866525001,3.759051287469268,3.6303854170257637,3.5062601796064703,3.3878959520295924,3.273823608504278,3.1632959987719187,3.0580190294797456,2.955560521040377,2.8571083145567666,2.762753469482686,2.6714891336062734,2.583949010939228,2.500399612550211,2.4192687866197446,2.341061637072168,2.2657500875926684,2.192728883042991,2.123756165114731,2.0565631350121456,1.9919810469534183,1.9298980059087547,1.8698388615862442,1.811657020349577,1.756153181703981,1.7024830542164335,1.6507323336542186,1.6012679761042126,1.5533969736793751,1.507479602376101,1.4627718485059122,1.419686940015827,1.3782280597359784,1.338059975162314,1.2993387632069398,1.262037992582781,1.225903886447826,1.1909334099638076,1.1575215035376334,1.1252890890399754,1.0940349714959567,1.0639544720104164,1.0350687620326158,1.00663217347382,0.9792998290128772,0.952901007508263,0.9274940417395425,0.9029405273330702,0.8791380818972894,0.8564891195192845,0.8343056709465124,0.8128537326141092,0.7923816781709178,0.7723587457952201,0.7529195824237674,0.734294867600441,0.7160562123820838,0.698779404559371,0.6817082767714263,0.6653994569513385,0.6494888945428855,0.6340597346195015,0.6191694594898803,0.6049104968175331,0.5909550284212063,0.5773073335516572,0.5641910135985662,0.5515724546359698,0.5392361505972837,0.5273511724955116,0.5157843223024071,0.5045608027725713,0.49367833954664664,0.4831176375548302,0.47284307091103206,0.4629411751181235,0.45332327246500875,0.44394262303580206,0.4348378763660777,0.4260570401295061,0.4175640462348446,0.4092776537647841,0.40121573160628704,0.3933867276054317,0.385693111188951,0.37824666708914617,0.3710679325467187,0.36407129280432804,0.3572051127813033,0.3505830351198855,0.3441566754907113,0.3379339242211858,0.33185838954948776,0.3259325302812925,0.320142923148195,0.3145175242372876,0.3090181228782099,0.30371635921769613,0.2984637309644424,0.29337503408174803,0.2884293107278837,0.2836466078402682,0.2789385711898543,0.2743490912815133,0.26986355934240436,0.26548693217460545,0.2612563203025988,0.25706659043707963,0.25304754069732077,0.24910420295103866,0.24524463976448135,0.24145637018541974,0.23775873347676163,0.23416429215875365,0.23062503720608526,0.22721967427762665,0.22384396789508126,0.2205536415061792,0.21734298514391637,0.2142212860065365,0.2111133736004538,0.2080884060486349,0.2051431565192258,0.20224132722896337,0.19942320004310704,0.1966501935940903,0.19396495212336837,0.19132023419448851,0.18872513918145317,0.18620077536063515,0.18369492193973536,0.1812518991442764,0.17886052482258213,0.1765205388058302,0.1742078732881212,0.17195607073199035,0.16976464847126177,0.16759036301939106,0.16545113160322394,0.16334663959643242,0.16127832294650404,0.15927229642883586,0.15731823093290415,0.15539203627673792,0.1535050724883649,0.15163432416499023,0.14981229681182512,0.14801108763836882,0.14623784248441948,0.14450576726906572,0.14279775800468578,0.1411224508319709,0.13946388378398802,0.13783695608650146,0.136235280947191,0.13468897541090416,0.13314616873160323,0.13164541947955968,0.13018521196502963,0.12872720741255309,0.12731572086165657,0.12591831249076105,0.12452407629711033,0.12316977546942731,0.12183224846945472,0.12051667808346296,0.11924975075201166,0.11797494837535515,0.11673088807536691,0.11551172185925657,0.11430342029104966,0.11310633997245703,0.11193920018855631,0.11079869670908876,0.109658466835777,0.10853754488419366,0.10743280639477258,0.10634924498556553,0.10528532537680269,0.10423086234395358,0.1031909753358465,0.10217138532219519,0.10117405723932359,0.10018427489942971,0.09921108008272363,0.09824471996564885,0.09728613675038246,0.09635281436547831,0.09543353306935101,0.09452653821033463,0.0936258239707485,0.09275456935188732,0.09190383743238931,0.09105091011946119,0.09020384762647522,0.08937599601932761,0.08855867178113855,0.0877533791154794,0.08695980537857775,0.08618227561491174,0.08541126980478905,0.08464697950334246,0.08389295251489495,0.08315594355572635,0.08242507503005327,0.08170416775435095,0.08099727420365281,0.0803023736935411,0.0796223008806676,0.07895346281322915,0.07828189158146666,0.07761551326891811,0.0769610149192676,0.07632049517436232,0.07568209608484223,0.07505155118040481,0.07443260343255594,0.07381785703089919,0.07322491119310313,0.07263167190246876,0.07204859814478942,0.07146879415585664,0.07088878562063257,0.07032182153833764,0.06976517154528356,0.06921603367837048,0.06867836434632682,0.0681478971872729,0.06762364002111773,0.06710066057809161,0.06658751489857653,0.0660728035306537,0.0655785905707291,0.06508279318483337,0.0645919680166713,0.06411680007094366,0.06363406312440262,0.06316616936316978,0.06270403509230027,0.0622489100889992,0.06179148920964224,0.0613451490634908,0.06090142223976672,0.060472823302266006,0.06004327998793808,0.05961874599231577,0.05920091301475408,0.058783900232425176,0.05838218710619002,0.057978893965822155,0.05758104849526959,0.05718375113177009,0.05679964245820799,0.056419528328691015,0.05604135245696897,0.05566653252578833,0.05529692660306667,0.054935496006156104,0.054578888748780044,0.05422359572875002,0.05386726019401095,0.05352031129229644,0.053176454867204494,0.052840627966209544,0.05251006868782228,0.052179406146232205,0.0518596955321618,0.05153567155792112,0.051226027114139705,0.050910706655256016,0.05060043437799352,0.05029378260825863,0.04999237149621208,0.049689417083547696,0.0493950048901044,0.04910281906156853,0.04881526610471574,0.048530644383014805,0.04824858932715671,0.04796780817607822,0.04768979301056741,0.047417296531282224,0.047150681142095766,0.0468858820150671,0.04662273444126126,0.04636474030047501,0.04610771481372613,0.04585534195678958,0.04560656800547047,0.04536047865152013,0.04511466544691025,0.044875916932390174,0.04463640558182685,0.044400687224444624,0.04416750325539859,0.04393702403746625,0.04370989126029561,0.043482581201598064,0.04325970726026899,0.04304061714508057,0.042825965357773305,0.0426099844397083,0.04239533619122317,0.04218567554239694,0.041979321436202824,0.04177281717817087,0.041571961835692506,0.04137178738960307,0.04117224038295387,0.04097620300921501,0.04078128862440895,0.04059029401520244,0.040401486477637416,0.040215348090287296,0.04003191971938955,0.039850226468347544,0.039668085106720964,0.0394890122638176,0.03931148604929881,0.03913628860617678,0.03896324124398154,0.03879464662102085,0.03862597733076455,0.038456581492988424,0.03828876412804451,0.03812489923593005,0.03796270389812577,0.03780232320728847,0.03764383420731158,0.03748795862588778,0.03733477723615658,0.03718149519680181,0.037028699908849695,0.03687792631919627,0.03673100058699403,0.03658575639552142,0.03644189950968227,0.036299527814550286,0.036159095581622946,0.036020500348073886,0.035881407993027,0.03574627928330717,0.035610448892197576,0.0354763531069257,0.03534342214620971,0.03521223535898565,0.0350822643712635,0.03495237081467296,0.03482526662373568,0.03470026747962056,0.03457711224417898,0.03445367936027767,0.03433318332917054,0.034212571157137786,0.03409257169509042,0.03397393553914366,0.03385736966693906,0.03374203580339837,0.033628775720531204,0.03351527792329724,0.0334049872293966,0.033293731962049336,0.033184169842076575,0.033077041910201506,0.032970303799830306,0.03286471192587487,0.032760245655912165,0.032657046236291405,0.032555575568178535,0.03245434253743218,0.0323543774621156,0.03225570683810627,0.032156909043394626,0.03206045527611766,0.03196492493516912,0.031868933718553545,0.031775156559636156,0.031681538666217264,0.03158848512494967,0.031496628036525746,0.03140550275741923,0.03131654926994673,0.031227108430005614,0.031140367408590764,0.03105291428927615,0.030965825391039606,0.03088032705433586,0.030795491600345812,0.030712287962219368,0.03062932436613146,0.030548695900336487,0.030467419995206194,0.030387830299653053,0.03031045412110955,0.030231357893036166,0.030154444625985547,0.03007668858442917,0.030000420105156286,0.029924667642058606,0.029850224079831077,0.02977682260898637,0.029704547266635784,0.02963127485228373,0.029559851935367486,0.029488976223123995,0.029417725275117573,0.029347227316031475,0.02927852700691213,0.02921007468964976,0.029142232662639194,0.02907642304607031,0.0290094384453773,0.02894460177676448,0.028878982408332185,0.028814501761954235,0.028750813303168407,0.028687806547001236,0.02862469990043848,0.028563120281385725,0.028502874241913178,0.028441215909559846,0.02838163066968699,0.028321746902636898,0.028262126465430505,0.028203402320005438,0.02814556182948911,0.028087747965046535,0.02803029710406966,0.02797318232102478,0.02791666674455528,0.027860818553308502,0.027806779662807993,0.027752104214457524,0.027698430658279823,0.027644920245998864,0.02759188453389965,0.02754001088537828,0.027488234747357225,0.027436795975919054,0.02738547743315809,0.027334576506261185,0.027283960041422903,0.027233879922147493,0.027184585109735322,0.027136452717973394,0.02708812458392345,0.027040174775712925,0.026992329751618114,0.026946218977205262,0.026899827323499777,0.02685378546733634,0.02680779979539618,0.026762665748391694,0.026717348967540397,0.026672607399165618,0.026628891436329485,0.026585177878292513,0.026542187661915587,0.026499242965696976,0.026456316749918683,0.026414321704375895,0.026371588261028436,0.026329808951577875,0.026288975777142422,0.026247927238887497,0.02620866538542163,0.026168222919646794,0.026127986582775986,0.02608874948214709,0.02604990695840225,0.0260111675119519,0.02597341983422054,0.025935690567573666,0.02589786797555537,0.025859833700727253,0.02582292095621088,0.02578555239040392,0.025748683123362193,0.025712943393582315,0.025677250337378287,0.025641927030998397,0.025606535198417067,0.02557177001078948,0.02553747656365297,0.025503732621121968,0.025469268172727606,0.025435255767161182,0.02540198553949264,0.025369382658514357,0.02533627284913817,0.02530330177437554,0.025271160532957904,0.0252388611996782,0.025206758821779737,0.025175477904722715,0.025144457233336692,0.025112912385649964,0.025081944701002577,0.02505142955163959,0.025021352791691345,0.02499116255749863,0.024961468653660474,0.02493158791717056,0.02490193436965192,0.024872809037782034,0.0248436823109041,0.024814950698957047,0.024786778799345443,0.024758413169846956,0.02473009668189992,0.024702735649932188,0.024675435170652918,0.024648113638254122,0.024620935742728143,0.02459412857058657,0.02456728795035542,0.024540943516076334,0.024515008920407498,0.024488800472878883,0.024463147656294655,0.02443748113579746,0.02441188149973225,0.024386762346732885,0.024361612969884427,0.02433628595572983,0.024311327067631595,0.02428698769251225,0.02426236205605698,0.02423755180636549,0.024213600543085145,0.024189533106332053,0.024166126307865483,0.024143206561648124,0.024120289245265235,0.024097361337689898,0.024074877977755774,0.024052071403357887,0.024029534378814745,0.024007113182193045,0.023984879429966674,0.023962791486791486,0.023940903003613668,0.023918960166303602,0.02389727636650029,0.023876197039528178,0.023854779918343123,0.023833773692992503,0.023812855367533785,0.02379150100724635,0.023770863675106144,0.02375045871899429,0.023730450823574948,0.02371013949372945,0.023690053678869706,0.023670326450279486,0.023650533637392616,0.023631154713441783,0.02361133555044314,0.02359198653680774,0.0235726579404988,0.02355375624651974,0.023534479491766635,0.023515144791730162,0.02349640820455481,0.023478150359956675,0.023459866170409557,0.02344188473089724,0.02342380220892501,0.0234060222296401,0.023388161915058166,0.023370150489576778,0.023352044475219196,0.023334107095706928,0.02331677480845975,0.023299401835083226,0.023281972524433987,0.02326454695559171,0.023247106796513796,0.02323024773718287,0.0232133643579077,0.023196550419788273,0.023179881890967424,0.023163182284816806,0.023146666902533485,0.023130338777485184,0.023114146770281584,0.023098076835626175,0.02308235371148898,0.02306665583059625,0.023050723462416156,0.02303510535972012,0.02301974042272567,0.023004117739505663,0.022988439124908448,0.02297319802808936,0.022957690369608937,0.0229422496065798,0.022927412252848868,0.02291269433812818,0.022897803939034962,0.02288319144911343,0.022868730603528616,0.022854100627084338,0.022839447213473488,0.022825082282955544,0.02281076219918636,0.022796396638813908,0.02278213743952246,0.02276806077987391,0.022754051169923357,0.022740365138674244,0.02272661212432643,0.02271318775412013,0.02269974979919008,0.022686288413628613,0.022672865506644838,0.022659303848477228,0.02264591472268406,0.022632639061978828,0.02261955720063151,0.022606319110145497,0.02259328281205633,0.022580594596805892,0.022567726176971913,0.022555109366147266,0.02254258679432998,0.02253020533363334,0.022517587044432765,0.022504931694009606,0.022492626126544076,0.022480008729364415,0.022467739798968683,0.022455711320144754,0.022443913533211644,0.022431810916721914,0.02241996805816091,0.022408183080531344,0.022396274320115744,0.02238440802666282,0.022372822276966478,0.022361495165098215,0.022349868387684203,0.02233839849081756,0.022327001591350894,0.02231565099932504,0.022304184133405684,0.022293024778281816,0.022281665307244444,0.022270306390838192,0.022259120307421387,0.02224817800968032,0.022237053500066422,0.02222626026463906,0.022215528246978904,0.022204709260283784,0.02219412734792759,0.022183300649464745,0.022172812774754726,0.02216232437978838,0.02215176755876282,0.022141642689129857,0.02213117621641028,0.022120902446590124,0.022110822293363426,0.022100535831071993,0.022090318731547872,0.022080140712330158,0.02207011821236223,0.022060091455405446,0.022050202272475006,0.022040262305162314,0.02203032755264442,0.02202062485610481,0.022010720503613454,0.02200101059595918,0.021991227230481258,0.021981843706476246,0.021972220231408365,0.021962527058597484,0.02195283799389624,0.021943146642072444,0.02193403957693298,0.021924626663469372,0.021915436038132848,0.02190619245489046,0.02189716148850667,0.021888188196380436,0.021879232480762623,0.02187022116780077,0.021861400282967736,0.021852487723052635,0.02184389032496583,0.021834845548976266,0.021826385488270546,0.021817572250792106,0.02180869122024066],\"type\":\"scatter\"},{\"name\":\"SGD\",\"x\":[1,2,3,4,5,6,7,8,9,10,11,12,13,14,15,16,17,18,19,20,21,22,23,24,25,26,27,28,29,30,31,32,33,34,35,36,37,38,39,40,41,42,43,44,45,46,47,48,49,50,51,52,53,54,55,56,57,58,59,60,61,62,63,64,65,66,67,68,69,70,71,72,73,74,75,76,77,78,79,80,81,82,83,84,85,86,87,88,89,90,91,92,93,94,95,96,97,98,99,100,101,102,103,104,105,106,107,108,109,110,111,112,113,114,115,116,117,118,119,120,121,122,123,124,125,126,127,128,129,130,131,132,133,134,135,136,137,138,139,140,141,142,143,144,145,146,147,148,149,150,151,152,153,154,155,156,157,158,159,160,161,162,163,164,165,166,167,168,169,170,171,172,173,174,175,176,177,178,179,180,181,182,183,184,185,186,187,188,189,190,191,192,193,194,195,196,197,198,199,200,201,202,203,204,205,206,207,208,209,210,211,212,213,214,215,216,217,218,219,220,221,222,223,224,225,226,227,228,229,230,231,232,233,234,235,236,237,238,239,240,241,242,243,244,245,246,247,248,249,250,251,252,253,254,255,256,257,258,259,260,261,262,263,264,265,266,267,268,269,270,271,272,273,274,275,276,277,278,279,280,281,282,283,284,285,286,287,288,289,290,291,292,293,294,295,296,297,298,299,300,301,302,303,304,305,306,307,308,309,310,311,312,313,314,315,316,317,318,319,320,321,322,323,324,325,326,327,328,329,330,331,332,333,334,335,336,337,338,339,340,341,342,343,344,345,346,347,348,349,350,351,352,353,354,355,356,357,358,359,360,361,362,363,364,365,366,367,368,369,370,371,372,373,374,375,376,377,378,379,380,381,382,383,384,385,386,387,388,389,390,391,392,393,394,395,396,397,398,399,400,401,402,403,404,405,406,407,408,409,410,411,412,413,414,415,416,417,418,419,420,421,422,423,424,425,426,427,428,429,430,431,432,433,434,435,436,437,438,439,440,441,442,443,444,445,446,447,448,449,450,451,452,453,454,455,456,457,458,459,460,461,462,463,464,465,466,467,468,469,470,471,472,473,474,475,476,477,478,479,480,481,482,483,484,485,486,487,488,489,490,491,492,493,494,495,496,497,498,499,500,501,502,503,504,505,506,507,508,509,510,511,512,513,514,515,516,517,518,519,520,521,522,523,524,525,526,527,528,529,530,531,532,533,534,535,536,537,538,539,540,541,542,543,544,545,546,547,548,549,550,551,552,553,554,555,556,557,558,559,560,561,562,563,564,565,566,567,568,569,570,571,572,573,574,575,576,577,578,579,580,581,582,583,584,585,586,587,588,589,590,591,592,593,594,595,596,597,598,599,600,601,602,603,604,605,606,607,608,609,610,611,612,613,614,615,616,617,618,619,620,621,622,623,624,625,626,627,628,629,630,631,632,633,634,635,636,637,638,639,640,641,642,643,644,645,646,647,648,649,650,651,652,653,654,655,656,657,658,659,660,661,662,663,664,665,666,667,668,669,670,671,672,673,674,675,676,677,678,679,680,681,682,683,684,685,686,687,688,689,690,691,692,693,694,695,696,697,698,699,700,701,702,703,704,705,706,707,708,709,710,711,712,713,714,715,716,717,718,719,720,721,722,723,724,725,726,727,728,729,730,731,732,733,734,735,736,737,738,739,740,741,742,743,744,745,746,747,748,749,750,751,752,753,754,755,756,757,758,759,760,761,762,763,764,765,766,767,768,769,770,771,772,773,774,775,776,777,778,779,780,781,782,783,784,785,786,787,788,789,790,791,792,793,794,795,796,797,798,799,800,801,802,803,804,805,806,807,808,809,810,811,812,813,814,815,816,817,818,819,820,821,822,823,824,825,826,827,828,829,830,831,832,833,834,835,836,837,838,839,840,841,842,843,844,845,846,847,848,849,850,851,852,853,854,855,856,857,858,859,860,861,862,863,864,865,866,867,868,869,870,871,872,873,874,875,876,877,878,879,880,881,882,883,884,885,886,887,888,889,890,891,892,893,894,895,896,897,898,899,900,901,902,903,904,905,906,907,908,909,910,911,912,913,914,915,916,917,918,919,920,921,922,923,924,925,926,927,928,929,930,931,932,933,934,935,936,937,938,939,940,941,942,943,944,945,946,947,948,949,950,951,952,953,954,955,956,957,958,959,960,961,962,963,964,965,966,967,968,969,970,971,972,973,974,975,976,977,978,979,980,981,982,983,984,985,986,987,988,989,990,991,992,993,994,995,996,997,998,999,1000],\"y\":[137.12346426518997,131.11098126301755,125.39150283355703,119.96806970954648,114.75034676969418,109.8080383785678,105.09364810363023,100.62936541114938,96.37444958056776,92.2993822056496,88.38244893618962,84.68689195430026,81.14874501172204,77.78279647790255,74.58062902146916,71.49801348793012,68.54869563513503,65.70486828453781,63.005620991585836,60.430463199960855,57.96574443186472,55.58308289165787,53.32146532096036,51.15874772944785,49.07925550001466,47.10340684451936,45.21090785689408,43.38479602413426,41.63671169813149,39.95171315751273,38.3401060379855,36.80964920850233,35.347264961593076,33.938206827999984,32.57990611753654,31.292906614850416,30.054038341684166,28.851852386539225,27.70343704888593,26.602519498291986,25.558847120890874,24.55070629076789,23.589465740703766,22.662209964680425,21.771828288385656,20.922338192107183,20.108129401369048,19.318737170979325,18.562757983734215,17.842754532752597,17.14936622728456,16.485858245197036,15.849602172415736,15.238005679351899,14.649513952629782,14.085176093155454,13.542730049970947,13.020903076674214,12.5210332261356,12.044226071472535,11.589375362764816,11.146858354300068,10.718484747473928,10.310433042068828,9.917917012532438,9.54758019432718,9.188572549470788,8.844158672682203,8.511644434097093,8.192317449566993,7.886710373366407,7.591926810496298,7.307793163826325,7.036765221693442,6.776581166636494,6.52390087305815,6.283572681613775,6.052891830577383,5.8309823416615565,5.616291744365057,5.410614757031953,5.214097254711875,5.024631878022911,4.8420135439667265,4.6674079958223,4.500796880627703,4.339624778069506,4.183374226773177,4.032677398722784,3.889759571995089,3.7526691596690718,3.6196354700732396,3.4913185369400725,3.368452383770696,3.25031812790529,3.136304551675918,3.0268279546698404,2.9214684086129945,2.8212459613208996,2.723967331267747,2.6304345819544106,2.540726705614146,2.4547370319162396,2.3722433644485728,2.2921256335021805,2.2148945286589603,2.1414824879979593,2.0702886587256657,2.001961856354552,1.9357879924163717,1.872342709479423,1.8115192520194758,1.7523592234818637,1.695720417494765,1.6411876702419836,1.5892006818426565,1.5390428419365443,1.4901869122956573,1.4432085880678378,1.398214159672649,1.3547613008680781,1.3129407532810546,1.2726769222306125,1.233782081683418,1.196548963973344,1.1605029488157441,1.1255449578357393,1.0918231341510791,1.0595515717629256,1.028539912045599,0.9985347606927404,0.9693487896872257,0.9413110093143489,0.9142852574351601,0.8884871907317329,0.8633576118982085,0.8390633087687046,0.8157860023377652,0.7933692456876454,0.7716252495100747,0.750730754985187,0.7303830860165056,0.7109027098067487,0.6919084171448646,0.673861759590818,0.6562129608763524,0.6390658918122653,0.6225209613841733,0.6066317191655151,0.591211955738951,0.5764035453878261,0.5619311036464846,0.5480726540465369,0.5347451825357723,0.5218843957622606,0.5093553589902321,0.4972132618684101,0.4855028243312898,0.4741022209145851,0.46309104032093457,0.45256679145242545,0.44227804312088503,0.43241063672075686,0.422910488425859,0.41383374047273014,0.40489692686626516,0.3962374960219327,0.3877807763908598,0.37977036116043233,0.371839052920227,0.3641793024870172,0.35675028214571947,0.34969352096898954,0.3428443389032428,0.3360462356878231,0.32942465791981634,0.3230034971815309,0.3168132308029823,0.31085644574354665,0.304962484315222,0.29940100976635425,0.29398824546262425,0.2886377161122297,0.2835895356556813,0.27864299605813625,0.27379357247172637,0.2691611368059249,0.26452410982337293,0.2600515184428204,0.25570802844171686,0.2515296902182945,0.24747213684992675,0.2434554900253989,0.23968452237167348,0.23598231695563232,0.23228747194558877,0.22863812494123503,0.22520951932323396,0.22188189725253973,0.21858923984147516,0.21539956924363102,0.21233451903040834,0.2093613990604376,0.20646173119910874,0.20358782657876778,0.2008269487330733,0.1981238943544819,0.19550319492356674,0.19296977922549655,0.19042475773798104,0.18798299374562527,0.1855876692084451,0.1832459226504048,0.18093304766017304,0.1787278466004888,0.17653830598296189,0.17438742586102454,0.17231338480018937,0.1703492436224412,0.1684091998127964,0.16647552676214708,0.1645865590651794,0.16272138260680893,0.16091918224061036,0.1591738459468373,0.15744087278293142,0.1557644074120356,0.15414107543258926,0.15254769965358245,0.15095608617283782,0.14940430954071193,0.1479231477044717,0.14645699267625684,0.14499175020388114,0.14357175413619133,0.14219515800525964,0.14084815352799585,0.1395001942608591,0.13818806118373414,0.13689259179122554,0.13563358876568418,0.1343968193379702,0.13318569006035902,0.13199336859571092,0.13082818189117337,0.12969721446502785,0.12859010639168536,0.12750380786014853,0.12643881674184704,0.1253767174702149,0.12436544127193871,0.1233261536405323,0.1223338093673042,0.1213524419288346,0.12042908924931064,0.11949061140705947,0.11855694518373577,0.11764209909846972,0.11673828408549067,0.11585681229687968,0.11501047842800932,0.11416975658777923,0.11334222990407827,0.11252459878452589,0.11171870633158656,0.11094557550574918,0.11016684471221827,0.10939306687972891,0.10865262929634555,0.10790426779102799,0.1071788209254516,0.10645495081135883,0.10574876612913213,0.10506299557274817,0.10437946139095164,0.10371272362216144,0.10305137576679074,0.10240943403900664,0.10175240713778667,0.10111695710292468,0.10048577310766324,0.09986631781198724,0.09926124723660343,0.09866289057006114,0.09807588248649196,0.09748946320011385,0.09691206325595453,0.09635215090186847,0.09580417037445925,0.09525203869706264,0.09472009631411732,0.09419341197687445,0.09367919538654347,0.0931641297323505,0.09265820733554085,0.09215578217685375,0.09166611099561087,0.09118834630780746,0.09070675674988887,0.09023852794295026,0.08976694409715405,0.08930780263777127,0.08885729666811207,0.08840507412754897,0.08797075421699174,0.08753662341900609,0.08710313992097153,0.08667573112699477,0.08625716072914166,0.08584614622800149,0.0854348313499087,0.0850252876399998,0.08462116930480448,0.08422399998923871,0.08383067018142011,0.0834453525386036,0.08307142474805329,0.08269428950316939,0.08232572483195326,0.08195688795548631,0.08159749532924677,0.08124251941734338,0.08089348333528315,0.08054957220583667,0.08020961444338534,0.07987237476796614,0.0795370343174397,0.07920626514834417,0.07887953915124223,0.07855539086349467,0.07824203852298814,0.07792746285594816,0.07761802352096106,0.0773081405719557,0.07700191420256938,0.07670165390924118,0.07640265818196454,0.07610968220710512,0.07582136566994119,0.07553295032422969,0.07525070081447699,0.0749679089742013,0.07469171532433803,0.07441661288682001,0.07414511892272367,0.07387795242069443,0.07361144483482286,0.07334351703956325,0.07307936804241198,0.07282625701158203,0.07257110933533795,0.07231943592502686,0.072071662800843,0.07182804462655847,0.07158341460578786,0.07134377260257277,0.07110519782783434,0.07087166622379885,0.07063595431802148,0.07040390724430762,0.07017147315830104,0.06994814691304238,0.06972292456570237,0.06950297771341306,0.0692856198815433,0.06906658226999429,0.06885319474240019,0.06864166403439224,0.06843333980586411,0.06823040928329369,0.068021949211499,0.06781801990121147,0.06761480184324548,0.06741545227774884,0.06721717643390261,0.06702250895207948,0.06682872658930758,0.06663551412111769,0.0664448507226799,0.06625790272852483,0.06606919037695225,0.06588815362946648,0.0657047473280029,0.06552215006932278,0.06533972209174364,0.06516058815107942,0.06498461590544455,0.06481089241188412,0.06463653925825324,0.06446403390589064,0.06429404000554935,0.06412606882906642,0.06396027662499969,0.06379601512127876,0.06363327738915889,0.06347358043974556,0.06331454026886875,0.06315852187643718,0.06300034721187636,0.06284498819378162,0.06269048809929564,0.06253629180976757,0.06238418560857862,0.06223576559583502,0.062088321741527314,0.061940136151636904,0.06179420505334909,0.06165018628217393,0.061505550313742344,0.061364016578381544,0.06122306264454823,0.06108382109497637,0.06094469122974307,0.0608060668157359,0.060668975650783094,0.0605338151498991,0.06040173938375148,0.060270269044019276,0.0601378293098917,0.06000786980475031,0.05988090994448152,0.05975171201202527,0.05962527523429098,0.05949870315957026,0.0593735697277193,0.05925027843453992,0.05912623699895836,0.05900290196556189,0.058880791512146716,0.05876092226731505,0.05864260187162141,0.05852270785909913,0.05840628659514836,0.0582895446419635,0.058174159335329524,0.05805900336347651,0.057946962348229145,0.05783355393974972,0.05772215666290759,0.05761193043448011,0.05750333309498205,0.05739684305144992,0.057290426946764186,0.05718363903246183,0.05707865169120402,0.05697400353227855,0.056869010599469444,0.05676440518966029,0.056660893893669365,0.056559960580930074,0.05645895701111078,0.05635827167733373,0.056259540723285165,0.056162484703855556,0.056064488871971366,0.055968268265089535,0.055872095980419645,0.0557780628987173,0.055682274581731264,0.05558867970399875,0.05549609216768679,0.0554024702239874,0.05530849996767826,0.05521843403789725,0.05512755268486539,0.05503669006568564,0.0549480534166058,0.0548584400548362,0.05476968536789259,0.0546814438452794,0.054593629264248225,0.05450860689322681,0.054422292745464465,0.054337548628973845,0.0542524835606818,0.05416857211667517,0.054085849175351794,0.05400339445996305,0.05392175751907541,0.053841277751413764,0.05376077917135675,0.05367904650796249,0.05359828252181927,0.05351951705816135,0.053442076153182375,0.053364387611743835,0.05328730478243708,0.053211254438230646,0.05313515588310322,0.05305887064353376,0.05298253906056763,0.05290704708479915,0.05283231099444861,0.05275895638750945,0.05268505241079516,0.052612936905687524,0.052540073615214594,0.05246784076799339,0.05239542732226328,0.052325235026271164,0.052253979511983004,0.05218343893678018,0.05211413818327455,0.05204454208342586,0.05197621257646591,0.05190809735353389,0.051839202600874115,0.051771662032905195,0.0517044050955968,0.05163844450519626,0.051572358424841896,0.05150709725346667,0.051440854154534664,0.051375952381080864,0.051311781206594645,0.05124884273572165,0.051186362820707716,0.05112217008900072,0.051058024688777,0.050996734934719304,0.050935286847757555,0.0508718995390261,0.050809993063837794,0.05074930355583937,0.05068770018978058,0.05062660293530883,0.050566346169849674,0.050506776857321634,0.050448111828036005,0.05038850130257205,0.05033012766410647,0.05027214062100083,0.0502137996885758,0.050156640837107316,0.050099149480288985,0.05004243062595541,0.04998647095989315,0.04993063517081525,0.04987416665248195,0.04981864642722497,0.04976382563047832,0.04970813644258054,0.04965354569145915,0.04959981827260945,0.049546280430593045,0.04949166702291989,0.04943823158133355,0.04938483564532203,0.04933142515526963,0.04927899848654828,0.04922704594749433,0.0491751432625028,0.049122291546148014,0.049071086277442444,0.04902027688864828,0.04896962203738367,0.04891859054481251,0.048867847775103376,0.04881790989247956,0.048768789514964314,0.0487188270631929,0.04866916437652326,0.04861907092579233,0.048570220996489485,0.048521578682045,0.04847382353291861,0.04842490083537504,0.04837699701973487,0.04832927222006548,0.04828168617595956,0.04823427012058405,0.048187358320876096,0.04814041030794876,0.04809367676886358,0.04804707887942554,0.04800033548684805,0.04795568627489022,0.04790936758299098,0.047864218306582246,0.04781853272681985,0.0477742259267947,0.04772950276257716,0.04768490164102421,0.047641231610252466,0.04759692742679531,0.04755279583372772,0.047509260373075284,0.04746545774341612,0.04742225470540237,0.04737861084177104,0.047335972085577334,0.04729293320352015,0.04725055408546537,0.04720850738234718,0.04716534534200001,0.04712391352741145,0.047082389665945315,0.047040639561383574,0.046998785448402816,0.04695835260426699,0.04691799792294003,0.04687718728756193,0.04683715509183035,0.046796414758939975,0.04675598132955054,0.04671562099799445,0.046675646787997405,0.04663602160548949,0.046596599584435336,0.04655699308920609,0.04651694650506445,0.04647796701671257,0.0464388484245562,0.04639986818400563,0.04636126366878074,0.04632266269556651,0.04628401024207551,0.04624571782885761,0.04620787874078965,0.04617009432787134,0.04613174023412589,0.04609462575227191,0.04605692159107219,0.04602037133467672,0.04598330067890628,0.0459464722297864,0.04591005561125677,0.04587308565586575,0.04583670051781185,0.04580064535557755,0.04576469017928731,0.04572858284523356,0.0456929201713184,0.04565678559152606,0.04562091437638939,0.04558583398575511,0.04555014528139249,0.04551512859227672,0.045479818530881316,0.045445244897977514,0.0454102913891475,0.045375111925153616,0.045341475884004286,0.04530808479265299,0.04527339129842026,0.04523939215651348,0.04520548480926362,0.04517163785619188,0.04513814069864511,0.045104419986797366,0.04507102530201054,0.04503781688904818,0.04500404204491255,0.04497043428793436,0.04493738703642812,0.04490443059985907,0.04487119860670262,0.0448385341588623,0.044806379735430245,0.04477365712362896,0.044741200952500476,0.04470928383547171,0.044677939995484195,0.04464561989795868,0.04461410819645642,0.04458269506516138,0.04455058475125981,0.04451905931910657,0.04448811934800305,0.044456280307496376,0.04442464101793128,0.04439384950079466,0.04436301898618002,0.04433175157361054,0.04430155308256288,0.04427078381625896,0.04424009824269471,0.04420951083914833,0.04417918822867694,0.044149014206315514,0.04411885202236304,0.044088673616802694,0.04405826929075997,0.04402823725350911,0.043997809737284926,0.04396814649767906,0.04393791575665118,0.04390814994503446,0.04387841163895591,0.043848586668600774,0.04381943146661006,0.04378989067919044,0.04376083599988251,0.043731626029553626,0.043702534565332865,0.04367357090148877,0.04364485517759639,0.043616224365922183,0.04358721951724272,0.04355886048142322,0.043531189837055465,0.04350275391858491,0.043474700550831705,0.04344606367030111,0.04341788323365838,0.04339007672830404,0.04336184378643481,0.04333365991036395,0.043306182969311505,0.04327869262174299,0.043251536303801574,0.0432243444821125,0.043196786462007954,0.04316953420864417,0.04314172103799063,0.04311427947132471,0.04308712493684943,0.04306012745777602,0.04303349767345051,0.04300647677417793,0.04297963522529347,0.042953169037232425,0.0429257635869765,0.0428990588195408,0.042872420256504,0.04284628461261945,0.04281984695333669,0.0427933639402947,0.0427672097000104,0.04274101373104025,0.04271499388958156,0.04268868752018025,0.04266249228900176,0.04263666272056902,0.042610931442817884,0.04258492340405842,0.042558880650492056,0.0425332454683237,0.04250791630629191,0.04248263394670102,0.04245738940152219,0.042432141055772796,0.0424071003766122,0.04238152908366669,0.04235609986966017,0.042331129101742616,0.04230562981427472,0.0422807940291663,0.04225518953399646,0.04222986612995611,0.04220490443591977,0.042180277510001224,0.042155449389816996,0.04213091041456167,0.04210589352854974,0.042081809038556704,0.042056944492881235,0.042032442096822296,0.04200799789385548,0.04198349758857704,0.04195948504674765,0.041935380654981536,0.0419111318656822,0.04188735806585492,0.04186353453073051,0.0418395001347085,0.041815649206720346,0.04179143735960349,0.0417677848999303,0.041744106480867,0.04172023358024282,0.0416966258488246,0.04167315441149219,0.041649424881484404,0.041625481384804326,0.04160207955361382,0.041578414867487715,0.04155528679689724,0.041531666758646446,0.04150899302626204,0.041485838960493016,0.04146327418862796,0.04144009510275729,0.04141667533213054,0.041393350669225504,0.041370029181876475,0.041347185295719485,0.041324358024731,0.04130186550055516,0.04127873253881033,0.04125588527791453,0.041233052978037324,0.041210215307927345,0.041188002184345325,0.04116536616138552,0.041142620720744476,0.04112035848610727,0.041098017980292695,0.041075462572579366,0.041053092200457886,0.041031013455073255,0.041009184470759616,0.04098713078773553,0.04096498114817208,0.04094269096878731,0.040920446900460136,0.040898423906780626,0.04087642769701058,0.04085452580943161,0.04083227033414071,0.04081069000402975,0.04078925337443818,0.040767773753680056,0.04074583383652057,0.04072445986031306,0.04070290032024418,0.040681235556371896,0.04065939293631195,0.04063819104886267,0.040616787425537614,0.040595469230120015,0.04057394707355105,0.04055294119514547,0.04053162776448708,0.04051062269052587,0.040489622644971926,0.04046868368430871,0.04044719489048982,0.040426315540339514,0.040405452448977704,0.040384703268400324,0.04036371060066827,0.040343145777033414,0.04032241749557494,0.04030179625674833,0.04028167199241768,0.040260898174143786,0.04024001020757023,0.04021884404700162,0.04019809511059388,0.040177169955162226,0.04015689159484506,0.040136708504002055,0.04011625658606198,0.04009574426564769,0.040075091778460796,0.04005466593177315,0.0400345160209236,0.04001396814306385,0.039993828700131656,0.03997343384473405,0.039953569714391804,0.039933258758272035,0.039913140458250396,0.03989262590142425,0.039872479602440586,0.03985239019744651,0.039832449360219124,0.039812499729292836,0.03979271368488822,0.03977305640075278,0.03975348513861075,0.039733509341807006,0.039713595349003886,0.039693601419665644,0.03967330306723721,0.03965363660048504,0.03963367997230899,0.039614153912703454,0.039594839244811914,0.039575019967808704,0.03955530003626961,0.039535884246757816,0.03951604731501125,0.03949637435551795,0.03947693872551461,0.03945750560628117,0.039438137923096334,0.039418704416099,0.03939940334690038,0.039379758329453465,0.03936061355165692,0.03934134087657147,0.039322289333671136,0.039303071257122096,0.03928441065020146,0.03926520243276019,0.03924660098729646,0.039227896058130596,0.03920915054926859,0.039190359783385545,0.03917128169636601,0.03915264392855632,0.03913378935796273,0.039114683572513416,0.03909539184019464,0.039076370132506054,0.03905718758458293,0.03903895942296294,0.039020077805792745,0.03900160045854312,0.03898279858521529,0.038964409560598504,0.03894545207738791,0.038927030863782464,0.03890834174536129,0.038889669542213665,0.03887141832494362,0.03885308390754499,0.03883491401065281,0.03881663148054529,0.03879858959297052,0.03878015009231278,0.03876170791544414,0.03874343738972334,0.03872517388786255,0.03870678372270741,0.03868832576539896,0.0386705092828582,0.03865231729073548,0.03863432781185121,0.03861625113929071,0.03859837490772326,0.03858062500080116,0.03856254551888648,0.03854455485000424,0.038527002989113435,0.03850894565658361,0.038491195171527604,0.03847349347138834,0.03845553008046854,0.038437444241062435,0.038419559959984986,0.03840168372643124,0.0383839442085633,0.03836651212930961,0.03834892784490493,0.03833138718479129,0.03831414636585413,0.03829638847049682,0.03827909527774756,0.038261887371397615,0.03824394751621256,0.038226326410217684,0.038208716080588935,0.038190973645631066,0.03817339513896577,0.03815602901275026,0.03813907684671228,0.03812194493092086,0.03810462039545545,0.038087213637913196,0.03807027690753868,0.03805265632408511,0.038035377316153016,0.03801804692504626,0.03800102227267389,0.037983884646617505,0.03796668478108546,0.037949815092561415,0.03793246819053443,0.03791538213877307,0.03789839878520604,0.03788141045607704,0.03786473996614548,0.03784765234047298,0.03783095313051191,0.037814088035532385,0.037797088190922846,0.03778029646157878,0.03776373565003706,0.03774690506083081,0.037729940799504855,0.03771296478600749,0.03769619810664532,0.037679384886657744,0.037662350950904436,0.03764540064579268,0.0376282910684048,0.03761161696992692,0.03759494040734492,0.03757833539514846,0.03756182311629007,0.037545151618606304,0.03752865744587536,0.03751200617606618,0.03749553010941793,0.03747905396519513,0.03746256440259606,0.03744597799710721,0.03742964811401469,0.0374133353665804,0.03739675159620797,0.03738034515320776,0.037364056327143305,0.03734786978659267,0.037331859362783056,0.03731564533851695,0.03729920052082521,0.037282902994266745],\"type\":\"scatter\"},{\"name\":\"Momentum\",\"x\":[1,2,3,4,5,6,7,8,9,10,11,12,13,14,15,16,17,18,19,20,21,22,23,24,25,26,27,28,29,30,31,32,33,34,35,36,37,38,39,40,41,42,43,44,45,46,47,48,49,50,51,52,53,54,55,56,57,58,59,60,61,62,63,64,65,66,67,68,69,70,71,72,73,74,75,76,77,78,79,80,81,82,83,84,85,86,87,88,89,90,91,92,93,94,95,96,97,98,99,100,101,102,103,104,105,106,107,108,109,110,111,112,113,114,115,116,117,118,119,120,121,122,123,124,125,126,127,128,129,130,131,132,133,134,135,136,137,138,139,140,141,142,143,144,145,146,147,148,149,150,151,152,153,154,155,156,157,158,159,160,161,162,163,164,165,166,167,168,169,170,171,172,173,174,175,176,177,178,179,180,181,182,183,184,185,186,187,188,189,190,191,192,193,194,195,196,197,198,199,200,201,202,203,204,205,206,207,208,209,210,211,212,213,214,215,216,217,218,219,220,221,222,223,224,225,226,227,228,229,230,231,232,233,234,235,236,237,238,239,240,241,242,243,244,245,246,247,248,249,250,251,252,253,254,255,256,257,258,259,260,261,262,263,264,265,266,267,268,269,270,271,272,273,274,275,276,277,278,279,280,281,282,283,284,285,286,287,288,289,290,291,292,293,294,295,296,297,298,299,300,301,302,303,304,305,306,307,308,309,310,311,312,313,314,315,316,317,318,319,320,321,322,323,324,325,326,327,328,329,330,331,332,333,334,335,336,337,338,339,340,341,342,343,344,345,346,347,348,349,350,351,352,353,354,355,356,357,358,359,360,361,362,363,364,365,366,367,368,369,370,371,372,373,374,375,376,377,378,379,380,381,382,383,384,385,386,387,388,389,390,391,392,393,394,395,396,397,398,399,400,401,402,403,404,405,406,407,408,409,410,411,412,413,414,415,416,417,418,419,420,421,422,423,424,425,426,427,428,429,430,431,432,433,434,435,436,437,438,439,440,441,442,443,444,445,446,447,448,449,450,451,452,453,454,455,456,457,458,459,460,461,462,463,464,465,466,467,468,469,470,471,472,473,474,475,476,477,478,479,480,481,482,483,484,485,486,487,488,489,490,491,492,493,494,495,496,497,498,499,500,501,502,503,504,505,506,507,508,509,510,511,512,513,514,515,516,517,518,519,520,521,522,523,524,525,526,527,528,529,530,531,532,533,534,535,536,537,538,539,540,541,542,543,544,545,546,547,548,549,550,551,552,553,554,555,556,557,558,559,560,561,562,563,564,565,566,567,568,569,570,571,572,573,574,575,576,577,578,579,580,581,582,583,584,585,586,587,588,589,590,591,592,593,594,595,596,597,598,599,600,601,602,603,604,605,606,607,608,609,610,611,612,613,614,615,616,617,618,619,620,621,622,623,624,625,626,627,628,629,630,631,632,633,634,635,636,637,638,639,640,641,642,643,644,645,646,647,648,649,650,651,652,653,654,655,656,657,658,659,660,661,662,663,664,665,666,667,668,669,670,671,672,673,674,675,676,677,678,679,680,681,682,683,684,685,686,687,688,689,690,691,692,693,694,695,696,697,698,699,700,701,702,703,704,705,706,707,708,709,710,711,712,713,714,715,716,717,718,719,720,721,722,723,724,725,726,727,728,729,730,731,732,733,734,735,736,737,738,739,740,741,742,743,744,745,746,747,748,749,750,751,752,753,754,755,756,757,758,759,760,761,762,763,764,765,766,767,768,769,770,771,772,773,774,775,776,777,778,779,780,781,782,783,784,785,786,787,788,789,790,791,792,793,794,795,796,797,798,799,800,801,802,803,804,805,806,807,808,809,810,811,812,813,814,815,816,817,818,819,820,821,822,823,824,825,826,827,828,829,830,831,832,833,834,835,836,837,838,839,840,841,842,843,844,845,846,847,848,849,850,851,852,853,854,855,856,857,858,859,860,861,862,863,864,865,866,867,868,869,870,871,872,873,874,875,876,877,878,879,880,881,882,883,884,885,886,887,888,889,890,891,892,893,894,895,896,897,898,899,900,901,902,903,904,905,906,907,908,909,910,911,912,913,914,915,916,917,918,919,920,921,922,923,924,925,926,927,928,929,930,931,932,933,934,935,936,937,938,939,940,941,942,943,944,945,946,947,948,949,950,951,952,953,954,955,956,957,958,959,960,961,962,963,964,965,966,967,968,969,970,971,972,973,974,975,976,977,978,979,980,981,982,983,984,985,986,987,988,989,990,991,992,993,994,995,996,997,998,999,1000],\"y\":[142.7615622023021,136.70230859624675,130.86546642841589,125.37545082369013,120.14024685840381,115.13064175826527,110.32693209639393,105.70821144240088,101.26877058069529,97.04293115295641,93.02981553740615,89.1572294944341,85.48775573272567,81.94926363253843,78.58386672069652,75.35845058180632,72.26719816605697,69.3206458220866,66.52351349459096,63.85102595647474,61.244040488455454,58.7362916343068,56.37200565831044,54.106850319537635,51.92311302012694,49.832597983105316,47.83596999369467,45.91744521634244,44.07408429130173,42.31407173459346,40.63181109350123,39.01415137452634,37.47512752063371,35.98813211798368,34.56899183811754,33.21769458282968,31.90534154304255,30.662140693807384,29.471922297359292,28.323614020109304,27.219585029488577,26.162569305831163,25.155211709534793,24.17971872614789,23.247342809027423,22.349463132145857,21.485322468995317,20.656731166393456,19.86777573429226,19.10837250209055,18.381091218066402,17.68131110698998,17.013166156887046,16.368456366702496,15.75198825001348,15.157200770887552,14.587096047827982,14.045224339998452,13.515075207706312,13.009496773021484,12.524691081430326,12.060814702865375,11.615428805228367,11.18579620928983,10.774426904054708,10.376415841853184,9.996121525660111,9.63036884001168,9.283796018423397,8.944269333068524,8.619019820632282,8.30967855134486,8.011804591629474,7.725976418324433,7.449989477512731,7.184135779461394,6.931162684105445,6.686428456802109,6.449905550046847,6.225761182604447,6.010117628630118,5.803650071393739,5.60551522930912,5.411279633626452,5.22792028454974,5.049365510184183,4.876296255109085,4.7109624700780754,4.552412103672548,4.399000998471674,4.252754475742324,4.112123101269289,3.976798056539758,3.846461894183377,3.72169436797084,3.600515400116154,3.483674233855968,3.371912576331158,3.2641710760527,3.160162536865147,3.0607840064613328,2.964511663822142,2.8723607214829188,2.7832883608785193,2.697518945080882,2.615516189551726,2.5360705608983802,2.459317522366228,2.385522232097985,2.314452426838675,2.2455722113628322,2.1791292568392153,2.1152182227264236,2.0531538735192556,1.9948418971116306,1.937448276794197,1.8820659961861725,1.8285434373508327,1.7773885682094908,1.7282251025219613,1.680532153277228,1.6345572668581128,1.5903617482719583,1.5474156393691876,1.5061721248703546,1.4660478783962367,1.4275518782500844,1.390070172307321,1.3544710244537663,1.319856512154712,1.2866272061020756,1.2539163661146873,1.2228616164619608,1.1926820927623367,1.1633522357576163,1.1348571134763348,1.107615888546018,1.0811938357036186,1.0557216216965464,1.0310835285554947,1.0071504873754071,0.9839699300251119,0.961701257422203,0.9400026522761493,0.9189991324895981,0.8986688612694697,0.8789207675568401,0.8599131132196852,0.841524823274368,0.8235872805204567,0.8063130949006974,0.789401646330961,0.7731166156862732,0.7573844174155051,0.7420340192591284,0.727296147450639,0.7130666052419083,0.6989793325838685,0.6855204144839736,0.672534639450932,0.659850743948855,0.6473910361610281,0.6353994364424154,0.6238541381849717,0.6124541606413552,0.6015100688803147,0.5908824891741311,0.5805309310183888,0.570435761005486,0.5607681073643759,0.5512243349249919,0.5420393250006695,0.5330036262054205,0.5242351752110468,0.5157097053276534,0.5074770401657803,0.4993770060949547,0.49154810107636254,0.4838801211405923,0.4764271779500314,0.46920043593311667,0.462096934269839,0.4552053765133569,0.4485223634354545,0.44198337244527985,0.4356227235871209,0.4295001339478157,0.42340365513696837,0.4174520489731365,0.4116892308829792,0.4060742101415344,0.4005556194301541,0.3952368638170246,0.3900053090494305,0.3848659634372473,0.379869270452188,0.3749768085039004,0.37018127901874914,0.36550769549370715,0.3609645428760386,0.35649034408047325,0.35206560291212285,0.34779239327322087,0.3436201525671593,0.3395154131966265,0.33550911942641765,0.3315926505113432,0.32776375628235055,0.3240093200454411,0.3203443403121956,0.3167606646588563,0.313214974501799,0.30979970534683376,0.3064581439238841,0.30317724709438676,0.2999101354036063,0.29670939078451275,0.2935901616609243,0.29050614406761155,0.2875227316247681,0.28455709568524973,0.2816609866211486,0.2788315433950598,0.27602413880340265,0.2733020253537454,0.2706401696414986,0.2680131885883521,0.26542289425945453,0.26289131001445865,0.26039841858947316,0.25796005459446225,0.2555526351356679,0.25318255143601576,0.2508564559642393,0.2485505446125203,0.24632066663719218,0.24409873232404525,0.24191040228506563,0.23977692301975984,0.23767959982316345,0.23564096091400408,0.2336038529164353,0.23161997084288385,0.22964312521583377,0.2277188251430477,0.22583191120644322,0.22395088504342206,0.22209904406648778,0.22030079693021196,0.21850963680890853,0.2167489495645305,0.21500572004200597,0.21329545926097918,0.21161280715873237,0.20994523525176342,0.20830710765406332,0.20668083035413493,0.2051056875301551,0.2035388678900813,0.20198611587491044,0.2004723652067508,0.19896276357663822,0.1974748057617753,0.19600742522850326,0.19456396792148503,0.19314124737927824,0.1917242085601015,0.1903331594641905,0.18897921284402533,0.18763042387162057,0.18631275942845518,0.18499921922775028,0.18370673416422217,0.18243128939637496,0.1811607778768767,0.17990756535295957,0.17867706802352495,0.17745996325725505,0.17626947923339115,0.17508864506294983,0.17392823886294975,0.17277799760005216,0.17164378866247332,0.17052507395892366,0.1694137824085537,0.16830990358421144,0.16723324786432675,0.16616333987967896,0.16510821174230783,0.16407277085081629,0.1630369704062435,0.1620243075692776,0.16102156521836997,0.16001273275743355,0.15902378473899165,0.15805289996441024,0.15708814692773862,0.15614104473834883,0.15520095038102738,0.1542831874162656,0.15335768408930361,0.1524560849411018,0.15155567622491853,0.15067253066991618,0.14979857509313094,0.14892897338618,0.1480705759706605,0.14722452454130117,0.1463901090817683,0.14557217070644593,0.14475501797850843,0.14394848855033554,0.14314653785353293,0.14234963844690993,0.1415614459694688,0.14079098895757475,0.14001863682089852,0.13926013833785061,0.13850430175648737,0.1377560420256091,0.13700964767211496,0.13627545469350336,0.1355537958802822,0.13483175350250912,0.13411836116234593,0.13341056861236505,0.13272137941129142,0.1320331084585954,0.13134808425809585,0.13067648837319729,0.13001074760532996,0.12934914861225644,0.12868957917843574,0.12804377550020019,0.1273994667105149,0.12676256406972547,0.12613271634219586,0.12550365025440807,0.12488447235196946,0.12427010716684496,0.12366517587478562,0.1230574034399471,0.12246549692995963,0.12187641996409312,0.12129747295945435,0.1207219031021032,0.12015181471263127,0.1195865295507969,0.1190256911385675,0.11847004866440246,0.1179200339723842,0.11737330380607357,0.11683135667580966,0.11630017354849159,0.11577002942258571,0.1152476399807974,0.11472722385334512,0.11421037391101006,0.11369484858551555,0.11318223959745705,0.11267728705590181,0.11218444707176911,0.1116942500137596,0.11120320670156877,0.11072068915881535,0.11023654802981997,0.10976152512283595,0.10928654672351927,0.10882007594101172,0.10835047250115444,0.10788835140439712,0.10743476389516807,0.1069784008527441,0.1065282022118588,0.1060772644482486,0.1056372505065544,0.10520297411382616,0.1047648738300975,0.10433733570506935,0.10391091764208321,0.10348967944310569,0.10306951531086045,0.10264897878396016,0.10224050186097489,0.10182728281732217,0.1014234193933225,0.10102212821237015,0.1006217283128005,0.10022699757736428,0.09983572394089199,0.09944826085066943,0.09906141805089172,0.09867746841112277,0.09829940533110008,0.09791839207480692,0.09754730082493285,0.0971788296903455,0.0968126025510305,0.09644553144112294,0.09608652928400449,0.09572672171630403,0.09536972197919104,0.09500926967452142,0.09465742280025354,0.09431279304112547,0.09396476929116027,0.0936177895532605,0.09327453282160064,0.09293761635780945,0.09260406051524944,0.09226832355907992,0.09193477961693153,0.09160706789526142,0.0912833851655607,0.0909604562587405,0.09063984441143642,0.09032238115618789,0.090008847744112,0.08969174226022478,0.08938214914969285,0.08907469812401464,0.08876874064863734,0.08846749975780416,0.08816442445784256,0.08786279229334452,0.08756308066204439,0.08726756427326417,0.08697257397271088,0.08668037796951043,0.08638953731960988,0.08609737277380927,0.0858130719491836,0.08552990638371771,0.08524971204666065,0.08497076164995118,0.0846954687264756,0.08442184210826724,0.08414784670489928,0.0838762560040757,0.08360749940206642,0.08333876290221212,0.08307363416567604,0.08280991821179247,0.08254838764687335,0.08228503276405691,0.08202649123940123,0.08177075036841985,0.081516190139368,0.08126277663293609,0.08101388926446518,0.08076476645177146,0.08051655137039043,0.08027095891539048,0.08002919471768455,0.07978589698211547,0.07954385195603572,0.07930744389438178,0.07907127042494999,0.07883330408457585,0.0786010577661128,0.07836840814491196,0.07813888516759562,0.07791082239745209,0.07768282602955567,0.07745792322058623,0.07723076641801739,0.07700615121951847,0.07678286252681937,0.07656517563724966,0.07634781313186181,0.07612956397294555,0.07591218021517879,0.07569436977503144,0.0754797899157867,0.07526758021586222,0.07505959079584866,0.07484944274234467,0.07464085721917733,0.07443625660846674,0.07422931366824399,0.07402599313184785,0.07382370539022849,0.07362278411173007,0.07342473248234428,0.07322678072908967,0.07302708065905235,0.07282987058986128,0.07263401896949674,0.07243963235963884,0.07224289694192022,0.07205007087315934,0.07186009583108818,0.07167172400537761,0.07148368536381601,0.07129893570516227,0.07111425684245765,0.07092972556023147,0.07074851955383915,0.0705625434416329,0.07038026890464902,0.070199386455362,0.07002139135811128,0.06984221410208111,0.06966530055531392,0.06948912228381088,0.06931266526709864,0.06914088947593908,0.06896757050600741,0.06879340172916408,0.06862141997243754,0.06844986305349726,0.06828226191050608,0.06811241527148984,0.06794349371614357,0.06777730097865949,0.06761266830819279,0.0674480957950036,0.06728627250212968,0.06712593678922071,0.06696621848864812,0.06680552447480534,0.06664601211611842,0.06648536453461514,0.06632799422707378,0.06617276211493772,0.06601630172211434,0.0658593835640043,0.06570584948039494,0.06555530571598031,0.06540286093935717,0.06525094694211367,0.06510190989689497,0.06495137747264976,0.06480334880367696,0.06465549059852756,0.064508357060229,0.06436222744807471,0.06421872628133982,0.06407378777710243,0.06393085816708771,0.06378828873512189,0.06364689216024949,0.06350573493745071,0.06336659815743376,0.06322482084498282,0.06308857837277435,0.06295070109840484,0.06281298518240545,0.06267663176664376,0.06253979193800768,0.062404990763168834,0.06226990850149686,0.06213416355638955,0.061999438806576455,0.0618666140379782,0.061736743597080784,0.06160663098126497,0.06147899140177474,0.06135053683830834,0.061222289152410986,0.06109600416265337,0.06096849109416945,0.060840664884541304,0.06071510622054481,0.06059199858984962,0.06046766234634953,0.06034495793736471,0.06022216162293084,0.060102243168078474,0.05998153005802074,0.05985968618828155,0.05973921114603807,0.05961800378268873,0.05950131905495813,0.05938414262749834,0.059267862009388564,0.05915310747045106,0.05903629513944364,0.05892184840979668,0.058806787520740214,0.05869244831716856,0.05857706302188748,0.05846289151195276,0.0583513358487827,0.058239294114184686,0.05812782925873741,0.058016428097371724,0.05790586173337664,0.05779589246354441,0.057688344601359715,0.057579728466784975,0.057471438734408326,0.05736346022205255,0.05725881047605734,0.057151045362827606,0.05704476888911527,0.056939243774699604,0.05683544421472507,0.05673113330013653,0.0566282162677115,0.05652483011835384,0.056423474294521284,0.05632176921274751,0.05621987600450154,0.05611911532561216,0.056019107187076936,0.055920426583380735,0.0558224181699037,0.05572447409718255,0.05562536935674749,0.05552658512712467,0.05542737852155291,0.055331758857817895,0.05523614095576641,0.0551389924239276,0.055044126179271485,0.0549492754341117,0.05485392478701134,0.05475953772676359,0.05466536259375551,0.05457190850488976,0.05447974949222703,0.05438713135070539,0.05429530513591685,0.0542050027251367,0.054115313027856174,0.054025705533240834,0.05393654592994086,0.05384914361684334,0.05376026349666267,0.05367269756256609,0.053583547327989735,0.053495840278407265,0.05340848957455874,0.0533222698585184,0.05323622863286043,0.053150600155788305,0.05306720331076499,0.05298269591811152,0.052897122669887234,0.05281351143783022,0.05273021027795265,0.05264793549955757,0.05256440169902495,0.0524824118335494,0.052399925909283995,0.05231920457440886,0.05223773122168385,0.05215752393382679,0.05207650865196295,0.051994444553940394,0.051913349685597174,0.05183485633253637,0.05175619908587266,0.05167775842900851,0.05159926468079318,0.051520755425328704,0.05144235903120373,0.05136551569080158,0.051287975772209504,0.05121188976682602,0.05113509412758596,0.051060507178652584,0.050984072224475624,0.050909236630836296,0.05083369079120615,0.05076036762836118,0.050686167302209886,0.05061450125037706,0.05054097204589804,0.05046687164515464,0.05039389232040576,0.05032146657429936,0.050249170684566316,0.050176758391833165,0.05010528581882784,0.05003390729976098,0.049962641896305775,0.04989236757701375,0.04982369223052245,0.04975374591368584,0.049683110959344634,0.04961536076387929,0.04954627803464857,0.04947836752130462,0.049410132390949726,0.04934327266202753,0.04927752057381421,0.04921132324374948,0.04914517537831806,0.049078685830201495,0.04901155368875783,0.04894517239900943,0.048878770088960785,0.04881337344370198,0.048749352031357884,0.04868549663547137,0.048620996590369524,0.04855787269145402,0.0484950524519352,0.04842997568063711,0.04836542754575674,0.04830248802064414,0.048240029673223425,0.04817730809453681,0.048115582739667415,0.04805387490134313,0.04799220410433866,0.04792984120958299,0.04786888292479981,0.047807572993450606,0.047747009520957125,0.04768687383425613,0.04762571143624246,0.04756555920512026,0.04750579896687521,0.04744570278976966,0.04738682626768092,0.047329588776726855,0.04727140940296849,0.04721212480395157,0.04715301613562313,0.04709586633604093,0.04703869953268741,0.04698162343834785,0.04692424521534591,0.046867754707860684,0.04681264890905752,0.04675477881791103,0.046698005875893074,0.04664220117173136,0.04658644813350615,0.046531180854009466,0.04647604038730463,0.04642137040788952,0.0463678248285814,0.046312311130477304,0.0462572733108204,0.046202886504913415,0.04614820610868687,0.04609540775675854,0.046041273996646453,0.045987389581638574,0.045934841370023904,0.04588264915367238,0.045829729525998376,0.04577709342383032,0.04572521924766863,0.045673482216302755,0.04562238413044935,0.0455704711550257,0.045517775044957506,0.04546592415832233,0.045414694301953634,0.0453645103655365,0.04531510079751826,0.045264975568900495,0.04521391046123535,0.045163906874084114,0.04511388519126293,0.04506464701119273,0.045016148323475225,0.04496767192123567,0.04492063087864616,0.04487160386253281,0.04482376955068196,0.04477516956347811,0.04472711527469446,0.04467955394443035,0.04463133623618867,0.04458392970140196,0.044535969145264656,0.04448943838166128,0.044442216874648735,0.044395454213414925,0.04434832190724265,0.044302618471435545,0.044256125170680685,0.04421081549510654,0.04416539593446183,0.04412005093457243,0.04407461326744407,0.04402943319450662,0.04398409889735195,0.0439396663994254,0.0438950766988527,0.04385044376248527,0.04380637651917034,0.04376187297794436,0.043718653454369524,0.043674790386043424,0.0436319732191878,0.043588080423007367,0.04354482457630604,0.04350168315789785,0.043460742886001866,0.04341780142306424,0.04337599395735346,0.043334309297534894,0.04329244486562778,0.043250312673393285,0.04320900781676548,0.043167268713591916,0.04312595979406378,0.04308403791296418,0.043042611291201044,0.04300135188060511,0.042959969938609684,0.04291992392435985,0.042879493044390246,0.042839313668309224,0.042799406131330854,0.04275859670262942,0.042720091221212286,0.04268065610156869,0.042640135622227085,0.04260126583157599,0.04256130709985455,0.04252134770087314,0.042483167830774306,0.04244366060603322,0.042404156154780964,0.04236533214192492,0.042326990032053785,0.04228837317077305,0.042249295741899257,0.04221072895272493,0.04217240320209667,0.04213447541846961,0.04209713047997487,0.042060233161989605,0.04202163965921504,0.041984633694900894,0.04194740738394563,0.041910271995628995,0.04187315469564952,0.04183620448193445,0.041800361724308455,0.04176343769657508,0.04172731763226986,0.04169006375089866,0.04165391984767505,0.041619438158152694,0.0415834575604967,0.04154754703853246,0.04151209744808,0.041476308086453695,0.0414408057563439,0.04140571420918138,0.04136993426126745,0.041336148708785644,0.04130133679874502,0.04126740297843978,0.04123372513920756,0.041199679900956285,0.04116404971226248,0.04112924853314971,0.0410948219825094,0.04106026026184055,0.04102667334528748,0.040991593446253805,0.040956482756135545,0.04092292601697228,0.04088949848950945,0.04085474093071377,0.0408212362615841,0.04078837293984949,0.04075524528611872,0.040722412896831206,0.040688943444634855,0.040656391107226034,0.04062372390588387,0.04059049689735761,0.04055831610700634,0.04052650908725779,0.04049451981407069,0.04046324180451302,0.04043112860611266,0.0403992383237183,0.04036727717057523,0.040335321217371954,0.04030440695287264,0.040272934396241133,0.04024121729424647,0.0402099595538527,0.04017905126355607,0.04014751738464464,0.040117003579185684,0.0400868748952205,0.04005600528546093,0.040025468564137176,0.039994945509148845,0.03996516632166183,0.03993448504990669,0.03990359783365325,0.03987312926039266,0.039842880718257416,0.039813009163915856,0.039783379298854483,0.03975344150271301,0.03972405705966862,0.039694671974689004,0.03966534914620154,0.03963630249292543,0.03960720780352684,0.03957799946668736,0.03954840442815571,0.03951911947962311,0.03949007271572137,0.039461190799476416,0.03943250232373005,0.03940448621441964,0.03937645938342796,0.03934820335570126,0.03932061938309164,0.03929216697087951,0.0392639797195498,0.0392356818993449,0.039207513160635886,0.03917968032516181,0.039152092875679244,0.039124074094824955,0.03909713775475668,0.039069112562764546,0.039042095659239356,0.03901468316169925,0.03898717932169175,0.03896020052014699,0.038933031974175664,0.038906689339292415,0.03887994121387427,0.038853698834213996,0.03882667166726296,0.03879939590043897,0.038773350022456285,0.03874645684094538,0.03872091547460391,0.03869473695555181,0.03866776439514086,0.03864154816984701,0.038615162853517564,0.03858952268559979,0.038562933100284684,0.03853634447672068,0.03851058420395285,0.0384845194365271,0.038459227005907135,0.038432966439917615,0.03840798700327285,0.038382332284122134,0.0383576497891195,0.03833297327641642,0.03830767878737999,0.03828224243936159,0.038257610126038025,0.03823275949572431,0.03820823242306185,0.038184006998632884,0.038159434170950746,0.03813478173763371,0.03811058274174084,0.03808607944180343,0.03806037683483779,0.038036017995543285,0.03801159791104276,0.03798749210044513,0.03796294694439867,0.03793830785157513,0.037914271043872044,0.03789044126204465,0.037866379532283674,0.03784210679040554,0.03781858439337702,0.03779446268439125,0.037770892244206704,0.03774789574451842,0.03772468122264613,0.03770101289819043,0.03767696579324313,0.037653582705976386,0.03763065674691053,0.037608289501476766,0.037585288129148756,0.03756213361243025,0.03753970504170105,0.03751694994813773,0.0374937822759437,0.03747084731771302,0.037447793853112726,0.0374257528078133,0.037403074522361114,0.0373800359322945,0.037357316891787916,0.037334724516593545,0.03731281376505991,0.03729072574947871,0.0372682761828203,0.03724608756732013,0.03722353261107423,0.03720174588349791],\"type\":\"scatter\"},{\"name\":\"Adagrad\",\"x\":[1,2,3,4,5,6,7,8,9,10,11,12,13,14,15,16,17,18,19,20,21,22,23,24,25,26,27,28,29,30,31,32,33,34,35,36,37,38,39,40,41,42,43,44,45,46,47,48,49,50,51,52,53,54,55,56,57,58,59,60,61,62,63,64,65,66,67,68,69,70,71,72,73,74,75,76,77,78,79,80,81,82,83,84,85,86,87,88,89,90,91,92,93,94,95,96,97,98,99,100,101,102,103,104,105,106,107,108,109,110,111,112,113,114,115,116,117,118,119,120,121,122,123,124,125,126,127,128,129,130,131,132,133,134,135,136,137,138,139,140,141,142,143,144,145,146,147,148,149,150,151,152,153,154,155,156,157,158,159,160,161,162,163,164,165,166,167,168,169,170,171,172,173,174,175,176,177,178,179,180,181,182,183,184,185,186,187,188,189,190,191,192,193,194,195,196,197,198,199,200,201,202,203,204,205,206,207,208,209,210,211,212,213,214,215,216,217,218,219,220,221,222,223,224,225,226,227,228,229,230,231,232,233,234,235,236,237,238,239,240,241,242,243,244,245,246,247,248,249,250,251,252,253,254,255,256,257,258,259,260,261,262,263,264,265,266,267,268,269,270,271,272,273,274,275,276,277,278,279,280,281,282,283,284,285,286,287,288,289,290,291,292,293,294,295,296,297,298,299,300,301,302,303,304,305,306,307,308,309,310,311,312,313,314,315,316,317,318,319,320,321,322,323,324,325,326,327,328,329,330,331,332,333,334,335,336,337,338,339,340,341,342,343,344,345,346,347,348,349,350,351,352,353,354,355,356,357,358,359,360,361,362,363,364,365,366,367,368,369,370,371,372,373,374,375,376,377,378,379,380,381,382,383,384,385,386,387,388,389,390,391,392,393,394,395,396,397,398,399,400,401,402,403,404,405,406,407,408,409,410,411,412,413,414,415,416,417,418,419,420,421,422,423,424,425,426,427,428,429,430,431,432,433,434,435,436,437,438,439,440,441,442,443,444,445,446,447,448,449,450,451,452,453,454,455,456,457,458,459,460,461,462,463,464,465,466,467,468,469,470,471,472,473,474,475,476,477,478,479,480,481,482,483,484,485,486,487,488,489,490,491,492,493,494,495,496,497,498,499,500,501,502,503,504,505,506,507,508,509,510,511,512,513,514,515,516,517,518,519,520,521,522,523,524,525,526,527,528,529,530,531,532,533,534,535,536,537,538,539,540,541,542,543,544,545,546,547,548,549,550,551,552,553,554,555,556,557,558,559,560,561,562,563,564,565,566,567,568,569,570,571,572,573,574,575,576,577,578,579,580,581,582,583,584,585,586,587,588,589,590,591,592,593,594,595,596,597,598,599,600,601,602,603,604,605,606,607,608,609,610,611,612,613,614,615,616,617,618,619,620,621,622,623,624,625,626,627,628,629,630,631,632,633,634,635,636,637,638,639,640,641,642,643,644,645,646,647,648,649,650,651,652,653,654,655,656,657,658,659,660,661,662,663,664,665,666,667,668,669,670,671,672,673,674,675,676,677,678,679,680,681,682,683,684,685,686,687,688,689,690,691,692,693,694,695,696,697,698,699,700,701,702,703,704,705,706,707,708,709,710,711,712,713,714,715,716,717,718,719,720,721,722,723,724,725,726,727,728,729,730,731,732,733,734,735,736,737,738,739,740,741,742,743,744,745,746,747,748,749,750,751,752,753,754,755,756,757,758,759,760,761,762,763,764,765,766,767,768,769,770,771,772,773,774,775,776,777,778,779,780,781,782,783,784,785,786,787,788,789,790,791,792,793,794,795,796,797,798,799,800,801,802,803,804,805,806,807,808,809,810,811,812,813,814,815,816,817,818,819,820,821,822,823,824,825,826,827,828,829,830,831,832,833,834,835,836,837,838,839,840,841,842,843,844,845,846,847,848,849,850,851,852,853,854,855,856,857,858,859,860,861,862,863,864,865,866,867,868,869,870,871,872,873,874,875,876,877,878,879,880,881,882,883,884,885,886,887,888,889,890,891,892,893,894,895,896,897,898,899,900,901,902,903,904,905,906,907,908,909,910,911,912,913,914,915,916,917,918,919,920,921,922,923,924,925,926,927,928,929,930,931,932,933,934,935,936,937,938,939,940,941,942,943,944,945,946,947,948,949,950,951,952,953,954,955,956,957,958,959,960,961,962,963,964,965,966,967,968,969,970,971,972,973,974,975,976,977,978,979,980,981,982,983,984,985,986,987,988,989,990,991,992,993,994,995,996,997,998,999,1000],\"y\":[133.41620005811663,51.13570101610946,51.13570101610946,13.717305902956017,13.717305902956017,6.789428546839416,6.789428546839416,3.4312891345895906,3.4312891345895906,2.032608409578451,2.032608409578451,1.1971818120539486,1.1971818120539486,0.698659792662305,0.698659792662305,0.4366572165068917,0.4366572165068917,0.2899700472084691,0.2899700472084691,0.20963035226282284,0.20963035226282284,0.1588719853886693,0.1588719853886693,0.12566024544097926,0.12566024544097926,0.10422926691271799,0.10422926691271799,0.08825884696051484,0.08825884696051484,0.07864560737970015,0.07864560737970015,0.07151530916828502,0.07151530916828502,0.06623751553619561,0.06623751553619561,0.061846060788623425,0.061846060788623425,0.05873803267127646,0.05873803267127646,0.05642893822259727,0.05642893822259727,0.05433919066614658,0.05433919066614658,0.052748382702329025,0.052748382702329025,0.05141627004618859,0.05141627004618859,0.05018961517227481,0.05018961517227481,0.049202504734651945,0.049202504734651945,0.048438148885889695,0.048438148885889695,0.04766603030764296,0.04766603030764296,0.04698933611258837,0.04698933611258837,0.04640578541812085,0.04640578541812085,0.04598377978862131,0.04598377978862131,0.04542487812699714,0.04542487812699714,0.044932026968715066,0.044932026968715066,0.04454320569526907,0.04454320569526907,0.04411596550501892,0.04411596550501892,0.04371645996227955,0.04371645996227955,0.04331486360977323,0.04331486360977323,0.04294314563932314,0.04294314563932314,0.042600610803746566,0.042600610803746566,0.042229753761690414,0.042229753761690414,0.04191418538205343,0.04191418538205343,0.041585566066218924,0.041585566066218924,0.04126430276882534,0.04126430276882534,0.04095363458956945,0.04095363458956945,0.0406390434758567,0.0406390434758567,0.040338568737924824,0.040338568737924824,0.040038201339473015,0.040038201339473015,0.03974105543077507,0.03974105543077507,0.039464993622743846,0.039464993622743846,0.039178483186785705,0.039178483186785705,0.038903622898104645,0.038903622898104645,0.038632153972321316,0.038632153972321316,0.0384136633207183,0.0384136633207183,0.0381387396265713,0.0381387396265713,0.03790333951963296,0.03790333951963296,0.03765328722371376,0.03765328722371376,0.037376619242688064,0.037376619242688064,0.03712650295359393,0.03712650295359393,0.03688833093966528,0.03688833093966528,0.03663735081665803,0.03663735081665803,0.03639901865554347,0.03639901865554347,0.03614538732672357,0.03614538732672357,0.03589189730883976,0.03589189730883976,0.03565180991381535,0.03565180991381535,0.03542051050701632,0.03542051050701632,0.03519402937173152,0.03519402937173152,0.03496950896861319,0.03496950896861319,0.03475415104130611,0.03475415104130611,0.034541110047020845,0.034541110047020845,0.03433081756710753,0.03433081756710753,0.03412745936844028,0.03412745936844028,0.03390994077956277,0.03390994077956277,0.03370022262102184,0.03370022262102184,0.03350530499992623,0.03350530499992623,0.03329798742779038,0.03329798742779038,0.03309143092246124,0.03309143092246124,0.03290139439120873,0.03290139439120873,0.032706854717288014,0.032706854717288014,0.032505766409142794,0.032505766409142794,0.03231956244541192,0.03231956244541192,0.0321392385163208,0.0321392385163208,0.03195805804920711,0.03195805804920711,0.03177036572579338,0.03177036572579338,0.03164056068177161,0.03164056068177161,0.031398385004956626,0.031398385004956626,0.03121720718934525,0.03121720718934525,0.03104965667308643,0.03104965667308643,0.030864422860544694,0.030864422860544694,0.03069871203943436,0.03069871203943436,0.030522152969949153,0.030522152969949153,0.03035554512378103,0.03035554512378103,0.03019862572842176,0.03019862572842176,0.030033183845148068,0.030033183845148068,0.0298727635211238,0.0298727635211238,0.029714700538280757,0.029714700538280757,0.029567123939521572,0.029567123939521572,0.02939787172152862,0.02939787172152862,0.02926039055307876,0.02926039055307876,0.029113212636576964,0.029113212636576964,0.028960628444135814,0.028960628444135814,0.028804945544445883,0.028804945544445883,0.028662012646554113,0.028662012646554113,0.028516928111275285,0.028516928111275285,0.028388671672789023,0.028388671672789023,0.028255900667442397,0.028255900667442397,0.028112343315145276,0.028112343315145276,0.027984909862227344,0.027984909862227344,0.027849162850460612,0.027849162850460612,0.02770107218035659,0.02770107218035659,0.027585585253250312,0.027585585253250312,0.02744058756155158,0.02744058756155158,0.02733397057817839,0.02733397057817839,0.02719921080050665,0.02719921080050665,0.027071765036741316,0.027071765036741316,0.02695963715579421,0.02695963715579421,0.026847491672019427,0.026847491672019427,0.026715330413287795,0.026715330413287795,0.026592900156526128,0.026592900156526128,0.02648295172921982,0.02648295172921982,0.02635604108511974,0.02635604108511974,0.026248047658297573,0.026248047658297573,0.026135448453910186,0.026135448453910186,0.02601737307603496,0.02601737307603496,0.0259084025689423,0.0259084025689423,0.025796919193441153,0.025796919193441153,0.025691396955861364,0.025691396955861364,0.025606727964522714,0.025606727964522714,0.025498145350263714,0.025498145350263714,0.02538754786360272,0.02538754786360272,0.025274753674784843,0.025274753674784843,0.02520817422441792,0.02520817422441792,0.025082243402243923,0.025082243402243923,0.024984917797258754,0.024984917797258754,0.02487389069903614,0.02487389069903614,0.02477187683159833,0.02477187683159833,0.024677038766111874,0.024677038766111874,0.024586492481050364,0.024586492481050364,0.024502506343762234,0.024502506343762234,0.024397309986685642,0.024397309986685642,0.024311143440095974,0.024311143440095974,0.024219771017940532,0.024219771017940532,0.024139391107689628,0.024139391107689628,0.02404296617980496,0.02404296617980496,0.02395105809259141,0.02395105809259141,0.023860574972083593,0.023860574972083593,0.02378708018034798,0.02378708018034798,0.023695693023221314,0.023695693023221314,0.02359950165871371,0.02359950165871371,0.02351799484739076,0.02351799484739076,0.023449156303094576,0.023449156303094576,0.023367621973596174,0.023367621973596174,0.023280848057873494,0.023280848057873494,0.0232024394118686,0.0232024394118686,0.023149355196706273,0.023149355196706273,0.023061793955261915,0.023061793955261915,0.022998376021884002,0.022998376021884002,0.02292416753336738,0.02292416753336738,0.022847825312135216,0.022847825312135216,0.022782555285943227,0.022782555285943227,0.022697022051069743,0.022697022051069743,0.022619879823002956,0.022619879823002956,0.02255217362005502,0.02255217362005502,0.022476560916191365,0.022476560916191365,0.02240638263591798,0.02240638263591798,0.02234748783296575,0.02234748783296575,0.02228003096249049,0.02228003096249049,0.022217310289185044,0.022217310289185044,0.022174903216652407,0.022174903216652407,0.022105387769956665,0.022105387769956665,0.022029329873580913,0.022029329873580913,0.021968807821816927,0.021968807821816927,0.021900291563637347,0.021900291563637347,0.021848598205969336,0.021848598205969336,0.021803007953517854,0.021803007953517854,0.021726600709437355,0.021726600709437355,0.021675992959822737,0.021675992959822737,0.021615605343399326,0.021615605343399326,0.02154607069342499,0.02154607069342499,0.0214959346928189,0.0214959346928189,0.02144909120887309,0.02144909120887309,0.02139375587858937,0.02139375587858937,0.021341746915306242,0.021341746915306242,0.021310438065170356,0.021310438065170356,0.0212598032605256,0.0212598032605256,0.021199201119099478,0.021199201119099478,0.02116179131716913,0.02116179131716913,0.02108048708626544,0.02108048708626544,0.021028737529851422,0.021028737529851422,0.020975226887767817,0.020975226887767817,0.020931254130709943,0.020931254130709943,0.020891587490401254,0.020891587490401254,0.02083131227268834,0.02083131227268834,0.02078815236864712,0.02078815236864712,0.020738153995493638,0.020738153995493638,0.02069791118141296,0.02069791118141296,0.020651793391134012,0.020651793391134012,0.02060619734607698,0.02060619734607698,0.020574918524194134,0.020574918524194134,0.020523797477098468,0.020523797477098468,0.020473869704335443,0.020473869704335443,0.020436420787822776,0.020436420787822776,0.020400311111284115,0.020400311111284115,0.020348933379997693,0.020348933379997693,0.02031994685232934,0.02031994685232934,0.020270103544473297,0.020270103544473297,0.02022881103990455,0.02022881103990455,0.020183499973554113,0.020183499973554113,0.020149614482482526,0.020149614482482526,0.020111630842737344,0.020111630842737344,0.02007642233078398,0.02007642233078398,0.02004178777272994,0.02004178777272994,0.020007942477578426,0.020007942477578426,0.01996847567347583,0.01996847567347583,0.01993043580822674,0.01993043580822674,0.019891934128218474,0.019891934128218474,0.019857684728302367,0.019857684728302367,0.019826839409218252,0.019826839409218252,0.01979005601976338,0.01979005601976338,0.019754054979237483,0.019754054979237483,0.01972617331796566,0.01972617331796566,0.019689309646000405,0.019689309646000405,0.019657019837428066,0.019657019837428066,0.01962436908838883,0.01962436908838883,0.019586811413108772,0.019586811413108772,0.019564973699921606,0.019564973699921606,0.01953073071231762,0.01953073071231762,0.01949536782507975,0.01949536782507975,0.019460521977841677,0.019460521977841677,0.019442687834644867,0.019442687834644867,0.019413751493350884,0.019413751493350884,0.01937623421482824,0.01937623421482824,0.019343760147132422,0.019343760147132422,0.019338970656598262,0.019338970656598262,0.01930228323828715,0.01930228323828715,0.019259880195257977,0.019259880195257977,0.019230448277612194,0.019230448277612194,0.019204718956831374,0.019204718956831374,0.019180510290960618,0.019180510290960618,0.019148437844941784,0.019148437844941784,0.019127921747303517,0.019127921747303517,0.019100052542476893,0.019100052542476893,0.019077933022432967,0.019077933022432967,0.019042288308932658,0.019042288308932658,0.01902681278527202,0.01902681278527202,0.0190021058877078,0.0190021058877078,0.01896746249796083,0.01896746249796083,0.018943932159626732,0.018943932159626732,0.01892313708942157,0.01892313708942157,0.01889250544942611,0.01889250544942611,0.018870534038595278,0.018870534038595278,0.01884849607863326,0.01884849607863326,0.018828567181859074,0.018828567181859074,0.018806289952209964,0.018806289952209964,0.018774720706572316,0.018774720706572316,0.018755027624366857,0.018755027624366857,0.018736692957899415,0.018736692957899415,0.01871384047741987,0.01871384047741987,0.018695772047091212,0.018695772047091212,0.0186711113681702,0.0186711113681702,0.018657140968948945,0.018657140968948945,0.01863213786964553,0.01863213786964553,0.018613917385115513,0.018613917385115513,0.01859427614964472,0.01859427614964472,0.01857353995109399,0.01857353995109399,0.01856284776056278,0.01856284776056278,0.01853732897514268,0.01853732897514268,0.018512794176906378,0.018512794176906378,0.01849572668776646,0.01849572668776646,0.018484691498239884,0.018484691498239884,0.01846869784372871,0.01846869784372871,0.01844514862135369,0.01844514862135369,0.018423190465458088,0.018423190465458088,0.01841190481706282,0.01841190481706282,0.01838981722446525,0.01838981722446525,0.018369206033026407,0.018369206033026407,0.018350489166679543,0.018350489166679543,0.018335620907344165,0.018335620907344165,0.018333738599917774,0.018333738599917774,0.018315414789555663,0.018315414789555663,0.01829709107801224,0.01829709107801224,0.01827468816562557,0.01827468816562557,0.018261444008749888,0.018261444008749888,0.01824872796865974,0.01824872796865974,0.018223057752418056,0.018223057752418056,0.018218668889203114,0.018218668889203114,0.01819459145560487,0.01819459145560487,0.018185573035114894,0.018185573035114894,0.01816510583605606,0.01816510583605606,0.01814794438336254,0.01814794438336254,0.01813673563799982,0.01813673563799982,0.018125716575787446,0.018125716575787446,0.01810848710623002,0.01810848710623002,0.01809079872823878,0.01809079872823878,0.018081849201008665,0.018081849201008665,0.018062036046707954,0.018062036046707954,0.018056973611115443,0.018056973611115443,0.01803922537745884,0.01803922537745884,0.01802895616435348,0.01802895616435348,0.018014011947102705,0.018014011947102705,0.018002180454838704,0.018002180454838704,0.017987131960815764,0.017987131960815764,0.017972966977038055,0.017972966977038055,0.01796114926675014,0.01796114926675014,0.01795373152053218,0.01795373152053218,0.017943302606080968,0.017943302606080968,0.017936528619337616,0.017936528619337616,0.017926742525982937,0.017926742525982937,0.017914709153757806,0.017914709153757806,0.01791282798446234,0.01791282798446234,0.01789085862716077,0.01789085862716077,0.017866584242914384,0.017866584242914384,0.017857494083493318,0.017857494083493318,0.017842227840382,0.017842227840382,0.017834881040229653,0.017834881040229653,0.01783355802273575,0.01783355802273575,0.017817338079403923,0.017817338079403923,0.017807926924427425,0.017807926924427425,0.01779826531961164,0.01779826531961164,0.017787789078897217,0.017787789078897217,0.017777382404129613,0.017777382404129613,0.017771186000795827,0.017771186000795827,0.017756696913607112,0.017756696913607112,0.01775478596664858,0.01775478596664858,0.01773898204208147,0.01773898204208147,0.017735140957102512,0.017735140957102512,0.01772047407109941,0.01772047407109941,0.017706407142232906,0.017706407142232906,0.01770225331563143,0.01770225331563143,0.01769411510860889,0.01769411510860889,0.017682970047171655,0.017682970047171655,0.017672930089742807,0.017672930089742807,0.017658967459673002,0.017658967459673002,0.017652847053211494,0.017652847053211494,0.017647328116901815,0.017647328116901815,0.01764150064600323,0.01764150064600323,0.01763557240957512,0.01763557240957512,0.01762625088450156,0.01762625088450156,0.017607765498006786,0.017607765498006786,0.017600399026702507,0.017600399026702507,0.017600203101644497,0.017600203101644497,0.017587521718453156,0.017587521718453156,0.017584536589564003,0.017584536589564003,0.017577762664268266,0.017577762664268266,0.017578823868780052,0.017578823868780052,0.017556384261916476,0.017556384261916476,0.017554674160945916,0.017554674160945916,0.01754850074173857,0.01754850074173857,0.01754126317187555,0.01754126317187555,0.01752749553423935,0.01752749553423935,0.01752594051495975,0.01752594051495975,0.017521108243870973,0.017521108243870973,0.017510504314567535,0.017510504314567535,0.017504577926904498,0.017504577926904498,0.017502449087436905,0.017502449087436905,0.017486262826652842,0.017486262826652842,0.017497620356546124,0.017497620356546124,0.017488827149916817,0.017488827149916817,0.017475323388081585,0.017475323388081585,0.01747318131117312,0.01747318131117312,0.017468275304295445,0.017468275304295445,0.017461531961026466,0.017461531961026466,0.01744684631441279,0.01744684631441279,0.017442130969372388,0.017442130969372388,0.0174333724575651,0.0174333724575651,0.01744049688626323,0.01744049688626323,0.01743131922316926,0.01743131922316926,0.01742249044702085,0.01742249044702085,0.017420907852675367,0.017420907852675367,0.017410916491283204,0.017410916491283204,0.017410985352131942,0.017410985352131942,0.01739946636281186,0.01739946636281186,0.01739712910792912,0.01739712910792912,0.017384006765964494,0.017384006765964494,0.017377392154174165,0.017377392154174165,0.017370353581407323,0.017370353581407323,0.017375383673896974,0.017375383673896974,0.017370991143233868,0.017370991143233868,0.017368993852596697,0.017368993852596697,0.017359942945292507,0.017359942945292507,0.017346150930366684,0.017346150930366684,0.017342004570621863,0.017342004570621863,0.01733908718996033,0.01733908718996033,0.017340889488176157,0.017340889488176157,0.017329759091254362,0.017329759091254362,0.017323280436268046,0.017323280436268046,0.017316601795192933,0.017316601795192933,0.01731458861000575,0.01731458861000575,0.017304516488034483,0.017304516488034483,0.017305963458281746,0.017305963458281746,0.017311805382740308,0.017311805382740308,0.017305094209651865,0.017305094209651865,0.01729337838218064,0.01729337838218064,0.017286260472709765,0.017286260472709765,0.017284597864444914,0.017284597864444914,0.017288374840996476,0.017288374840996476,0.017276114280000313,0.017276114280000313,0.01727426912514223,0.01727426912514223,0.017266884556966552,0.017266884556966552,0.017260896258610586,0.017260896258610586,0.017266957843100367,0.017266957843100367,0.017257023945139997,0.017257023945139997,0.017253137914791238,0.017253137914791238,0.01726512658275771,0.01726512658275771,0.017251459130832772,0.017251459130832772,0.01724192158459896,0.01724192158459896,0.017246593461223075,0.017246593461223075,0.01723821545301074,0.01723821545301074,0.017231107534042243,0.017231107534042243,0.017229752262244095,0.017229752262244095,0.01723354553546043,0.01723354553546043,0.017224769271554433,0.017224769271554433,0.01721647337753382,0.01721647337753382,0.01722092930892463,0.01722092930892463,0.01721270264364158,0.01721270264364158,0.017206199941743053,0.017206199941743053,0.01720659570389048,0.01720659570389048,0.017210829335748898,0.017210829335748898,0.01721716732713402,0.01721716732713402,0.017207776801326007,0.017207776801326007,0.0171996735898125,0.0171996735898125,0.017204109318839537,0.017204109318839537,0.017193559355558725,0.017193559355558725,0.01718910596356616,0.01718910596356616,0.017186872353783425,0.017186872353783425,0.01718251231076384,0.01718251231076384,0.01718351515262513,0.01718351515262513,0.01717217983807075,0.01717217983807075,0.017175665739594885,0.017175665739594885,0.017176919497694287,0.017176919497694287,0.017170726299252544,0.017170726299252544,0.01717335918543359,0.01717335918543359,0.017161834455497762,0.017161834455497762,0.017169827322838484,0.017169827322838484,0.01716345683111047,0.01716345683111047,0.017156742804220616,0.017156742804220616,0.017161829827462942,0.017161829827462942,0.01715112077630268,0.01715112077630268,0.017152355794123032,0.017152355794123032,0.01714967055646184,0.01714967055646184,0.01714527766018803,0.01714527766018803,0.017142290534013633,0.017142290534013633,0.01714577568273981,0.01714577568273981,0.017142865224891602,0.017142865224891602,0.017136259629463794,0.017136259629463794,0.01713985898820398,0.01713985898820398,0.017133068509553262,0.017133068509553262,0.017123522416247414,0.017123522416247414,0.017130259265496172,0.017130259265496172,0.01713840645962276,0.01713840645962276,0.01713320980531947,0.01713320980531947,0.017126180602823685,0.017126180602823685,0.01712709660775396,0.01712709660775396,0.01711562387509688,0.01711562387509688,0.017121086203124133,0.017121086203124133,0.01711592760461241,0.01711592760461241,0.0171155970858666,0.0171155970858666,0.017108919225824117,0.017108919225824117,0.017104674744234657,0.017104674744234657,0.017108688751423733,0.017108688751423733,0.017106651212503494,0.017106651212503494,0.017107891178042556,0.017107891178042556,0.017106473013528245,0.017106473013528245,0.017102357535755168,0.017102357535755168,0.01710760376533656,0.01710760376533656,0.01709507261795328,0.01709507261795328,0.01709152929534314,0.01709152929534314,0.017092415296165883,0.017092415296165883,0.017091025765566033,0.017091025765566033,0.017088232675648775,0.017088232675648775,0.01709022001629204,0.01709022001629204,0.01709176398339642,0.01709176398339642,0.017093575479054192,0.017093575479054192,0.01709786577584471,0.01709786577584471,0.01708826409982703,0.01708826409982703,0.017081273204715263,0.017081273204715263,0.017081902710554698,0.017081902710554698,0.01708282729621885,0.01708282729621885,0.017076488922832863,0.017076488922832863,0.01707672585311395,0.01707672585311395,0.017076009504941852,0.017076009504941852,0.017077721988254222,0.017077721988254222,0.017071212479789186,0.017071212479789186,0.017072705235541916,0.017072705235541916,0.01707116958757449,0.01707116958757449,0.017079795129077004,0.017079795129077004,0.017061978436917414,0.017061978436917414,0.01706453550741441,0.01706453550741441,0.01706345057471744,0.01706345057471744,0.017056159042095058,0.017056159042095058,0.0170708269070433,0.0170708269070433,0.017060416454968072,0.017060416454968072,0.017059262784852355,0.017059262784852355,0.01705776718691383,0.01705776718691383,0.01705259846770119,0.01705259846770119,0.01705775226637327,0.01705775226637327,0.01704941089932198,0.01704941089932198,0.017056749645264806,0.017056749645264806,0.017064361913215115,0.017064361913215115,0.017051327441441076,0.017051327441441076,0.017044241373636373,0.017044241373636373,0.017047191940713365,0.017047191940713365,0.017049609982755967,0.017049609982755967,0.017048283388297482,0.017048283388297482,0.017051204649787828,0.017051204649787828,0.017051090913305516,0.017051090913305516,0.017050737386236553,0.017050737386236553,0.017037662651430936,0.017037662651430936,0.0170470269208278,0.0170470269208278,0.017042156822258164,0.017042156822258164,0.01704002795697743,0.01704002795697743,0.01703929145255463,0.01703929145255463,0.017038616633953115,0.017038616633953115,0.017036579039183535,0.017036579039183535,0.01703984015143454,0.01703984015143454,0.017036264236810636,0.017036264236810636,0.017034439430702028,0.017034439430702028,0.017035219509945514,0.017035219509945514,0.01704188906505291,0.01704188906505291,0.01704396308554009,0.01704396308554009,0.017038642214702977,0.017038642214702977,0.017029531987961193,0.017029531987961193,0.01703001565101558,0.01703001565101558,0.01702958524971948,0.01702958524971948,0.017033308850026643,0.017033308850026643,0.01702226812006487,0.01702226812006487,0.017023416091486002,0.017023416091486002,0.017022186784916384,0.017022186784916384,0.017024605365700038,0.017024605365700038,0.01703008672857537,0.01703008672857537,0.017028133592310292,0.017028133592310292,0.01702704120273736,0.01702704120273736,0.01701974404333029,0.01701974404333029,0.017023872826128217,0.017023872826128217,0.017023901221013937,0.017023901221013937,0.017016481865236032,0.017016481865236032,0.017020733599053286,0.017020733599053286,0.017013877877518433,0.017013877877518433,0.017015662201317856,0.017015662201317856,0.017023092007517643,0.017023092007517643,0.017033893951477037,0.017033893951477037,0.017015320003453772,0.017015320003453772,0.017013830344572392,0.017013830344572392,0.017011978945794863,0.017011978945794863,0.017010272490314584,0.017010272490314584,0.017009587067180525,0.017009587067180525,0.017011391246069988,0.017011391246069988,0.017013314023982113,0.017013314023982113,0.017005010823928877,0.017005010823928877,0.017012097440342898,0.017012097440342898,0.01701024649083059,0.01701024649083059,0.017011717697192445,0.017011717697192445,0.01701268673059119,0.01701268673059119,0.017004766417825203,0.017004766417825203,0.017008610544113043,0.017008610544113043,0.017015333949759293,0.017015333949759293,0.01700413773729316,0.01700413773729316,0.01700962701331894,0.01700962701331894,0.01700386620421617,0.01700386620421617,0.017006295717327344,0.017006295717327344,0.017002054895219817,0.017002054895219817,0.016999090722150664,0.016999090722150664,0.017004022256494368,0.017004022256494368,0.017001890919022947,0.017001890919022947,0.01700187192317094,0.01700187192317094,0.0170031101211088,0.0170031101211088,0.01700602888238552,0.01700602888238552,0.01699866678080998,0.01699866678080998,0.017000917758119214,0.017000917758119214,0.016994378059646792,0.016994378059646792,0.01699822275579825,0.01699822275579825,0.016999897766209717,0.016999897766209717,0.01700894467125434,0.01700894467125434,0.016999977421753392,0.016999977421753392,0.01699583560907888,0.01699583560907888,0.016999301717442954,0.016999301717442954,0.016997309004319023,0.016997309004319023,0.016999960480627907,0.016999960480627907,0.016996929320081546,0.016996929320081546,0.01699415837233398,0.01699415837233398,0.01699531062537835,0.01699531062537835,0.016996236990341144,0.016996236990341144,0.01699064584187471,0.01699064584187471,0.01699492885511055,0.01699492885511055,0.016989642917312996,0.016989642917312996,0.01698842447835714,0.01698842447835714,0.016992604930627465,0.016992604930627465,0.01698699701604762,0.01698699701604762,0.016987850594031025,0.016987850594031025,0.016988587670372673,0.016988587670372673,0.01698858008744306,0.01698858008744306,0.0169873197284122,0.0169873197284122,0.016989706251880503,0.016989706251880503,0.01698368185566923,0.01698368185566923,0.016989987173175538,0.016989987173175538,0.016986026635449892,0.016986026635449892,0.016988655609657264,0.016988655609657264,0.016993270182279092,0.016993270182279092,0.016985700914121115,0.016985700914121115,0.01700387248774706,0.01700387248774706,0.016998256544402467,0.016998256544402467,0.01698956687598043,0.01698956687598043,0.016998189870284466,0.016998189870284466,0.016983373038021922,0.016983373038021922,0.01698058177253385,0.01698058177253385,0.016986531716975523,0.016986531716975523,0.01699648885815896,0.01699648885815896,0.016990506182813878,0.016990506182813878,0.016987315282577214,0.016987315282577214,0.016986889961076505,0.016986889961076505,0.016995986454277582,0.016995986454277582,0.016983299056978506,0.016983299056978506,0.016987420813360413,0.016987420813360413,0.016992998185934555,0.016992998185934555,0.016985907159569637,0.016985907159569637,0.01698851262108385,0.01698851262108385,0.016979069744057055,0.016979069744057055,0.016982094292682434,0.016982094292682434,0.01698383535293993,0.01698383535293993,0.016977420570318022,0.016977420570318022,0.016980314744039472,0.016980314744039472,0.016978618450163054,0.016978618450163054,0.01698635423092143,0.01698635423092143,0.016991286035369327,0.016991286035369327,0.01698567308628169,0.01698567308628169,0.01699439698164984,0.01699439698164984,0.01699168994955108,0.01699168994955108,0.01698038330425788,0.01698038330425788,0.016986512347093054,0.016986512347093054,0.016980700963201367,0.016980700963201367,0.01698124715088677,0.01698124715088677,0.016979501304028505,0.016979501304028505,0.016983466613514644,0.016983466613514644,0.016993206912834992,0.016993206912834992,0.01698519599671672,0.01698519599671672,0.016983543528824342,0.016983543528824342,0.016980443013021616,0.016980443013021616,0.016980644018299726,0.016980644018299726,0.016976825275640213,0.016976825275640213,0.016976390185260034,0.016976390185260034,0.016976113229622596,0.016976113229622596,0.016979883985779425,0.016979883985779425,0.01698021804284479,0.01698021804284479,0.016979037704464434,0.016979037704464434,0.01697097783338154,0.01697097783338154,0.016978554038841576,0.016978554038841576,0.016980488903921825,0.016980488903921825,0.01697620647526285,0.01697620647526285,0.016983870377721925,0.016983870377721925,0.01697628585933709,0.01697628585933709,0.01697703722702216,0.01697703722702216,0.016970854178109025,0.016970854178109025,0.016972459449539,0.016972459449539,0.016971094521650944,0.016971094521650944,0.016975710274112044,0.016975710274112044,0.01696987166568273,0.01696987166568273,0.016971804285473614,0.016971804285473614,0.016973353911816685,0.016973353911816685,0.016969453742500393,0.016969453742500393,0.016978517366404464,0.016978517366404464,0.016980753015516478,0.016980753015516478,0.016976424630951725,0.016976424630951725,0.016970002729828126,0.016970002729828126,0.016972829961756232,0.016972829961756232,0.016968413624688282,0.016968413624688282,0.01697619264220057,0.01697619264220057,0.016975903632753402,0.016975903632753402,0.01697775811941932,0.01697775811941932,0.016982987183455082,0.016982987183455082,0.01697409782274782,0.01697409782274782,0.01697920968913168,0.01697920968913168,0.016977364471060682,0.016977364471060682,0.016971633245152492,0.016971633245152492,0.016968079281098336,0.016968079281098336,0.01697442610619036,0.01697442610619036,0.016969632840562337,0.016969632840562337,0.016976608614606425,0.016976608614606425,0.016969161005109906,0.016969161005109906,0.01697141708365136,0.01697141708365136,0.016976119783131138,0.016976119783131138,0.01697461500942543,0.01697461500942543,0.01697870754923489,0.01697870754923489,0.016970828669544975,0.016970828669544975,0.016967068210159884,0.016967068210159884,0.016971881536413606,0.016971881536413606,0.01696735512608736,0.01696735512608736,0.016967837259332024,0.016967837259332024,0.016968223122420228,0.016968223122420228,0.016969250079571348,0.016969250079571348,0.01696747536782542,0.01696747536782542,0.016973625282971923,0.016973625282971923,0.016968481051535842,0.016968481051535842,0.01697157089606935,0.01697157089606935,0.016983418892427937,0.016983418892427937,0.01697432837516884,0.01697432837516884,0.016971578124320354,0.016971578124320354,0.01697407370259353,0.01697407370259353,0.01697394526975599,0.01697394526975599,0.016974129047854843,0.016974129047854843,0.016972433250332042,0.016972433250332042,0.01697903632596363,0.01697903632596363,0.01698138207509241,0.01698138207509241,0.016969528213518208,0.016969528213518208,0.01696691892248305,0.01696691892248305,0.01696515506681932,0.01696515506681932,0.01696177421673092,0.01696177421673092,0.016974106260075242,0.016974106260075242,0.016972938666128666,0.016972938666128666,0.016968305947998773,0.016968305947998773,0.016976132780362283,0.016976132780362283,0.01697406259055134,0.01697406259055134,0.016965359524778227,0.016965359524778227,0.01697769757910939,0.01697769757910939,0.016967902431467938,0.016967902431467938,0.016965612524683607,0.016965612524683607,0.016970791992368735,0.016970791992368735,0.01696380088553614,0.01696380088553614,0.016968363801591908,0.016968363801591908,0.016965472460467222,0.016965472460467222,0.01696484328426154,0.01696484328426154,0.016966784393395808,0.016966784393395808,0.016967530365422027,0.016967530365422027,0.01696902894687478,0.01696902894687478,0.016968626368546423,0.016968626368546423,0.016967061530287687,0.016967061530287687,0.01696987767919196,0.01696987767919196,0.016966615266763803,0.016966615266763803,0.016964592722190898,0.016964592722190898,0.01696700411431422,0.01696700411431422,0.01696802816634095,0.01696802816634095,0.01697016667803022,0.01697016667803022,0.01696803824883814,0.01696803824883814,0.01696920531122197,0.01696920531122197,0.016970542950112473,0.016970542950112473,0.016969767802817066,0.016969767802817066,0.01696418101285758,0.01696418101285758,0.016970029178950984,0.016970029178950984,0.016961380035179822,0.016961380035179822,0.016961950402269887,0.016961950402269887,0.016961486250812237,0.016961486250812237,0.016968172118587983,0.016968172118587983,0.016966324697966224,0.016966324697966224,0.016969477594751512,0.016969477594751512,0.016975460969733798,0.016975460969733798,0.01697641101872717,0.01697641101872717,0.01696796659892472,0.01696796659892472,0.016975947869034516,0.016975947869034516,0.01697357805206116,0.01697357805206116,0.016968352383634373,0.016968352383634373,0.01696350794753288,0.01696350794753288,0.01696051111070605,0.01696051111070605,0.016963622392889156,0.016963622392889156,0.01696876832239742,0.01696876832239742,0.0169636710404338,0.0169636710404338,0.016966144301813695,0.016966144301813695,0.016968704946211173,0.016968704946211173,0.016966383488797383,0.016966383488797383,0.016963481354369002,0.016963481354369002,0.01696690482629401,0.01696690482629401,0.016963743550074448,0.016963743550074448,0.016970744435793467,0.016970744435793467,0.016967355337392572,0.016967355337392572,0.0169664586123423,0.0169664586123423,0.01696914906959047,0.01696914906959047,0.016965582849119927,0.016965582849119927,0.016967644949968302,0.016967644949968302,0.016971299325834063,0.016971299325834063,0.016974273350271945,0.016974273350271945,0.016964673201763716,0.016964673201763716,0.01696420964782239,0.01696420964782239,0.016966633969197255,0.016966633969197255,0.016963300420144864,0.016963300420144864,0.01696576463060811,0.01696576463060811,0.01696791230345448,0.01696791230345448,0.016973965790067925,0.016973965790067925,0.016969104566265155,0.016969104566265155,0.01696788987485047,0.01696788987485047,0.016965648505299805,0.016965648505299805,0.016972041445696674,0.016972041445696674,0.01695690516312404,0.01695690516312404,0.016958596232484045,0.016958596232484045,0.016960450377259507,0.016960450377259507,0.016971271773775883,0.016971271773775883,0.016968839248108922,0.016968839248108922,0.01697034322215214,0.01697034322215214,0.016979059419136897,0.016979059419136897,0.01696759567990022,0.01696759567990022,0.016967201310638235,0.016967201310638235,0.016970524787458807,0.016970524787458807,0.016964409084198863,0.016964409084198863,0.016968445181497392,0.016968445181497392,0.016961313311820533,0.016961313311820533,0.016961214797837937,0.016961214797837937,0.016968092305327444,0.016968092305327444,0.016967679365443612,0.016967679365443612,0.01695963389757422,0.01695963389757422,0.016958817701878143,0.016958817701878143,0.016957610527687766,0.016957610527687766,0.016957582545565862,0.016957582545565862,0.01695985107771745,0.01695985107771745,0.016967462977688263,0.016967462977688263,0.016961839745347703,0.016961839745347703,0.01696750072475423,0.01696750072475423,0.01696204960632371,0.01696204960632371,0.016971379811088448,0.016971379811088448,0.016965510567199873,0.016965510567199873,0.016960078840746087,0.016960078840746087,0.016964408141899003,0.016964408141899003,0.01697336288901387,0.01697336288901387,0.01696808793811999,0.01696808793811999,0.01696304512771926,0.01696304512771926,0.01696477142663446,0.01696477142663446,0.016962180932381648,0.016962180932381648,0.016973018408027687,0.016973018408027687,0.016968737846692814,0.016968737846692814,0.016960226034226554,0.016960226034226554,0.016965334795145746,0.016965334795145746,0.016961318870422043,0.016961318870422043,0.01696745159084986,0.01696745159084986,0.01696401347185511,0.01696401347185511,0.016965065595316166,0.016965065595316166,0.016964085566116803,0.016964085566116803,0.016970037053508545,0.016970037053508545,0.016966994543967717,0.016966994543967717,0.01696991104668884,0.01696991104668884,0.01695763124163649,0.01695763124163649,0.016963972516684345,0.016963972516684345,0.016966137480675103,0.016966137480675103,0.0169619082826811,0.0169619082826811,0.01696012494163585,0.01696012494163585,0.016962047891149173,0.016962047891149173,0.016958057259355314,0.016958057259355314,0.016960849552377748,0.016960849552377748,0.016964317175569302,0.016964317175569302,0.01696031112796583,0.01696031112796583,0.016962894733765534,0.016962894733765534,0.01696423407867669,0.01696423407867669,0.016960410928017745,0.016960410928017745,0.016967383051386904,0.016967383051386904,0.01696671217701474,0.01696671217701474,0.016961907691126328,0.016961907691126328,0.016964187106388334,0.016964187106388334,0.016963434091608696,0.016963434091608696,0.016958901875106132,0.016958901875106132,0.016970124938623387,0.016970124938623387,0.016980867534176557,0.016980867534176557,0.01696717967992465,0.01696717967992465,0.016969598264621844,0.016969598264621844,0.01696636445163195,0.01696636445163195,0.016962878341681337,0.016962878341681337,0.016961270714303357,0.016961270714303357,0.016962097149609993,0.016962097149609993,0.016958828607892603,0.016958828607892603,0.016960845533490584,0.016960845533490584,0.01697299102342794,0.01697299102342794,0.016957681136614097,0.016957681136614097,0.016962962265811406,0.016962962265811406,0.016964575938068237,0.016964575938068237,0.01695869760401724,0.01695869760401724,0.01695783614334517,0.01695783614334517,0.01696129092771863,0.01696129092771863,0.01696798443185569,0.01696798443185569,0.016967324531955034,0.016967324531955034,0.01696441585645448,0.01696441585645448,0.01695865806017737,0.01695865806017737,0.016957197444259844,0.016957197444259844,0.01696127485544697,0.01696127485544697,0.016968478739487827,0.016968478739487827,0.0169799311049236,0.0169799311049236,0.016966394659754188,0.016966394659754188,0.016966726282691212,0.016966726282691212,0.016960071386369534,0.016960071386369534,0.01696288338034868,0.01696288338034868,0.01695878291362988,0.01695878291362988,0.01696059722548844,0.01696059722548844,0.016958476349670355,0.016958476349670355,0.016955462426359928,0.016955462426359928,0.01696536005811054,0.01696536005811054,0.016956664394649476,0.016956664394649476,0.016958134909944966,0.016958134909944966,0.016961072402050546,0.016961072402050546,0.01696049135700076,0.01696049135700076,0.016975023980398508,0.016975023980398508,0.01696560439140187,0.01696560439140187,0.016967300456277572,0.016967300456277572,0.016975367618993584,0.016975367618993584,0.016958193046245892,0.016958193046245892,0.016960374315197944,0.016960374315197944,0.016965432541663286,0.016965432541663286,0.016972029364690767,0.016972029364690767,0.016965913748757427,0.016965913748757427,0.016960798475795208,0.016960798475795208,0.016964962316714953,0.016964962316714953,0.01696536734668063,0.01696536734668063,0.016968039415527332,0.016968039415527332,0.016963805817066923,0.016963805817066923,0.016961577000991546,0.016961577000991546,0.01695950775324533,0.01695950775324533,0.01696083672472095,0.01696083672472095,0.016961550954145907,0.016961550954145907,0.01696642765614187,0.01696642765614187,0.01696732400607077,0.01696732400607077,0.01696528359209154,0.01696528359209154,0.016970000997098677,0.016970000997098677,0.016958828596374206,0.016958828596374206,0.01696386488262308,0.01696386488262308,0.01696532681751422,0.01696532681751422,0.016962691741030336,0.016962691741030336,0.016962263864714326,0.016962263864714326,0.016964444136008124,0.016964444136008124,0.016961999776498156,0.016961999776498156,0.016965244134824357,0.016965244134824357,0.01696438163909835,0.01696438163909835,0.016962339831114913,0.016962339831114913,0.01696562332302557,0.01696562332302557,0.016962140961711336,0.016962140961711336,0.016970267704779232,0.016970267704779232,0.016959778505213997,0.016959778505213997,0.016965696888222737,0.016965696888222737,0.01696399775460564,0.01696399775460564,0.01695998805134619,0.01695998805134619,0.016968850287097718,0.016968850287097718,0.016978773630526446,0.016978773630526446,0.016967894415806012,0.016967894415806012,0.016962058498902078,0.016962058498902078,0.016967365093711835,0.016967365093711835,0.016963550975385527,0.016963550975385527,0.016966538775067257,0.016966538775067257,0.01696775347276856,0.01696775347276856,0.016964011441041062,0.016964011441041062,0.016962465711896788,0.016962465711896788,0.01696589236748022,0.01696589236748022,0.01695901276788814,0.01695901276788814,0.016962769134897013,0.016962769134897013,0.016979616716513296,0.016979616716513296,0.016970639873457732,0.016970639873457732,0.016961640226147802,0.016961640226147802,0.016961717845162233,0.016961717845162233,0.01697183756187079,0.01697183756187079,0.016967308343068976,0.016967308343068976,0.01696133004994045,0.01696133004994045,0.01695815317229787,0.01695815317229787,0.016961930468729187,0.016961930468729187,0.016959563283350243,0.016959563283350243,0.016959675897562032,0.016959675897562032,0.016961769041364747,0.016961769041364747,0.01697133651046842,0.01697133651046842,0.016962619678103204,0.016962619678103204,0.016964382723225577,0.016964382723225577,0.016968698609486618,0.016968698609486618,0.016967251201529077,0.016967251201529077,0.016970341973806553,0.016970341973806553,0.01696420175396986,0.01696420175396986,0.016968610458741748,0.016968610458741748,0.016968649216319857,0.016968649216319857,0.016973691554891958,0.016973691554891958,0.01695967797723212,0.01695967797723212,0.01696368079794848,0.01696368079794848,0.01696851618875404,0.01696851618875404,0.01696850416998201,0.01696850416998201,0.016962780898928616,0.016962780898928616,0.01695793403215799,0.01695793403215799,0.016959098355991298,0.016959098355991298,0.01696428573043041,0.01696428573043041,0.016958429819899822,0.016958429819899822,0.0169589031187073,0.0169589031187073,0.016960665018988765,0.016960665018988765,0.016957607070195932,0.016957607070195932,0.01695994916604537,0.01695994916604537,0.01695666669780413,0.01695666669780413,0.01695709283615109,0.01695709283615109,0.01695536521330601,0.01695536521330601,0.016961218083181615,0.016961218083181615,0.016958047923865852,0.016958047923865852,0.01695581786799199,0.01695581786799199,0.01695981762662944,0.01695981762662944,0.016961872547825108,0.016961872547825108,0.01695830459585096,0.01695830459585096,0.01695825862857034,0.01695825862857034,0.016963458609760736,0.016963458609760736,0.016963111060554138,0.016963111060554138,0.016966370463533408,0.016966370463533408,0.01696303079298133,0.01696303079298133,0.016959962284127415,0.016959962284127415,0.01696666181487126,0.01696666181487126,0.016965208262224148,0.016965208262224148,0.016960472212718014,0.016960472212718014,0.016958205009615104,0.016958205009615104,0.016961112368675358,0.016961112368675358,0.016970536902868483,0.016970536902868483,0.016961436546783528,0.016961436546783528,0.01696055951401599,0.01696055951401599,0.016959233694090785,0.016959233694090785,0.016966311648687428,0.016966311648687428,0.016969377255602037,0.016969377255602037,0.016969283469118704,0.016969283469118704,0.016966843300730797,0.016966843300730797,0.016964146692207853,0.016964146692207853,0.016963952250482448,0.016963952250482448,0.016966971780333504,0.016966971780333504,0.016971241296742885,0.016971241296742885,0.01696427974808054],\"type\":\"scatter\"}],                        {\"template\":{\"data\":{\"histogram2dcontour\":[{\"type\":\"histogram2dcontour\",\"colorbar\":{\"outlinewidth\":0,\"ticks\":\"\"},\"colorscale\":[[0.0,\"#0d0887\"],[0.1111111111111111,\"#46039f\"],[0.2222222222222222,\"#7201a8\"],[0.3333333333333333,\"#9c179e\"],[0.4444444444444444,\"#bd3786\"],[0.5555555555555556,\"#d8576b\"],[0.6666666666666666,\"#ed7953\"],[0.7777777777777778,\"#fb9f3a\"],[0.8888888888888888,\"#fdca26\"],[1.0,\"#f0f921\"]]}],\"choropleth\":[{\"type\":\"choropleth\",\"colorbar\":{\"outlinewidth\":0,\"ticks\":\"\"}}],\"histogram2d\":[{\"type\":\"histogram2d\",\"colorbar\":{\"outlinewidth\":0,\"ticks\":\"\"},\"colorscale\":[[0.0,\"#0d0887\"],[0.1111111111111111,\"#46039f\"],[0.2222222222222222,\"#7201a8\"],[0.3333333333333333,\"#9c179e\"],[0.4444444444444444,\"#bd3786\"],[0.5555555555555556,\"#d8576b\"],[0.6666666666666666,\"#ed7953\"],[0.7777777777777778,\"#fb9f3a\"],[0.8888888888888888,\"#fdca26\"],[1.0,\"#f0f921\"]]}],\"heatmap\":[{\"type\":\"heatmap\",\"colorbar\":{\"outlinewidth\":0,\"ticks\":\"\"},\"colorscale\":[[0.0,\"#0d0887\"],[0.1111111111111111,\"#46039f\"],[0.2222222222222222,\"#7201a8\"],[0.3333333333333333,\"#9c179e\"],[0.4444444444444444,\"#bd3786\"],[0.5555555555555556,\"#d8576b\"],[0.6666666666666666,\"#ed7953\"],[0.7777777777777778,\"#fb9f3a\"],[0.8888888888888888,\"#fdca26\"],[1.0,\"#f0f921\"]]}],\"heatmapgl\":[{\"type\":\"heatmapgl\",\"colorbar\":{\"outlinewidth\":0,\"ticks\":\"\"},\"colorscale\":[[0.0,\"#0d0887\"],[0.1111111111111111,\"#46039f\"],[0.2222222222222222,\"#7201a8\"],[0.3333333333333333,\"#9c179e\"],[0.4444444444444444,\"#bd3786\"],[0.5555555555555556,\"#d8576b\"],[0.6666666666666666,\"#ed7953\"],[0.7777777777777778,\"#fb9f3a\"],[0.8888888888888888,\"#fdca26\"],[1.0,\"#f0f921\"]]}],\"contourcarpet\":[{\"type\":\"contourcarpet\",\"colorbar\":{\"outlinewidth\":0,\"ticks\":\"\"}}],\"contour\":[{\"type\":\"contour\",\"colorbar\":{\"outlinewidth\":0,\"ticks\":\"\"},\"colorscale\":[[0.0,\"#0d0887\"],[0.1111111111111111,\"#46039f\"],[0.2222222222222222,\"#7201a8\"],[0.3333333333333333,\"#9c179e\"],[0.4444444444444444,\"#bd3786\"],[0.5555555555555556,\"#d8576b\"],[0.6666666666666666,\"#ed7953\"],[0.7777777777777778,\"#fb9f3a\"],[0.8888888888888888,\"#fdca26\"],[1.0,\"#f0f921\"]]}],\"surface\":[{\"type\":\"surface\",\"colorbar\":{\"outlinewidth\":0,\"ticks\":\"\"},\"colorscale\":[[0.0,\"#0d0887\"],[0.1111111111111111,\"#46039f\"],[0.2222222222222222,\"#7201a8\"],[0.3333333333333333,\"#9c179e\"],[0.4444444444444444,\"#bd3786\"],[0.5555555555555556,\"#d8576b\"],[0.6666666666666666,\"#ed7953\"],[0.7777777777777778,\"#fb9f3a\"],[0.8888888888888888,\"#fdca26\"],[1.0,\"#f0f921\"]]}],\"mesh3d\":[{\"type\":\"mesh3d\",\"colorbar\":{\"outlinewidth\":0,\"ticks\":\"\"}}],\"scatter\":[{\"fillpattern\":{\"fillmode\":\"overlay\",\"size\":10,\"solidity\":0.2},\"type\":\"scatter\"}],\"parcoords\":[{\"type\":\"parcoords\",\"line\":{\"colorbar\":{\"outlinewidth\":0,\"ticks\":\"\"}}}],\"scatterpolargl\":[{\"type\":\"scatterpolargl\",\"marker\":{\"colorbar\":{\"outlinewidth\":0,\"ticks\":\"\"}}}],\"bar\":[{\"error_x\":{\"color\":\"#2a3f5f\"},\"error_y\":{\"color\":\"#2a3f5f\"},\"marker\":{\"line\":{\"color\":\"#E5ECF6\",\"width\":0.5},\"pattern\":{\"fillmode\":\"overlay\",\"size\":10,\"solidity\":0.2}},\"type\":\"bar\"}],\"scattergeo\":[{\"type\":\"scattergeo\",\"marker\":{\"colorbar\":{\"outlinewidth\":0,\"ticks\":\"\"}}}],\"scatterpolar\":[{\"type\":\"scatterpolar\",\"marker\":{\"colorbar\":{\"outlinewidth\":0,\"ticks\":\"\"}}}],\"histogram\":[{\"marker\":{\"pattern\":{\"fillmode\":\"overlay\",\"size\":10,\"solidity\":0.2}},\"type\":\"histogram\"}],\"scattergl\":[{\"type\":\"scattergl\",\"marker\":{\"colorbar\":{\"outlinewidth\":0,\"ticks\":\"\"}}}],\"scatter3d\":[{\"type\":\"scatter3d\",\"line\":{\"colorbar\":{\"outlinewidth\":0,\"ticks\":\"\"}},\"marker\":{\"colorbar\":{\"outlinewidth\":0,\"ticks\":\"\"}}}],\"scattermapbox\":[{\"type\":\"scattermapbox\",\"marker\":{\"colorbar\":{\"outlinewidth\":0,\"ticks\":\"\"}}}],\"scatterternary\":[{\"type\":\"scatterternary\",\"marker\":{\"colorbar\":{\"outlinewidth\":0,\"ticks\":\"\"}}}],\"scattercarpet\":[{\"type\":\"scattercarpet\",\"marker\":{\"colorbar\":{\"outlinewidth\":0,\"ticks\":\"\"}}}],\"carpet\":[{\"aaxis\":{\"endlinecolor\":\"#2a3f5f\",\"gridcolor\":\"white\",\"linecolor\":\"white\",\"minorgridcolor\":\"white\",\"startlinecolor\":\"#2a3f5f\"},\"baxis\":{\"endlinecolor\":\"#2a3f5f\",\"gridcolor\":\"white\",\"linecolor\":\"white\",\"minorgridcolor\":\"white\",\"startlinecolor\":\"#2a3f5f\"},\"type\":\"carpet\"}],\"table\":[{\"cells\":{\"fill\":{\"color\":\"#EBF0F8\"},\"line\":{\"color\":\"white\"}},\"header\":{\"fill\":{\"color\":\"#C8D4E3\"},\"line\":{\"color\":\"white\"}},\"type\":\"table\"}],\"barpolar\":[{\"marker\":{\"line\":{\"color\":\"#E5ECF6\",\"width\":0.5},\"pattern\":{\"fillmode\":\"overlay\",\"size\":10,\"solidity\":0.2}},\"type\":\"barpolar\"}],\"pie\":[{\"automargin\":true,\"type\":\"pie\"}]},\"layout\":{\"autotypenumbers\":\"strict\",\"colorway\":[\"#636efa\",\"#EF553B\",\"#00cc96\",\"#ab63fa\",\"#FFA15A\",\"#19d3f3\",\"#FF6692\",\"#B6E880\",\"#FF97FF\",\"#FECB52\"],\"font\":{\"color\":\"#2a3f5f\"},\"hovermode\":\"closest\",\"hoverlabel\":{\"align\":\"left\"},\"paper_bgcolor\":\"white\",\"plot_bgcolor\":\"#E5ECF6\",\"polar\":{\"bgcolor\":\"#E5ECF6\",\"angularaxis\":{\"gridcolor\":\"white\",\"linecolor\":\"white\",\"ticks\":\"\"},\"radialaxis\":{\"gridcolor\":\"white\",\"linecolor\":\"white\",\"ticks\":\"\"}},\"ternary\":{\"bgcolor\":\"#E5ECF6\",\"aaxis\":{\"gridcolor\":\"white\",\"linecolor\":\"white\",\"ticks\":\"\"},\"baxis\":{\"gridcolor\":\"white\",\"linecolor\":\"white\",\"ticks\":\"\"},\"caxis\":{\"gridcolor\":\"white\",\"linecolor\":\"white\",\"ticks\":\"\"}},\"coloraxis\":{\"colorbar\":{\"outlinewidth\":0,\"ticks\":\"\"}},\"colorscale\":{\"sequential\":[[0.0,\"#0d0887\"],[0.1111111111111111,\"#46039f\"],[0.2222222222222222,\"#7201a8\"],[0.3333333333333333,\"#9c179e\"],[0.4444444444444444,\"#bd3786\"],[0.5555555555555556,\"#d8576b\"],[0.6666666666666666,\"#ed7953\"],[0.7777777777777778,\"#fb9f3a\"],[0.8888888888888888,\"#fdca26\"],[1.0,\"#f0f921\"]],\"sequentialminus\":[[0.0,\"#0d0887\"],[0.1111111111111111,\"#46039f\"],[0.2222222222222222,\"#7201a8\"],[0.3333333333333333,\"#9c179e\"],[0.4444444444444444,\"#bd3786\"],[0.5555555555555556,\"#d8576b\"],[0.6666666666666666,\"#ed7953\"],[0.7777777777777778,\"#fb9f3a\"],[0.8888888888888888,\"#fdca26\"],[1.0,\"#f0f921\"]],\"diverging\":[[0,\"#8e0152\"],[0.1,\"#c51b7d\"],[0.2,\"#de77ae\"],[0.3,\"#f1b6da\"],[0.4,\"#fde0ef\"],[0.5,\"#f7f7f7\"],[0.6,\"#e6f5d0\"],[0.7,\"#b8e186\"],[0.8,\"#7fbc41\"],[0.9,\"#4d9221\"],[1,\"#276419\"]]},\"xaxis\":{\"gridcolor\":\"white\",\"linecolor\":\"white\",\"ticks\":\"\",\"title\":{\"standoff\":15},\"zerolinecolor\":\"white\",\"automargin\":true,\"zerolinewidth\":2},\"yaxis\":{\"gridcolor\":\"white\",\"linecolor\":\"white\",\"ticks\":\"\",\"title\":{\"standoff\":15},\"zerolinecolor\":\"white\",\"automargin\":true,\"zerolinewidth\":2},\"scene\":{\"xaxis\":{\"backgroundcolor\":\"#E5ECF6\",\"gridcolor\":\"white\",\"linecolor\":\"white\",\"showbackground\":true,\"ticks\":\"\",\"zerolinecolor\":\"white\",\"gridwidth\":2},\"yaxis\":{\"backgroundcolor\":\"#E5ECF6\",\"gridcolor\":\"white\",\"linecolor\":\"white\",\"showbackground\":true,\"ticks\":\"\",\"zerolinecolor\":\"white\",\"gridwidth\":2},\"zaxis\":{\"backgroundcolor\":\"#E5ECF6\",\"gridcolor\":\"white\",\"linecolor\":\"white\",\"showbackground\":true,\"ticks\":\"\",\"zerolinecolor\":\"white\",\"gridwidth\":2}},\"shapedefaults\":{\"line\":{\"color\":\"#2a3f5f\"}},\"annotationdefaults\":{\"arrowcolor\":\"#2a3f5f\",\"arrowhead\":0,\"arrowwidth\":1},\"geo\":{\"bgcolor\":\"white\",\"landcolor\":\"#E5ECF6\",\"subunitcolor\":\"white\",\"showland\":true,\"showlakes\":true,\"lakecolor\":\"white\"},\"title\":{\"x\":0.05},\"mapbox\":{\"style\":\"light\"}}},\"title\":{\"text\":\"Data with categorical\"},\"xaxis\":{\"title\":{\"text\":\"iteration\"}},\"yaxis\":{\"title\":{\"text\":\"loss\"}}},                        {\"responsive\": true}                    ).then(function(){\n",
              "                            \n",
              "var gd = document.getElementById('a42165f1-20d6-41b5-86bd-e071ca043921');\n",
              "var x = new MutationObserver(function (mutations, observer) {{\n",
              "        var display = window.getComputedStyle(gd).display;\n",
              "        if (!display || display === 'none') {{\n",
              "            console.log([gd, 'removed!']);\n",
              "            Plotly.purge(gd);\n",
              "            observer.disconnect();\n",
              "        }}\n",
              "}});\n",
              "\n",
              "// Listen for the removal of the full notebook cells\n",
              "var notebookContainer = gd.closest('#notebook-container');\n",
              "if (notebookContainer) {{\n",
              "    x.observe(notebookContainer, {childList: true});\n",
              "}}\n",
              "\n",
              "// Listen for the clearing of the current output cell\n",
              "var outputEl = gd.closest('.output');\n",
              "if (outputEl) {{\n",
              "    x.observe(outputEl, {childList: true});\n",
              "}}\n",
              "\n",
              "                        })                };                            </script>        </div>\n",
              "</body>\n",
              "</html>"
            ]
          },
          "metadata": {}
        }
      ],
      "source": [
        "import plotly.graph_objects as go\n",
        "\n",
        "full_gd_loss_iter = go.Scatter(x=np.arange(1, 1001, 1), y=loss_gd_cat, name='Full GD')\n",
        "sgd_loss_iter = go.Scatter(x=np.arange(1, 1001, 1), y=loss_sgd_cat, name='SGD')\n",
        "momentum_loss_iter = go.Scatter(x=np.arange(1, 1001, 1), y=loss_momentum_cat, name='Momentum')\n",
        "adagrad_loss_iter = go.Scatter(x=np.arange(1, 1001, 1), y=loss_adagraf_cat, name='Adagrad')\n",
        "\n",
        "fig = go.Figure(data=[full_gd_loss_iter, sgd_loss_iter, momentum_loss_iter, adagrad_loss_iter])\n",
        "fig.update_layout(title='Data with categorical',\n",
        "                 xaxis=dict(title=\"iteration\"),\n",
        "                yaxis=dict(title=\"loss\")\n",
        ")\n",
        "fig.show()"
      ]
    },
    {
      "cell_type": "code",
      "source": [
        "import plotly.graph_objects as go\n",
        "\n",
        "full_gd_loss_iter = go.Scatter(x=np.arange(1, 1001, 1), y=loss_gd, name='Full GD')\n",
        "sgd_loss_iter = go.Scatter(x=np.arange(1, 1001, 1), y=loss_sgd, name='SGD')\n",
        "momentum_loss_iter = go.Scatter(x=np.arange(1, 1001, 1), y=loss_momentum, name='Momentum')\n",
        "adagrad_loss_iter = go.Scatter(x=np.arange(1, 1001, 1), y=loss_adagrad, name='Adagrad')\n",
        "\n",
        "fig = go.Figure(data=[full_gd_loss_iter, sgd_loss_iter, momentum_loss_iter, adagrad_loss_iter])\n",
        "fig.update_layout(title='Data with no categorical',\n",
        "                 xaxis=dict(title=\"iteration\"),\n",
        "                yaxis=dict(title=\"loss\")\n",
        ")\n",
        "fig.show()"
      ],
      "metadata": {
        "colab": {
          "base_uri": "https://localhost:8080/",
          "height": 542
        },
        "id": "58lWuTUSNhCI",
        "outputId": "a0bfd617-1480-4020-f08d-962bd5810725"
      },
      "execution_count": 70,
      "outputs": [
        {
          "output_type": "display_data",
          "data": {
            "text/html": [
              "<html>\n",
              "<head><meta charset=\"utf-8\" /></head>\n",
              "<body>\n",
              "    <div>            <script src=\"https://cdnjs.cloudflare.com/ajax/libs/mathjax/2.7.5/MathJax.js?config=TeX-AMS-MML_SVG\"></script><script type=\"text/javascript\">if (window.MathJax && window.MathJax.Hub && window.MathJax.Hub.Config) {window.MathJax.Hub.Config({SVG: {font: \"STIX-Web\"}});}</script>                <script type=\"text/javascript\">window.PlotlyConfig = {MathJaxConfig: 'local'};</script>\n",
              "        <script charset=\"utf-8\" src=\"https://cdn.plot.ly/plotly-2.24.1.min.js\"></script>                <div id=\"39ec5b9d-b6ff-48c0-a39a-b3d93fd3c7f3\" class=\"plotly-graph-div\" style=\"height:525px; width:100%;\"></div>            <script type=\"text/javascript\">                                    window.PLOTLYENV=window.PLOTLYENV || {};                                    if (document.getElementById(\"39ec5b9d-b6ff-48c0-a39a-b3d93fd3c7f3\")) {                    Plotly.newPlot(                        \"39ec5b9d-b6ff-48c0-a39a-b3d93fd3c7f3\",                        [{\"name\":\"Full GD\",\"x\":[1,2,3,4,5,6,7,8,9,10,11,12,13,14,15,16,17,18,19,20,21,22,23,24,25,26,27,28,29,30,31,32,33,34,35,36,37,38,39,40,41,42,43,44,45,46,47,48,49,50,51,52,53,54,55,56,57,58,59,60,61,62,63,64,65,66,67,68,69,70,71,72,73,74,75,76,77,78,79,80,81,82,83,84,85,86,87,88,89,90,91,92,93,94,95,96,97,98,99,100,101,102,103,104,105,106,107,108,109,110,111,112,113,114,115,116,117,118,119,120,121,122,123,124,125,126,127,128,129,130,131,132,133,134,135,136,137,138,139,140,141,142,143,144,145,146,147,148,149,150,151,152,153,154,155,156,157,158,159,160,161,162,163,164,165,166,167,168,169,170,171,172,173,174,175,176,177,178,179,180,181,182,183,184,185,186,187,188,189,190,191,192,193,194,195,196,197,198,199,200,201,202,203,204,205,206,207,208,209,210,211,212,213,214,215,216,217,218,219,220,221,222,223,224,225,226,227,228,229,230,231,232,233,234,235,236,237,238,239,240,241,242,243,244,245,246,247,248,249,250,251,252,253,254,255,256,257,258,259,260,261,262,263,264,265,266,267,268,269,270,271,272,273,274,275,276,277,278,279,280,281,282,283,284,285,286,287,288,289,290,291,292,293,294,295,296,297,298,299,300,301,302,303,304,305,306,307,308,309,310,311,312,313,314,315,316,317,318,319,320,321,322,323,324,325,326,327,328,329,330,331,332,333,334,335,336,337,338,339,340,341,342,343,344,345,346,347,348,349,350,351,352,353,354,355,356,357,358,359,360,361,362,363,364,365,366,367,368,369,370,371,372,373,374,375,376,377,378,379,380,381,382,383,384,385,386,387,388,389,390,391,392,393,394,395,396,397,398,399,400,401,402,403,404,405,406,407,408,409,410,411,412,413,414,415,416,417,418,419,420,421,422,423,424,425,426,427,428,429,430,431,432,433,434,435,436,437,438,439,440,441,442,443,444,445,446,447,448,449,450,451,452,453,454,455,456,457,458,459,460,461,462,463,464,465,466,467,468,469,470,471,472,473,474,475,476,477,478,479,480,481,482,483,484,485,486,487,488,489,490,491,492,493,494,495,496,497,498,499,500,501,502,503,504,505,506,507,508,509,510,511,512,513,514,515,516,517,518,519,520,521,522,523,524,525,526,527,528,529,530,531,532,533,534,535,536,537,538,539,540,541,542,543,544,545,546,547,548,549,550,551,552,553,554,555,556,557,558,559,560,561,562,563,564,565,566,567,568,569,570,571,572,573,574,575,576,577,578,579,580,581,582,583,584,585,586,587,588,589,590,591,592,593,594,595,596,597,598,599,600,601,602,603,604,605,606,607,608,609,610,611,612,613,614,615,616,617,618,619,620,621,622,623,624,625,626,627,628,629,630,631,632,633,634,635,636,637,638,639,640,641,642,643,644,645,646,647,648,649,650,651,652,653,654,655,656,657,658,659,660,661,662,663,664,665,666,667,668,669,670,671,672,673,674,675,676,677,678,679,680,681,682,683,684,685,686,687,688,689,690,691,692,693,694,695,696,697,698,699,700,701,702,703,704,705,706,707,708,709,710,711,712,713,714,715,716,717,718,719,720,721,722,723,724,725,726,727,728,729,730,731,732,733,734,735,736,737,738,739,740,741,742,743,744,745,746,747,748,749,750,751,752,753,754,755,756,757,758,759,760,761,762,763,764,765,766,767,768,769,770,771,772,773,774,775,776,777,778,779,780,781,782,783,784,785,786,787,788,789,790,791,792,793,794,795,796,797,798,799,800,801,802,803,804,805,806,807,808,809,810,811,812,813,814,815,816,817,818,819,820,821,822,823,824,825,826,827,828,829,830,831,832,833,834,835,836,837,838,839,840,841,842,843,844,845,846,847,848,849,850,851,852,853,854,855,856,857,858,859,860,861,862,863,864,865,866,867,868,869,870,871,872,873,874,875,876,877,878,879,880,881,882,883,884,885,886,887,888,889,890,891,892,893,894,895,896,897,898,899,900,901,902,903,904,905,906,907,908,909,910,911,912,913,914,915,916,917,918,919,920,921,922,923,924,925,926,927,928,929,930,931,932,933,934,935,936,937,938,939,940,941,942,943,944,945,946,947,948,949,950,951,952,953,954,955,956,957,958,959,960,961,962,963,964,965,966,967,968,969,970,971,972,973,974,975,976,977,978,979,980,981,982,983,984,985,986,987,988,989,990,991,992,993,994,995,996,997,998,999,1000],\"y\":[11.310221567892,10.666713616635603,10.073860597349931,9.51730494053464,8.997267830905066,8.514215813099218,8.059946648190907,7.6381607659191495,7.245204223541103,6.875589595061953,6.531887200636561,6.204517097636654,5.902728272635011,5.61820429959663,5.355080016106336,5.104348998143402,4.867397679240225,4.646568911565061,4.438804759229824,4.244472760978837,4.060040366659502,3.886770532039316,3.7229995451369637,3.569627257181184,3.42556429905668,3.2890372021578647,3.158923884036762,3.035068752940494,2.919285117109758,2.8079513338547426,2.7035526391490396,2.6033294949121686,2.509208184507594,2.4204781338774373,2.3363555034361996,2.2555845672385892,2.178479699193594,2.1045005877612404,2.0355156268012258,1.968131341894758,1.905276305873514,1.8441800900455525,1.786461427579143,1.7313481833777442,1.6783424515472112,1.6278897886859935,1.579348676395626,1.532346916609702,1.4885991059243178,1.44653230783761,1.405965166552364,1.367317374322956,1.3302308955273647,1.2939403906148355,1.2597299236756643,1.2265684980744047,1.1946453755787303,1.163705795005874,1.13458035061263,1.1061511264553496,1.078676513941222,1.05223366973841,1.0268574312497216,1.0024085406166667,0.9787506650565269,0.9557548589008623,0.9336318356536122,0.9122460213173283,0.8918534585860798,0.871833726877648,0.8526526386170199,0.8338146950913577,0.8156320110954024,0.7981366653480894,0.7812501164583138,0.7648143708853016,0.7487402368533977,0.7333019684728892,0.7182647342937544,0.7038095975589733,0.6895572322856239,0.6760750010266093,0.6627928816287828,0.649840289681748,0.6371499123293486,0.62493053810448,0.6130981482573381,0.6015397975988992,0.5901686755144988,0.5792194225516665,0.568733723040879,0.5583754734344376,0.5483370811957227,0.5385226521151225,0.5289510852118656,0.5196060259343803,0.5105186226584595,0.5016068050445791,0.49295736983212435,0.48443653307784856,0.47614474691554914,0.4681256360860093,0.46032635831751056,0.45263351465332735,0.44508654673229187,0.43775726898244066,0.4305594053147024,0.4235191871617627,0.416633706950717,0.40995605249202094,0.40337931452220166,0.39695450087735185,0.39061577018468013,0.3844579769950075,0.37844011653404275,0.3725610037660909,0.3668105785861256,0.36119820699324084,0.3556368580267738,0.35021820871490444,0.34490874504364294,0.33971306778345783,0.3345804608863905,0.32954895924055,0.3246675340231528,0.31982251866223427,0.3150861208679337,0.3104644771711382,0.3059487522708039,0.3014336254837287,0.2970333357861966,0.29270762644208836,0.2884984415105793,0.28435002809279447,0.28028325850480107,0.27627632273752223,0.2723470782226923,0.26852003111564393,0.264773199135827,0.2610745136566848,0.2574433850016214,0.25391425645427773,0.25039980375074095,0.2469520159191443,0.243561596891015,0.24020953165155537,0.2369301734141361,0.2337080491637468,0.230520422699465,0.2273759516092964,0.2243005039359527,0.22127535119749955,0.21832964191919413,0.21542464156228158,0.21253753297989972,0.20971175291960537,0.20692320455691204,0.20421030862214712,0.2015314643067591,0.19888977348930242,0.19628783469059213,0.1937454129044609,0.19122316068252754,0.18877445444328816,0.1863354881981636,0.18391700051166132,0.18155693019033178,0.1792253268105659,0.17694492164575565,0.17469796067790164,0.17246904448862777,0.17030528008277832,0.16815584363966468,0.16605676187656504,0.1639601780415145,0.1619125757480147,0.15989750389020516,0.15787968908073083,0.15592546082737443,0.15399278572241282,0.15210833953119887,0.15022436850539242,0.148373670900809,0.14655275985794444,0.14477761609331377,0.14301127088009283,0.14127910763357998,0.13959944133514854,0.1379455041180171,0.13631217396784784,0.1346914184833543,0.13310262180035046,0.13151868456834098,0.12995287504753936,0.12842109418155337,0.12693940308865903,0.12546268638240954,0.12399005320019317,0.12255121998238266,0.12112711418309918,0.11972477460583632,0.11832368533321028,0.11696064839367074,0.11560645406143548,0.11428370382864068,0.11301615868266562,0.11172955894081738,0.11045788434795134,0.10920720466651429,0.10798402893532688,0.10674544429491054,0.10555081264367927,0.10437283311752005,0.103209716287304,0.10206848835394824,0.10093450954601188,0.09981615712850544,0.09872445479459162,0.09765004372436714,0.09658811877005948,0.09554956167117121,0.09450988259000638,0.09348218123549755,0.09247929370983862,0.09149298669945649,0.09050856022550131,0.089540004796646,0.08858636613973556,0.08765547823723567,0.08672323250038202,0.08580045018844831,0.08490750176587669,0.08401468127891444,0.0831375096941967,0.08227707728281518,0.08143353158248282,0.08059842376792539,0.0797710250162776,0.07894214365631458,0.07813910781409586,0.07733610601851193,0.07655112763347324,0.07576896264375807,0.0750109684717388,0.07427094377015092,0.07353924521601236,0.07281208350010103,0.07209209176938536,0.07137809363549703,0.07066939321947291,0.06998323047845478,0.06929405086395403,0.06863170769099516,0.0679723410301049,0.06731790830503502,0.06666662564105443,0.06603424411404825,0.0654008748090596,0.06478548459432842,0.06417828728345362,0.06357430789583216,0.06298524575680986,0.06239878983788932,0.06182674839223969,0.06125812821400267,0.06070345658039506,0.06015099092678957,0.059609460302582504,0.05907073077580149,0.058537312289182276,0.05801806959189958,0.05749853240669325,0.05698903701691812,0.05647803991459815,0.05597619863334818,0.055483726941963275,0.05500334911138868,0.05452502529436574,0.05405844075761744,0.05359350310200165,0.053141026397392564,0.052693197554267546,0.05224627086320401,0.051809325199058245,0.051383013078508975,0.050961116145946055,0.05053117366480073,0.050115012198251145,0.049703111093869566,0.04929946936959566,0.04890054447544916,0.04850513868086715,0.04811858455835271,0.04773762127631686,0.047360898263171955,0.04698475751056261,0.046615553846154706,0.04624738523261916,0.04589248715225702,0.04554191986094771,0.0451925573454254,0.04485104850953779,0.04450969367553313,0.04417329057703544,0.04384282697883147,0.04351511912939806,0.0431916596964929,0.04287523002027425,0.0425681795175522,0.04226191680105253,0.04195741831327861,0.04166281911105068,0.04136438703501897,0.04107513612590854,0.040786240881457214,0.04050245574681534,0.04022545566113006,0.03994961651002188,0.03967272268814431,0.039405415045912835,0.03913992278961815,0.038877879372176426,0.0386211256758084,0.038361915346618015,0.03810848612640846,0.03786136554679624,0.0376192372556127,0.03737581768117816,0.037139135615741156,0.03690359734465024,0.03667328910461417,0.0364443106502085,0.03621955209652637,0.035997721634429665,0.03577711792732258,0.03555959816626677,0.03534672565405762,0.03513198621651377,0.0349210616206688,0.03471571985446623,0.03451254847983038,0.03431287487525908,0.034113613413121746,0.03391891990835558,0.03372450029835631,0.0335352177788415,0.03334425120174193,0.033160402551025495,0.03297821071077679,0.032799381142613715,0.03261817111374896,0.03244565823410062,0.03226996304978313,0.03210090783958122,0.03193470364793804,0.03176882190079523,0.03160621301940108,0.03144339979222558,0.031282454416070644,0.031125859787605743,0.0309715307518052,0.030819287256608135,0.030668320303749455,0.03051918644688727,0.03037427790630385,0.030229315061160247,0.03008949398323714,0.02994854594353779,0.029808684588325814,0.02967063929256484,0.029533154069079734,0.029398394068544633,0.029266255705616275,0.029136706399695428,0.029008114227273257,0.028881914338262347,0.028754248486059647,0.028632375429120675,0.02851208014945305,0.028391859110550585,0.028274070813935667,0.028156222556547206,0.028040480233169282,0.027927239066373618,0.027817760228494026,0.027706364204336472,0.027593399949919786,0.02748601625618027,0.027378162014283502,0.027272388108511465,0.027168457912193772,0.027065159909219476,0.026962412680436837,0.0268615776839574,0.02676007995648325,0.02666359878308247,0.026567296045299487,0.0264735046704385,0.026379507030005037,0.02628902143649573,0.026197937364588256,0.02610890727345922,0.026019154677403015,0.025932197881744314,0.025845562480904846,0.025758515509052032,0.025674270919397852,0.02559113792793637,0.02551044462848871,0.025429125336863385,0.025348784793516498,0.02526966753891924,0.02519149024898391,0.025115273359206006,0.02504035224453,0.024965815286444225,0.024893274662650622,0.02482118730248255,0.024750642118063278,0.024679691611359498,0.024608469677123036,0.02453923724487931,0.024469900710655468,0.024403001123722876,0.024336047531886534,0.02426988405980241,0.024206009474118325,0.02414194083205427,0.024077542814250168,0.024015281726727088,0.023953800833699218,0.023892494592656445,0.023832811686766785,0.023774489571580674,0.02371714345281769,0.023659183054406646,0.023602569520176787,0.023547167875846625,0.023491786930231955,0.023437412344937895,0.02338245153866255,0.023329302685738355,0.023277403869746784,0.023224824856278244,0.023173931161087246,0.023123840044811557,0.023074348732190407,0.023026024741040402,0.02297751332387061,0.02292916463104197,0.022881605321536255,0.022834689160434858,0.022789626805448097,0.022744583758209466,0.02269957970230952,0.02265574844893886,0.022612392026850812,0.022569708938141003,0.02252801906802806,0.022485761112005682,0.022444502242676252,0.02240376971294332,0.02236357964252341,0.022323100321288498,0.022284284192774288,0.022245496650089302,0.022206857837843784,0.02217023754068564,0.022132412984556267,0.022094415657711704,0.022056842639462646,0.022021618869594008,0.021986268748313265,0.021951834112743887,0.02191740856487502,0.02188386657477675,0.021849956972126897,0.02181653018126427,0.021784094663153886,0.0217519030191735,0.02172012295552179,0.021688798424432956,0.02165844785160237,0.021628059952447373,0.021597466736758796,0.02156699817982394,0.021538291359470118,0.021509086173268493,0.02148084953931958,0.021453921070988074,0.02142623344227354,0.02139964216082208,0.02137324011035236,0.021346653563206704,0.02132013759850271,0.021294293393383484,0.021267860728524397,0.021242267508884256,0.021216999310352723,0.0211921731258819,0.021167416228872173,0.02114260917356369,0.021118566394335403,0.02109499508919905,0.021071700403176408,0.02104896135347828,0.0210258949067265,0.021003638983501095,0.020981505823952043,0.02095980531758,0.020938322415886897,0.020917155597349333,0.020896245192249707,0.020875820850540395,0.020855070519187988,0.020835520262525876,0.020815853493827623,0.02079543622745049,0.020775827186281383,0.02075719373564689,0.020737918855063597,0.020719315493467352,0.020701114011062522,0.02068378572525651,0.02066582671827887,0.020647641424819323,0.020630719059156345,0.020613915455442965,0.020597106339808942,0.020580592120256418,0.020564299516733033,0.02054850487206058,0.020532625705113758,0.02051732662329261,0.020501660054226153,0.020486330058866645,0.020471174976397617,0.02045636545895934,0.020441834401943915,0.02042719173422497,0.020412856026656104,0.02039872427675017,0.02038437406619837,0.020370597882142287,0.020357394554267383,0.02034394628508193,0.02033114414499417,0.020317959007378143,0.02030533888130484,0.020292401249582266,0.020280237975604517,0.02026781313877627,0.020255295831181474,0.020243148757079214,0.020231133925920824,0.020219244663901445,0.020207590063826726,0.02019575225327319,0.02018482017366278,0.020173612470587552,0.020162312406148804,0.020151606406451666,0.020140954883401785,0.020130156678507004,0.020119649108752878,0.020109085181990536,0.020098868455136094,0.02008880052570674,0.020078433984592334,0.02006847702093747,0.020058413218685418,0.02004892138576247,0.020039819473496853,0.020030570955296624,0.020021096695399726,0.0200118834662107,0.020003393821141694,0.019994227796385072,0.019985259776808463,0.019976666223503286,0.01996828360886454,0.019960233224677163,0.019951576235193412,0.019943494199487374,0.019935584028200202,0.01992761320819031,0.019919541984149032,0.019911613230885316,0.019903942387132625,0.01989607385453373,0.019889024518459315,0.01988188068558928,0.01987470463202605,0.019867412315949864,0.01986019602704348,0.019852982334548033,0.019845927182911637,0.019839127702794463,0.019832390480333455,0.019825402497466976,0.01981887057877403,0.01981295495540089,0.019806502646225303,0.01980024938189504,0.019793964953089722,0.019787822345627017,0.019782039213211047,0.019775931160995228,0.01976988665820546,0.019764303926884885,0.019758373100819255,0.019752447906037807,0.01974665719041737,0.019741095414235542,0.019735977424325965,0.019730372780341104,0.01972486945265841,0.019719813712731106,0.019714649712058534,0.0197095296619048,0.01970496150207673,0.019699906826326,0.019695021457868205,0.01969027337894605,0.019685173258240967,0.019680886572620827,0.019676458844549494,0.019671884539434397,0.019667612709252616,0.019663290220373223,0.01965891962826732,0.019654692231942782,0.019650586191457004,0.01964652882097652,0.019642231287315737,0.019637999064937833,0.019634010933568674,0.019629842481910076,0.01962578560458037,0.019622096860739322,0.0196183313177784,0.01961453407863422,0.01961090984009611,0.019607099896691994,0.019603361909420414,0.019599670500911357,0.01959634739941297,0.019592936979445936,0.019589546078392184,0.019585931225435723,0.01958251803462159,0.01957920622593689,0.019575784345812784,0.01957242119220135,0.019569428086328694,0.019566159122909398,0.01956303838148824,0.01955994355392531,0.019556760338616086,0.01955385022053296,0.019550818829827895,0.01954791734938635,0.01954506137784489,0.01954222042499886,0.019539339742322307,0.019536383113485527,0.01953370557187191,0.01953100445787818,0.01952835602873598,0.019525607589912692,0.01952286982459528],\"type\":\"scatter\"},{\"name\":\"SGD\",\"x\":[1,2,3,4,5,6,7,8,9,10,11,12,13,14,15,16,17,18,19,20,21,22,23,24,25,26,27,28,29,30,31,32,33,34,35,36,37,38,39,40,41,42,43,44,45,46,47,48,49,50,51,52,53,54,55,56,57,58,59,60,61,62,63,64,65,66,67,68,69,70,71,72,73,74,75,76,77,78,79,80,81,82,83,84,85,86,87,88,89,90,91,92,93,94,95,96,97,98,99,100,101,102,103,104,105,106,107,108,109,110,111,112,113,114,115,116,117,118,119,120,121,122,123,124,125,126,127,128,129,130,131,132,133,134,135,136,137,138,139,140,141,142,143,144,145,146,147,148,149,150,151,152,153,154,155,156,157,158,159,160,161,162,163,164,165,166,167,168,169,170,171,172,173,174,175,176,177,178,179,180,181,182,183,184,185,186,187,188,189,190,191,192,193,194,195,196,197,198,199,200,201,202,203,204,205,206,207,208,209,210,211,212,213,214,215,216,217,218,219,220,221,222,223,224,225,226,227,228,229,230,231,232,233,234,235,236,237,238,239,240,241,242,243,244,245,246,247,248,249,250,251,252,253,254,255,256,257,258,259,260,261,262,263,264,265,266,267,268,269,270,271,272,273,274,275,276,277,278,279,280,281,282,283,284,285,286,287,288,289,290,291,292,293,294,295,296,297,298,299,300,301,302,303,304,305,306,307,308,309,310,311,312,313,314,315,316,317,318,319,320,321,322,323,324,325,326,327,328,329,330,331,332,333,334,335,336,337,338,339,340,341,342,343,344,345,346,347,348,349,350,351,352,353,354,355,356,357,358,359,360,361,362,363,364,365,366,367,368,369,370,371,372,373,374,375,376,377,378,379,380,381,382,383,384,385,386,387,388,389,390,391,392,393,394,395,396,397,398,399,400,401,402,403,404,405,406,407,408,409,410,411,412,413,414,415,416,417,418,419,420,421,422,423,424,425,426,427,428,429,430,431,432,433,434,435,436,437,438,439,440,441,442,443,444,445,446,447,448,449,450,451,452,453,454,455,456,457,458,459,460,461,462,463,464,465,466,467,468,469,470,471,472,473,474,475,476,477,478,479,480,481,482,483,484,485,486,487,488,489,490,491,492,493,494,495,496,497,498,499,500,501,502,503,504,505,506,507,508,509,510,511,512,513,514,515,516,517,518,519,520,521,522,523,524,525,526,527,528,529,530,531,532,533,534,535,536,537,538,539,540,541,542,543,544,545,546,547,548,549,550,551,552,553,554,555,556,557,558,559,560,561,562,563,564,565,566,567,568,569,570,571,572,573,574,575,576,577,578,579,580,581,582,583,584,585,586,587,588,589,590,591,592,593,594,595,596,597,598,599,600,601,602,603,604,605,606,607,608,609,610,611,612,613,614,615,616,617,618,619,620,621,622,623,624,625,626,627,628,629,630,631,632,633,634,635,636,637,638,639,640,641,642,643,644,645,646,647,648,649,650,651,652,653,654,655,656,657,658,659,660,661,662,663,664,665,666,667,668,669,670,671,672,673,674,675,676,677,678,679,680,681,682,683,684,685,686,687,688,689,690,691,692,693,694,695,696,697,698,699,700,701,702,703,704,705,706,707,708,709,710,711,712,713,714,715,716,717,718,719,720,721,722,723,724,725,726,727,728,729,730,731,732,733,734,735,736,737,738,739,740,741,742,743,744,745,746,747,748,749,750,751,752,753,754,755,756,757,758,759,760,761,762,763,764,765,766,767,768,769,770,771,772,773,774,775,776,777,778,779,780,781,782,783,784,785,786,787,788,789,790,791,792,793,794,795,796,797,798,799,800,801,802,803,804,805,806,807,808,809,810,811,812,813,814,815,816,817,818,819,820,821,822,823,824,825,826,827,828,829,830,831,832,833,834,835,836,837,838,839,840,841,842,843,844,845,846,847,848,849,850,851,852,853,854,855,856,857,858,859,860,861,862,863,864,865,866,867,868,869,870,871,872,873,874,875,876,877,878,879,880,881,882,883,884,885,886,887,888,889,890,891,892,893,894,895,896,897,898,899,900,901,902,903,904,905,906,907,908,909,910,911,912,913,914,915,916,917,918,919,920,921,922,923,924,925,926,927,928,929,930,931,932,933,934,935,936,937,938,939,940,941,942,943,944,945,946,947,948,949,950,951,952,953,954,955,956,957,958,959,960,961,962,963,964,965,966,967,968,969,970,971,972,973,974,975,976,977,978,979,980,981,982,983,984,985,986,987,988,989,990,991,992,993,994,995,996,997,998,999,1000],\"y\":[12.306169496547572,11.68738746800036,11.100503319429613,10.551397195804766,10.028904056647264,9.542891228324605,9.082039265757729,8.649311249968722,8.238664089136167,7.852198969099992,7.487819226875161,7.1416553845883755,6.818833994846067,6.511270459465004,6.218375958710058,5.942558941821762,5.680115104507044,5.429739879767296,5.193268085520952,4.969339840851778,4.754081769391383,4.5502844879729905,4.356507130986226,4.173203993800428,3.999829392765598,3.8328089321669285,3.675779176141324,3.5255826678045885,3.3820078118141073,3.2454405017234222,3.114008993595247,2.9888291503924904,2.8684184894470968,2.7543499541958787,2.646003556208021,2.5422903279865063,2.44273958133319,2.3482302229786356,2.257536940612706,2.170652858868161,2.087971784025952,2.00865361352189,1.9325167067005207,1.8590766221208421,1.7887805389943758,1.7219057682839718,1.6575496926018698,1.5959506343975027,1.5369665169323152,1.4800111706660866,1.4257262399913606,1.3735807674844767,1.322994010887942,1.2749287096968962,1.2286392081881923,1.183990857000762,1.1414422679341587,1.1004637973019196,1.0609830513338594,1.0231528341446572,0.9870931955692691,0.9520726891613162,0.918446695871272,0.8862182878326517,0.8552522539594808,0.825452886807547,0.7969488640210337,0.769415811259867,0.74285506550348,0.7173569143316741,0.6927625133389375,0.6692393823901087,0.6464451342406957,0.6245742341250266,0.6036199541818659,0.5833556069663205,0.5638943714285429,0.5451560867896282,0.527026294992959,0.5096381855025941,0.49289590968995733,0.4767794313761869,0.46133884452121815,0.4463594676071242,0.4320493255281488,0.4182354094545359,0.4047850807543369,0.3918904751181705,0.37944792492019785,0.3674969232214539,0.3560141042316097,0.3449348670389218,0.3342494779481092,0.32394276466010474,0.31398369473179766,0.30437714510304376,0.2950998940815149,0.2861594527291971,0.27759316659267474,0.2692405506398706,0.2612235781994424,0.2535392577665372,0.2461507425850876,0.23896414116959275,0.23201596492469537,0.22533119630109252,0.21887157430397663,0.21261602008121513,0.20656858455946217,0.20074757844323474,0.19513304170324075,0.1897409101980453,0.1845007150348195,0.17941306679581648,0.17449980300657697,0.16974460066058297,0.16517028954342905,0.1607292857748049,0.15647454033094588,0.15235308990106616,0.14837132037272116,0.1445343671990826,0.14081905629125918,0.13725560575835055,0.13379436340289083,0.13046160197137005,0.1272263605162866,0.12408136099983745,0.12104067831422839,0.1181079179139022,0.11526947715629231,0.11250662326106549,0.10984798760542558,0.10728301714318478,0.10478651588543578,0.10238375577722478,0.1000687704776408,0.09780674947958554,0.09560897995889267,0.09350272121920114,0.09146148514514843,0.08949307300421898,0.08756430111485348,0.08570666123729301,0.0839119897543477,0.08216127368441296,0.08047737502173964,0.07881790165700328,0.0772263841679103,0.07567384486177685,0.07417946935413423,0.07273059531786276,0.07132747802976123,0.06997057378278243,0.06864746627037613,0.06736185863506167,0.06611638995606839,0.06490484408676454,0.0637329961133927,0.06259691004122157,0.0614924092606212,0.06042279026659694,0.05938460974058479,0.05837515325564429,0.05739968365812402,0.05644833775856101,0.0555257777442021,0.054629221082166994,0.053767830434800996,0.052914698848294014,0.0520927511143491,0.05129671498403798,0.05052461460275144,0.049771122320429996,0.04903348104001827,0.048317666384849335,0.047623625810138064,0.04694886002777109,0.0462946975022496,0.045658990546944396,0.045040845425471314,0.04443949514394105,0.04385174946646419,0.04327790730032981,0.04272657324209883,0.04218618899116368,0.041662738338082456,0.041140646281075624,0.04064026935914628,0.04015624270570337,0.03968375298145877,0.03921843496100817,0.03877060274437581,0.03833421883434564,0.03790861538117814,0.03749436628906001,0.03709286062667194,0.03669866651891987,0.0363146535501346,0.035937384960667,0.0355738543560406,0.03521942622203239,0.034871337774143786,0.03453285788695299,0.03420239439172508,0.033876052692197164,0.03355947584843969,0.03325184207229095,0.032951159503971324,0.032655637509676386,0.032376236211271045,0.032100502471386454,0.0318288201784674,0.031568366014378894,0.031311119157101996,0.03105915632361634,0.030813586778116322,0.030572875603692533,0.030340248559427026,0.030110474513383667,0.029889438241676426,0.0296682537577813,0.02945530109384452,0.02924664463524594,0.02904082711398103,0.02884210896552339,0.028648991482042478,0.02846003966499371,0.028275148420347455,0.02809355643005491,0.027917303474888334,0.02774406377691454,0.027574769616233365,0.027408316834879428,0.027244467865440897,0.027083788605234,0.02692824163911375,0.026776899850161927,0.02662951604971677,0.026483806024528874,0.02634280986499968,0.026204348950766423,0.02606896268041567,0.025938105244428165,0.02580686355258183,0.025679824745748724,0.02555658638008545,0.025435934567454223,0.025317626862589246,0.025199839836306744,0.025086340804074857,0.024974021914411417,0.024865060631629757,0.02475760757366869,0.024652722132576813,0.02454941572623824,0.02444988454750435,0.02435013972950351,0.024253179912008635,0.024158504626074405,0.024066342323882377,0.02397583863637359,0.023888772653288214,0.023802863166825568,0.023718655077447862,0.02363493427509087,0.023553269106733124,0.0234748674341941,0.023396526268389076,0.023318941527132903,0.02324465931142607,0.023171287741789143,0.023098212406065723,0.023028436570619978,0.022959310370265457,0.02289085117254081,0.02282460033330882,0.022758768509130316,0.02269414074438968,0.022630904986943482,0.022569027565868253,0.022509637893488043,0.022449482878984673,0.02239270507250115,0.022335895453338216,0.022280880026314898,0.022225737061276674,0.022171708189552206,0.02211939789347911,0.022068351508023443,0.022017915980696807,0.021968562602321953,0.021920577467684044,0.02187230558031277,0.02182584355630225,0.02178031385811908,0.02173611180277764,0.02169238247138071,0.02164966163472576,0.021607759052200703,0.02156587721629158,0.02152529871109292,0.021485318164490168,0.021445770833713722,0.021407733237699754,0.021369478458879668,0.021332662822708553,0.02129573551423015,0.021260816575429893,0.021226039271161616,0.021191981093477898,0.02115862661885038,0.021125654051250643,0.02109317009613572,0.021061507266601335,0.021030635831547954,0.021000070411976626,0.02096988071974295,0.02093989063786228,0.020910827376115167,0.0208819188902699,0.02085441121942124,0.020826571052148798,0.02079983079918837,0.020773225103916857,0.02074708720007913,0.020721842473258145,0.020697029351176878,0.020672825659597188,0.02064837020711841,0.02062461965095175,0.02060191588846691,0.020579638976355848,0.02055787381695701,0.020535913408988804,0.020514215053482922,0.02049260970724202,0.020471355490773207,0.020451701778629514,0.020431634074923172,0.020412245616925707,0.020393192943554024,0.02037466171371858,0.020356496070457062,0.020338257845262532,0.020320184598021165,0.020302588169775322,0.02028535408715034,0.02026835841331055,0.02025151401510404,0.020234834029209108,0.020218898360156938,0.020203262172540756,0.020187372723753698,0.02017198915041636,0.02015682239333117,0.020141804335101487,0.02012726437394586,0.020112942638688288,0.020099261819605068,0.02008586960172822,0.02007234628045542,0.02005851301260678,0.020045774601120177,0.020033392253367015,0.020020670249252925,0.0200087133906253,0.019996646272595016,0.019984950808076475,0.019973050502624358,0.019961737861969094,0.019950598415754816,0.019939399176203364,0.019928783897833594,0.01991797406928406,0.01990753627857833,0.01989775838752969,0.019887561566339834,0.019877411270544657,0.019867637291622994,0.019858168087004646,0.019848360918707668,0.019838985723792148,0.019829913980463326,0.019821202456425595,0.01981231988039448,0.019803668209481998,0.01979556952958501,0.019787333781072593,0.01977931136420092,0.01977157305673899,0.019763940684451968,0.01975618235996293,0.019748553140789462,0.019740910188056404,0.019733763479521518,0.01972660225603846,0.019719544350645046,0.01971246670009797,0.019705631345257185,0.019699101207428935,0.019692460611757334,0.019686212880808455,0.019679762567900567,0.019673426684784362,0.01966719601513206,0.01966111171232291,0.019655154016492076,0.019649488045989875,0.01964387743695859,0.01963822480249377,0.01963256510925149,0.019627170612718695,0.019621923870619066,0.019616498851338197,0.019611514400333974,0.019606398106226497,0.01960151016211003,0.019596707012896928,0.0195920141319225,0.019587285248685374,0.01958257359560019,0.019578224084952696,0.019573887145108798,0.019569522703618045,0.019565423946181947,0.019561361232790547,0.01955718653063807,0.01955328561039675,0.019549281798584534,0.019545316580159566,0.01954138215577362,0.019537663070674352,0.019534007838750173,0.01953025384967678,0.019526841730976408,0.0195232936053446,0.019519715568407238,0.01951646723264295,0.01951292026439945,0.01950973952772617,0.01950652028229055,0.01950349076837004,0.019500440897823358,0.019497576538699282,0.019494567358849614,0.01949164112581203,0.01948869334040326,0.01948590511887799,0.0194829462517473,0.019480035755470998,0.019477342350528434,0.019474637439767305,0.01947218606862691],\"type\":\"scatter\"},{\"name\":\"Momentum\",\"x\":[1,2,3,4,5,6,7,8,9,10,11,12,13,14,15,16,17,18,19,20,21,22,23,24,25,26,27,28,29,30,31,32,33,34,35,36,37,38,39,40,41,42,43,44,45,46,47,48,49,50,51,52,53,54,55,56,57,58,59,60,61,62,63,64,65,66,67,68,69,70,71,72,73,74,75,76,77,78,79,80,81,82,83,84,85,86,87,88,89,90,91,92,93,94,95,96,97,98,99,100,101,102,103,104,105,106,107,108,109,110,111,112,113,114,115,116,117,118,119,120,121,122,123,124,125,126,127,128,129,130,131,132,133,134,135,136,137,138,139,140,141,142,143,144,145,146,147,148,149,150,151,152,153,154,155,156,157,158,159,160,161,162,163,164,165,166,167,168,169,170,171,172,173,174,175,176,177,178,179,180,181,182,183,184,185,186,187,188,189,190,191,192,193,194,195,196,197,198,199,200,201,202,203,204,205,206,207,208,209,210,211,212,213,214,215,216,217,218,219,220,221,222,223,224,225,226,227,228,229,230,231,232,233,234,235,236,237,238,239,240,241,242,243,244,245,246,247,248,249,250,251,252,253,254,255,256,257,258,259,260,261,262,263,264,265,266,267,268,269,270,271,272,273,274,275,276,277,278,279,280,281,282,283,284,285,286,287,288,289,290,291,292,293,294,295,296,297,298,299,300,301,302,303,304,305,306,307,308,309,310,311,312,313,314,315,316,317,318,319,320,321,322,323,324,325,326,327,328,329,330,331,332,333,334,335,336,337,338,339,340,341,342,343,344,345,346,347,348,349,350,351,352,353,354,355,356,357,358,359,360,361,362,363,364,365,366,367,368,369,370,371,372,373,374,375,376,377,378,379,380,381,382,383,384,385,386,387,388,389,390,391,392,393,394,395,396,397,398,399,400,401,402,403,404,405,406,407,408,409,410,411,412,413,414,415,416,417,418,419,420,421,422,423,424,425,426,427,428,429,430,431,432,433,434,435,436,437,438,439,440,441,442,443,444,445,446,447,448,449,450,451,452,453,454,455,456,457,458,459,460,461,462,463,464,465,466,467,468,469,470,471,472,473,474,475,476,477,478,479,480,481,482,483,484,485,486,487,488,489,490,491,492,493,494,495,496,497,498,499,500,501,502,503,504,505,506,507,508,509,510,511,512,513,514,515,516,517,518,519,520,521,522,523,524,525,526,527,528,529,530,531,532,533,534,535,536,537,538,539,540,541,542,543,544,545,546,547,548,549,550,551,552,553,554,555,556,557,558,559,560,561,562,563,564,565,566,567,568,569,570,571,572,573,574,575,576,577,578,579,580,581,582,583,584,585,586,587,588,589,590,591,592,593,594,595,596,597,598,599,600,601,602,603,604,605,606,607,608,609,610,611,612,613,614,615,616,617,618,619,620,621,622,623,624,625,626,627,628,629,630,631,632,633,634,635,636,637,638,639,640,641,642,643,644,645,646,647,648,649,650,651,652,653,654,655,656,657,658,659,660,661,662,663,664,665,666,667,668,669,670,671,672,673,674,675,676,677,678,679,680,681,682,683,684,685,686,687,688,689,690,691,692,693,694,695,696,697,698,699,700,701,702,703,704,705,706,707,708,709,710,711,712,713,714,715,716,717,718,719,720,721,722,723,724,725,726,727,728,729,730,731,732,733,734,735,736,737,738,739,740,741,742,743,744,745,746,747,748,749,750,751,752,753,754,755,756,757,758,759,760,761,762,763,764,765,766,767,768,769,770,771,772,773,774,775,776,777,778,779,780,781,782,783,784,785,786,787,788,789,790,791,792,793,794,795,796,797,798,799,800,801,802,803,804,805,806,807,808,809,810,811,812,813,814,815,816,817,818,819,820,821,822,823,824,825,826,827,828,829,830,831,832,833,834,835,836,837,838,839,840,841,842,843,844,845,846,847,848,849,850,851,852,853,854,855,856,857,858,859,860,861,862,863,864,865,866,867,868,869,870,871,872,873,874,875,876,877,878,879,880,881,882,883,884,885,886,887,888,889,890,891,892,893,894,895,896,897,898,899,900,901,902,903,904,905,906,907,908,909,910,911,912,913,914,915,916,917,918,919,920,921,922,923,924,925,926,927,928,929,930,931,932,933,934,935,936,937,938,939,940,941,942,943,944,945,946,947,948,949,950,951,952,953,954,955,956,957,958,959,960,961,962,963,964,965,966,967,968,969,970,971,972,973,974,975,976,977,978,979,980,981,982,983,984,985,986,987,988,989,990,991,992,993,994,995,996,997,998,999,1000],\"y\":[8.441167499615965,8.192270450712726,7.948572126660056,7.713286750761301,7.488348926693148,7.269970126371206,7.059649321681509,6.857676770239936,6.662550732256021,6.4732100346822605,6.290551497228336,6.113750260290476,5.941595268364459,5.777691335431681,5.617644799839748,5.463945753405175,5.314371907878677,5.170318275636698,5.032211670716189,4.897022344014122,4.767250102652329,4.641201119966545,4.519990325628355,4.401990341394124,4.2871790555232865,4.176609027918344,4.069384609450651,3.965690577160755,3.8652390581714617,3.768261737388748,3.673455193280458,3.5822835438604557,3.493734328825126,3.4084649493919392,3.325128563550277,3.2443244813584027,3.1655059475394363,3.089589745364859,3.0155731023805474,2.944867756015456,2.876368189681985,2.809212251019501,2.744646538906547,2.6819625979272494,2.6210708557316535,2.5618459981271235,2.5042829598249954,2.4478956434058263,2.393356414074061,2.340836035842543,2.2892502218249153,2.2393473144657197,2.1905035579606236,2.1431021563475627,2.096966314975096,2.052650361198713,2.008956905126282,1.9671716903743648,1.9266308476107075,1.8866086588172295,1.8479798708703847,1.8105183017888618,1.7735672987662936,1.7377108247656698,1.7029249617751208,1.6691705194267883,1.6360094854186416,1.6038399045525715,1.57251976549006,1.5421325502567438,1.5125086413583049,1.4836264483066437,1.455468145885963,1.4278824450738765,1.4010561571732834,1.374727329452641,1.3492916477727959,1.3245406482299527,1.3003372914916507,1.276481531158482,1.2531934154656643,1.2307485337980615,1.2086486693865,1.1868977888701686,1.1658003209981973,1.145116948550526,1.1250409487446025,1.1054542153849127,1.0862852419806148,1.067554768013296,1.049186624882114,1.0312985172638456,1.0137030725267155,0.9964125433741451,0.9795955100510496,0.963137100235346,0.9471483353622406,0.9314557415416084,0.91615513589196,0.9011243506204412,0.8864703640246301,0.8720987623672125,0.8581141274195654,0.8441883778509697,0.8305762124641789,0.8174497662273372,0.8044184556872882,0.7916444261173888,0.7791943637671173,0.7669333973642382,0.7549298337587027,0.7431770663951586,0.7315515478047437,0.7203938259327839,0.7092843209698506,0.6984340079721819,0.6878047424446835,0.6774780113272368,0.6672535475572393,0.6571525022671372,0.6473245545274315,0.6376408210827561,0.6280672993532106,0.6187936988241513,0.6096117463430807,0.6006599176684321,0.5918951213838126,0.5831742329084951,0.5746541341399175,0.5663639378982405,0.5581088560992408,0.5501793333108143,0.54230116992124,0.5345918910326449,0.5269623814033768,0.51951133324129,0.5121331844835928,0.5048680061652205,0.49782184241090793,0.4908219461679458,0.4839626387949295,0.4771887789689915,0.47053438841993633,0.46400515415300514,0.4576337141038887,0.45131877222248856,0.4450253402023305,0.43889262389290024,0.43291061078975274,0.42700152487140086,0.42111491885241553,0.41536370542266404,0.4097223477482769,0.4041791037451731,0.39870037953958026,0.39318954802382355,0.3879064855749626,0.382709507181592,0.37757966807467636,0.37256755490373483,0.36758471219210304,0.36265039291385376,0.35782215917535076,0.35310812548814136,0.3484322231080574,0.3437800316833515,0.33930444724812014,0.334850436357504,0.3304486810351487,0.32616852786041706,0.3219210061161696,0.3177749413885712,0.3136992112094808,0.30962072408710184,0.30560681856655,0.3016705716768037,0.2978281519287979,0.29402941259179555,0.29028526348558703,0.2865890752521167,0.28292454402761824,0.27937516358411824,0.27578711760813124,0.27228472329280173,0.2688547665676605,0.26546537096448886,0.2621574926362102,0.2588456257441753,0.2555727959760482,0.2523816297007198,0.2492149915317063,0.2460698824385888,0.24298089614281113,0.23997057183953174,0.23699464844934345,0.23404597258916754,0.2311923937772969,0.22836464083798108,0.22551438283054104,0.22272378014982497,0.21998251814624845,0.2173302937721484,0.21468005282558764,0.21211000649177955,0.20953195801425772,0.207011994439676,0.20451860221075407,0.20205672429523255,0.19962398440701654,0.1972155971125309,0.1948581778596162,0.19252130837473613,0.19021005700044386,0.1879495487805332,0.18573466993662327,0.18353642380865182,0.18136572024556932,0.1792175647713507,0.1771100623033527,0.175023617424912,0.17297553944507443,0.17094117781725449,0.1689300679573809,0.16696265037668073,0.1650141241908364,0.16309944857879968,0.16121253019616494,0.15931579765447532,0.1574616408114132,0.15562882000005648,0.15385358397267224,0.15210077528815508,0.15037588566439195,0.14865570421130897,0.14693897839506964,0.14527325780584222,0.1436197715401988,0.14199669286348976,0.14039114400379765,0.13878039772963638,0.13722268849470304,0.13565515926785687,0.1341449672310694,0.1326438477960911,0.13115594113115406,0.1296817809655713,0.12823144473899728,0.1267966204631077,0.12538918494336856,0.12400096830578324,0.12262050513853874,0.12127635569600943,0.11993546996302155,0.11862081329776698,0.117307795976136,0.11600827095210635,0.11476226352938304,0.11352232351514363,0.11229466906840271,0.11108525483402826,0.1098939656017666,0.10870821139695301,0.1075407143461634,0.10638675395201777,0.1052528514055481,0.10414254964007733,0.10303957971828666,0.10193899788951837,0.10086595869618478,0.09980082175086392,0.09874957689057857,0.09772689311860491,0.0967015438110076,0.09568666154037003,0.09469079848116654,0.09371836305881644,0.09274658339055056,0.09180451986294196,0.09086823288992112,0.0899352406868762,0.08901993780311554,0.08811735011558519,0.08721071114611784,0.08633017698241985,0.08546281324771031,0.0846050169313139,0.08375428005667795,0.08291281430689001,0.08209069117202362,0.08127930004415537,0.08047814385002375,0.0796760176225715,0.07889218993990663,0.07811822790647321,0.07735512920797136,0.07659866670541078,0.07585665656299795,0.07512378131253993,0.07441024529596978,0.0736947503613922,0.07299306791493425,0.07228697833766429,0.07158851850101616,0.07091917475225476,0.07025219088713161,0.06958916720746629,0.0689311051676905,0.06828163357760023,0.06765407221008857,0.06703098835288877,0.06640576802038475,0.06579615723549694,0.06518638426739476,0.064585888729938,0.06399697254305331,0.06341873585119677,0.06284740314043806,0.06228485855524673,0.06173040099582035,0.06117970403975556,0.06063860998060086,0.06010154865548811,0.05957628895664395,0.059054709503895485,0.05854547913728175,0.058039208166452694,0.057536253265690486,0.057045074373479394,0.0565589720748777,0.05607959253271799,0.05560473791145002,0.0551295609813198,0.05466953931452728,0.054211269865120204,0.05376445432381023,0.05331275370134956,0.0528748036447532,0.052441678706398466,0.052010737101618895,0.05158802487738884,0.051166416001997096,0.05074824460656355,0.050350312323053904,0.049950993208064565,0.04955754176589939,0.04916800225974612,0.04878024441982591,0.048398624251461485,0.04802664500033729,0.04765679268697747,0.04729146897356938,0.046932163112624284,0.0465753609502278,0.04622546158096343,0.04587414211599714,0.04553045669978657,0.04519519240135185,0.04485848481873059,0.04452594982771514,0.044201381860738166,0.04387840168930739,0.04355769005241175,0.04324690775502209,0.04293994248502572,0.04263672607392811,0.042336458359492776,0.04204165757829497,0.041749821883451776,0.041459849949336505,0.04117445630727328,0.040890576609317095,0.04061331697175535,0.04033784237269046,0.040065869513796405,0.03979646115768034,0.039527661863796124,0.03926422142494153,0.039008466319722594,0.038756048052041435,0.038503481068877944,0.038254105781647674,0.038011600525639816,0.037769606026341156,0.037529713912899575,0.03729764538030539,0.03707019342482481,0.03684060901191172,0.03661366685025622,0.0363908797272732,0.0361716798559443,0.0359560579374896,0.03574224853763905,0.03552895698068708,0.03532001896122808,0.03511553031704442,0.03491001224092254,0.03470800464227125,0.03451160425883306,0.034314392602231625,0.03411960205106977,0.033927700838137176,0.03374029554855416,0.033553647804205555,0.03336970144402124,0.03318849183350106,0.033012392962196956,0.0328335971957461,0.0326602036123033,0.03248866704183312,0.032318025284815866,0.03214936549172314,0.031982423960182124,0.03182063391244836,0.031662641224693554,0.0315042604927431,0.031345936084133705,0.031190866503937015,0.03103724098959808,0.030885826814719925,0.030735450545075635,0.030588831184213162,0.030444041295661885,0.030298167535037793,0.030155596876054958,0.03001572747864931,0.029880287728414882,0.02974392251696692,0.029609176488290857,0.029474821569125897,0.029344263189983025,0.029216100573655382,0.029087339941414568,0.028961595744317073,0.02883751368972753,0.0287150561938484,0.02859146621348252,0.028473108326588555,0.0283577225260643,0.028242119959713194,0.028125455904595767,0.028011342176606877,0.027900004652790737,0.0277878544072896,0.027677641377452305,0.027568264966501832,0.027463417916005543,0.027358248935174162,0.02725636233195313,0.027154062696323374,0.027052896325776603,0.026953653016589765,0.026853478968292793,0.0267564530949507,0.026660964770494133,0.026566145884063152,0.026473921042178786,0.026381055160935092,0.026290170485036114,0.026200158164104634,0.02611035290487842,0.026021958994136396,0.025935880742523384,0.02585008733094814,0.025765361744944724,0.02568185207492664,0.025599745610998915,0.025516596287888826,0.025436866730446952,0.02535969860921688,0.025282941763089872,0.025206239784699623,0.025129772184420363,0.025055438528426444,0.024981313824078838,0.02490694521086531,0.024834866185895362,0.024764149764743688,0.024695283086304892,0.02462580127004483,0.024557552101256853,0.024490158666492463,0.024423336189456683,0.024358310745114388,0.02429406417535966,0.024230015887013057,0.024165394866960403,0.024104015418439224,0.02404198927812578,0.023981020685189786,0.02392112572164097,0.02386280336512462,0.023803321786760003,0.023745120714793136,0.023688405210456256,0.023632445797393722,0.023576561870568374,0.02352224574785101,0.023467951317200683,0.02341458178274654,0.023361739830814104,0.023309650540981993,0.023256648971726905,0.023206260093539825,0.023155722218050824,0.023105827254309094,0.023056315323228396,0.023008793369410453,0.022961596081355177,0.022914180558083343,0.02286854527847843,0.022823699051074273,0.02277946025777778,0.0227347385491119,0.022690692133534408,0.022647492662603068,0.022603869357872935,0.022561250922494308,0.022518839043372398,0.02247700342043176,0.022435371851586727,0.022394395544970636,0.022354755873034503,0.022315249372200675,0.022276102944764377,0.022237126285835265,0.02219991653578186,0.022163125007614602,0.02212646376078756,0.022090433631389107,0.022054616926340177,0.022018866662947344,0.021984189345397625,0.021949622832089413,0.021916456044386624,0.02188263762244782,0.021850472803329628,0.021817264084168675,0.021785047831259736,0.021753374732030067,0.02172209009446574,0.02169044495958714,0.02166088173428694,0.021631119690584535,0.021601412874941873,0.021572868018612804,0.0215436956567102,0.02151485794833143,0.02148686730280007,0.021458931305240774,0.021431850679941425,0.021405179315119545,0.021378610938698566,0.021353008595158665,0.02132621274268473,0.021300473478593346,0.0212748259160826,0.021249494712856195,0.021224799090626315,0.021200176760057428,0.021175937052975484,0.021152820725156805,0.021128900766972065,0.0211056345925081,0.02108287495125567,0.02105923727620131,0.0210373923428815,0.02101557968342944,0.02099358231836227,0.020971760810464996,0.020950809597995772,0.02092975331112217,0.020908975823094738,0.02088808472492318,0.02086810825161138,0.02084796665399824,0.02082862784066783,0.02080853746295798,0.020789360962231346,0.02077004224169813,0.020751339181609665,0.020732750867163006,0.020714983028877795,0.02069590697334974,0.020678014492905575,0.020660229555041956,0.020642748457077805,0.020625666518599813,0.02060875414243544,0.020592173909219746,0.020575999537409545,0.020560111860925788,0.020544577818359513,0.020529104865290346,0.020513368976698202,0.020498197409119814,0.02048272749149867,0.020468253530630687,0.020453699868790226,0.02043913447947029,0.020425073673635077,0.02041138611049103,0.020397548263840888,0.020383335817239258,0.020369464137653122,0.02035582597742835,0.02034251445082577,0.02032951686709525,0.02031671840794687,0.020304042909487785,0.020291815441526175,0.020278817747922832,0.02026632370255894,0.020254955110691048,0.020243034958390912,0.020231244249330912,0.020219446142180866,0.020207900828834727,0.02019648199092154,0.020185384146236655,0.020174031714040832,0.020163033487710192,0.020152286430909536,0.020142024428942522,0.020131622333585293,0.020121264114245682,0.02011133678749868,0.02010145792709849,0.020091309589300974,0.020081195384024746,0.020071350577936308,0.02006193062394915,0.020052367163462346,0.02004247099767681,0.020033417150483374,0.020024379352398283,0.02001532531998233,0.0200062435302316,0.019997464817518813,0.01998867975849939,0.01997981556320605,0.019971772359239894,0.0199631346051316,0.01995452859081121,0.019946282983506605,0.019938262911696425,0.019930074234772725,0.019922462996184435,0.019914804857183763,0.019907180838143995,0.019899664014353724,0.019892046992519924,0.01988460057666229,0.019877424253624692,0.019870066716918953,0.01986283920233588,0.01985597090509046,0.019849297381355418,0.019842709778687746,0.01983562999914972,0.01982913005465587,0.01982287706721005,0.019816475854416756,0.019810133855048217,0.019804006720588685,0.01979799112196,0.019791984938948917,0.019786070228295635,0.019780138432764036,0.019774564500323936,0.019768747199737847,0.019762919153142666,0.01975716824291522,0.019751521953219994,0.019745979157071575,0.019740419728776458,0.01973465613687565,0.01972955016753792,0.019724465094719437,0.019719080591717484,0.0197138279132965,0.019709026464360367,0.01970420595991203,0.01969921036112219,0.01969461544876797,0.019689834832750837,0.01968532185138078,0.01968033474616619,0.019675876359499814,0.019671304454865264,0.019666918502906923,0.019662381421304206,0.019658164440096056,0.019653876983216727,0.01964951541307418,0.01964554767007272,0.01964109451811735,0.019637256057535503,0.01963315712849798,0.01962898581806692,0.019624838124782024,0.019621035857664556,0.01961715754786287,0.01961346882104087,0.01960980093679548,0.01960610789204888,0.019602429963924136,0.019598742401419726,0.019595153089777273,0.019591796988162602,0.019588524986270985,0.01958508850344158,0.01958177510182332,0.019578576079251023,0.01957546437329401,0.019572069881232432,0.019568794024446525,0.019565664533163978,0.01956269698150316,0.019559660305495476,0.019556658922718226,0.019553489610982626,0.019550467590033923,0.019547743685528057,0.019545004089992837,0.01954221334740726,0.019539326651225698,0.019536719722222998,0.019534048928197593,0.019531171007090526,0.019528331490377374,0.01952569046545925,0.019522902598407665,0.019520257221523417,0.01951788670655509,0.0195152689811891,0.01951277047039713,0.019510151931489937],\"type\":\"scatter\"},{\"name\":\"Adagrad\",\"x\":[1,2,3,4,5,6,7,8,9,10,11,12,13,14,15,16,17,18,19,20,21,22,23,24,25,26,27,28,29,30,31,32,33,34,35,36,37,38,39,40,41,42,43,44,45,46,47,48,49,50,51,52,53,54,55,56,57,58,59,60,61,62,63,64,65,66,67,68,69,70,71,72,73,74,75,76,77,78,79,80,81,82,83,84,85,86,87,88,89,90,91,92,93,94,95,96,97,98,99,100,101,102,103,104,105,106,107,108,109,110,111,112,113,114,115,116,117,118,119,120,121,122,123,124,125,126,127,128,129,130,131,132,133,134,135,136,137,138,139,140,141,142,143,144,145,146,147,148,149,150,151,152,153,154,155,156,157,158,159,160,161,162,163,164,165,166,167,168,169,170,171,172,173,174,175,176,177,178,179,180,181,182,183,184,185,186,187,188,189,190,191,192,193,194,195,196,197,198,199,200,201,202,203,204,205,206,207,208,209,210,211,212,213,214,215,216,217,218,219,220,221,222,223,224,225,226,227,228,229,230,231,232,233,234,235,236,237,238,239,240,241,242,243,244,245,246,247,248,249,250,251,252,253,254,255,256,257,258,259,260,261,262,263,264,265,266,267,268,269,270,271,272,273,274,275,276,277,278,279,280,281,282,283,284,285,286,287,288,289,290,291,292,293,294,295,296,297,298,299,300,301,302,303,304,305,306,307,308,309,310,311,312,313,314,315,316,317,318,319,320,321,322,323,324,325,326,327,328,329,330,331,332,333,334,335,336,337,338,339,340,341,342,343,344,345,346,347,348,349,350,351,352,353,354,355,356,357,358,359,360,361,362,363,364,365,366,367,368,369,370,371,372,373,374,375,376,377,378,379,380,381,382,383,384,385,386,387,388,389,390,391,392,393,394,395,396,397,398,399,400,401,402,403,404,405,406,407,408,409,410,411,412,413,414,415,416,417,418,419,420,421,422,423,424,425,426,427,428,429,430,431,432,433,434,435,436,437,438,439,440,441,442,443,444,445,446,447,448,449,450,451,452,453,454,455,456,457,458,459,460,461,462,463,464,465,466,467,468,469,470,471,472,473,474,475,476,477,478,479,480,481,482,483,484,485,486,487,488,489,490,491,492,493,494,495,496,497,498,499,500,501,502,503,504,505,506,507,508,509,510,511,512,513,514,515,516,517,518,519,520,521,522,523,524,525,526,527,528,529,530,531,532,533,534,535,536,537,538,539,540,541,542,543,544,545,546,547,548,549,550,551,552,553,554,555,556,557,558,559,560,561,562,563,564,565,566,567,568,569,570,571,572,573,574,575,576,577,578,579,580,581,582,583,584,585,586,587,588,589,590,591,592,593,594,595,596,597,598,599,600,601,602,603,604,605,606,607,608,609,610,611,612,613,614,615,616,617,618,619,620,621,622,623,624,625,626,627,628,629,630,631,632,633,634,635,636,637,638,639,640,641,642,643,644,645,646,647,648,649,650,651,652,653,654,655,656,657,658,659,660,661,662,663,664,665,666,667,668,669,670,671,672,673,674,675,676,677,678,679,680,681,682,683,684,685,686,687,688,689,690,691,692,693,694,695,696,697,698,699,700,701,702,703,704,705,706,707,708,709,710,711,712,713,714,715,716,717,718,719,720,721,722,723,724,725,726,727,728,729,730,731,732,733,734,735,736,737,738,739,740,741,742,743,744,745,746,747,748,749,750,751,752,753,754,755,756,757,758,759,760,761,762,763,764,765,766,767,768,769,770,771,772,773,774,775,776,777,778,779,780,781,782,783,784,785,786,787,788,789,790,791,792,793,794,795,796,797,798,799,800,801,802,803,804,805,806,807,808,809,810,811,812,813,814,815,816,817,818,819,820,821,822,823,824,825,826,827,828,829,830,831,832,833,834,835,836,837,838,839,840,841,842,843,844,845,846,847,848,849,850,851,852,853,854,855,856,857,858,859,860,861,862,863,864,865,866,867,868,869,870,871,872,873,874,875,876,877,878,879,880,881,882,883,884,885,886,887,888,889,890,891,892,893,894,895,896,897,898,899,900,901,902,903,904,905,906,907,908,909,910,911,912,913,914,915,916,917,918,919,920,921,922,923,924,925,926,927,928,929,930,931,932,933,934,935,936,937,938,939,940,941,942,943,944,945,946,947,948,949,950,951,952,953,954,955,956,957,958,959,960,961,962,963,964,965,966,967,968,969,970,971,972,973,974,975,976,977,978,979,980,981,982,983,984,985,986,987,988,989,990,991,992,993,994,995,996,997,998,999,1000],\"y\":[6.910301089648735,3.999331610976741,3.999331610976741,1.6237295012738033,1.6237295012738033,0.5021078254342869,0.5021078254342869,0.4158815759305619,0.4158815759305619,0.5895183291254831,0.5895183291254831,0.5979533655824212,0.5979533655824212,0.4397883077622962,0.4397883077622962,0.28147427713614026,0.28147427713614026,0.15659847044757771,0.15659847044757771,0.08294094873356263,0.08294094873356263,0.05057611283583741,0.05057611283583741,0.03426627471216811,0.03426627471216811,0.026339969296880525,0.026339969296880525,0.022747392189901912,0.022747392189901912,0.02110108904701722,0.02110108904701722,0.020186596755399654,0.020186596755399654,0.01976764652582628,0.01976764652582628,0.0195329061641717,0.0195329061641717,0.019422192191093958,0.019422192191093958,0.01937850754603622,0.01937850754603622,0.019350579119417524,0.019350579119417524,0.019341949706876867,0.019341949706876867,0.019333616153319966,0.019333616153319966,0.01933106843503528,0.01933106843503528,0.019329309030720762,0.019329309030720762,0.019326159665841353,0.019326159665841353,0.019329504229122347,0.019329504229122347,0.019328967794274954,0.019328967794274954,0.019324985874723616,0.019324985874723616,0.019324529023566128,0.019324529023566128,0.019324686533361828,0.019324686533361828,0.0193260650895866,0.0193260650895866,0.01932737964876416,0.01932737964876416,0.019327318237353848,0.019327318237353848,0.019324767740304852,0.019324767740304852,0.01932756419597478,0.01932756419597478,0.01932589535073815,0.01932589535073815,0.01932527709344037,0.01932527709344037,0.019327675649709965,0.019327675649709965,0.01932617657898248,0.01932617657898248,0.01932861007327437,0.01932861007327437,0.019324720168773856,0.019324720168773856,0.019330234098051964,0.019330234098051964,0.019328582343607074,0.019328582343607074,0.019340137419799404,0.019340137419799404,0.019331580533569707,0.019331580533569707,0.019330268574001472,0.019330268574001472,0.019332389637769898,0.019332389637769898,0.01933155048163707,0.01933155048163707,0.01933185983229789,0.01933185983229789,0.019331094544694064,0.019331094544694064,0.01932589029834975,0.01932589029834975,0.019329431222790953,0.019329431222790953,0.019327353611818258,0.019327353611818258,0.01932527035065497,0.01932527035065497,0.01932600720450592,0.01932600720450592,0.019324558923949,0.019324558923949,0.019326391475035485,0.019326391475035485,0.01932370522571235,0.01932370522571235,0.01932346980858958,0.01932346980858958,0.019326020788552487,0.019326020788552487,0.019326739351294326,0.019326739351294326,0.019323575964513104,0.019323575964513104,0.019329000447428704,0.019329000447428704,0.019332273717960702,0.019332273717960702,0.019325792526341264,0.019325792526341264,0.019326231028112754,0.019326231028112754,0.01932667545246805,0.01932667545246805,0.019326249708339092,0.019326249708339092,0.019325349368061254,0.019325349368061254,0.019328363553063513,0.019328363553063513,0.019325485714151533,0.019325485714151533,0.019326674175791366,0.019326674175791366,0.019326240655302102,0.019326240655302102,0.019324803990030743,0.019324803990030743,0.019326606326770288,0.019326606326770288,0.01932475852705272,0.01932475852705272,0.01932530424561846,0.01932530424561846,0.019325752990728057,0.019325752990728057,0.019325517486772123,0.019325517486772123,0.019324216936170625,0.019324216936170625,0.019323788654113442,0.019323788654113442,0.019323889074218347,0.019323889074218347,0.019324412215621766,0.019324412215621766,0.01932462219062195,0.01932462219062195,0.019325117983605332,0.019325117983605332,0.019325457046676993,0.019325457046676993,0.019326164269712644,0.019326164269712644,0.019324975142420847,0.019324975142420847,0.019325792614744108,0.019325792614744108,0.01932434293610391,0.01932434293610391,0.019324512504004663,0.019324512504004663,0.019324107403645013,0.019324107403645013,0.019323453648545166,0.019323453648545166,0.019326991508760785,0.019326991508760785,0.019327693889042343,0.019327693889042343,0.019325697826939797,0.019325697826939797,0.019326829632801114,0.019326829632801114,0.01932699033677114,0.01932699033677114,0.01933555144986809,0.01933555144986809,0.01933441651926589,0.01933441651926589,0.019326428030341937,0.019326428030341937,0.01932594095812116,0.01932594095812116,0.019327583260301744,0.019327583260301744,0.01932779265357875,0.01932779265357875,0.01932589186592747,0.01932589186592747,0.01932628781154977,0.01932628781154977,0.019324051466640513,0.019324051466640513,0.01932531403227966,0.01932531403227966,0.019326566091263906,0.019326566091263906,0.01932493540747884,0.01932493540747884,0.019323781276479844,0.019323781276479844,0.01932519539325886,0.01932519539325886,0.019325489595733412,0.019325489595733412,0.019325323510455284,0.019325323510455284,0.019326510722606025,0.019326510722606025,0.01932512111969563,0.01932512111969563,0.01932326020337587,0.01932326020337587,0.019325248309726255,0.019325248309726255,0.01932605068676179,0.01932605068676179,0.019325581007867326,0.019325581007867326,0.019324805576382227,0.019324805576382227,0.019326497799080005,0.019326497799080005,0.019326304429980228,0.019326304429980228,0.019332572486590392,0.019332572486590392,0.01932508766143798,0.01932508766143798,0.019324695690834098,0.019324695690834098,0.019324737252646575,0.019324737252646575,0.019323351871296423,0.019323351871296423,0.01932728568963323,0.01932728568963323,0.019324956531129665,0.019324956531129665,0.019325182613506093,0.019325182613506093,0.019324256758409628,0.019324256758409628,0.01932476886051505,0.01932476886051505,0.01932693354770923,0.01932693354770923,0.019327418690433435,0.019327418690433435,0.019327579737150487,0.019327579737150487,0.019325830223794218,0.019325830223794218,0.01932480611068336,0.01932480611068336,0.019328547820020147,0.019328547820020147,0.019328557851838485,0.019328557851838485,0.019327937973381067,0.019327937973381067,0.019325941382099254,0.019325941382099254,0.01932538915829007,0.01932538915829007,0.01933127976733891,0.01933127976733891,0.019331577648505512,0.019331577648505512,0.019329113571014946,0.019329113571014946,0.019327549444819753,0.019327549444819753,0.019326563787784076,0.019326563787784076,0.019323887728474674,0.019323887728474674,0.019326008016424992,0.019326008016424992,0.019325532246740596,0.019325532246740596,0.019324635290103993,0.019324635290103993,0.019324047079842935,0.019324047079842935,0.019324321686976433,0.019324321686976433,0.01932521598885457,0.01932521598885457,0.019324956833134788,0.019324956833134788,0.019326063966917533,0.019326063966917533,0.019324620170416057,0.019324620170416057,0.019323580796915568,0.019323580796915568,0.01932631478339967,0.01932631478339967,0.01932735194579332,0.01932735194579332,0.019331243927094816,0.019331243927094816,0.01932938584406143,0.01932938584406143,0.019324300346873487,0.019324300346873487,0.019326241610451392,0.019326241610451392,0.01932324805992839,0.01932324805992839,0.019330921975097896,0.019330921975097896,0.01932467370751171,0.01932467370751171,0.019323875431729122,0.019323875431729122,0.019327233373693353,0.019327233373693353,0.019325330519887163,0.019325330519887163,0.01932608861579392,0.01932608861579392,0.01932570768650031,0.01932570768650031,0.019326857085965994,0.019326857085965994,0.019326031349800703,0.019326031349800703,0.01932675303613578,0.01932675303613578,0.019325007181301444,0.019325007181301444,0.019330407973570406,0.019330407973570406,0.019327553208148607,0.019327553208148607,0.019326352989613528,0.019326352989613528,0.019330937826851004,0.019330937826851004,0.01932904566364038,0.01932904566364038,0.01932417381153345,0.01932417381153345,0.01932484173494705,0.01932484173494705,0.019325099186921015,0.019325099186921015,0.019324101765181054,0.019324101765181054,0.019324383005230348,0.019324383005230348,0.019323869210739836,0.019323869210739836,0.019325396191567746,0.019325396191567746,0.019325577160034614,0.019325577160034614,0.019328033074413532,0.019328033074413532,0.019326219964294566,0.019326219964294566,0.019329005568356632,0.019329005568356632,0.019331354159418668,0.019331354159418668,0.019324353935275526,0.019324353935275526,0.01932658111306976,0.01932658111306976,0.019324464482849576,0.019324464482849576,0.019325830984638158,0.019325830984638158,0.019327810965920636,0.019327810965920636,0.01932376873085606,0.01932376873085606,0.0193262133575106,0.0193262133575106,0.019324245901214263,0.019324245901214263,0.019325578916544794,0.019325578916544794,0.019327163189634115,0.019327163189634115,0.019324785545013975,0.019324785545013975,0.019327588537355306,0.019327588537355306,0.019329472435465976,0.019329472435465976,0.01932477883540854,0.01932477883540854,0.019325838845962652,0.019325838845962652,0.019324843592708075,0.019324843592708075,0.01932504566570484,0.01932504566570484,0.019326107584602008,0.019326107584602008,0.019327388612206852,0.019327388612206852,0.019325148002331198,0.019325148002331198,0.01932597653762324,0.01932597653762324,0.019325125737977254,0.019325125737977254,0.019325471954203425,0.019325471954203425,0.019324958475343445,0.019324958475343445,0.01932892042029216,0.01932892042029216,0.019330007953782858,0.019330007953782858,0.019331251035726194,0.019331251035726194,0.019326615981445777,0.019326615981445777,0.01932624401023541,0.01932624401023541,0.019324136025281623,0.019324136025281623,0.019326607239227207,0.019326607239227207,0.019328839756820895,0.019328839756820895,0.019325190479426078,0.019325190479426078,0.019327789752119774,0.019327789752119774,0.019330662038282414,0.019330662038282414,0.01932779612807113,0.01932779612807113,0.01932620811162399,0.01932620811162399,0.01933207168367246,0.01933207168367246,0.019329842420760326,0.019329842420760326,0.01932619606566114,0.01932619606566114,0.019325635681456312,0.019325635681456312,0.01932537677572976,0.01932537677572976,0.019324910509662604,0.019324910509662604,0.019325514181119614,0.019325514181119614,0.019323553813096264,0.019323553813096264,0.01932382271796762,0.01932382271796762,0.019324532840132403,0.019324532840132403,0.019326261559607295,0.019326261559607295,0.019325037691198248,0.019325037691198248,0.019327867808311323,0.019327867808311323,0.019327970261295128,0.019327970261295128,0.019323559074995528,0.019323559074995528,0.019324890723593453,0.019324890723593453,0.019325045606586683,0.019325045606586683,0.019324813141204655,0.019324813141204655,0.019324148479867215,0.019324148479867215,0.019327762692602567,0.019327762692602567,0.019330884957787703,0.019330884957787703,0.01932712715453299,0.01932712715453299,0.019328127544579667,0.019328127544579667,0.01932556782644113,0.01932556782644113,0.019328442480022953,0.019328442480022953,0.01932627353663469,0.01932627353663469,0.019324806517330533,0.019324806517330533,0.01932724295767539,0.01932724295767539,0.01932871219804883,0.01932871219804883,0.01932891546175889,0.01932891546175889,0.01932643851152617,0.01932643851152617,0.01932358599857937,0.01932358599857937,0.01932829286257165,0.01932829286257165,0.019326487103142484,0.019326487103142484,0.019328023495448078,0.019328023495448078,0.01932567197804552,0.01932567197804552,0.019325191209634617,0.019325191209634617,0.019324163644200476,0.019324163644200476,0.01932634126365851,0.01932634126365851,0.019326740715943803,0.019326740715943803,0.019323788018934297,0.019323788018934297,0.019327752535770435,0.019327752535770435,0.019325197026700415,0.019325197026700415,0.019323571987266537,0.019323571987266537,0.019327527749247914,0.019327527749247914,0.019336861291374772,0.019336861291374772,0.019324691372313005,0.019324691372313005,0.01932683994602758,0.01932683994602758,0.01932446953271595,0.01932446953271595,0.019325872231443164,0.019325872231443164,0.019324318646028127,0.019324318646028127,0.019326534075148668,0.019326534075148668,0.0193260117578812,0.0193260117578812,0.01932419511250795,0.01932419511250795,0.019329688756519914,0.019329688756519914,0.019326213737177404,0.019326213737177404,0.019324712487231707,0.019324712487231707,0.01932629571990676,0.01932629571990676,0.019325896958104192,0.019325896958104192,0.01932805010021757,0.01932805010021757,0.01932665523508291,0.01932665523508291,0.019325069823270802,0.019325069823270802,0.01933032335912774,0.01933032335912774,0.019327698132938092,0.019327698132938092,0.01932580081885517,0.01932580081885517,0.019326239407235147,0.019326239407235147,0.019325351747553916,0.019325351747553916,0.019324839143405565,0.019324839143405565,0.019324355226868473,0.019324355226868473,0.01932836758317856,0.01932836758317856,0.019324129710181118,0.019324129710181118,0.019325329671052334,0.019325329671052334,0.019326483823088613,0.019326483823088613,0.019328427719562384,0.019328427719562384,0.019324847831252427,0.019324847831252427,0.019329500734318952,0.019329500734318952,0.019333627740233263,0.019333627740233263,0.019329092082373968,0.019329092082373968,0.019333635313541403,0.019333635313541403,0.01933365900703229,0.01933365900703229,0.019333730759455187,0.019333730759455187,0.019325916365887225,0.019325916365887225,0.0193317226321201,0.0193317226321201,0.019329412775483657,0.019329412775483657,0.019326842593891107,0.019326842593891107,0.019326449031379818,0.019326449031379818,0.019323738974405202,0.019323738974405202,0.019326668346372422,0.019326668346372422,0.019325569144347896,0.019325569144347896,0.019324736410365938,0.019324736410365938,0.019324061403109275,0.019324061403109275,0.019324139149085224,0.019324139149085224,0.01932659818741612,0.01932659818741612,0.019325889241542507,0.019325889241542507,0.019329935881998838,0.019329935881998838,0.019326973703925745,0.019326973703925745,0.019324582918008246,0.019324582918008246,0.01932489889412809,0.01932489889412809,0.01932683351678619,0.01932683351678619,0.01932480136337945,0.01932480136337945,0.019324664515908207,0.019324664515908207,0.01932341422883216,0.01932341422883216,0.01932548570258009,0.01932548570258009,0.019324442836113887,0.019324442836113887,0.01932423586029187,0.01932423586029187,0.019330407621738654,0.019330407621738654,0.019326190873401723,0.019326190873401723,0.01932906711291256,0.01932906711291256,0.019328675228161417,0.019328675228161417,0.01933232089623938,0.01933232089623938,0.01933354781845499,0.01933354781845499,0.019330518940475105,0.019330518940475105,0.019332833349539547,0.019332833349539547,0.019327219888494448,0.019327219888494448,0.01933012572203603,0.01933012572203603,0.019329240497855567,0.019329240497855567,0.01932514330401629,0.01932514330401629,0.01932400330407053,0.01932400330407053,0.019327524975032293,0.019327524975032293,0.01932738310102648,0.01932738310102648,0.019328055768736172,0.019328055768736172,0.01933250208242289,0.01933250208242289,0.019337983188862585,0.019337983188862585,0.019333207942366277,0.019333207942366277,0.019334791041789468,0.019334791041789468,0.019325062954622482,0.019325062954622482,0.01933175465825985,0.01933175465825985,0.01932541707479791,0.01932541707479791,0.01933235742648387,0.01933235742648387,0.019338061049763093,0.019338061049763093,0.019334781648805355,0.019334781648805355,0.01932772937985084,0.01932772937985084,0.019327328466130875,0.019327328466130875,0.019326511650791273,0.019326511650791273,0.019327068486473302,0.019327068486473302,0.019324071735537657,0.019324071735537657,0.019327449910178936,0.019327449910178936,0.01932565758034243,0.01932565758034243,0.01932423450258862,0.01932423450258862,0.01932707314495351,0.01932707314495351,0.019325155218013076,0.019325155218013076,0.019326922521162367,0.019326922521162367,0.01932698090057822,0.01932698090057822,0.019324090976068107,0.019324090976068107,0.019324927091167312,0.019324927091167312,0.019325164763075026,0.019325164763075026,0.019324056466415,0.019324056466415,0.019328257340231306,0.019328257340231306,0.019326772298616193,0.019326772298616193,0.019327670522756593,0.019327670522756593,0.019323260230836872,0.019323260230836872,0.019324091047831476,0.019324091047831476,0.019325011681695328,0.019325011681695328,0.01932513783666626,0.01932513783666626,0.019326668368203886,0.019326668368203886,0.01932857247779987,0.01932857247779987,0.01932581139645486,0.01932581139645486,0.01932535361456165,0.01932535361456165,0.019324044248624814,0.019324044248624814,0.019325640545895258,0.019325640545895258,0.01932422225038223,0.01932422225038223,0.019324525518190645,0.019324525518190645,0.01932986023912095,0.01932986023912095,0.019327804149192156,0.019327804149192156,0.019331627671780975,0.019331627671780975,0.01932866791588164,0.01932866791588164,0.019324916325309364,0.019324916325309364,0.019327472264563387,0.019327472264563387,0.019324125601422007,0.019324125601422007,0.019324311043845924,0.019324311043845924,0.019325263147193267,0.019325263147193267,0.019327087003724198,0.019327087003724198,0.019324309369150954,0.019324309369150954,0.019324123848165474,0.019324123848165474,0.019324499423098496,0.019324499423098496,0.019324237951263257,0.019324237951263257,0.01932516859714643,0.01932516859714643,0.01932887422492435,0.01932887422492435,0.019331741426717314,0.019331741426717314,0.019333335589084212,0.019333335589084212,0.01932563859569185,0.01932563859569185,0.019324009344204328,0.019324009344204328,0.019325730688219318,0.019325730688219318,0.019324887862405306,0.019324887862405306,0.01932476393793498,0.01932476393793498,0.019324364705538097,0.019324364705538097,0.01932956038073455,0.01932956038073455,0.01932877221614074,0.01932877221614074,0.019326649210998994,0.019326649210998994,0.01932515274358173,0.01932515274358173,0.0193240048729016,0.0193240048729016,0.019325360848526325,0.019325360848526325,0.019325150051620624,0.019325150051620624,0.0193243208542253,0.0193243208542253,0.019325132840268905,0.019325132840268905,0.019323679339864466,0.019323679339864466,0.019328404209199658,0.019328404209199658,0.019324444990631733,0.019324444990631733,0.019325898028945833,0.019325898028945833,0.01932607665709874,0.01932607665709874,0.019327616722642122,0.019327616722642122,0.019329249480872595,0.019329249480872595,0.01933431053882037,0.01933431053882037,0.01932608833520048,0.01932608833520048,0.01932461232592811,0.01932461232592811,0.019325662581308644,0.019325662581308644,0.01932820626769268,0.01932820626769268,0.019328687045988995,0.019328687045988995,0.01932900999789749,0.01932900999789749,0.01933320301935586,0.01933320301935586,0.019327680374324207,0.019327680374324207,0.01932379412124096,0.01932379412124096,0.01932460597945244,0.01932460597945244,0.019325793694916698,0.019325793694916698,0.019326102630309122,0.019326102630309122,0.019337146759168578,0.019337146759168578,0.01932744725998952,0.01932744725998952,0.01932389536633229,0.01932389536633229,0.01932478927280205,0.01932478927280205,0.019323657833365763,0.019323657833365763,0.019327720172367995,0.019327720172367995,0.019327046506328764,0.019327046506328764,0.01932584011806525,0.01932584011806525,0.01932716765033758,0.01932716765033758,0.019327331301316378,0.019327331301316378,0.019325266132541374,0.019325266132541374,0.019327547346893355,0.019327547346893355,0.01932757960661124,0.01932757960661124,0.019328201634869674,0.019328201634869674,0.019327034579127697,0.019327034579127697,0.019325785605527543,0.019325785605527543,0.01932957674001723,0.01932957674001723,0.019330400000072877,0.019330400000072877,0.019326031826689336,0.019326031826689336,0.019333211696488255,0.019333211696488255,0.01932926883597279,0.01932926883597279,0.01932581408565888,0.01932581408565888,0.019326923739757165,0.019326923739757165,0.019330949964593322,0.019330949964593322,0.01932485397724438,0.01932485397724438,0.01932516102773244,0.01932516102773244,0.019324084944691025,0.019324084944691025,0.019324860367966573,0.019324860367966573,0.019323927257444282,0.019323927257444282,0.019323987194376252,0.019323987194376252,0.01933020659886397,0.01933020659886397,0.019329230808529912,0.019329230808529912,0.019325006938214304,0.019325006938214304,0.01932618539300142,0.01932618539300142,0.019328284353478695,0.019328284353478695,0.01932434634549669,0.01932434634549669,0.019326162526285977,0.019326162526285977,0.019323771271675973,0.019323771271675973,0.019326277818197554,0.019326277818197554,0.01932549621594004,0.01932549621594004,0.01932474941786785,0.01932474941786785,0.01932584276894677,0.01932584276894677,0.019327958882417173,0.019327958882417173,0.019323653789231128,0.019323653789231128,0.019324625935852005,0.019324625935852005,0.019324044115260508,0.019324044115260508,0.01932485718546149,0.01932485718546149,0.01932485342433662,0.01932485342433662,0.01932711613403159,0.01932711613403159,0.019326560518221913,0.019326560518221913,0.01933197641464295,0.01933197641464295,0.01932384669147986,0.01932384669147986,0.019326087703737817,0.019326087703737817,0.019324133526928883,0.019324133526928883,0.01932380225144394,0.01932380225144394,0.01932510063510081,0.01932510063510081,0.019323867705977275,0.019323867705977275,0.01932435306080645,0.01932435306080645,0.0193253744973777,0.0193253744973777,0.01932393093572511,0.01932393093572511,0.019326097701648164,0.019326097701648164,0.01932786669538352,0.01932786669538352,0.019331260131388233,0.019331260131388233,0.019327811713521645,0.019327811713521645,0.019329294181674523,0.019329294181674523,0.01932574706207882,0.01932574706207882,0.01932497248365598,0.01932497248365598,0.019325595597824992,0.019325595597824992,0.019327465016250378,0.019327465016250378,0.0193239742306545,0.0193239742306545,0.019325427896919472,0.019325427896919472,0.019326837982403006,0.019326837982403006,0.01932496236481021,0.01932496236481021,0.019324880651942773,0.019324880651942773,0.019324629997443173,0.019324629997443173,0.01932429820132231,0.01932429820132231,0.019328203156461707,0.019328203156461707,0.019326045679097147,0.019326045679097147,0.019326918966186418,0.019326918966186418,0.019324973703263495,0.019324973703263495,0.019323967504996327,0.019323967504996327,0.0193242005985048,0.0193242005985048,0.01932508375074781,0.01932508375074781,0.019323953295499716,0.019323953295499716,0.019323588745021367,0.019323588745021367,0.019324986198779787,0.019324986198779787,0.019325690574438226,0.019325690574438226,0.019323911792543443,0.019323911792543443,0.019324094527548824,0.019324094527548824,0.019325259114138967,0.019325259114138967,0.019327794962410313,0.019327794962410313,0.019325902213686803,0.019325902213686803,0.01932522443884619,0.01932522443884619,0.019327582352200365,0.019327582352200365,0.01932517916437176,0.01932517916437176,0.019323573193696042,0.019323573193696042,0.019324077806221224,0.019324077806221224,0.019329595626742493,0.019329595626742493,0.019330811199410512,0.019330811199410512,0.0193247465634044,0.0193247465634044,0.01932498003329797,0.01932498003329797,0.019327227360954956,0.019327227360954956,0.019323593211797118,0.019323593211797118,0.01932734605534282,0.01932734605534282,0.019327802083482032,0.019327802083482032,0.01932895773505707,0.01932895773505707,0.019328907974788742,0.019328907974788742,0.019325063919059186,0.019325063919059186,0.01932543578836675,0.01932543578836675,0.0193325874248344,0.0193325874248344,0.019325762521046525,0.019325762521046525,0.01932527440949923,0.01932527440949923,0.019325518962086292,0.019325518962086292,0.01932595059194582,0.01932595059194582,0.01933010234120215,0.01933010234120215,0.019329674790675124,0.019329674790675124,0.01932692977554458,0.01932692977554458,0.0193251821086613,0.0193251821086613,0.01932394795499361,0.01932394795499361,0.019324663659726928,0.019324663659726928,0.019325219767273815,0.019325219767273815,0.019325433359028497,0.019325433359028497,0.019325725843083518,0.019325725843083518,0.019336618892131313,0.019336618892131313,0.019328001516604524,0.019328001516604524,0.01932743401093158,0.01932743401093158,0.01932503201224697,0.01932503201224697,0.019323506084670625,0.019323506084670625,0.019329427184861088,0.019329427184861088,0.01932570466921823,0.01932570466921823,0.019324275015807198,0.019324275015807198,0.019329090950390856,0.019329090950390856,0.019326459095647668,0.019326459095647668,0.019326841968733098,0.019326841968733098,0.019324181646505133,0.019324181646505133,0.01933396086472012,0.01933396086472012,0.019328683058163494,0.019328683058163494,0.01932426114837276,0.01932426114837276,0.01932448456695377,0.01932448456695377,0.019324763429943794,0.019324763429943794,0.01932527042863058,0.01932527042863058,0.019325467545701823,0.019325467545701823,0.019324553269208577,0.019324553269208577,0.01932498336582278,0.01932498336582278,0.019325089163447093,0.019325089163447093,0.01932554101698016,0.01932554101698016,0.019326712246730864,0.019326712246730864,0.019325893768570256,0.019325893768570256,0.019324814931919315,0.019324814931919315,0.01933057998475133,0.01933057998475133,0.019327886708762444,0.019327886708762444,0.01933383862673992,0.01933383862673992,0.01933770754877121,0.01933770754877121,0.019332330560848144,0.019332330560848144,0.019327079389596102,0.019327079389596102,0.01932687040162132,0.01932687040162132,0.019325878309398813,0.019325878309398813,0.01932494648050425,0.01932494648050425,0.019324719645710947,0.019324719645710947,0.019326418267077324,0.019326418267077324,0.019325288976132022,0.019325288976132022,0.019325002871446895,0.019325002871446895,0.01932422245020846,0.01932422245020846,0.019329487262090515,0.019329487262090515,0.019328590141954288,0.019328590141954288,0.01932520656715386,0.01932520656715386,0.019328790297503548,0.019328790297503548,0.01932468553811929,0.01932468553811929,0.019328013570892935,0.019328013570892935,0.019325334418795154,0.019325334418795154,0.019325361438724906,0.019325361438724906,0.019326025082712178,0.019326025082712178,0.019324830767202945,0.019324830767202945,0.019325195695589818,0.019325195695589818,0.01932671480685962,0.01932671480685962,0.019326058373458178,0.019326058373458178,0.019326740505822126,0.019326740505822126,0.01932430156650577,0.01932430156650577,0.01932408975397889,0.01932408975397889,0.019325177305370894,0.019325177305370894,0.01932820213974941,0.01932820213974941,0.019327366663397932,0.019327366663397932,0.019333479507133676,0.019333479507133676,0.019327567104044166,0.019327567104044166,0.019326507081874705,0.019326507081874705,0.019324778302663805,0.019324778302663805,0.019325247047908604,0.019325247047908604,0.019325904652899514,0.019325904652899514,0.019329149746501396,0.019329149746501396,0.01932428048364904,0.01932428048364904,0.019325218477269947,0.019325218477269947,0.019327468571816483,0.019327468571816483,0.019325324733539418,0.019325324733539418,0.019327330839400376,0.019327330839400376,0.019331554702729438,0.019331554702729438,0.019325162239141686,0.019325162239141686,0.01932495732363455,0.01932495732363455,0.019327326770852513,0.019327326770852513,0.01932448798420919,0.01932448798420919,0.019329376803883788,0.019329376803883788,0.019330539630079684,0.019330539630079684,0.019337274941711245,0.019337274941711245,0.01933848918198101,0.01933848918198101,0.019334795444692222,0.019334795444692222,0.019328078018918636,0.019328078018918636,0.019326696121623233,0.019326696121623233,0.01932699509529131,0.01932699509529131,0.01932717507797055,0.01932717507797055,0.01932666242543942,0.01932666242543942,0.01932953168319501,0.01932953168319501,0.01932356767140293,0.01932356767140293,0.01932738598174088,0.01932738598174088,0.019329557671150462,0.019329557671150462,0.019326244598526995,0.019326244598526995,0.01932525806469299,0.01932525806469299,0.01932377182551965,0.01932377182551965,0.0193246849458443,0.0193246849458443,0.019324880585128556,0.019324880585128556,0.019326289972922274,0.019326289972922274,0.01932470695313676,0.01932470695313676,0.019326181112325824,0.019326181112325824,0.019326189384847776,0.019326189384847776,0.019327824125296354,0.019327824125296354,0.01932367858184772,0.01932367858184772,0.019326388764275722,0.019326388764275722,0.019329627415450655,0.019329627415450655,0.019330904106575238,0.019330904106575238,0.019326388051410823,0.019326388051410823,0.019325679918562263,0.019325679918562263,0.019328131835647636,0.019328131835647636,0.01932595200754692,0.01932595200754692,0.01932630870086994,0.01932630870086994,0.01932688821787961,0.01932688821787961,0.01932497380879048,0.01932497380879048,0.01932362375096007,0.01932362375096007,0.019326355708503593,0.019326355708503593,0.01932564562756356,0.01932564562756356,0.01932427500561659,0.01932427500561659,0.01932553095655581,0.01932553095655581,0.01932622299490907,0.01932622299490907,0.019324897221697723,0.019324897221697723,0.0193257399291493,0.0193257399291493,0.019323780176046183,0.019323780176046183,0.019325510515968442,0.019325510515968442,0.019325127779642185,0.019325127779642185,0.01932782509009552,0.01932782509009552,0.01932441089879402,0.01932441089879402,0.019326617443954728,0.019326617443954728,0.01932533986804929,0.01932533986804929,0.019326404042183463,0.019326404042183463,0.019328597573322837,0.019328597573322837,0.01932641094567168,0.01932641094567168,0.019328059099190192,0.019328059099190192,0.01932518762845513,0.01932518762845513,0.019325503357920507,0.019325503357920507,0.019335276245281724,0.019335276245281724,0.019325097564670345,0.019325097564670345,0.019325329724541283,0.019325329724541283,0.01932446984559518,0.01932446984559518,0.019328466489617765,0.019328466489617765,0.019323953077331636,0.019323953077331636,0.019327562407742898,0.019327562407742898,0.019325606280793318,0.019325606280793318,0.01932441942298266,0.01932441942298266,0.019326120321940282,0.019326120321940282,0.019324125814970484,0.019324125814970484,0.01932647160771525,0.01932647160771525,0.019324530770156556,0.019324530770156556,0.019324668698563075,0.019324668698563075,0.019325261209402783,0.019325261209402783,0.019323958911490486,0.019323958911490486,0.01932389139499064,0.01932389139499064,0.019323776266534337,0.019323776266534337,0.019325030139287925,0.019325030139287925,0.019325856858288772,0.019325856858288772,0.019324262763624853,0.019324262763624853,0.019325095687565838,0.019325095687565838,0.019324804021402617,0.019324804021402617,0.019327465765375966,0.019327465765375966,0.019327550782462722,0.019327550782462722,0.01932419791447665,0.01932419791447665,0.019325225949431073,0.019325225949431073,0.019324108513307,0.019324108513307,0.01932542812917286,0.01932542812917286,0.019327083258460328,0.019327083258460328,0.019325921344887555,0.019325921344887555,0.019325090144570484,0.019325090144570484,0.01932478695454212,0.01932478695454212,0.019325704000503346,0.019325704000503346,0.01933039308395832,0.01933039308395832,0.019324482406206885,0.019324482406206885,0.019325400072176785,0.019325400072176785,0.01933103019336319,0.01933103019336319,0.019327937692262334,0.019327937692262334,0.01933665741186141,0.01933665741186141,0.019330976980726076,0.019330976980726076,0.019332240495440457,0.019332240495440457,0.019330062681158257,0.019330062681158257,0.019325232019689803,0.019325232019689803,0.019330803771237432,0.019330803771237432,0.019329512943520977,0.019329512943520977,0.019324798773628783,0.019324798773628783,0.019323862013164134,0.019323862013164134,0.01932472850683313,0.01932472850683313,0.019329651979475896,0.019329651979475896,0.019329942789833077,0.019329942789833077,0.01932613587768903,0.01932613587768903,0.019331159397106484,0.019331159397106484,0.019326072526189945,0.019326072526189945,0.01932448396700058,0.01932448396700058,0.0193251186790301,0.0193251186790301,0.019325403099464684,0.019325403099464684,0.01932367855674183,0.01932367855674183,0.0193238221905988,0.0193238221905988,0.019325871758601235,0.019325871758601235,0.019323365041734705,0.019323365041734705,0.019323518156020868,0.019323518156020868,0.019325886242507168,0.019325886242507168,0.01932476127734122,0.01932476127734122,0.019324849246499458,0.019324849246499458,0.019324707713134548,0.019324707713134548,0.019324312741885778,0.019324312741885778,0.019326021830227195,0.019326021830227195,0.019327593805162142,0.019327593805162142,0.019329354883297734,0.019329354883297734,0.01932472363387715,0.01932472363387715,0.01932638099139044,0.01932638099139044,0.01932457156713332,0.01932457156713332,0.019334041953459762,0.019334041953459762,0.01932462104120113,0.01932462104120113,0.019324304341063494,0.019324304341063494,0.019324176819374532,0.019324176819374532,0.019329242806244568,0.019329242806244568,0.019328241859037778,0.019328241859037778,0.019324895389237963,0.019324895389237963,0.01932459654027254,0.01932459654027254,0.01932570984776294,0.01932570984776294,0.019326309277167285,0.019326309277167285,0.01932921868074047,0.01932921868074047,0.019326611394182,0.019326611394182,0.019324659515529474,0.019324659515529474,0.019326303070426945,0.019326303070426945,0.01932495811264705,0.01932495811264705,0.019324257045372113,0.019324257045372113,0.019325578426661986,0.019325578426661986,0.019326203481685577,0.019326203481685577,0.01932333239251759,0.01932333239251759,0.019327053847930868,0.019327053847930868,0.019324790807933825,0.019324790807933825,0.019326063272171266,0.019326063272171266,0.01932461786431773,0.01932461786431773,0.019324207134747518,0.019324207134747518,0.01933597913991348,0.01933597913991348,0.019329986829649797,0.019329986829649797,0.019326104296781284,0.019326104296781284,0.01933170872351149,0.01933170872351149,0.01932615960945464,0.01932615960945464,0.01932433782926138,0.01932433782926138,0.019324020236744656,0.019324020236744656,0.01932423744639938,0.01932423744639938,0.019323701158611466,0.019323701158611466,0.01932446274141907,0.01932446274141907,0.01932573817722218,0.01932573817722218,0.019324023583853822,0.019324023583853822,0.019326898136161518,0.019326898136161518,0.019324873110849516,0.019324873110849516,0.01932349828820993,0.01932349828820993,0.01932518347355313,0.01932518347355313,0.019324876881667428,0.019324876881667428,0.019324162942449995,0.019324162942449995,0.019327393472986412,0.019327393472986412,0.01932415724014068,0.01932415724014068,0.019326856047250443,0.019326856047250443,0.019324184220346423,0.019324184220346423,0.019327025587321276,0.019327025587321276,0.019326976935491624,0.019326976935491624,0.019326624271625313,0.019326624271625313,0.019323973320388627,0.019323973320388627,0.0193268913225645,0.0193268913225645,0.019323492119879934,0.019323492119879934,0.019324603165748487,0.019324603165748487,0.0193266300925896,0.0193266300925896,0.019326549472009017,0.019326549472009017,0.019325231557554525,0.019325231557554525,0.019323886464177584,0.019323886464177584,0.019324769677778564,0.019324769677778564,0.01932405916253819,0.01932405916253819,0.01932533909203784,0.01932533909203784,0.019325599417255826,0.019325599417255826,0.01932486670841763,0.01932486670841763,0.0193252873587477,0.0193252873587477,0.01932493360807526,0.01932493360807526,0.019326392678806887,0.019326392678806887,0.019324104873816236,0.019324104873816236,0.01932549512195291,0.01932549512195291,0.019326116236546044,0.019326116236546044,0.019325214443971957,0.019325214443971957,0.019324333378778372,0.019324333378778372,0.019328258421768565,0.019328258421768565,0.01932667179771492,0.01932667179771492,0.019324303201828374,0.019324303201828374,0.019326548873705576,0.019326548873705576,0.019325152264510332,0.019325152264510332,0.019324060756905716,0.019324060756905716,0.01932603244717261,0.01932603244717261,0.019325530353538508,0.019325530353538508,0.01932666573415375,0.01932666573415375,0.019325524767391446,0.019325524767391446,0.019327073203162366,0.019327073203162366,0.01932671904471305,0.01932671904471305,0.019325284521678657,0.019325284521678657,0.019325194966880115,0.019325194966880115,0.019327759025804712,0.019327759025804712,0.01932712098148357,0.01932712098148357,0.019333634798925282,0.019333634798925282,0.019330327668524105,0.019330327668524105,0.019326292576627328,0.019326292576627328,0.019325437214689798,0.019325437214689798,0.01932922860958964,0.01932922860958964,0.01932670318563638,0.01932670318563638,0.019326712762937046,0.019326712762937046,0.019325389707467826,0.019325389707467826,0.019325272143025082,0.019325272143025082,0.019324992748519274,0.019324992748519274,0.019325745942802564,0.019325745942802564,0.0193262144755839,0.0193262144755839,0.019326423716170195,0.019326423716170195,0.019330215195156146,0.019330215195156146,0.019324336444464758,0.019324336444464758,0.019324483753341004,0.019324483753341004,0.019323970939136747,0.019323970939136747,0.019325930708294546,0.019325930708294546,0.019324994345439543,0.019324994345439543,0.019325597263754712,0.019325597263754712,0.019325693753445554,0.019325693753445554,0.019324500785062572,0.019324500785062572,0.019325764932718374,0.019325764932718374,0.019325980798209297,0.019325980798209297,0.01932360764556812,0.01932360764556812,0.01932819876253109,0.01932819876253109,0.0193281604937471,0.0193281604937471,0.019329766061238898,0.019329766061238898,0.019335215238890636,0.019335215238890636,0.01932767759882504,0.01932767759882504,0.019327032571021852,0.019327032571021852,0.019330099127602682,0.019330099127602682,0.01932503974297486,0.01932503974297486,0.019324690799803625,0.019324690799803625,0.019327536226251864,0.019327536226251864,0.01932437295263758,0.01932437295263758,0.01932849704395541,0.01932849704395541,0.019326764806838145,0.019326764806838145,0.019327238015260536,0.019327238015260536,0.01933027822454033,0.01933027822454033,0.019326456359669796,0.019326456359669796,0.019328559190570603,0.019328559190570603,0.019328153126802788,0.019328153126802788,0.019329981740358645,0.019329981740358645,0.019325569187209117,0.019325569187209117,0.01932406571734614,0.01932406571734614,0.01932501947740474,0.01932501947740474,0.019328172534721258,0.019328172534721258,0.01932485660479523,0.01932485660479523,0.019332970834570074,0.019332970834570074,0.019331480684219395,0.019331480684219395,0.0193307043263328,0.0193307043263328,0.01932449806981936,0.01932449806981936,0.01932449517049143,0.01932449517049143,0.01932561054584765,0.01932561054584765,0.01932888033991476,0.01932888033991476,0.019326835095755928,0.019326835095755928,0.019327994878191052,0.019327994878191052,0.019324195409983515,0.019324195409983515,0.01932678439219692,0.01932678439219692,0.019327507464033538,0.019327507464033538,0.019323809390112807,0.019323809390112807,0.019323923730109514,0.019323923730109514,0.01933004774969816,0.01933004774969816,0.01932605427207615,0.01932605427207615,0.01932494866634894,0.01932494866634894,0.019325161282453936,0.019325161282453936,0.019326065035413606,0.019326065035413606,0.019324585850387935,0.019324585850387935,0.019323537777580516,0.019323537777580516,0.01932660743995597,0.01932660743995597,0.019324578213541138,0.019324578213541138,0.019325632071222,0.019325632071222,0.019327647145628596,0.019327647145628596,0.019329934577334267,0.019329934577334267,0.019329904509316924,0.019329904509316924,0.019326559220742303,0.019326559220742303,0.019328021061856583,0.019328021061856583,0.019324034915217458,0.019324034915217458,0.019324716609864092,0.019324716609864092,0.019328948208349208,0.019328948208349208,0.019327761367175057,0.019327761367175057,0.019324986004474378,0.019324986004474378,0.01933062896099804,0.01933062896099804,0.019329245688988018,0.019329245688988018,0.019323983493498273,0.019323983493498273,0.019324327899688694,0.019324327899688694,0.01932348460170751,0.01932348460170751,0.019324621582057565,0.019324621582057565,0.01932779824495831,0.01932779824495831,0.019326375308428845,0.019326375308428845,0.019329470767618352,0.019329470767618352,0.01932569913985374,0.01932569913985374,0.019325044800556863,0.019325044800556863,0.01932547245702759,0.01932547245702759,0.019328678161347607,0.019328678161347607,0.019323918168347984,0.019323918168347984,0.01932973653134034,0.01932973653134034,0.01932441539256651,0.01932441539256651,0.019328404608461525,0.019328404608461525,0.019324530459992616,0.019324530459992616,0.019326414960370245,0.019326414960370245,0.019327506352132134,0.019327506352132134,0.01932467938250597,0.01932467938250597,0.019326542841881792,0.019326542841881792,0.019328900566633576,0.019328900566633576,0.019325088362367453,0.019325088362367453,0.019332087609271357,0.019332087609271357,0.01932937430862517,0.01932937430862517,0.019331952641063025,0.019331952641063025,0.019328378085216685,0.019328378085216685,0.01933063219599796,0.01933063219599796,0.019325624490455096,0.019325624490455096,0.01932510830219318,0.01932510830219318,0.019323276719143988,0.019323276719143988,0.019327684959483248,0.019327684959483248,0.019326793960957215,0.019326793960957215,0.019326827523900116,0.019326827523900116,0.019325890118460164,0.019325890118460164,0.01932593932774817,0.01932593932774817,0.019330385479714683,0.019330385479714683,0.01932984544233908,0.01932984544233908,0.01932812256276385,0.01932812256276385,0.019327615230130983,0.019327615230130983,0.019325714129892636,0.019325714129892636,0.01932485927961552,0.01932485927961552,0.01932456375327215,0.01932456375327215,0.019324175790670462,0.019324175790670462,0.019324979114402802,0.019324979114402802,0.01932602054769968,0.01932602054769968,0.0193249652981944,0.0193249652981944,0.019334955976733792,0.019334955976733792,0.019329623628557644,0.019329623628557644,0.019326040031451518,0.019326040031451518,0.019327269239227642,0.019327269239227642,0.01932496705991947,0.01932496705991947,0.01932682467714168,0.01932682467714168,0.019325987151740037,0.019325987151740037,0.019324593207023653],\"type\":\"scatter\"}],                        {\"template\":{\"data\":{\"histogram2dcontour\":[{\"type\":\"histogram2dcontour\",\"colorbar\":{\"outlinewidth\":0,\"ticks\":\"\"},\"colorscale\":[[0.0,\"#0d0887\"],[0.1111111111111111,\"#46039f\"],[0.2222222222222222,\"#7201a8\"],[0.3333333333333333,\"#9c179e\"],[0.4444444444444444,\"#bd3786\"],[0.5555555555555556,\"#d8576b\"],[0.6666666666666666,\"#ed7953\"],[0.7777777777777778,\"#fb9f3a\"],[0.8888888888888888,\"#fdca26\"],[1.0,\"#f0f921\"]]}],\"choropleth\":[{\"type\":\"choropleth\",\"colorbar\":{\"outlinewidth\":0,\"ticks\":\"\"}}],\"histogram2d\":[{\"type\":\"histogram2d\",\"colorbar\":{\"outlinewidth\":0,\"ticks\":\"\"},\"colorscale\":[[0.0,\"#0d0887\"],[0.1111111111111111,\"#46039f\"],[0.2222222222222222,\"#7201a8\"],[0.3333333333333333,\"#9c179e\"],[0.4444444444444444,\"#bd3786\"],[0.5555555555555556,\"#d8576b\"],[0.6666666666666666,\"#ed7953\"],[0.7777777777777778,\"#fb9f3a\"],[0.8888888888888888,\"#fdca26\"],[1.0,\"#f0f921\"]]}],\"heatmap\":[{\"type\":\"heatmap\",\"colorbar\":{\"outlinewidth\":0,\"ticks\":\"\"},\"colorscale\":[[0.0,\"#0d0887\"],[0.1111111111111111,\"#46039f\"],[0.2222222222222222,\"#7201a8\"],[0.3333333333333333,\"#9c179e\"],[0.4444444444444444,\"#bd3786\"],[0.5555555555555556,\"#d8576b\"],[0.6666666666666666,\"#ed7953\"],[0.7777777777777778,\"#fb9f3a\"],[0.8888888888888888,\"#fdca26\"],[1.0,\"#f0f921\"]]}],\"heatmapgl\":[{\"type\":\"heatmapgl\",\"colorbar\":{\"outlinewidth\":0,\"ticks\":\"\"},\"colorscale\":[[0.0,\"#0d0887\"],[0.1111111111111111,\"#46039f\"],[0.2222222222222222,\"#7201a8\"],[0.3333333333333333,\"#9c179e\"],[0.4444444444444444,\"#bd3786\"],[0.5555555555555556,\"#d8576b\"],[0.6666666666666666,\"#ed7953\"],[0.7777777777777778,\"#fb9f3a\"],[0.8888888888888888,\"#fdca26\"],[1.0,\"#f0f921\"]]}],\"contourcarpet\":[{\"type\":\"contourcarpet\",\"colorbar\":{\"outlinewidth\":0,\"ticks\":\"\"}}],\"contour\":[{\"type\":\"contour\",\"colorbar\":{\"outlinewidth\":0,\"ticks\":\"\"},\"colorscale\":[[0.0,\"#0d0887\"],[0.1111111111111111,\"#46039f\"],[0.2222222222222222,\"#7201a8\"],[0.3333333333333333,\"#9c179e\"],[0.4444444444444444,\"#bd3786\"],[0.5555555555555556,\"#d8576b\"],[0.6666666666666666,\"#ed7953\"],[0.7777777777777778,\"#fb9f3a\"],[0.8888888888888888,\"#fdca26\"],[1.0,\"#f0f921\"]]}],\"surface\":[{\"type\":\"surface\",\"colorbar\":{\"outlinewidth\":0,\"ticks\":\"\"},\"colorscale\":[[0.0,\"#0d0887\"],[0.1111111111111111,\"#46039f\"],[0.2222222222222222,\"#7201a8\"],[0.3333333333333333,\"#9c179e\"],[0.4444444444444444,\"#bd3786\"],[0.5555555555555556,\"#d8576b\"],[0.6666666666666666,\"#ed7953\"],[0.7777777777777778,\"#fb9f3a\"],[0.8888888888888888,\"#fdca26\"],[1.0,\"#f0f921\"]]}],\"mesh3d\":[{\"type\":\"mesh3d\",\"colorbar\":{\"outlinewidth\":0,\"ticks\":\"\"}}],\"scatter\":[{\"fillpattern\":{\"fillmode\":\"overlay\",\"size\":10,\"solidity\":0.2},\"type\":\"scatter\"}],\"parcoords\":[{\"type\":\"parcoords\",\"line\":{\"colorbar\":{\"outlinewidth\":0,\"ticks\":\"\"}}}],\"scatterpolargl\":[{\"type\":\"scatterpolargl\",\"marker\":{\"colorbar\":{\"outlinewidth\":0,\"ticks\":\"\"}}}],\"bar\":[{\"error_x\":{\"color\":\"#2a3f5f\"},\"error_y\":{\"color\":\"#2a3f5f\"},\"marker\":{\"line\":{\"color\":\"#E5ECF6\",\"width\":0.5},\"pattern\":{\"fillmode\":\"overlay\",\"size\":10,\"solidity\":0.2}},\"type\":\"bar\"}],\"scattergeo\":[{\"type\":\"scattergeo\",\"marker\":{\"colorbar\":{\"outlinewidth\":0,\"ticks\":\"\"}}}],\"scatterpolar\":[{\"type\":\"scatterpolar\",\"marker\":{\"colorbar\":{\"outlinewidth\":0,\"ticks\":\"\"}}}],\"histogram\":[{\"marker\":{\"pattern\":{\"fillmode\":\"overlay\",\"size\":10,\"solidity\":0.2}},\"type\":\"histogram\"}],\"scattergl\":[{\"type\":\"scattergl\",\"marker\":{\"colorbar\":{\"outlinewidth\":0,\"ticks\":\"\"}}}],\"scatter3d\":[{\"type\":\"scatter3d\",\"line\":{\"colorbar\":{\"outlinewidth\":0,\"ticks\":\"\"}},\"marker\":{\"colorbar\":{\"outlinewidth\":0,\"ticks\":\"\"}}}],\"scattermapbox\":[{\"type\":\"scattermapbox\",\"marker\":{\"colorbar\":{\"outlinewidth\":0,\"ticks\":\"\"}}}],\"scatterternary\":[{\"type\":\"scatterternary\",\"marker\":{\"colorbar\":{\"outlinewidth\":0,\"ticks\":\"\"}}}],\"scattercarpet\":[{\"type\":\"scattercarpet\",\"marker\":{\"colorbar\":{\"outlinewidth\":0,\"ticks\":\"\"}}}],\"carpet\":[{\"aaxis\":{\"endlinecolor\":\"#2a3f5f\",\"gridcolor\":\"white\",\"linecolor\":\"white\",\"minorgridcolor\":\"white\",\"startlinecolor\":\"#2a3f5f\"},\"baxis\":{\"endlinecolor\":\"#2a3f5f\",\"gridcolor\":\"white\",\"linecolor\":\"white\",\"minorgridcolor\":\"white\",\"startlinecolor\":\"#2a3f5f\"},\"type\":\"carpet\"}],\"table\":[{\"cells\":{\"fill\":{\"color\":\"#EBF0F8\"},\"line\":{\"color\":\"white\"}},\"header\":{\"fill\":{\"color\":\"#C8D4E3\"},\"line\":{\"color\":\"white\"}},\"type\":\"table\"}],\"barpolar\":[{\"marker\":{\"line\":{\"color\":\"#E5ECF6\",\"width\":0.5},\"pattern\":{\"fillmode\":\"overlay\",\"size\":10,\"solidity\":0.2}},\"type\":\"barpolar\"}],\"pie\":[{\"automargin\":true,\"type\":\"pie\"}]},\"layout\":{\"autotypenumbers\":\"strict\",\"colorway\":[\"#636efa\",\"#EF553B\",\"#00cc96\",\"#ab63fa\",\"#FFA15A\",\"#19d3f3\",\"#FF6692\",\"#B6E880\",\"#FF97FF\",\"#FECB52\"],\"font\":{\"color\":\"#2a3f5f\"},\"hovermode\":\"closest\",\"hoverlabel\":{\"align\":\"left\"},\"paper_bgcolor\":\"white\",\"plot_bgcolor\":\"#E5ECF6\",\"polar\":{\"bgcolor\":\"#E5ECF6\",\"angularaxis\":{\"gridcolor\":\"white\",\"linecolor\":\"white\",\"ticks\":\"\"},\"radialaxis\":{\"gridcolor\":\"white\",\"linecolor\":\"white\",\"ticks\":\"\"}},\"ternary\":{\"bgcolor\":\"#E5ECF6\",\"aaxis\":{\"gridcolor\":\"white\",\"linecolor\":\"white\",\"ticks\":\"\"},\"baxis\":{\"gridcolor\":\"white\",\"linecolor\":\"white\",\"ticks\":\"\"},\"caxis\":{\"gridcolor\":\"white\",\"linecolor\":\"white\",\"ticks\":\"\"}},\"coloraxis\":{\"colorbar\":{\"outlinewidth\":0,\"ticks\":\"\"}},\"colorscale\":{\"sequential\":[[0.0,\"#0d0887\"],[0.1111111111111111,\"#46039f\"],[0.2222222222222222,\"#7201a8\"],[0.3333333333333333,\"#9c179e\"],[0.4444444444444444,\"#bd3786\"],[0.5555555555555556,\"#d8576b\"],[0.6666666666666666,\"#ed7953\"],[0.7777777777777778,\"#fb9f3a\"],[0.8888888888888888,\"#fdca26\"],[1.0,\"#f0f921\"]],\"sequentialminus\":[[0.0,\"#0d0887\"],[0.1111111111111111,\"#46039f\"],[0.2222222222222222,\"#7201a8\"],[0.3333333333333333,\"#9c179e\"],[0.4444444444444444,\"#bd3786\"],[0.5555555555555556,\"#d8576b\"],[0.6666666666666666,\"#ed7953\"],[0.7777777777777778,\"#fb9f3a\"],[0.8888888888888888,\"#fdca26\"],[1.0,\"#f0f921\"]],\"diverging\":[[0,\"#8e0152\"],[0.1,\"#c51b7d\"],[0.2,\"#de77ae\"],[0.3,\"#f1b6da\"],[0.4,\"#fde0ef\"],[0.5,\"#f7f7f7\"],[0.6,\"#e6f5d0\"],[0.7,\"#b8e186\"],[0.8,\"#7fbc41\"],[0.9,\"#4d9221\"],[1,\"#276419\"]]},\"xaxis\":{\"gridcolor\":\"white\",\"linecolor\":\"white\",\"ticks\":\"\",\"title\":{\"standoff\":15},\"zerolinecolor\":\"white\",\"automargin\":true,\"zerolinewidth\":2},\"yaxis\":{\"gridcolor\":\"white\",\"linecolor\":\"white\",\"ticks\":\"\",\"title\":{\"standoff\":15},\"zerolinecolor\":\"white\",\"automargin\":true,\"zerolinewidth\":2},\"scene\":{\"xaxis\":{\"backgroundcolor\":\"#E5ECF6\",\"gridcolor\":\"white\",\"linecolor\":\"white\",\"showbackground\":true,\"ticks\":\"\",\"zerolinecolor\":\"white\",\"gridwidth\":2},\"yaxis\":{\"backgroundcolor\":\"#E5ECF6\",\"gridcolor\":\"white\",\"linecolor\":\"white\",\"showbackground\":true,\"ticks\":\"\",\"zerolinecolor\":\"white\",\"gridwidth\":2},\"zaxis\":{\"backgroundcolor\":\"#E5ECF6\",\"gridcolor\":\"white\",\"linecolor\":\"white\",\"showbackground\":true,\"ticks\":\"\",\"zerolinecolor\":\"white\",\"gridwidth\":2}},\"shapedefaults\":{\"line\":{\"color\":\"#2a3f5f\"}},\"annotationdefaults\":{\"arrowcolor\":\"#2a3f5f\",\"arrowhead\":0,\"arrowwidth\":1},\"geo\":{\"bgcolor\":\"white\",\"landcolor\":\"#E5ECF6\",\"subunitcolor\":\"white\",\"showland\":true,\"showlakes\":true,\"lakecolor\":\"white\"},\"title\":{\"x\":0.05},\"mapbox\":{\"style\":\"light\"}}},\"title\":{\"text\":\"Data with no categorical\"},\"xaxis\":{\"title\":{\"text\":\"iteration\"}},\"yaxis\":{\"title\":{\"text\":\"loss\"}}},                        {\"responsive\": true}                    ).then(function(){\n",
              "                            \n",
              "var gd = document.getElementById('39ec5b9d-b6ff-48c0-a39a-b3d93fd3c7f3');\n",
              "var x = new MutationObserver(function (mutations, observer) {{\n",
              "        var display = window.getComputedStyle(gd).display;\n",
              "        if (!display || display === 'none') {{\n",
              "            console.log([gd, 'removed!']);\n",
              "            Plotly.purge(gd);\n",
              "            observer.disconnect();\n",
              "        }}\n",
              "}});\n",
              "\n",
              "// Listen for the removal of the full notebook cells\n",
              "var notebookContainer = gd.closest('#notebook-container');\n",
              "if (notebookContainer) {{\n",
              "    x.observe(notebookContainer, {childList: true});\n",
              "}}\n",
              "\n",
              "// Listen for the clearing of the current output cell\n",
              "var outputEl = gd.closest('.output');\n",
              "if (outputEl) {{\n",
              "    x.observe(outputEl, {childList: true});\n",
              "}}\n",
              "\n",
              "                        })                };                            </script>        </div>\n",
              "</body>\n",
              "</html>"
            ]
          },
          "metadata": {}
        }
      ]
    },
    {
      "cell_type": "markdown",
      "source": [
        "Быстрее всех сходится метод адаграда. Со стандартными параметрами на данных стохастический градиент, полный и метод \"моментум\" сходятся примерно в одном темпе. Однако их темп сходимости зависит от подобранных гиперпараметров. Так, на последнем графике полный и стохастический градиентные спуски оказываются \"быстрее\" моментума"
      ],
      "metadata": {
        "id": "St4njlJMe9IP"
      }
    }
  ],
  "metadata": {
    "colab": {
      "provenance": []
    },
    "kernelspec": {
      "display_name": "Python 3 (ipykernel)",
      "language": "python",
      "name": "python3"
    },
    "language_info": {
      "codemirror_mode": {
        "name": "ipython",
        "version": 3
      },
      "file_extension": ".py",
      "mimetype": "text/x-python",
      "name": "python",
      "nbconvert_exporter": "python",
      "pygments_lexer": "ipython3",
      "version": "3.10.9"
    }
  },
  "nbformat": 4,
  "nbformat_minor": 0
}